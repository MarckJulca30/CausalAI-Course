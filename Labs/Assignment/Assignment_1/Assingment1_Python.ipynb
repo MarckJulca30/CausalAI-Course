{
 "cells": [
  {
   "cell_type": "code",
   "execution_count": null,
   "metadata": {},
   "outputs": [],
   "source": [
    "pip install numpy scikit-learn seaborn matplotlib statsmodels"
   ]
  },
  {
   "cell_type": "code",
   "execution_count": null,
   "metadata": {},
   "outputs": [],
   "source": [
    "import pandas as pd\n",
    "import numpy as np\n",
    "from matplotlib import pyplot as plt\n",
    "from sklearn.model_selection import train_test_split\n",
    "from sklearn.linear_model import LinearRegression\n",
    "from sklearn.metrics import mean_squared_error, r2_score\n",
    "import statsmodels.api as sm"
   ]
  },
  {
   "cell_type": "markdown",
   "metadata": {},
   "source": [
    "IMPORT DATA SET"
   ]
  },
  {
   "cell_type": "code",
   "execution_count": null,
   "metadata": {},
   "outputs": [],
   "source": [
    "# Cargar el conjunto de datos\n",
    "url = 'https://raw.githubusercontent.com/d2cml-ai/CausalAI-Course/main/data/wage2015_subsample_inference.csv'"
   ]
  },
  {
   "cell_type": "code",
   "execution_count": null,
   "metadata": {},
   "outputs": [],
   "source": [
    "df = pd.read_csv(url)\n",
    "print(df.head())"
   ]
  },
  {
   "cell_type": "code",
   "execution_count": null,
   "metadata": {},
   "outputs": [],
   "source": [
    "# Asegurarse que los nombres de las variables están bien cargados\n",
    "print(df.columns)"
   ]
  },
  {
   "cell_type": "markdown",
   "metadata": {},
   "source": [
    "sex, 1 equals Female\n",
    "shs: \"some highschool\"\n",
    "hsg: \"highschool graduate\"\n",
    "scl: \"some college\"\n",
    "clg: \"college graduate\"\n",
    "ad: \"advanced degree\"\n",
    "mw: \"midwest\"\n",
    "so: \"south\"\n",
    "we: \"west\"\n",
    "ne: \"northeast\"\n",
    "occ2: \"occupation code\"\n",
    "ind2: \"industry code\""
   ]
  },
  {
   "cell_type": "markdown",
   "metadata": {},
   "source": [
    "MISSING VALUES"
   ]
  },
  {
   "cell_type": "code",
   "execution_count": null,
   "metadata": {},
   "outputs": [],
   "source": [
    "# Revisar los missing values\n",
    "missing_values = df.isnull().sum()\n",
    "print(\"Valores faltantes:\", missing_values)"
   ]
  },
  {
   "cell_type": "code",
   "execution_count": null,
   "metadata": {},
   "outputs": [],
   "source": [
    "# Estadísticas descriptivas\n",
    "descriptive_stats = df.describe(percentiles=[0.25, 0.5, 0.75])\n",
    "print(\"Estadísticas descriptivas:\", descriptive_stats)"
   ]
  },
  {
   "cell_type": "code",
   "execution_count": null,
   "metadata": {},
   "outputs": [],
   "source": [
    "#WAGE: La media del salario es 23.41, con una desviación estándar de 21.08, lo que indica que hay una gran variabilidad en los salarios. \n",
    "# El salario mediano es 19.23, lo que significa que el 50% de los sujetos ganan menos de esta cantidad, \n",
    "# lo que indica una distribución sesgada positivamente, ya que la media es mayor que la mediana. \n",
    "# El salario máximo es bastante alto en comparación con la mayoría de los salarios, lo que sugiere la presencia de valores atípicos."
   ]
  },
  {
   "cell_type": "code",
   "execution_count": null,
   "metadata": {},
   "outputs": [],
   "source": [
    "#lwage: se usa para normalizar la distribución de salarios. \n",
    "#Los percentiles son similares a los del salario, pero en una escala logarítmica, lo que ayuda a reducir el impacto de valores extremos"
   ]
  },
  {
   "cell_type": "code",
   "execution_count": null,
   "metadata": {},
   "outputs": [],
   "source": [
    "#sex: Con una media de 0.444, aproximadamente el 44.4% de los individuos en la muestra son mujeres (si 1 = mujer). \n",
    "# La desviación estándar cercana a 0.5 es típica para una variable binaria con proporciones relativamente equilibradas"
   ]
  },
  {
   "cell_type": "code",
   "execution_count": null,
   "metadata": {},
   "outputs": [],
   "source": [
    "#shs: solo el 2.3% de la muestra ha completado \"algo de secundaria\"\n",
    "#hsg:  el 24.4% están graduados de la escuela secundaria\n",
    "#scl: 27.8% de la muestra ha completado \"algo de la universidad\"\n",
    "#clg: 31.8% son graduados universitarios\n",
    "#ad: 13.7% tienen un titulo avanzado\n",
    "#mw: 25.9% pertenen al medio oeste\n",
    "#we: 21.6% son parte del sur\n",
    "#ne: 22.7% del norte"
   ]
  },
  {
   "cell_type": "code",
   "execution_count": null,
   "metadata": {},
   "outputs": [],
   "source": [
    "#mujeres con título universitario o superior tienen un salario correspondiente al 25% más rico de la muestra\n",
    "\n",
    "# Filtrar las mujeres con título universitario o superior\n",
    "mujeres_tituladas_superior_df = df[(df['sex'] == 1) & ((df['clg'] == 1) | (df['ad'] == 1))]\n",
    "\n",
    "# Determinar el umbral del 25% más rico para toda la muestra\n",
    "salariado_75 = df['wage'].quantile(0.75)\n",
    "\n",
    "# Filtrar las mujeres con salario en el 25% más alto\n",
    "mujeres_mas_asalariadas_df = mujeres_tituladas_superior_df[mujeres_tituladas_superior_df['wage'] >= salariado_75]\n",
    "\n",
    "\n",
    "print(mujeres_mas_asalariadas_df)"
   ]
  },
  {
   "cell_type": "code",
   "execution_count": null,
   "metadata": {},
   "outputs": [],
   "source": [
    "# Contar cuántas mujeres cumplen con ambas condiciones\n",
    "contar_mujeres = mujeres_mas_asalariadas_df.shape[0]\n",
    "\n",
    "print(contar_mujeres)"
   ]
  },
  {
   "cell_type": "code",
   "execution_count": null,
   "metadata": {},
   "outputs": [],
   "source": [
    "#hombres con título de bachillerato o inferior tienen un salario correspondiente al 25 % más rico de la muestra\n",
    "\n",
    "#hombres con bachillerato o inferor\n",
    "hombres_bachillerato_inferior_df =df[(df['sex'] == 0) & ((df['hsg'] == 1)|(df[\"shs\"]==1))]\n",
    "\n",
    "# Filtrar los hombres con salario en el 25% más alto\n",
    "hombres_mas_asalariados_df = hombres_bachillerato_inferior_df[hombres_bachillerato_inferior_df['wage'] >= salariado_75]\n",
    "\n",
    "print(hombres_mas_asalariados_df)"
   ]
  },
  {
   "cell_type": "code",
   "execution_count": null,
   "metadata": {},
   "outputs": [],
   "source": [
    "# Contar cuántos hombres cumplen con ambas condiciones\n",
    "contar_hombres = hombres_mas_asalariados_df.shape[0]\n",
    "\n",
    "print(contar_hombres)\n"
   ]
  },
  {
   "cell_type": "code",
   "execution_count": null,
   "metadata": {},
   "outputs": [],
   "source": [
    "# Crear un marco de datos con solo la variable 'wage'\n",
    "lwage_df = df[['lwage']]\n",
    "\n",
    "# Crear un marco de datos con todas las variables excepto 'wage'\n",
    "datos_df = df.drop(columns=['wage','lwage'])"
   ]
  },
  {
   "cell_type": "code",
   "execution_count": null,
   "metadata": {},
   "outputs": [],
   "source": [
    "print(lwage_df)\n",
    "print(datos_df)"
   ]
  },
  {
   "cell_type": "markdown",
   "metadata": {},
   "source": [
    "DATA WRANGLING"
   ]
  },
  {
   "cell_type": "markdown",
   "metadata": {},
   "source": [
    "Modelo Básico"
   ]
  },
  {
   "cell_type": "code",
   "execution_count": null,
   "metadata": {},
   "outputs": [],
   "source": [
    "# Crear variables para regresión\n",
    "# a) Variable dependiente\n",
    "Y = df['lwage']"
   ]
  },
  {
   "cell_type": "code",
   "execution_count": null,
   "metadata": {},
   "outputs": [],
   "source": [
    "# Predictores modelo básico\n",
    "X_basic = df[['sex', 'exp1', 'hsg', 'scl', 'clg', 'ad', 'so', 'we', 'ne']]"
   ]
  },
  {
   "cell_type": "code",
   "execution_count": null,
   "metadata": {},
   "outputs": [],
   "source": [
    "# Convertir occ2 e ind2 a variables dummy\n",
    "X_basic = pd.concat([X_basic, pd.get_dummies(df['occ2'], drop_first=True), pd.get_dummies(df['ind2'], drop_first=True)], axis=1)"
   ]
  },
  {
   "cell_type": "markdown",
   "metadata": {},
   "source": [
    "Modelo Flexible "
   ]
  },
  {
   "cell_type": "code",
   "execution_count": null,
   "metadata": {},
   "outputs": [],
   "source": [
    "# Modelo flexible: añadir polinomios e interacciones de experiencia\n",
    "df['exp2'] = df['exp1'] ** 2\n",
    "df['exp3'] = df['exp1'] ** 3\n",
    "df['exp4'] = df['exp1'] ** 4"
   ]
  },
  {
   "cell_type": "code",
   "execution_count": null,
   "metadata": {},
   "outputs": [],
   "source": [
    "X_flexible = X_basic.copy()\n",
    "X_flexible['exp2'] = df['exp2']\n",
    "X_flexible['exp3'] = df['exp3']\n",
    "X_flexible['exp4'] = df['exp4']"
   ]
  },
  {
   "cell_type": "code",
   "execution_count": null,
   "metadata": {},
   "outputs": [],
   "source": [
    "# Crear interacciones\n",
    "interaction_vars = ['hsg', 'scl', 'clg', 'ad', 'so', 'we', 'ne']\n",
    "for exp_var in ['exp1', 'exp2', 'exp3', 'exp4']:\n",
    "    for var in interaction_vars:\n",
    "        X_flexible[f'{exp_var}*{var}'] = df[exp_var] * df[var]"
   ]
  },
  {
   "cell_type": "markdown",
   "metadata": {},
   "source": [
    "Modelo Extraflexible"
   ]
  },
  {
   "cell_type": "code",
   "execution_count": null,
   "metadata": {},
   "outputs": [],
   "source": [
    "# Modelo extraflexible: todas las interacciones bidireccionales\n",
    "X_extraflexible = X_flexible.copy()\n"
   ]
  },
  {
   "cell_type": "code",
   "execution_count": null,
   "metadata": {},
   "outputs": [],
   "source": [
    "import itertools"
   ]
  },
  {
   "cell_type": "code",
   "execution_count": null,
   "metadata": {},
   "outputs": [],
   "source": [
    "# Restablecer los índices para evitar duplicados\n",
    "X_flexible = X_flexible.reset_index(drop=True)\n",
    "X_extraflexible = X_extraflexible.reset_index(drop=True)\n",
    "\n",
    "# Crear combinaciones de pares de columnas sin repeticiones\n",
    "for var1, var2 in itertools.combinations(X_flexible.columns, 2):\n",
    "    col_name = f'{var1}*{var2}'\n",
    "    if col_name not in X_extraflexible.columns:\n",
    "        # Verificar si las columnas son multidimensionales y seleccionar la primera dimensión si es el caso\n",
    "        if len(X_flexible[var1].shape) > 1:\n",
    "            column1 = X_flexible[var1].iloc[:, 0]  # Seleccionar la primera subcolumna\n",
    "        else:\n",
    "            column1 = X_flexible[var1]\n",
    "\n",
    "        if len(X_flexible[var2].shape) > 1:\n",
    "            column2 = X_flexible[var2].iloc[:, 0]  # Seleccionar la primera subcolumna\n",
    "        else:\n",
    "            column2 = X_flexible[var2]\n",
    "\n",
    "        # Multiplicar columnas de la misma dimensión\n",
    "        X_extraflexible[col_name] = column1 * column2\n"
   ]
  },
  {
   "cell_type": "code",
   "execution_count": null,
   "metadata": {},
   "outputs": [],
   "source": [
    "# Dividir en entrenamiento y prueba\n",
    "X_train_basic, X_test_basic, Y_train, Y_test = train_test_split(X_basic, Y, test_size=0.2, random_state=42)\n",
    "X_train_flexible, X_test_flexible, _, _ = train_test_split(X_flexible, Y, test_size=0.2, random_state=42)\n",
    "X_train_extraflexible, X_test_extraflexible, _, _ = train_test_split(X_extraflexible, Y, test_size=0.2, random_state=42)"
   ]
  },
  {
   "cell_type": "code",
   "execution_count": null,
   "metadata": {},
   "outputs": [],
   "source": [
    "# Ajustar modelos y calcular métricas\n",
    "def fit_and_evaluate(X_train, X_test, Y_train, Y_test):\n",
    "    model = LinearRegression()\n",
    "    model.fit(X_train, Y_train)\n",
    "    \n",
    "    Y_pred_train = model.predict(X_train)\n",
    "    Y_pred_test = model.predict(X_test)\n",
    "    \n",
    "    mse_train = mean_squared_error(Y_train, Y_pred_train)\n",
    "    mse_test = mean_squared_error(Y_test, Y_pred_test)\n",
    "    \n",
    "    r2_train = r2_score(Y_train, Y_pred_train)\n",
    "    r2_test = r2_score(Y_test, Y_pred_test)\n",
    "    \n",
    "    return mse_train, mse_test, r2_train, r2_test\n"
   ]
  },
  {
   "cell_type": "code",
   "execution_count": null,
   "metadata": {},
   "outputs": [],
   "source": [
    "from sklearn.metrics import mean_squared_error, r2_score\n",
    "from sklearn.linear_model import LinearRegression\n"
   ]
  },
  {
   "cell_type": "code",
   "execution_count": null,
   "metadata": {},
   "outputs": [],
   "source": [
    "# Convertir los nombres de las columnas a cadenas en X_train_basic y X_test_basic\n",
    "X_train_basic.columns = X_train_basic.columns.astype(str)\n",
    "X_test_basic.columns = X_test_basic.columns.astype(str)\n",
    "\n",
    "# Llamada a la función fit_and_evaluate para el modelo básico\n",
    "mse_train_basic, mse_test_basic, r2_train_basic, r2_test_basic = fit_and_evaluate(X_train_basic, X_test_basic, Y_train, Y_test)"
   ]
  },
  {
   "cell_type": "code",
   "execution_count": null,
   "metadata": {},
   "outputs": [],
   "source": [
    "# Convertir los nombres de las columnas a cadenas en X_train_flexible y X_test_flexible (si es necesario)\n",
    "X_train_flexible.columns = X_train_flexible.columns.astype(str)\n",
    "X_test_flexible.columns = X_test_flexible.columns.astype(str)\n",
    "\n",
    "# Llamada a la función fit_and_evaluate para el modelo flexible\n",
    "mse_train_flexible, mse_test_flexible, r2_train_flexible, r2_test_flexible = fit_and_evaluate(X_train_flexible, X_test_flexible, Y_train, Y_test)"
   ]
  },
  {
   "cell_type": "code",
   "execution_count": null,
   "metadata": {},
   "outputs": [],
   "source": [
    "# Convertir los nombres de las columnas a cadenas en X_train_flexible y X_test_flexible (si es necesario)\n",
    "X_train_extraflexible.columns = X_train_extraflexible.columns.astype(str)\n",
    "X_test_extraflexible.columns = X_test_extraflexible.columns.astype(str)\n",
    "\n",
    "# Llamada a la función fit_and_evaluate para el modelo flexible\n",
    "mse_train_extraflexible, mse_test_extraflexible, r2_train_extraflexible, r2_test_extraflexible = fit_and_evaluate(X_train_extraflexible, X_test_extraflexible, Y_train, Y_test)"
   ]
  },
  {
   "cell_type": "code",
   "execution_count": null,
   "metadata": {},
   "outputs": [],
   "source": [
    "# Imprimir resultados de los tres modelos\n",
    "print(f\"Modelo Básico - MSE Train: {mse_train_basic}, MSE Test: {mse_test_basic}, R² Train: {r2_train_basic}, R² Test: {r2_test_basic}\")\n",
    "print(f\"Modelo Flexible - MSE Train: {mse_train_flexible}, MSE Test: {mse_test_flexible}, R² Train: {r2_train_flexible}, R² Test: {r2_test_flexible}\")\n",
    "print(f\"Modelo Extraflexible - MSE Train: {mse_train_extraflexible}, MSE Test: {mse_test_extraflexible}, R² Train: {r2_train_extraflexible}, R² Test: {r2_test_extraflexible}\")"
   ]
  }
 ],
 "metadata": {
  "language_info": {
   "name": "python"
  }
 },
 "nbformat": 4,
 "nbformat_minor": 2
}
