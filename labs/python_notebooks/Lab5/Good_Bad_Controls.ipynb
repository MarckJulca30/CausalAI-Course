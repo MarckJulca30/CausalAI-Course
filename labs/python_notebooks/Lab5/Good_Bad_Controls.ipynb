{
 "cells": [
  {
   "cell_type": "code",
   "execution_count": 81,
   "id": "3529d4af",
   "metadata": {},
   "outputs": [],
   "source": [
    "import hdmpy\n",
    "import numpy as np\n",
    "import random\n",
    "import statsmodels.api as sm\n",
    "import matplotlib.pyplot as plt\n",
    "import numpy as np\n",
    "from matplotlib import colors"
   ]
  },
  {
   "cell_type": "code",
   "execution_count": 82,
   "id": "8daeee09",
   "metadata": {},
   "outputs": [],
   "source": [
    "# Import relevant packages for splitting data\n",
    "import numpy as np\n",
    "import random\n",
    "import math\n",
    "import pandas as pd\n",
    "\n",
    "# Import packages for OLS regression\n",
    "import statsmodels.api as sm\n",
    "import statsmodels.formula.api as smf\n",
    "from statsmodels.iolib.summary2 import summary_col\n"
   ]
  },
  {
   "cell_type": "markdown",
   "id": "2b59488f",
   "metadata": {},
   "source": [
    "# Model 1"
   ]
  },
  {
   "cell_type": "code",
   "execution_count": 84,
   "id": "f910873a",
   "metadata": {},
   "outputs": [],
   "source": [
    "# Set Seed\n",
    "# to make the results replicable (generating random numbers)\n",
    "np.random.seed(12345676)     # set MC seed\n",
    "\n",
    "n = 1000                # sample size\n",
    "Z = np.random.normal(0, 1, 1000).reshape((1000, 1))  # generate Z\n",
    "X = 0.5*Z + np.random.normal(0, 1, 1000).reshape((1000, 1))\n",
    "Y = 3*X + 2*Z + np.random.normal(0, 1, 1000).reshape((1000, 1))\n",
    "\n",
    "# Create dataframe\n",
    "D = np.hstack((Z, X, Y))\n",
    "data = pd.DataFrame(D, columns = [\"Z\", \"X\", \"Y\"])"
   ]
  },
  {
   "cell_type": "code",
   "execution_count": 85,
   "id": "9cca7ba3",
   "metadata": {},
   "outputs": [
    {
     "name": "stdout",
     "output_type": "stream",
     "text": [
      "\n",
      "==================================\n",
      "                  Y I       Y II  \n",
      "----------------------------------\n",
      "Intercept      0.1143*   0.0001   \n",
      "               (0.0644)  (0.0327) \n",
      "R-squared      0.8227    0.9544   \n",
      "R-squared Adj. 0.8225    0.9543   \n",
      "X              3.8564*** 3.0192***\n",
      "               (0.0567)  (0.0327) \n",
      "Z                        2.0062***\n",
      "                         (0.0374) \n",
      "==================================\n",
      "Standard errors in parentheses.\n",
      "* p<.1, ** p<.05, ***p<.01\n"
     ]
    }
   ],
   "source": [
    "# Regressions\n",
    "no_control = \"Y ~ X\"          \n",
    "using_control = \"Y ~ X + Z\"      #classical\n",
    "\n",
    "no_control = smf.ols(no_control , data=data).fit()\n",
    "using_control = smf.ols(using_control , data=data).fit()\n",
    "\n",
    "# Summary results\n",
    "dfoutput = summary_col([no_control,using_control],stars=True)\n",
    "print(dfoutput)"
   ]
  },
  {
   "cell_type": "markdown",
   "id": "52caae51",
   "metadata": {},
   "source": [
    "# Model 2"
   ]
  },
  {
   "cell_type": "code",
   "execution_count": 86,
   "id": "5ff33f79",
   "metadata": {},
   "outputs": [],
   "source": [
    "# Set Seed\n",
    "# to make the results replicable (generating random numbers)\n",
    "np.random.seed(12345676)     # set MC seed\n",
    "\n",
    "n = 1000                # sample size\n",
    "U = np.random.normal(0, 1, 1000).reshape((1000, 1))\n",
    "Z = 2*U + np.random.normal(0, 1, 1000).reshape((1000, 1)) # generate Z\n",
    "X = 0.5*Z + np.random.normal(0, 1, 1000).reshape((1000, 1))\n",
    "Y = 3*X + 2*U + np.random.normal(0, 1, 1000).reshape((1000, 1))\n",
    "\n",
    "# Create dataframe\n",
    "D = np.hstack((U, Z, X, Y))\n",
    "data = pd.DataFrame(D, columns = [\"U\", \"Z\", \"X\", \"Y\"])"
   ]
  },
  {
   "cell_type": "code",
   "execution_count": 87,
   "id": "70e62a35",
   "metadata": {},
   "outputs": [
    {
     "name": "stdout",
     "output_type": "stream",
     "text": [
      "\n",
      "==================================\n",
      "                  Y I       Y II  \n",
      "----------------------------------\n",
      "Intercept      0.0284    -0.0190  \n",
      "               (0.0571)  (0.0427) \n",
      "R-squared      0.9167    0.9535   \n",
      "R-squared Adj. 0.9166    0.9534   \n",
      "X              3.8628*** 2.9952***\n",
      "               (0.0369)  (0.0414) \n",
      "Z                        0.7950***\n",
      "                         (0.0283) \n",
      "==================================\n",
      "Standard errors in parentheses.\n",
      "* p<.1, ** p<.05, ***p<.01\n"
     ]
    }
   ],
   "source": [
    "# Regressions\n",
    "no_control = \"Y ~ X\"          \n",
    "using_control = \"Y ~ X + Z\"      #classical\n",
    "\n",
    "no_control = smf.ols(no_control , data=data).fit()\n",
    "using_control = smf.ols(using_control , data=data).fit()\n",
    "\n",
    "# Summary results\n",
    "dfoutput = summary_col([no_control,using_control],stars=True)\n",
    "print(dfoutput)"
   ]
  },
  {
   "cell_type": "markdown",
   "id": "3cdaf467",
   "metadata": {},
   "source": [
    "# Model 7 - Bad Control (M-bias)"
   ]
  },
  {
   "cell_type": "code",
   "execution_count": 88,
   "id": "a8778d47",
   "metadata": {},
   "outputs": [],
   "source": [
    "# Set Seed\n",
    "# to make the results replicable (generating random numbers)\n",
    "np.random.seed(12345676)     # set MC seed\n",
    "\n",
    "n = 1000                # sample size\n",
    "U_1 = np.random.normal(0, 1, 1000).reshape((1000, 1))\n",
    "U_2 = np.random.normal(0, 1, 1000).reshape((1000, 1))\n",
    "\n",
    "Z = 0.5*U_1 + 0.5*U_2 + np.random.normal(0, 1, 1000).reshape((1000, 1)) # generate Z\n",
    "X = 2*U_1 + np.random.normal(0, 1, 1000).reshape((1000, 1))\n",
    "Y = 3*X + 2*U_2 + np.random.normal(0, 1, 1000).reshape((1000, 1))\n",
    "\n",
    "# Create dataframe\n",
    "D = np.hstack((U_1,U_2, Z, X, Y))\n",
    "data = pd.DataFrame(D, columns = [\"U_1\", \"U_2\", \"Z\", \"X\", \"Y\"])"
   ]
  },
  {
   "cell_type": "code",
   "execution_count": 89,
   "id": "a3c07099",
   "metadata": {},
   "outputs": [
    {
     "name": "stdout",
     "output_type": "stream",
     "text": [
      "\n",
      "==================================\n",
      "                  Y I       Y II  \n",
      "----------------------------------\n",
      "Intercept      0.0238    0.0124   \n",
      "               (0.0705)  (0.0645) \n",
      "R-squared      0.9033    0.9192   \n",
      "R-squared Adj. 0.9032    0.9190   \n",
      "X              3.0315*** 2.8690***\n",
      "               (0.0314)  (0.0310) \n",
      "Z                        0.7654***\n",
      "                         (0.0546) \n",
      "==================================\n",
      "Standard errors in parentheses.\n",
      "* p<.1, ** p<.05, ***p<.01\n"
     ]
    }
   ],
   "source": [
    "# Regressions\n",
    "no_control = \"Y ~ X\"          \n",
    "using_control = \"Y ~ X + Z\"      #classical\n",
    "\n",
    "no_control = smf.ols(no_control , data=data).fit()\n",
    "using_control = smf.ols(using_control , data=data).fit()\n",
    "\n",
    "# Summary results\n",
    "dfoutput = summary_col([no_control,using_control],stars=True)\n",
    "print(dfoutput)"
   ]
  },
  {
   "cell_type": "markdown",
   "id": "d05b5159",
   "metadata": {},
   "source": [
    "# Model 8 - ( Neutral Control (possibly good for precision)"
   ]
  },
  {
   "cell_type": "code",
   "execution_count": 90,
   "id": "72d973d0",
   "metadata": {},
   "outputs": [],
   "source": [
    "# Set Seed\n",
    "# to make the results replicable (generating random numbers)\n",
    "np.random.seed(12345676)     # set MC seed\n",
    "\n",
    "n = 1000                # sample size\n",
    "\n",
    "Z = np.random.normal(0, 1, 1000).reshape((1000, 1))\n",
    "X = np.random.normal(0, 1, 1000).reshape((1000, 1))\n",
    "Y = 3*X + 2*Z + np.random.normal(0, 1, 1000).reshape((1000, 1))\n",
    "\n",
    "# Create dataframe\n",
    "D = np.hstack((Z, X, Y))\n",
    "data = pd.DataFrame(D, columns = [\"Z\", \"X\", \"Y\"])"
   ]
  },
  {
   "cell_type": "code",
   "execution_count": 91,
   "id": "65f385f8",
   "metadata": {},
   "outputs": [
    {
     "name": "stdout",
     "output_type": "stream",
     "text": [
      "\n",
      "==================================\n",
      "                  Y I       Y II  \n",
      "----------------------------------\n",
      "Intercept      0.1404**  0.0001   \n",
      "               (0.0713)  (0.0327) \n",
      "R-squared      0.6556    0.9278   \n",
      "R-squared Adj. 0.6553    0.9277   \n",
      "X              3.1088*** 3.0192***\n",
      "               (0.0713)  (0.0327) \n",
      "Z                        2.0158***\n",
      "                         (0.0329) \n",
      "==================================\n",
      "Standard errors in parentheses.\n",
      "* p<.1, ** p<.05, ***p<.01\n"
     ]
    }
   ],
   "source": [
    "# Regressions\n",
    "no_control = \"Y ~ X\"          \n",
    "using_control = \"Y ~ X + Z\"      #classical\n",
    "\n",
    "no_control = smf.ols(no_control , data=data).fit()\n",
    "using_control = smf.ols(using_control , data=data).fit()\n",
    "\n",
    "# Summary results\n",
    "dfoutput = summary_col([no_control,using_control],stars=True)\n",
    "print(dfoutput)"
   ]
  },
  {
   "cell_type": "markdown",
   "id": "6930dc77",
   "metadata": {},
   "source": [
    "# Model 10 - Bad Control (bias amplification)"
   ]
  },
  {
   "cell_type": "code",
   "execution_count": 93,
   "id": "009b1276",
   "metadata": {},
   "outputs": [
    {
     "name": "stdout",
     "output_type": "stream",
     "text": [
      "\n",
      "===================================\n",
      "                  Y I       Y II   \n",
      "-----------------------------------\n",
      "Intercept      0.0028    -0.0095   \n",
      "               (0.0569)  (0.0538)  \n",
      "R-squared      0.9663    0.9699    \n",
      "R-squared Adj. 0.9662    0.9699    \n",
      "X              4.1183*** 4.1866*** \n",
      "               (0.0244)  (0.0238)  \n",
      "Z                        -0.6111***\n",
      "                         (0.0556)  \n",
      "===================================\n",
      "Standard errors in parentheses.\n",
      "* p<.1, ** p<.05, ***p<.01\n"
     ]
    }
   ],
   "source": [
    "# Set Seed\n",
    "# to make the results replicable (generating random numbers)\n",
    "np.random.seed(12345676)     # set MC seed\n",
    "\n",
    "n = 1000                # sample size\n",
    "U = np.random.normal(0, 1, 1000).reshape((1000, 1))\n",
    "Z = np.random.normal(0, 1, 1000).reshape((1000, 1)) # generate Z\n",
    "X = 0.5*Z + 2*U + np.random.normal(0, 1, 1000).reshape((1000, 1))\n",
    "Y = 3*X + 3*U + np.random.normal(0, 1, 1000).reshape((1000, 1))\n",
    "\n",
    "# Create dataframe\n",
    "D = np.hstack((U, Z, X, Y))\n",
    "data = pd.DataFrame(D, columns = [\"U\", \"Z\", \"X\", \"Y\"])\n",
    "\n",
    "# Regressions\n",
    "no_control = \"Y ~ X\"          \n",
    "using_control = \"Y ~ X + Z\"      #classical\n",
    "\n",
    "no_control = smf.ols(no_control , data=data).fit()\n",
    "using_control = smf.ols(using_control , data=data).fit()\n",
    "\n",
    "# Summary results\n",
    "dfoutput = summary_col([no_control,using_control],stars=True)\n",
    "print(dfoutput)"
   ]
  },
  {
   "cell_type": "markdown",
   "id": "24b55932",
   "metadata": {},
   "source": [
    "# Models 17 - Bad Controls (selection bias)"
   ]
  },
  {
   "cell_type": "code",
   "execution_count": 80,
   "id": "6ed86b30",
   "metadata": {},
   "outputs": [
    {
     "name": "stdout",
     "output_type": "stream",
     "text": [
      "\n",
      "==================================\n",
      "                  Y I       Y II  \n",
      "----------------------------------\n",
      "Intercept      -0.0332   -0.0085  \n",
      "               (0.0278)  (0.0140) \n",
      "R-squared      0.9514    0.9876   \n",
      "R-squared Adj. 0.9513    0.9876   \n",
      "X              3.4241*** 0.8793***\n",
      "               (0.0245)  (0.0487) \n",
      "Z                        0.3705***\n",
      "                         (0.0069) \n",
      "==================================\n",
      "Standard errors in parentheses.\n",
      "* p<.1, ** p<.05, ***p<.01\n"
     ]
    }
   ],
   "source": [
    "# Set Seed\n",
    "# to make the results replicable (generating random numbers)\n",
    "np.random.seed(12345676)     # set MC seed\n",
    "\n",
    "n = 1000                # sample size\n",
    "X = 0.5*Z + np.random.normal(0, 1, 1000).reshape((1000, 1))\n",
    "Y = 3*X + np.random.normal(0, 1, 1000).reshape((1000, 1))\n",
    "Z = 2*Y + np.random.normal(0, 1, 1000).reshape((1000, 1))  # generate Z\n",
    "\n",
    "# Create dataframe\n",
    "D = np.hstack((Z, X, Y))\n",
    "data = pd.DataFrame(D, columns = [\"Z\", \"X\", \"Y\"])\n",
    "\n",
    "# Regressions\n",
    "no_control = \"Y ~ X\"          \n",
    "using_control = \"Y ~ X + Z\"      #classical\n",
    "\n",
    "no_control = smf.ols(no_control , data=data).fit()\n",
    "using_control = smf.ols(using_control , data=data).fit()\n",
    "\n",
    "# Summary results\n",
    "dfoutput = summary_col([no_control,using_control],stars=True)\n",
    "print(dfoutput)"
   ]
  },
  {
   "cell_type": "code",
   "execution_count": null,
   "id": "7268ed1f",
   "metadata": {},
   "outputs": [],
   "source": []
  }
 ],
 "metadata": {
  "kernelspec": {
   "display_name": "Python 3 (ipykernel)",
   "language": "python",
   "name": "python3"
  },
  "language_info": {
   "codemirror_mode": {
    "name": "ipython",
    "version": 3
   },
   "file_extension": ".py",
   "mimetype": "text/x-python",
   "name": "python",
   "nbconvert_exporter": "python",
   "pygments_lexer": "ipython3",
   "version": "3.11.7"
  }
 },
 "nbformat": 4,
 "nbformat_minor": 5
}
