{
 "cells": [
  {
   "cell_type": "markdown",
   "metadata": {},
   "source": [
    "# Workgroup 3\n",
    "\n",
    "**Group 3**: Valerie Dube, Erzo Garay, Juan Marcos Guerrero y Matías Villalba,"
   ]
  },
  {
   "cell_type": "markdown",
   "metadata": {},
   "source": [
    "## 1. Neyman Orthogonality Proof"
   ]
  },
  {
   "cell_type": "markdown",
   "metadata": {},
   "source": [
    "## 2. Code Section"
   ]
  },
  {
   "cell_type": "markdown",
   "metadata": {},
   "source": [
    "### 2.2. Double Lasso - Using School data"
   ]
  },
  {
   "cell_type": "code",
   "execution_count": 2,
   "metadata": {
    "vscode": {
     "languageId": "r"
    }
   },
   "outputs": [
    {
     "name": "stderr",
     "output_type": "stream",
     "text": [
      "Warning message:\n",
      "\"dependencies 'MASS', 'Matrix', 'lattice' are not available\"also installing the dependencies 'fastmap', 'colorspace', 'sys', 'bit', 'ps', 'sass', 'cachem', 'nlme', 'farver', 'munsell', 'rappdirs', 'askpass', 'bit64', 'processx', 'highr', 'xfun', 'yaml', 'bslib', 'fontawesome', 'htmltools', 'tinytex', 'backports', 'ellipsis', 'glue', 'lifecycle', 'memoise', 'blob', 'tidyselect', 'vctrs', 'data.table', 'gtable', 'isoband', 'mgcv', 'scales', 'gargle', 'cellranger', 'curl', 'ids', 'rematch2', 'mime', 'openssl', 'timechange', 'fansi', 'utf8', 'systemfonts', 'textshaping', 'vroom', 'tzdb', 'progress', 'callr', 'fs', 'knitr', 'rmarkdown', 'selectr', 'stringi', 'broom', 'conflicted', 'cli', 'dbplyr', 'dplyr', 'dtplyr', 'forcats', 'ggplot2', 'googledrive', 'googlesheets4', 'haven', 'hms', 'httr', 'jsonlite', 'lubridate', 'magrittr', 'modelr', 'pillar', 'purrr', 'ragg', 'readr', 'readxl', 'reprex', 'rlang', 'rvest', 'stringr', 'tibble', 'tidyr', 'xml2'\n",
      "\n",
      "Warning message:\n",
      "\"unable to access index for repository https://cran.r-project.org/bin/windows/contrib/3.6:\n",
      "  cannot open URL 'https://cran.r-project.org/bin/windows/contrib/3.6/PACKAGES'\"Packages which are only available in source form, and may need\n",
      "  compilation of C/C++/Fortran: 'fastmap' 'colorspace' 'sys' 'bit' 'ps'\n",
      "  'sass' 'cachem' 'nlme' 'farver' 'rappdirs' 'askpass' 'bit64'\n",
      "  'processx' 'xfun' 'yaml' 'htmltools' 'backports' 'ellipsis' 'glue'\n",
      "  'tidyselect' 'vctrs' 'data.table' 'isoband' 'mgcv' 'scales' 'curl'\n",
      "  'mime' 'openssl' 'timechange' 'fansi' 'utf8' 'systemfonts'\n",
      "  'textshaping' 'vroom' 'tzdb' 'fs' 'stringi' 'cli' 'dplyr' 'haven'\n",
      "  'jsonlite' 'lubridate' 'magrittr' 'purrr' 'ragg' 'readr' 'readxl'\n",
      "  'rlang' 'tibble' 'tidyr' 'xml2'\n"
     ]
    },
    {
     "name": "stdout",
     "output_type": "stream",
     "text": [
      "  These will not be installed\n"
     ]
    },
    {
     "name": "stderr",
     "output_type": "stream",
     "text": [
      "installing the source packages 'munsell', 'highr', 'bslib', 'fontawesome', 'tinytex', 'lifecycle', 'memoise', 'blob', 'gtable', 'gargle', 'cellranger', 'ids', 'rematch2', 'progress', 'callr', 'knitr', 'rmarkdown', 'selectr', 'broom', 'conflicted', 'dbplyr', 'dtplyr', 'forcats', 'ggplot2', 'googledrive', 'googlesheets4', 'hms', 'httr', 'modelr', 'pillar', 'reprex', 'rvest', 'stringr', 'tidyverse'\n",
      "\n",
      "Warning message in install.packages(\"tidyverse\"):\n",
      "\"installation of package 'munsell' had non-zero exit status\"Warning message in install.packages(\"tidyverse\"):\n",
      "\"installation of package 'highr' had non-zero exit status\"Warning message in install.packages(\"tidyverse\"):\n",
      "\"installation of package 'fontawesome' had non-zero exit status\"Warning message in install.packages(\"tidyverse\"):\n",
      "\"installation of package 'tinytex' had non-zero exit status\"Warning message in install.packages(\"tidyverse\"):\n",
      "\"installation of package 'lifecycle' had non-zero exit status\"Warning message in install.packages(\"tidyverse\"):\n",
      "\"installation of package 'memoise' had non-zero exit status\"Warning message in install.packages(\"tidyverse\"):\n",
      "\"installation of package 'blob' had non-zero exit status\"Warning message in install.packages(\"tidyverse\"):\n",
      "\"installation of package 'cellranger' had non-zero exit status\"Warning message in install.packages(\"tidyverse\"):\n",
      "\"installation of package 'ids' had non-zero exit status\"Warning message in install.packages(\"tidyverse\"):\n",
      "\"installation of package 'rematch2' had non-zero exit status\"Warning message in install.packages(\"tidyverse\"):\n",
      "\"installation of package 'callr' had non-zero exit status\"Warning message in install.packages(\"tidyverse\"):\n",
      "\"installation of package 'httr' had non-zero exit status\"Warning message in install.packages(\"tidyverse\"):\n",
      "\"installation of package 'bslib' had non-zero exit status\"Warning message in install.packages(\"tidyverse\"):\n",
      "\"installation of package 'gtable' had non-zero exit status\"Warning message in install.packages(\"tidyverse\"):\n",
      "\"installation of package 'gargle' had non-zero exit status\"Warning message in install.packages(\"tidyverse\"):\n",
      "\"installation of package 'knitr' had non-zero exit status\"Warning message in install.packages(\"tidyverse\"):\n",
      "\"installation of package 'conflicted' had non-zero exit status\"Warning message in install.packages(\"tidyverse\"):\n",
      "\"installation of package 'dtplyr' had non-zero exit status\"Warning message in install.packages(\"tidyverse\"):\n",
      "\"installation of package 'forcats' had non-zero exit status\"Warning message in install.packages(\"tidyverse\"):\n",
      "\"installation of package 'hms' had non-zero exit status\"Warning message in install.packages(\"tidyverse\"):\n",
      "\"installation of package 'pillar' had non-zero exit status\"Warning message in install.packages(\"tidyverse\"):\n",
      "\"installation of package 'stringr' had non-zero exit status\"Warning message in install.packages(\"tidyverse\"):\n",
      "\"installation of package 'progress' had non-zero exit status\"Warning message in install.packages(\"tidyverse\"):\n",
      "\"installation of package 'rmarkdown' had non-zero exit status\"Warning message in install.packages(\"tidyverse\"):\n",
      "\"installation of package 'selectr' had non-zero exit status\"Warning message in install.packages(\"tidyverse\"):\n",
      "\"installation of package 'broom' had non-zero exit status\"Warning message in install.packages(\"tidyverse\"):\n",
      "\"installation of package 'dbplyr' had non-zero exit status\"Warning message in install.packages(\"tidyverse\"):\n",
      "\"installation of package 'ggplot2' had non-zero exit status\"Warning message in install.packages(\"tidyverse\"):\n",
      "\"installation of package 'googledrive' had non-zero exit status\"Warning message in install.packages(\"tidyverse\"):\n",
      "\"installation of package 'googlesheets4' had non-zero exit status\"Warning message in install.packages(\"tidyverse\"):\n",
      "\"installation of package 'modelr' had non-zero exit status\"Warning message in install.packages(\"tidyverse\"):\n",
      "\"installation of package 'reprex' had non-zero exit status\"Warning message in install.packages(\"tidyverse\"):\n",
      "\"installation of package 'rvest' had non-zero exit status\"Warning message in install.packages(\"tidyverse\"):\n",
      "\"installation of package 'tidyverse' had non-zero exit status\"Warning message:\n",
      "\"dependencies 'Matrix', 'MASS', 'lattice' are not available\"also installing the dependencies 'utf8', 'pillar', 'vctrs', 'glue', 'fs', 'pkgbuild', 'diffobj', 'fansi', 'rematch2', 'tibble', 'brio', 'callr', 'cli', 'desc', 'digest', 'jsonlite', 'lifecycle', 'magrittr', 'pkgload', 'processx', 'ps', 'rlang', 'waldo', 'testthat', 'nlme', 'minqa', 'nloptr', 'RcppEigen'\n",
      "\n",
      "Warning message:\n",
      "\"unable to access index for repository https://cran.r-project.org/bin/windows/contrib/3.6:\n",
      "  cannot open URL 'https://cran.r-project.org/bin/windows/contrib/3.6/PACKAGES'\"Packages which are only available in source form, and may need\n",
      "  compilation of C/C++/Fortran: 'utf8' 'vctrs' 'glue' 'fs' 'diffobj'\n",
      "  'fansi' 'tibble' 'brio' 'cli' 'digest' 'jsonlite' 'magrittr'\n",
      "  'processx' 'ps' 'rlang' 'testthat' 'nlme' 'minqa' 'nloptr'\n",
      "  'RcppEigen' 'lme4'\n"
     ]
    },
    {
     "name": "stdout",
     "output_type": "stream",
     "text": [
      "  These will not be installed\n"
     ]
    },
    {
     "name": "stderr",
     "output_type": "stream",
     "text": [
      "installing the source packages 'pillar', 'pkgbuild', 'rematch2', 'callr', 'desc', 'lifecycle', 'pkgload', 'waldo'\n",
      "\n",
      "Warning message in install.packages(\"lme4\"):\n",
      "\"installation of package 'rematch2' had non-zero exit status\"Warning message in install.packages(\"lme4\"):\n",
      "\"installation of package 'callr' had non-zero exit status\"Warning message in install.packages(\"lme4\"):\n",
      "\"installation of package 'desc' had non-zero exit status\"Warning message in install.packages(\"lme4\"):\n",
      "\"installation of package 'lifecycle' had non-zero exit status\"Warning message in install.packages(\"lme4\"):\n",
      "\"installation of package 'pillar' had non-zero exit status\"Warning message in install.packages(\"lme4\"):\n",
      "\"installation of package 'pkgbuild' had non-zero exit status\"Warning message in install.packages(\"lme4\"):\n",
      "\"installation of package 'waldo' had non-zero exit status\"Warning message in install.packages(\"lme4\"):\n",
      "\"installation of package 'pkgload' had non-zero exit status\"Warning message:\n",
      "\"unable to access index for repository https://cran.r-project.org/bin/windows/contrib/3.6:\n",
      "  cannot open URL 'https://cran.r-project.org/bin/windows/contrib/3.6/PACKAGES'\"installing the source package 'stargazer'\n",
      "\n",
      "also installing the dependency 'bitops'\n",
      "\n",
      "Warning message:\n",
      "\"unable to access index for repository https://cran.r-project.org/bin/windows/contrib/3.6:\n",
      "  cannot open URL 'https://cran.r-project.org/bin/windows/contrib/3.6/PACKAGES'\"Packages which are only available in source form, and may need\n",
      "  compilation of C/C++/Fortran: 'bitops' 'caTools'\n"
     ]
    },
    {
     "name": "stdout",
     "output_type": "stream",
     "text": [
      "  These will not be installed\n"
     ]
    },
    {
     "name": "stderr",
     "output_type": "stream",
     "text": [
      "Warning message:\n",
      "\"dependencies 'lattice', 'MASS', 'Matrix' are not available\"also installing the dependencies 'parallelly', 'future', 'future.apply', 'colorspace', 'utf8', 'KernSmooth', 'lava', 'farver', 'munsell', 'fansi', 'pillar', 'tzdb', 'rpart', 'survival', 'nnet', 'prodlim', 'timechange', 'stringi', 'cli', 'glue', 'gtable', 'isoband', 'lifecycle', 'mgcv', 'rlang', 'scales', 'tibble', 'vctrs', 'class', 'proxy', 'data.table', 'dplyr', 'clock', 'ellipsis', 'gower', 'hardhat', 'ipred', 'lubridate', 'magrittr', 'purrr', 'tidyr', 'tidyselect', 'stringr', 'ggplot2', 'e1071', 'ModelMetrics', 'nlme', 'plyr', 'pROC', 'recipes', 'reshape2'\n",
      "\n",
      "Warning message:\n",
      "\"unable to access index for repository https://cran.r-project.org/bin/windows/contrib/3.6:\n",
      "  cannot open URL 'https://cran.r-project.org/bin/windows/contrib/3.6/PACKAGES'\"Packages which are only available in source form, and may need\n",
      "  compilation of C/C++/Fortran: 'parallelly' 'colorspace' 'utf8'\n",
      "  'KernSmooth' 'farver' 'fansi' 'tzdb' 'rpart' 'survival' 'nnet'\n",
      "  'prodlim' 'timechange' 'stringi' 'cli' 'glue' 'isoband' 'mgcv'\n",
      "  'rlang' 'scales' 'tibble' 'vctrs' 'class' 'proxy' 'data.table'\n",
      "  'dplyr' 'clock' 'ellipsis' 'gower' 'ipred' 'lubridate' 'magrittr'\n",
      "  'purrr' 'tidyr' 'tidyselect' 'e1071' 'ModelMetrics' 'nlme' 'plyr'\n",
      "  'pROC' 'reshape2' 'caret'\n"
     ]
    },
    {
     "name": "stdout",
     "output_type": "stream",
     "text": [
      "  These will not be installed\n"
     ]
    },
    {
     "name": "stderr",
     "output_type": "stream",
     "text": [
      "installing the source packages 'future', 'future.apply', 'lava', 'munsell', 'pillar', 'gtable', 'lifecycle', 'hardhat', 'stringr', 'ggplot2', 'recipes'\n",
      "\n",
      "Warning message in install.packages(\"caret\"):\n",
      "\"installation of package 'future' had non-zero exit status\"Warning message in install.packages(\"caret\"):\n",
      "\"installation of package 'munsell' had non-zero exit status\"Warning message in install.packages(\"caret\"):\n",
      "\"installation of package 'lifecycle' had non-zero exit status\"Warning message in install.packages(\"caret\"):\n",
      "\"installation of package 'hardhat' had non-zero exit status\"Warning message in install.packages(\"caret\"):\n",
      "\"installation of package 'future.apply' had non-zero exit status\"Warning message in install.packages(\"caret\"):\n",
      "\"installation of package 'pillar' had non-zero exit status\"Warning message in install.packages(\"caret\"):\n",
      "\"installation of package 'gtable' had non-zero exit status\"Warning message in install.packages(\"caret\"):\n",
      "\"installation of package 'stringr' had non-zero exit status\"Warning message in install.packages(\"caret\"):\n",
      "\"installation of package 'recipes' had non-zero exit status\"Warning message in install.packages(\"caret\"):\n",
      "\"installation of package 'lava' had non-zero exit status\"Warning message in install.packages(\"caret\"):\n",
      "\"installation of package 'ggplot2' had non-zero exit status\"Warning message:\n",
      "\"dependency 'Matrix' is not available\"also installing the dependencies 'survival', 'RcppEigen'\n",
      "\n",
      "Warning message:\n",
      "\"unable to access index for repository https://cran.r-project.org/bin/windows/contrib/3.6:\n",
      "  cannot open URL 'https://cran.r-project.org/bin/windows/contrib/3.6/PACKAGES'\"Packages which are only available in source form, and may need\n",
      "  compilation of C/C++/Fortran: 'survival' 'RcppEigen' 'glmnet'\n"
     ]
    },
    {
     "name": "stdout",
     "output_type": "stream",
     "text": [
      "  These will not be installed\n"
     ]
    }
   ],
   "source": [
    "# Install necessary packages\n",
    "install.packages(\"tidyverse\")  \n",
    "install.packages(\"lme4\")\n",
    "install.packages(\"stargazer\")\n",
    "install.packages(\"caTools\")\n",
    "install.packages(\"caret\")\n",
    "install.packages(\"glmnet\")"
   ]
  },
  {
   "cell_type": "code",
   "execution_count": 3,
   "metadata": {
    "vscode": {
     "languageId": "r"
    }
   },
   "outputs": [
    {
     "ename": "ERROR",
     "evalue": "Error in library(tidyverse): there is no package called 'tidyverse'\n",
     "output_type": "error",
     "traceback": [
      "Error in library(tidyverse): there is no package called 'tidyverse'\nTraceback:\n",
      "1. library(tidyverse)"
     ]
    }
   ],
   "source": [
    "library(tidyverse)   \n",
    "library(lme4)        \n",
    "library(stargazer)   \n",
    "library(caTools)     \n",
    "library(caret)       \n",
    "library(glmnet)    \n",
    "library(rsample)      "
   ]
  },
  {
   "cell_type": "code",
   "execution_count": null,
   "metadata": {
    "vscode": {
     "languageId": "r"
    }
   },
   "outputs": [],
   "source": [
    "df <- read.csv(\"./data/bruhn2016.csv\")"
   ]
  },
  {
   "cell_type": "code",
   "execution_count": null,
   "metadata": {
    "vscode": {
     "languageId": "r"
    }
   },
   "outputs": [
    {
     "data": {
      "text/html": [
       "<div><div style = \"float: left;\"><span>5×16 DataFrame</span></div><div style = \"clear: both;\"></div></div><div class = \"data-frame\" style = \"overflow-x: scroll;\"><table class = \"data-frame\" style = \"margin-bottom: 6px;\"><thead><tr class = \"header\"><th class = \"rowNumber\" style = \"font-weight: bold; text-align: right;\">Row</th><th style = \"text-align: left;\">outcome.test.score</th><th style = \"text-align: left;\">treatment</th><th style = \"text-align: left;\">school</th><th style = \"text-align: left;\">is.female</th><th style = \"text-align: left;\">mother.attended.secondary.school</th><th style = \"text-align: left;\">father.attened.secondary.school</th><th style = \"text-align: left;\">failed.at.least.one.school.year</th><th style = \"text-align: left;\">family.receives.cash.transfer</th><th style = \"text-align: left;\">has.computer.with.internet.at.home</th><th style = \"text-align: left;\">is.unemployed</th><th style = \"text-align: left;\">has.some.form.of.income</th><th style = \"text-align: left;\">saves.money.for.future.purchases</th><th style = \"text-align: left;\">intention.to.save.index</th><th style = \"text-align: left;\">makes.list.of.expenses.every.month</th><th style = \"text-align: left;\">negotiates.prices.or.payment.methods</th><th style = \"text-align: left;\">financial.autonomy.index</th></tr><tr class = \"subheader headerLastRow\"><th class = \"rowNumber\" style = \"font-weight: bold; text-align: right;\"></th><th title = \"Float64\" style = \"text-align: left;\">Float64</th><th title = \"Int64\" style = \"text-align: left;\">Int64</th><th title = \"Int64\" style = \"text-align: left;\">Int64</th><th title = \"String3\" style = \"text-align: left;\">String3</th><th title = \"String3\" style = \"text-align: left;\">String3</th><th title = \"String3\" style = \"text-align: left;\">String3</th><th title = \"String3\" style = \"text-align: left;\">String3</th><th title = \"String3\" style = \"text-align: left;\">String3</th><th title = \"String3\" style = \"text-align: left;\">String3</th><th title = \"String3\" style = \"text-align: left;\">String3</th><th title = \"String3\" style = \"text-align: left;\">String3</th><th title = \"String3\" style = \"text-align: left;\">String3</th><th title = \"String3\" style = \"text-align: left;\">String3</th><th title = \"String3\" style = \"text-align: left;\">String3</th><th title = \"String3\" style = \"text-align: left;\">String3</th><th title = \"String3\" style = \"text-align: left;\">String3</th></tr></thead><tbody><tr><td class = \"rowNumber\" style = \"font-weight: bold; text-align: right;\">1</td><td style = \"text-align: right;\">47.3674</td><td style = \"text-align: right;\">0</td><td style = \"text-align: right;\">17018390</td><td style = \"text-align: left;\">NA</td><td style = \"text-align: left;\">NA</td><td style = \"text-align: left;\">NA</td><td style = \"text-align: left;\">NA</td><td style = \"text-align: left;\">NA</td><td style = \"text-align: left;\">NA</td><td style = \"text-align: left;\">1</td><td style = \"text-align: left;\">1</td><td style = \"text-align: left;\">0</td><td style = \"text-align: left;\">29</td><td style = \"text-align: left;\">0</td><td style = \"text-align: left;\">1</td><td style = \"text-align: left;\">52</td></tr><tr><td class = \"rowNumber\" style = \"font-weight: bold; text-align: right;\">2</td><td style = \"text-align: right;\">58.1768</td><td style = \"text-align: right;\">1</td><td style = \"text-align: right;\">33002614</td><td style = \"text-align: left;\">NA</td><td style = \"text-align: left;\">NA</td><td style = \"text-align: left;\">NA</td><td style = \"text-align: left;\">NA</td><td style = \"text-align: left;\">NA</td><td style = \"text-align: left;\">NA</td><td style = \"text-align: left;\">0</td><td style = \"text-align: left;\">0</td><td style = \"text-align: left;\">0</td><td style = \"text-align: left;\">41</td><td style = \"text-align: left;\">0</td><td style = \"text-align: left;\">0</td><td style = \"text-align: left;\">27</td></tr><tr><td class = \"rowNumber\" style = \"font-weight: bold; text-align: right;\">3</td><td style = \"text-align: right;\">56.6717</td><td style = \"text-align: right;\">1</td><td style = \"text-align: right;\">35002914</td><td style = \"text-align: left;\">1</td><td style = \"text-align: left;\">1</td><td style = \"text-align: left;\">1</td><td style = \"text-align: left;\">0</td><td style = \"text-align: left;\">0</td><td style = \"text-align: left;\">0</td><td style = \"text-align: left;\">1</td><td style = \"text-align: left;\">0</td><td style = \"text-align: left;\">0</td><td style = \"text-align: left;\">48</td><td style = \"text-align: left;\">0</td><td style = \"text-align: left;\">1</td><td style = \"text-align: left;\">56</td></tr><tr><td class = \"rowNumber\" style = \"font-weight: bold; text-align: right;\">4</td><td style = \"text-align: right;\">29.0794</td><td style = \"text-align: right;\">0</td><td style = \"text-align: right;\">35908915</td><td style = \"text-align: left;\">1</td><td style = \"text-align: left;\">0</td><td style = \"text-align: left;\">0</td><td style = \"text-align: left;\">0</td><td style = \"text-align: left;\">0</td><td style = \"text-align: left;\">0</td><td style = \"text-align: left;\">0</td><td style = \"text-align: left;\">0</td><td style = \"text-align: left;\">0</td><td style = \"text-align: left;\">42</td><td style = \"text-align: left;\">0</td><td style = \"text-align: left;\">0</td><td style = \"text-align: left;\">27</td></tr><tr><td class = \"rowNumber\" style = \"font-weight: bold; text-align: right;\">5</td><td style = \"text-align: right;\">49.5635</td><td style = \"text-align: right;\">1</td><td style = \"text-align: right;\">33047324</td><td style = \"text-align: left;\">1</td><td style = \"text-align: left;\">0</td><td style = \"text-align: left;\">0</td><td style = \"text-align: left;\">0</td><td style = \"text-align: left;\">0</td><td style = \"text-align: left;\">1</td><td style = \"text-align: left;\">0</td><td style = \"text-align: left;\">1</td><td style = \"text-align: left;\">0</td><td style = \"text-align: left;\">50</td><td style = \"text-align: left;\">0</td><td style = \"text-align: left;\">1</td><td style = \"text-align: left;\">31</td></tr></tbody></table></div>"
      ],
      "text/latex": [
       "\\begin{tabular}{r|cccccc}\n",
       "\t& outcome.test.score & treatment & school & is.female & mother.attended.secondary.school & \\\\\n",
       "\t\\hline\n",
       "\t& Float64 & Int64 & Int64 & String3 & String3 & \\\\\n",
       "\t\\hline\n",
       "\t1 & 47.3674 & 0 & 17018390 & NA & NA & $\\dots$ \\\\\n",
       "\t2 & 58.1768 & 1 & 33002614 & NA & NA & $\\dots$ \\\\\n",
       "\t3 & 56.6717 & 1 & 35002914 & 1 & 1 & $\\dots$ \\\\\n",
       "\t4 & 29.0794 & 0 & 35908915 & 1 & 0 & $\\dots$ \\\\\n",
       "\t5 & 49.5635 & 1 & 33047324 & 1 & 0 & $\\dots$ \\\\\n",
       "\\end{tabular}\n"
      ],
      "text/plain": [
       "\u001b[1m5×16 DataFrame\u001b[0m\n",
       "\u001b[1m Row \u001b[0m│\u001b[1m outcome.test.score \u001b[0m\u001b[1m treatment \u001b[0m\u001b[1m school   \u001b[0m\u001b[1m is.female \u001b[0m\u001b[1m mother.attended.sec\u001b[0m ⋯\n",
       "     │\u001b[90m Float64            \u001b[0m\u001b[90m Int64     \u001b[0m\u001b[90m Int64    \u001b[0m\u001b[90m String3   \u001b[0m\u001b[90m String3            \u001b[0m ⋯\n",
       "─────┼──────────────────────────────────────────────────────────────────────────\n",
       "   1 │            47.3674          0  17018390  NA         NA                  ⋯\n",
       "   2 │            58.1768          1  33002614  NA         NA\n",
       "   3 │            56.6717          1  35002914  1          1\n",
       "   4 │            29.0794          0  35908915  1          0\n",
       "   5 │            49.5635          1  33047324  1          0                   ⋯\n",
       "\u001b[36m                                                              12 columns omitted\u001b[0m"
      ]
     },
     "execution_count": 4,
     "metadata": {},
     "output_type": "execute_result"
    }
   ],
   "source": [
    "first(df, 5)"
   ]
  },
  {
   "cell_type": "code",
   "execution_count": null,
   "metadata": {
    "vscode": {
     "languageId": "r"
    }
   },
   "outputs": [
    {
     "ename": "ERROR",
     "evalue": "Error in library(dplyr): there is no package called 'dplyr'\n",
     "output_type": "error",
     "traceback": [
      "Error in library(dplyr): there is no package called 'dplyr'\nTraceback:\n",
      "1. library(dplyr)"
     ]
    }
   ],
   "source": [
    "# Drop missing values\n",
    "df <- df %>% drop_na()\n",
    "df"
   ]
  },
  {
   "cell_type": "code",
   "execution_count": null,
   "metadata": {
    "vscode": {
     "languageId": "r"
    }
   },
   "outputs": [
    {
     "data": {
      "text/plain": [
       "0"
      ]
     },
     "execution_count": 23,
     "metadata": {},
     "output_type": "execute_result"
    }
   ],
   "source": [
    "missing_count = sum(ismissing, eachcol(df))"
   ]
  },
  {
   "cell_type": "code",
   "execution_count": null,
   "metadata": {
    "vscode": {
     "languageId": "r"
    }
   },
   "outputs": [
    {
     "name": "stdout",
     "output_type": "stream",
     "text": [
      "[\"outcome.test.score\", \"treatment\", \"school\", \"is.female\", \"mother.attended.secondary.school\", \"father.attened.secondary.school\", \"failed.at.least.one.school.year\", \"family.receives.cash.transfer\", \"has.computer.with.internet.at.home\", \"is.unemployed\", \"has.some.form.of.income\", \"saves.money.for.future.purchases\", \"intention.to.save.index\", \"makes.list.of.expenses.every.month\", \"negotiates.prices.or.payment.methods\", \"financial.autonomy.index\"]\n"
     ]
    }
   ],
   "source": [
    "# Define the vector of dependent variable names\n",
    "dependent_vars <- c(\"outcome.test.score\", \"intention.to.save.index\", \"negotiates.prices.or.payment.methods\", \"has.some.form.of.income\", \"makes.list.of.expenses.every.month\", \"financial.autonomy.index\", \"saves.money.for.future.purchases\", \"is.unemployed\")\n"
   ]
  },
  {
   "cell_type": "code",
   "execution_count": null,
   "metadata": {
    "vscode": {
     "languageId": "r"
    }
   },
   "outputs": [
    {
     "data": {
      "text/plain": [
       "8-element Vector{String}:\n",
       " \"outcome.test.score\"\n",
       " \"intention.to.save.index\"\n",
       " \"negotiates.prices.or.payment.methods\"\n",
       " \"has.some.form.of.income\"\n",
       " \"makes.list.of.expenses.every.month\"\n",
       " \"financial.autonomy.index\"\n",
       " \"saves.money.for.future.purchases\"\n",
       " \"is.unemployed\""
      ]
     },
     "execution_count": 7,
     "metadata": {},
     "output_type": "execute_result"
    }
   ],
   "source": [
    "# Define an array of dependent variable names\n",
    "ddependent_vars <- c(\"outcome.test.score\", \n",
    "                    \"intention.to.save.index\", \n",
    "                    \"negotiates.prices.or.payment.methods\", \n",
    "                    \"has.some.form.of.income\", \n",
    "                    \"makes.list.of.expenses.every.month\", \n",
    "                    \"financial.autonomy.index\", \n",
    "                    \"saves.money.for.future.purchases\", \n",
    "                    \"is.unemployed\")\n"
   ]
  },
  {
   "cell_type": "markdown",
   "metadata": {},
   "source": [
    "For Lasso regressions, we split the data into train and test data, and standarize the covariates matrix"
   ]
  },
  {
   "cell_type": "code",
   "execution_count": null,
   "metadata": {
    "vscode": {
     "languageId": "r"
    }
   },
   "outputs": [],
   "source": [
    "X <- df[, !(names(df) %in% dependent_vars)]\n",
    "y <- df[, (names(df) %in% dependent_vars)]"
   ]
  },
  {
   "cell_type": "code",
   "execution_count": null,
   "metadata": {
    "vscode": {
     "languageId": "r"
    }
   },
   "outputs": [],
   "source": [
    "set.seed(42)\n",
    "# Split the data into training and testing sets\n",
    "trainIndex <- createDataPartition(y[,1], p = 0.8, list = FALSE)\n",
    "X_train <- X[trainIndex, ]\n",
    "X_test <- X[-trainIndex, ]\n",
    "y_train <- y[trainIndex, ]\n",
    "y_test <- y[-trainIndex, ]\n",
    "\n",
    "# Extract 'treatment' and remove it from 'X_train' and 'X_test'\n",
    "T_train <- X_train$treatment\n",
    "T_test <- X_test$treatment\n",
    "\n",
    "X_train <- X_train[, !names(X_train) %in% \"treatment\"]\n",
    "X_test <- X_test[, !names(X_test) %in% \"treatment\"]"
   ]
  },
  {
   "cell_type": "code",
   "execution_count": null,
   "metadata": {
    "vscode": {
     "languageId": "r"
    }
   },
   "outputs": [],
   "source": [
    "# Standardize the covariates matrix\n",
    "\n",
    "scale <- preProcess(X_train, method = c(\"center\", \"scale\"))\n",
    "X_train_scaled <- predict(scale, X_train)\n",
    "X_test_scaled <- predict(scale, X_test)"
   ]
  },
  {
   "cell_type": "code",
   "execution_count": null,
   "metadata": {
    "vscode": {
     "languageId": "r"
    }
   },
   "outputs": [],
   "source": [
    "# Combine the scaled training and testing data\n",
    "X_scaled <- rbind(X_train_scaled, X_test_scaled) %>%\n",
    "  arrange(rownames(.))\n",
    "\n",
    "# Combine the treatment training and testing data\n",
    "T <- rbind(T_train, T_test) %>%\n",
    "  arrange(rownames(.))"
   ]
  },
  {
   "cell_type": "markdown",
   "metadata": {},
   "source": [
    "#### 2.2.2. Regressions"
   ]
  },
  {
   "cell_type": "markdown",
   "metadata": {},
   "source": [
    "##### a. OLS"
   ]
  },
  {
   "cell_type": "markdown",
   "metadata": {},
   "source": [
    "From 1 - 3 regression: measures treatment impact on **student financial proficiency**\n",
    "\n",
    "From 4 - 6 regression: measures treatment impact on **student savings behavior and attitudes**\n",
    "\n",
    "From 7 - 9 regression: measures treatment impact on **student money management behavior and attitudes**\n",
    "\n",
    "From 10 - 12 regression: measures treatment impact on **student entrepreneurship and work outcomes**"
   ]
  },
  {
   "cell_type": "code",
   "execution_count": null,
   "metadata": {
    "vscode": {
     "languageId": "r"
    }
   },
   "outputs": [
    {
     "name": "stdout",
     "output_type": "stream",
     "text": [
      "Intel MKL WARNING: Support of Intel(R) Streaming SIMD Extensions 4.2 (Intel(R) SSE4.2) enabled only processors has been deprecated. Intel oneAPI Math Kernel Library 2025.0 will require Intel(R) Advanced Vector Extensions (Intel(R) AVX) instructions.\n",
      "Intel MKL WARNING: Support of Intel(R) Streaming SIMD Extensions 4.2 (Intel(R) SSE4.2) enabled only processors has been deprecated. Intel oneAPI Math Kernel Library 2025.0 will require Intel(R) Advanced Vector Extensions (Intel(R) AVX) instructions.\n",
      "Intel MKL WARNING: Support of Intel(R) Streaming SIMD Extensions 4.2 (Intel(R) SSE4.2) enabled only processors has been deprecated. Intel oneAPI Math Kernel Library 2025.0 will require Intel(R) Advanced Vector Extensions (Intel(R) AVX) instructions.\n",
      "Intel MKL WARNING: Support of Intel(R) Streaming SIMD Extensions 4.2 (Intel(R) SSE4.2) enabled only processors has been deprecated. Intel oneAPI Math Kernel Library 2025.0 will require Intel(R) Advanced Vector Extensions (Intel(R) AVX) instructions.\n",
      "Intel MKL WARNING: Support of Intel(R) Streaming SIMD Extensions 4.2 (Intel(R) SSE4.2) enabled only processors has been deprecated. Intel oneAPI Math Kernel Library 2025.0 will require Intel(R) Advanced Vector Extensions (Intel(R) AVX) instructions.\n",
      "Intel MKL WARNING: Support of Intel(R) Streaming SIMD Extensions 4.2 (Intel(R) SSE4.2) enabled only processors has been deprecated. Intel oneAPI Math Kernel Library 2025.0 will require Intel(R) Advanced Vector Extensions (Intel(R) AVX) instructions.\n",
      "Intel MKL WARNING: Support of Intel(R) Streaming SIMD Extensions 4.2 (Intel(R) SSE4.2) enabled only processors has been deprecated. Intel oneAPI Math Kernel Library 2025.0 will require Intel(R) Advanced Vector Extensions (Intel(R) AVX) instructions.\n",
      "Intel MKL WARNING: Support of Intel(R) Streaming SIMD Extensions 4.2 (Intel(R) SSE4.2) enabled only processors has been deprecated. Intel oneAPI Math Kernel Library 2025.0 will require Intel(R) Advanced Vector Extensions (Intel(R) AVX) instructions.\n",
      "Intel MKL WARNING: Support of Intel(R) Streaming SIMD Extensions 4.2 (Intel(R) SSE4.2) enabled only processors has been deprecated. Intel oneAPI Math Kernel Library 2025.0 will require Intel(R) Advanced Vector Extensions (Intel(R) AVX) instructions.\n",
      "Intel MKL WARNING: Support of Intel(R) Streaming SIMD Extensions 4.2 (Intel(R) SSE4.2) enabled only processors has been deprecated. Intel oneAPI Math Kernel Library 2025.0 will require Intel(R) Advanced Vector Extensions (Intel(R) AVX) instructions.\n",
      "Intel MKL WARNING: Support of Intel(R) Streaming SIMD Extensions 4.2 (Intel(R) SSE4.2) enabled only processors has been deprecated. Intel oneAPI Math Kernel Library 2025.0 will require Intel(R) Advanced Vector Extensions (Intel(R) AVX) instructions.\n",
      "Intel MKL WARNING: Support of Intel(R) Streaming SIMD Extensions 4.2 (Intel(R) SSE4.2) enabled only processors has been deprecated. Intel oneAPI Math Kernel Library 2025.0 will require Intel(R) Advanced Vector Extensions (Intel(R) AVX) instructions.\n"
     ]
    },
    {
     "data": {
      "text/html": [
       "<table style=\"text-align:center\"><tr><td colspan=\"13\" style=\"border-bottom: 1px solid black\"></td></tr>\n",
       "<tr><td style=\"text-align:left\"></td><tr><td></td><td colspan=\"3\">Dependent var 1: Student Financial Proficiency</td><td colspan=\"3\">Dependent var 2: Intention to save index</td><td colspan=\"3\">Dependent var 3: Negotiates prices or payment methods</td><td colspan=\"3\">Dependent var 4: Has some form of income</td></tr><tr><td style=\"text-align:left\"></td><td>(1)</td><td>(2)</td><td>(3)</td><td>(4)</td><td>(5)</td><td>(6)</td><td>(7)</td><td>(8)</td><td>(9)</td><td>(10)</td><td>(11)</td><td>(12)</td></tr>\n",
       "<tr><td colspan=\"13\" style=\"border-bottom: 1px solid black\"></td></tr>\n",
       "\n",
       "<tr><td style=\"text-align:left\">Intercept</td><td>57.591<sup>***</sup></td><td>59.377<sup>***</sup></td><td>57.013<sup>***</sup></td><td>49.016<sup>***</sup></td><td>46.725<sup>***</sup></td><td>45.407<sup>***</sup></td><td>0.763<sup>***</sup></td><td>0.856<sup>***</sup></td><td>0.901<sup>***</sup></td><td>0.639<sup>***</sup></td><td>0.534<sup>***</sup></td><td>0.553<sup>***</sup></td></tr>\n",
       "<tr><td style=\"text-align:left\"></td><td>(0.187)</td><td>(0.556)</td><td>(0.583)</td><td>(0.240)</td><td>(0.728)</td><td>(0.767)</td><td>(0.006)</td><td>(0.017)</td><td>(0.018)</td><td>(0.006)</td><td>(0.019)</td><td>(0.020)</td></tr>\n",
       "<tr><td style=\"text-align:left\">Failed at least one school year</td><td></td><td>-7.218<sup>***</sup></td><td>-6.759<sup>***</sup></td><td></td><td>-3.614<sup>***</sup></td><td>-3.354<sup>***</sup></td><td></td><td>0.024<sup>***</sup></td><td>0.016<sup>*</sup></td><td></td><td>0.005<sup></sup></td><td>0.002<sup></sup></td></tr>\n",
       "<tr><td style=\"text-align:left\"></td><td></td><td>(0.288)</td><td>(0.289)</td><td></td><td>(0.377)</td><td>(0.380)</td><td></td><td>(0.009)</td><td>(0.009)</td><td></td><td>(0.010)</td><td>(0.010)</td></tr>\n",
       "<tr><td style=\"text-align:left\">Female</td><td></td><td></td><td>2.836<sup>***</sup></td><td></td><td></td><td>1.357<sup>***</sup></td><td></td><td></td><td>-0.066<sup>***</sup></td><td></td><td></td><td>-0.054<sup>***</sup></td></tr>\n",
       "<tr><td style=\"text-align:left\"></td><td></td><td></td><td>(0.257)</td><td></td><td></td><td>(0.339)</td><td></td><td></td><td>(0.008)</td><td></td><td></td><td>(0.009)</td></tr>\n",
       "<tr><td style=\"text-align:left\">Q(\"mother.attended.secondary.school\")</td><td></td><td></td><td>1.826<sup>***</sup></td><td></td><td></td><td>1.380<sup>***</sup></td><td></td><td></td><td>-0.016<sup>**</sup></td><td></td><td></td><td>0.036<sup>***</sup></td></tr>\n",
       "<tr><td style=\"text-align:left\"></td><td></td><td></td><td>(0.257)</td><td></td><td></td><td>(0.338)</td><td></td><td></td><td>(0.008)</td><td></td><td></td><td>(0.009)</td></tr>\n",
       "<tr><td style=\"text-align:left\">school</td><td></td><td>0.000<sup></sup></td><td>-0.000<sup></sup></td><td></td><td>0.000<sup>***</sup></td><td>0.000<sup>***</sup></td><td></td><td>-0.000<sup>***</sup></td><td>-0.000<sup>***</sup></td><td></td><td>0.000<sup>***</sup></td><td>0.000<sup>***</sup></td></tr>\n",
       "<tr><td style=\"text-align:left\"></td><td></td><td>(0.000)</td><td>(0.000)</td><td></td><td>(0.000)</td><td>(0.000)</td><td></td><td>(0.000)</td><td>(0.000)</td><td></td><td>(0.000)</td><td>(0.000)</td></tr>\n",
       "<tr><td style=\"text-align:left\">treatment</td><td>4.216<sup>***</sup></td><td>4.392<sup>***</sup></td><td>4.307<sup>***</sup></td><td>-0.070<sup></sup></td><td>-0.005<sup></sup></td><td>-0.047<sup></sup></td><td>0.001<sup></sup></td><td>0.001<sup></sup></td><td>0.003<sup></sup></td><td>0.017<sup>**</sup></td><td>0.016<sup>*</sup></td><td>0.018<sup>**</sup></td></tr>\n",
       "<tr><td style=\"text-align:left\"></td><td>(0.261)</td><td>(0.255)</td><td>(0.253)</td><td>(0.335)</td><td>(0.334)</td><td>(0.333)</td><td>(0.008)</td><td>(0.008)</td><td>(0.008)</td><td>(0.009)</td><td>(0.009)</td><td>(0.009)</td></tr>\n",
       "\n",
       "<td colspan=\"13\" style=\"border-bottom: 1px solid black\"></td></tr>\n",
       "<tr><td style=\"text-align: left\">Observations</td><td>12222</td><td>12222</td><td>12222</td><td>12222</td><td>12222</td><td>12222</td><td>12222</td><td>12222</td><td>12222</td><td>12222</td><td>12222</td><td>12222</td></tr><tr><td style=\"text-align: left\">R<sup>2</sup></td><td>0.021</td><td>0.069</td><td>0.081</td><td>0.000</td><td>0.009</td><td>0.012</td><td>0.000</td><td>0.004</td><td>0.010</td><td>0.000</td><td>0.003</td><td>0.008</td></tr><tr><td style=\"text-align: left\">Adjusted R<sup>2</sup></td><td>0.021</td><td>0.068</td><td>0.080</td><td>-0.000</td><td>0.009</td><td>0.011</td><td>-0.000</td><td>0.004</td><td>0.010</td><td>0.000</td><td>0.003</td><td>0.008</td></tr><tr><td style=\"text-align: left\">Residual Std. Error</td><td>14.432 (df=12220)</td><td>14.076 (df=12218)</td><td>13.986 (df=12216)</td><td>18.506 (df=12220)</td><td>18.421 (df=12218)</td><td>18.400 (df=12216)</td><td>0.425 (df=12220)</td><td>0.424 (df=12218)</td><td>0.423 (df=12216)</td><td>0.478 (df=12220)</td><td>0.477 (df=12218)</td><td>0.476 (df=12216)</td></tr><tr><td style=\"text-align: left\">F Statistic</td><td>260.547<sup>***</sup> (df=1; 12220)</td><td>300.463<sup>***</sup> (df=3; 12218)</td><td>214.786<sup>***</sup> (df=5; 12216)</td><td>0.043<sup></sup> (df=1; 12220)</td><td>38.533<sup>***</sup> (df=3; 12218)</td><td>29.248<sup>***</sup> (df=5; 12216)</td><td>0.018<sup></sup> (df=1; 12220)</td><td>16.352<sup>***</sup> (df=3; 12218)</td><td>24.653<sup>***</sup> (df=5; 12216)</td><td>3.843<sup>**</sup> (df=1; 12220)</td><td>12.839<sup>***</sup> (df=3; 12218)</td><td>19.652<sup>***</sup> (df=5; 12216)</td></tr>\n",
       "<tr><td colspan=\"13\" style=\"border-bottom: 1px solid black\"></td></tr><tr><td style=\"text-align: left\">Note:</td><td colspan=\"12\" style=\"text-align: right\"><sup>*</sup>p&lt;0.1; <sup>**</sup>p&lt;0.05; <sup>***</sup>p&lt;0.01</td></tr></table>"
      ],
      "text/plain": [
       "<stargazer.stargazer.Stargazer at 0x7fef97da8f70>"
      ]
     },
     "metadata": {},
     "output_type": "display_data"
    }
   ],
   "source": [
    "# OLS regressions with \"Student Financial Proficiency\" as dependent variable\n",
    "ols_score_1 <- lm(outcome.test.score ~ treatment, data = df)\n",
    "ols_score_2 <- lm(outcome.test.score ~ treatment + school + failed.at.least.one.school.year, data = df)\n",
    "ols_score_3 <- lm(outcome.test.score ~ treatment + school + failed.at.least.one.school.year + is.female + mother.attended.secondary.school + father.attended.secondary.school + family.receives.cash.transfer + has.computer.with.internet.at.home, data = df)\n",
    "\n",
    "# OLS regressions with \"Intention to save index\" as dependent variable\n",
    "ols_saving_1 <- lm(intention.to.save.index ~ treatment, data = df)\n",
    "ols_saving_2 <- lm(intention.to.save.index ~ treatment + school + failed.at.least.one.school.year, data = df)\n",
    "ols_saving_3 <- lm(intention.to.save.index ~ treatment + school + failed.at.least.one.school.year + is.female + mother.attended.secondary.school + father.attended.secondary.school + family.receives.cash.transfer + has.computer.with.internet.at.home, data = df)\n",
    "\n",
    "# OLS regressions with \"Negotiates prices or payment methods\" as dependent variable\n",
    "ols_negotiates_1 <- lm(negotiates.prices.or.payment.methods ~ treatment, data = df)\n",
    "ols_negotiates_2 <- lm(negotiates.prices.or.payment.methods ~ treatment + school + failed.at.least.one.school.year, data = df)\n",
    "ols_negotiates_3 <- lm(negotiates.prices.or.payment.methods ~ treatment + school + failed.at.least.one.school.year + is.female + mother.attended.secondary.school + father.attended.secondary.school + family.receives.cash.transfer + has.computer.with.internet.at.home, data = df)\n",
    "\n",
    "# OLS regressions with \"Has some form of income\" as dependent variable\n",
    "ols_manage_1 <- lm(has.some.form.of.income ~ treatment, data = df)\n",
    "ols_manage_2 <- lm(has.some.form.of.income ~ treatment + school + failed.at.least.one.school.year, data = df)\n",
    "ols_manage_3 <- lm(has.some.form.of.income ~ treatment + school + failed.at.least.one.school.year + is.female + mother.attended.secondary.school + father.attended.secondary.school + family.receives.cash.transfer + has.computer.with.internet.at.home, data = df)\n",
    "\n",
    "# Show parameters in table using stargazer\n",
    "stargazer(ols_score_1, ols_score_2, ols_score_3, ols_saving_1, ols_saving_2, ols_saving_3, ols_negotiates_1, ols_negotiates_2, ols_negotiates_3, ols_manage_1, ols_manage_2, ols_manage_3, type = \"text\", \n",
    "          title = \"Regression Results\", \n",
    "          column.labels = c(\"Student Financial Proficiency\", \"Intention to save index\", \"Negotiates prices or payment methods\", \"Has some form of income\"),\n",
    "          covariate.labels = c(\"Failed at least one school year\", \"Female\", \"Father attended secondary school\", \"Family receives cash transfer\", \"Has computer with internet at home\"))\n"
   ]
  },
  {
   "cell_type": "markdown",
   "metadata": {},
   "source": [
    "##### b. Double Lasso using cross validation"
   ]
  },
  {
   "cell_type": "markdown",
   "metadata": {},
   "source": [
    "Dependent var 1: Student Financial Proficiency"
   ]
  },
  {
   "cell_type": "markdown",
   "metadata": {},
   "source": [
    "Step 1: We ran Lasso regression of Y (student financial proficiency) on X, and T on X"
   ]
  },
  {
   "cell_type": "code",
   "execution_count": null,
   "metadata": {
    "vscode": {
     "languageId": "r"
    }
   },
   "outputs": [],
   "source": [
    "#we need matix structure\n",
    "X_matrix <- as.matrix(X_scaled)\n",
    "y_vector <- y_train$outcome.test.score\n",
    "T_vector <- as.numeric(T_train)\n",
    "\n",
    "# Lasso regression of Y on X with cross-validation\n",
    "lasso_CV_yX <- cv.glmnet(X_matrix, y_vector, alpha = 1, lambda = seq(0.0001, 0.5, by = 0.001), nfolds = 10, maxit = 5000)\n",
    "best_lambda_yX <- lasso_CV_yX$lambda.min\n",
    "print(sprintf(\"Best lambda for Y on X: %.4f\", best_lambda_yX))"
   ]
  },
  {
   "cell_type": "code",
   "execution_count": null,
   "metadata": {
    "vscode": {
     "languageId": "r"
    }
   },
   "outputs": [
    {
     "ename": "NameError",
     "evalue": "name 'lasso_CV_yX' is not defined",
     "output_type": "error",
     "traceback": [
      "\u001b[1;31m---------------------------------------------------------------------------\u001b[0m",
      "\u001b[1;31mNameError\u001b[0m                                 Traceback (most recent call last)",
      "Cell \u001b[1;32mIn[4], line 2\u001b[0m\n\u001b[0;32m      1\u001b[0m \u001b[38;5;66;03m# Estimate y predictions with all X\u001b[39;00m\n\u001b[1;32m----> 2\u001b[0m y_pred_yX \u001b[38;5;241m=\u001b[39m lasso_CV_yX\u001b[38;5;241m.\u001b[39mpredict(X_scaled)\n",
      "\u001b[1;31mNameError\u001b[0m: name 'lasso_CV_yX' is not defined"
     ]
    }
   ],
   "source": [
    "# Estimate Y predictions with all X\n",
    "y_pred_yX <- predict(lasso_CV_yX, s = best_lambda_yX, newx = as.matrix(X_scaled))"
   ]
  },
  {
   "cell_type": "code",
   "execution_count": null,
   "metadata": {
    "vscode": {
     "languageId": "r"
    }
   },
   "outputs": [
    {
     "name": "stdout",
     "output_type": "stream",
     "text": [
      "Intel MKL WARNING: Support of Intel(R) Streaming SIMD Extensions 4.2 (Intel(R) SSE4.2) enabled only processors has been deprecated. Intel oneAPI Math Kernel Library 2025.0 will require Intel(R) Advanced Vector Extensions (Intel(R) AVX) instructions.\n",
      "Intel MKL WARNING: Support of Intel(R) Streaming SIMD Extensions 4.2 (Intel(R) SSE4.2) enabled only processors has been deprecated. Intel oneAPI Math Kernel Library 2025.0 will require Intel(R) Advanced Vector Extensions (Intel(R) AVX) instructions.\n",
      "Intel MKL WARNING: Support of Intel(R) Streaming SIMD Extensions 4.2 (Intel(R) SSE4.2) enabled only processors has been deprecated. Intel oneAPI Math Kernel Library 2025.0 will require Intel(R) Advanced Vector Extensions (Intel(R) AVX) instructions.\n",
      "Intel MKL WARNING: Support of Intel(R) Streaming SIMD Extensions 4.2 (Intel(R) SSE4.2) enabled only processors has been deprecated. Intel oneAPI Math Kernel Library 2025.0 will require Intel(R) Advanced Vector Extensions (Intel(R) AVX) instructions.\n",
      "Intel MKL WARNING: Support of Intel(R) Streaming SIMD Extensions 4.2 (Intel(R) SSE4.2) enabled only processors has been deprecated. Intel oneAPI Math Kernel Library 2025.0 will require Intel(R) Advanced Vector Extensions (Intel(R) AVX) instructions.\n",
      "Intel MKL WARNING: Support of Intel(R) Streaming SIMD Extensions 4.2 (Intel(R) SSE4.2) enabled only processors has been deprecated. Intel oneAPI Math Kernel Library 2025.0 will require Intel(R) Advanced Vector Extensions (Intel(R) AVX) instructions.\n",
      "Intel MKL WARNING: Support of Intel(R) Streaming SIMD Extensions 4.2 (Intel(R) SSE4.2) enabled only processors has been deprecated. Intel oneAPI Math Kernel Library 2025.0 will require Intel(R) Advanced Vector Extensions (Intel(R) AVX) instructions.\n",
      "Intel MKL WARNING: Support of Intel(R) Streaming SIMD Extensions 4.2 (Intel(R) SSE4.2) enabled only processors has been deprecated. Intel oneAPI Math Kernel Library 2025.0 will require Intel(R) Advanced Vector Extensions (Intel(R) AVX) instructions.\n",
      "Intel MKL WARNING: Support of Intel(R) Streaming SIMD Extensions 4.2 (Intel(R) SSE4.2) enabled only processors has been deprecated. Intel oneAPI Math Kernel Library 2025.0 will require Intel(R) Advanced Vector Extensions (Intel(R) AVX) instructions.\n",
      "Intel MKL WARNING: Support of Intel(R) Streaming SIMD Extensions 4.2 (Intel(R) SSE4.2) enabled only processors has been deprecated. Intel oneAPI Math Kernel Library 2025.0 will require Intel(R) Advanced Vector Extensions (Intel(R) AVX) instructions.\n",
      "Mejor lambda: 0.0011\n"
     ]
    }
   ],
   "source": [
    "lasso_CV_TX <- cv.glmnet(X_matrix, T_vector, alpha = 1, lambda = seq(0.0001, 0.5, by = 0.001), nfolds = 10, maxit = 5000)\n",
    "best_lambda_TX <- lasso_CV_TX$lambda.min\n",
    "print(sprintf(\"Best lambda for T on X: %.4f\", best_lambda_TX))"
   ]
  },
  {
   "cell_type": "code",
   "execution_count": null,
   "metadata": {
    "vscode": {
     "languageId": "r"
    }
   },
   "outputs": [],
   "source": [
    "# Estimate T predictions with all X\n",
    "y_pred_TX <- predict(lasso_CV_TX, s = best_lambda_TX, newx = as.matrix(X_scaled))"
   ]
  },
  {
   "cell_type": "markdown",
   "metadata": {},
   "source": [
    "Step 2: Obtain the resulting residuals"
   ]
  },
  {
   "cell_type": "code",
   "execution_count": null,
   "metadata": {
    "vscode": {
     "languageId": "r"
    }
   },
   "outputs": [],
   "source": [
    "#y_pred_yX <- as.numeric(y_pred_yX)\n",
    "#y_pred_TX <- as.numeric(y_pred_TX)\n",
    "\n",
    "res_yX <- y$outcome.test.score - y_pred_yX\n",
    "res_TX <- T - y_pred_TX"
   ]
  },
  {
   "cell_type": "markdown",
   "metadata": {},
   "source": [
    "Step 3: We run the least squares of res_yX on res_TX"
   ]
  },
  {
   "cell_type": "code",
   "execution_count": null,
   "metadata": {
    "vscode": {
     "languageId": "r"
    }
   },
   "outputs": [
    {
     "name": "stdout",
     "output_type": "stream",
     "text": [
      "Intel MKL WARNING: Support of Intel(R) Streaming SIMD Extensions 4.2 (Intel(R) SSE4.2) enabled only processors has been deprecated. Intel oneAPI Math Kernel Library 2025.0 will require Intel(R) Advanced Vector Extensions (Intel(R) AVX) instructions.\n"
     ]
    },
    {
     "data": {
      "text/html": [
       "<table style=\"text-align:center\"><tr><td colspan=\"2\" style=\"border-bottom: 1px solid black\"></td></tr>\n",
       "<tr><td style=\"text-align:left\"></td><td colspan=\"1\"><em>Dependent variable: res_yX</em></td></tr><tr><td style=\"text-align:left\"></td><tr><td style=\"text-align:left\"></td><td>(1)</td></tr>\n",
       "<tr><td colspan=\"2\" style=\"border-bottom: 1px solid black\"></td></tr>\n",
       "\n",
       "<tr><td style=\"text-align:left\">Intercept</td><td>0.033<sup></sup></td></tr>\n",
       "<tr><td style=\"text-align:left\"></td><td>(0.126)</td></tr>\n",
       "<tr><td style=\"text-align:left\">res_TX</td><td>4.324<sup>***</sup></td></tr>\n",
       "<tr><td style=\"text-align:left\"></td><td>(0.253)</td></tr>\n",
       "\n",
       "<td colspan=\"2\" style=\"border-bottom: 1px solid black\"></td></tr>\n",
       "<tr><td style=\"text-align: left\">Observations</td><td>12222</td></tr><tr><td style=\"text-align: left\">R<sup>2</sup></td><td>0.023</td></tr><tr><td style=\"text-align: left\">Adjusted R<sup>2</sup></td><td>0.023</td></tr><tr><td style=\"text-align: left\">Residual Std. Error</td><td>13.945 (df=12220)</td></tr><tr><td style=\"text-align: left\">F Statistic</td><td>292.956<sup>***</sup> (df=1; 12220)</td></tr>\n",
       "<tr><td colspan=\"2\" style=\"border-bottom: 1px solid black\"></td></tr><tr><td style=\"text-align: left\">Note:</td><td colspan=\"1\" style=\"text-align: right\"><sup>*</sup>p&lt;0.1; <sup>**</sup>p&lt;0.05; <sup>***</sup>p&lt;0.01</td></tr></table>"
      ],
      "text/plain": [
       "<stargazer.stargazer.Stargazer at 0x7fefa65f59a0>"
      ]
     },
     "metadata": {},
     "output_type": "display_data"
    }
   ],
   "source": [
    "# Create a data frame for the residuals\n",
    "residuals_data <- data.frame(res_yX = res_yX, res_TX = res_TX)\n",
    "\n",
    "\n",
    "ols_score <- lm(res_yX ~ res_TX, data = residuals_data)\n",
    "\n",
    "stargazer(ols_score, type = \"text\", title = \"OLS Regression of Residuals\")"
   ]
  },
  {
   "cell_type": "markdown",
   "metadata": {},
   "source": [
    "##### c. Double Lasso using theoretical lambda"
   ]
  },
  {
   "cell_type": "code",
   "execution_count": null,
   "metadata": {
    "vscode": {
     "languageId": "r"
    }
   },
   "outputs": [],
   "source": []
  },
  {
   "cell_type": "markdown",
   "metadata": {},
   "source": [
    "##### d. Double Lasso using partialling out method"
   ]
  },
  {
   "cell_type": "code",
   "execution_count": null,
   "metadata": {
    "vscode": {
     "languageId": "r"
    }
   },
   "outputs": [],
   "source": []
  },
  {
   "cell_type": "markdown",
   "metadata": {},
   "source": [
    "#### Results"
   ]
  },
  {
   "cell_type": "markdown",
   "metadata": {},
   "source": [
    "We know that p/n is small (8/12222 = 0.00065455735)"
   ]
  }
 ],
 "metadata": {
  "kernelspec": {
   "display_name": "R",
   "language": "R",
   "name": "ir"
  },
  "language_info": {
   "codemirror_mode": "r",
   "file_extension": ".r",
   "mimetype": "text/x-r-source",
   "name": "R",
   "pygments_lexer": "r",
   "version": "3.6.1"
  }
 },
 "nbformat": 4,
 "nbformat_minor": 2
}
