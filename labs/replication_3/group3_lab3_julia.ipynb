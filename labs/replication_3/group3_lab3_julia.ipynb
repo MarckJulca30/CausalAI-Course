{
 "cells": [
  {
   "cell_type": "markdown",
   "metadata": {},
   "source": [
    "# Workgroup 3\n",
    "\n",
    "**Group 3**: Valerie Dube, Erzo Garay, Juan Marcos Guerrero y Matías Villalba,"
   ]
  },
  {
   "cell_type": "markdown",
   "metadata": {},
   "source": [
    "## 1. Neyman Orthogonality Proof"
   ]
  },
  {
   "cell_type": "markdown",
   "metadata": {},
   "source": [
    "## 2. Code Section"
   ]
  },
  {
   "cell_type": "markdown",
   "metadata": {},
   "source": [
    "### 2.2. Double Lasso - Using School data"
   ]
  },
  {
   "cell_type": "code",
   "execution_count": 4,
   "metadata": {},
   "outputs": [
    {
     "name": "stderr",
     "output_type": "stream",
     "text": [
      "\u001b[32m\u001b[1m    Updating\u001b[22m\u001b[39m registry at `C:\\Users\\juanl\\.julia\\registries\\General.toml`\n",
      "\u001b[32m\u001b[1m   Resolving\u001b[22m\u001b[39m package versions...\n",
      "\u001b[32m\u001b[1m   Installed\u001b[22m\u001b[39m WorkerUtilities ─ v1.6.1\n",
      "\u001b[32m\u001b[1m   Installed\u001b[22m\u001b[39m CSV ───────────── v0.10.14\n",
      "\u001b[32m\u001b[1m    Updating\u001b[22m\u001b[39m `C:\\Users\\juanl\\.julia\\environments\\v1.10\\Project.toml`\n",
      "  \u001b[90m[336ed68f] \u001b[39m\u001b[92m+ CSV v0.10.14\u001b[39m\n",
      "\u001b[32m\u001b[1m    Updating\u001b[22m\u001b[39m `C:\\Users\\juanl\\.julia\\environments\\v1.10\\Manifest.toml`\n",
      "  \u001b[90m[336ed68f] \u001b[39m\u001b[92m+ CSV v0.10.14\u001b[39m\n",
      "  \u001b[90m[76eceee3] \u001b[39m\u001b[92m+ WorkerUtilities v1.6.1\u001b[39m\n",
      "\u001b[32m\u001b[1mPrecompiling\u001b[22m\u001b[39m project...\n",
      "\u001b[32m  ✓ \u001b[39m\u001b[90mUnPack\u001b[39m\n",
      "\u001b[32m  ✓ \u001b[39m\u001b[90mWorkerUtilities\u001b[39m\n",
      "\u001b[32m  ✓ \u001b[39m\u001b[90mBufferedStreams\u001b[39m\n",
      "\u001b[32m  ✓ \u001b[39m\u001b[90mStructTypes\u001b[39m\n",
      "\u001b[32m  ✓ \u001b[39m\u001b[90mNodeJS\u001b[39m\n",
      "\u001b[32m  ✓ \u001b[39m\u001b[90mFillArrays\u001b[39m\n",
      "\u001b[32m  ✓ \u001b[39m\u001b[90mGenericLinearAlgebra\u001b[39m\n",
      "\u001b[32m  ✓ \u001b[39m\u001b[90mURIParser\u001b[39m\n",
      "\u001b[32m  ✓ \u001b[39m\u001b[90mAliasTables\u001b[39m\n",
      "\u001b[32m  ✓ \u001b[39m\u001b[90mNullables\u001b[39m\n",
      "\u001b[32m  ✓ \u001b[39m\u001b[90mStaticArraysCore\u001b[39m\n",
      "\u001b[32m  ✓ \u001b[39m\u001b[90mMissings\u001b[39m\n",
      "\u001b[32m  ✓ \u001b[39m\u001b[90mReadOnlyArrays\u001b[39m\n",
      "\u001b[32m  ✓ \u001b[39m\u001b[90mProtoBuf\u001b[39m\n",
      "\u001b[32m  ✓ \u001b[39m\u001b[90mConstructionBase\u001b[39m\n",
      "\u001b[32m  ✓ \u001b[39m\u001b[90mZipFile\u001b[39m\n",
      "\u001b[32m  ✓ \u001b[39m\u001b[90mDataValues\u001b[39m\n",
      "\u001b[32m  ✓ \u001b[39m\u001b[90mQuadmath\u001b[39m\n",
      "\u001b[32m  ✓ \u001b[39m\u001b[90mLatexify\u001b[39m\n",
      "\u001b[91m  ✗ \u001b[39m\u001b[90mBinaryProvider\u001b[39m\n",
      "\u001b[32m  ✓ \u001b[39m\u001b[90mDataStructures\u001b[39m\n",
      "\u001b[32m  ✓ \u001b[39m\u001b[90mParameters\u001b[39m\n",
      "\u001b[32m  ✓ \u001b[39m\u001b[90mNodeJS_18_jll\u001b[39m\n",
      "\u001b[32m  ✓ \u001b[39m\u001b[90mReadStat_jll\u001b[39m\n",
      "\u001b[32m  ✓ \u001b[39m\u001b[90mElectron\u001b[39m\n",
      "\u001b[32m  ✓ \u001b[39m\u001b[90mWeakRefStrings\u001b[39m\n",
      "\u001b[32m  ✓ \u001b[39m\u001b[90mEzXML\u001b[39m\n",
      "\u001b[32m  ✓ \u001b[39m\u001b[90mFileIO\u001b[39m\n",
      "\u001b[32m  ✓ \u001b[39m\u001b[90mOpenSSL\u001b[39m\n",
      "\u001b[91m  ✗ \u001b[39m\u001b[90mPyCall\u001b[39m\n",
      "\u001b[32m  ✓ \u001b[39m\u001b[90mUnitful → ConstructionBaseUnitfulExt\u001b[39m\n",
      "\u001b[32m  ✓ \u001b[39m\u001b[90mSetfield\u001b[39m\n",
      "\u001b[32m  ✓ \u001b[39m\u001b[90mSortingAlgorithms\u001b[39m\n",
      "\u001b[32m  ✓ \u001b[39m\u001b[90mThrift\u001b[39m\n",
      "\u001b[32m  ✓ \u001b[39m\u001b[90mTableShowUtils\u001b[39m\n",
      "\u001b[32m  ✓ \u001b[39m\u001b[90mTableTraitsUtils\u001b[39m\n",
      "\u001b[91m  ✗ \u001b[39m\u001b[90mSnappy\u001b[39m\n",
      "\u001b[32m  ✓ \u001b[39m\u001b[90mMemPool\u001b[39m\n",
      "\u001b[32m  ✓ \u001b[39m\u001b[90mFillArrays → FillArraysPDMatsExt\u001b[39m\n",
      "\u001b[32m  ✓ \u001b[39m\u001b[90mQuadGK\u001b[39m\n",
      "\u001b[32m  ✓ \u001b[39m\u001b[90mFlatBuffers\u001b[39m\n",
      "\u001b[32m  ✓ \u001b[39mCategoricalArrays\n",
      "\u001b[32m  ✓ \u001b[39m\u001b[90mXLSX\u001b[39m\n",
      "\u001b[32m  ✓ \u001b[39m\u001b[90mReadStat\u001b[39m\n",
      "\u001b[32m  ✓ \u001b[39m\u001b[90mQueryOperators\u001b[39m\n",
      "\u001b[32m  ✓ \u001b[39m\u001b[90mDataTables\u001b[39m\n",
      "\u001b[32m  ✓ \u001b[39m\u001b[90mStatsBase\u001b[39m\n",
      "\u001b[32m  ✓ \u001b[39m\u001b[90mIterableTables\u001b[39m\n",
      "\u001b[32m  ✓ \u001b[39m\u001b[90mHTTP\u001b[39m\n",
      "\u001b[91m  ✗ \u001b[39m\u001b[90mExcelReaders\u001b[39m\n",
      "\u001b[32m  ✓ \u001b[39m\u001b[90mFillArrays → FillArraysStatisticsExt\u001b[39m\n",
      "\u001b[32m  ✓ \u001b[39m\u001b[90mJSON3\u001b[39m\n",
      "\u001b[91m  ✗ \u001b[39m\u001b[90mParquet\u001b[39m\n",
      "\u001b[32m  ✓ \u001b[39m\u001b[90mStatFiles\u001b[39m\n",
      "\u001b[32m  ✓ \u001b[39m\u001b[90mStatsModels\u001b[39m\n",
      "\u001b[32m  ✓ \u001b[39m\u001b[90mArrow\u001b[39m\n",
      "\u001b[32m  ✓ \u001b[39m\u001b[90mQuery\u001b[39m\n",
      "\u001b[32m  ✓ \u001b[39m\u001b[90mJSONSchema\u001b[39m\n",
      "\u001b[32m  ✓ \u001b[39m\u001b[90mVega\u001b[39m\n",
      "\u001b[32m  ✓ \u001b[39m\u001b[90mFeatherLib\u001b[39m\n",
      "\u001b[91m  ✗ \u001b[39m\u001b[90mExcelFiles\u001b[39m\n",
      "\u001b[91m  ✗ \u001b[39m\u001b[90mParquetFiles\u001b[39m\n",
      "\u001b[32m  ✓ \u001b[39m\u001b[90mDistributions\u001b[39m\n",
      "\u001b[32m  ✓ \u001b[39mCSV\n",
      "\u001b[32m  ✓ \u001b[39m\u001b[90mFeatherFiles\u001b[39m\n",
      "\u001b[32m  ✓ \u001b[39m\u001b[90mDistributions → DistributionsTestExt\u001b[39m\n",
      "\u001b[32m  ✓ \u001b[39m\u001b[90mVegaLite\u001b[39m\n",
      "\u001b[32m  ✓ \u001b[39mGLM\n",
      "\u001b[32m  ✓ \u001b[39m\u001b[90mPolynomials\u001b[39m\n",
      "\u001b[32m  ✓ \u001b[39m\u001b[90mDataVoyager\u001b[39m\n",
      "\u001b[32m  ✓ \u001b[39m\u001b[90mDoubleFloats\u001b[39m\n",
      "\u001b[32m  ✓ \u001b[39m\u001b[90mTextParse\u001b[39m\n",
      "\u001b[32m  ✓ \u001b[39m\u001b[90mCSVFiles\u001b[39m\n",
      "\u001b[32m  ✓ \u001b[39mDataFrames\n",
      "\u001b[32m  ✓ \u001b[39m\u001b[90mLatexify → DataFramesExt\u001b[39m\n",
      "\u001b[32m  ✓ \u001b[39m\u001b[90mUnitfulLatexify\u001b[39m\n",
      "\u001b[91m  ✗ \u001b[39mQueryverse\n",
      "\u001b[32m  ✓ \u001b[39mPlots\n",
      "\u001b[32m  ✓ \u001b[39m\u001b[90mPlots → FileIOExt\u001b[39m\n",
      "\u001b[32m  ✓ \u001b[39m\u001b[90mPlots → UnitfulExt\u001b[39m\n",
      "\u001b[32m  ✓ \u001b[39m\u001b[90mPlots → IJuliaExt\u001b[39m\n",
      "  73 dependencies successfully precompiled in 160 seconds. 172 already precompiled.\n",
      "  \u001b[91m8\u001b[39m dependencies errored.\n",
      "  For a report of the errors see `julia> err`. To retry use `pkg> precompile`\n",
      "\u001b[32m\u001b[1m   Resolving\u001b[22m\u001b[39m package versions...\n",
      "\u001b[32m\u001b[1m  No Changes\u001b[22m\u001b[39m to `C:\\Users\\juanl\\.julia\\environments\\v1.10\\Project.toml`\n",
      "\u001b[32m\u001b[1m  No Changes\u001b[22m\u001b[39m to `C:\\Users\\juanl\\.julia\\environments\\v1.10\\Manifest.toml`\n",
      "\u001b[32m\u001b[1m   Resolving\u001b[22m\u001b[39m package versions...\n",
      "\u001b[32m\u001b[1m    Updating\u001b[22m\u001b[39m `C:\\Users\\juanl\\.julia\\environments\\v1.10\\Project.toml`\n",
      "  \u001b[90m[10745b16] \u001b[39m\u001b[92m+ Statistics v1.10.0\u001b[39m\n",
      "\u001b[32m\u001b[1m  No Changes\u001b[22m\u001b[39m to `C:\\Users\\juanl\\.julia\\environments\\v1.10\\Manifest.toml`\n",
      "\u001b[32m\u001b[1m   Resolving\u001b[22m\u001b[39m package versions...\n",
      "\u001b[32m\u001b[1m  No Changes\u001b[22m\u001b[39m to `C:\\Users\\juanl\\.julia\\environments\\v1.10\\Project.toml`\n",
      "\u001b[32m\u001b[1m  No Changes\u001b[22m\u001b[39m to `C:\\Users\\juanl\\.julia\\environments\\v1.10\\Manifest.toml`\n",
      "\u001b[32m\u001b[1m   Resolving\u001b[22m\u001b[39m package versions...\n",
      "\u001b[32m\u001b[1m    Updating\u001b[22m\u001b[39m `C:\\Users\\juanl\\.julia\\environments\\v1.10\\Project.toml`\n",
      "  \u001b[90m[3eaba693] \u001b[39m\u001b[92m+ StatsModels v0.7.3\u001b[39m\n",
      "\u001b[32m\u001b[1m  No Changes\u001b[22m\u001b[39m to `C:\\Users\\juanl\\.julia\\environments\\v1.10\\Manifest.toml`\n",
      "\u001b[32m\u001b[1m   Resolving\u001b[22m\u001b[39m package versions...\n",
      "\u001b[32m\u001b[1m   Installed\u001b[22m\u001b[39m FFTW ──────────── v1.8.0\n",
      "\u001b[32m\u001b[1m   Installed\u001b[22m\u001b[39m MLBase ────────── v0.9.2\n",
      "\u001b[32m\u001b[1m   Installed\u001b[22m\u001b[39m MKL_jll ───────── v2024.1.0+0\n",
      "\u001b[32m\u001b[1m   Installed\u001b[22m\u001b[39m oneTBB_jll ────── v2021.12.0+0\n",
      "\u001b[32m\u001b[1m   Installed\u001b[22m\u001b[39m IntelOpenMP_jll ─ v2024.1.0+0\n",
      "\u001b[32m\u001b[1m   Installed\u001b[22m\u001b[39m DSP ───────────── v0.7.9\n",
      "\u001b[32m\u001b[1m   Installed\u001b[22m\u001b[39m AbstractFFTs ──── v1.5.0\n",
      "\u001b[32m\u001b[1m   Installed\u001b[22m\u001b[39m Lasso ─────────── v0.7.1\n",
      "\u001b[32m\u001b[1m   Installed\u001b[22m\u001b[39m FFTW_jll ──────── v3.3.10+0\n",
      "\u001b[32m\u001b[1m   Installed\u001b[22m\u001b[39m IterTools ─────── v1.10.0\n",
      "\u001b[32m\u001b[1m    Updating\u001b[22m\u001b[39m `C:\\Users\\juanl\\.julia\\environments\\v1.10\\Project.toml`\n",
      "  \u001b[90m[b4fcebef] \u001b[39m\u001b[92m+ Lasso v0.7.1\u001b[39m\n",
      "\u001b[32m\u001b[1m    Updating\u001b[22m\u001b[39m `C:\\Users\\juanl\\.julia\\environments\\v1.10\\Manifest.toml`\n",
      "  \u001b[90m[621f4979] \u001b[39m\u001b[92m+ AbstractFFTs v1.5.0\u001b[39m\n",
      "  \u001b[90m[717857b8] \u001b[39m\u001b[92m+ DSP v0.7.9\u001b[39m\n",
      "  \u001b[90m[7a1cc6ca] \u001b[39m\u001b[92m+ FFTW v1.8.0\u001b[39m\n",
      "  \u001b[90m[c8e1da08] \u001b[39m\u001b[92m+ IterTools v1.10.0\u001b[39m\n",
      "  \u001b[90m[b4fcebef] \u001b[39m\u001b[92m+ Lasso v0.7.1\u001b[39m\n",
      "  \u001b[90m[f0e99cf1] \u001b[39m\u001b[92m+ MLBase v0.9.2\u001b[39m\n",
      "  \u001b[90m[f5851436] \u001b[39m\u001b[92m+ FFTW_jll v3.3.10+0\u001b[39m\n",
      "  \u001b[90m[1d5cc7b8] \u001b[39m\u001b[92m+ IntelOpenMP_jll v2024.1.0+0\u001b[39m\n",
      "  \u001b[90m[856f044c] \u001b[39m\u001b[92m+ MKL_jll v2024.1.0+0\u001b[39m\n",
      "  \u001b[90m[1317d2d5] \u001b[39m\u001b[92m+ oneTBB_jll v2021.12.0+0\u001b[39m\n",
      "  \u001b[90m[4af54fe1] \u001b[39m\u001b[92m+ LazyArtifacts\u001b[39m\n",
      "\u001b[32m\u001b[1mPrecompiling\u001b[22m\u001b[39m project...\n",
      "\u001b[32m  ✓ \u001b[39m\u001b[90mAbstractFFTs\u001b[39m\n",
      "\u001b[32m  ✓ \u001b[39m\u001b[90mIterTools\u001b[39m\n",
      "\u001b[32m  ✓ \u001b[39m\u001b[90mIntelOpenMP_jll\u001b[39m\n",
      "\u001b[32m  ✓ \u001b[39m\u001b[90moneTBB_jll\u001b[39m\n",
      "\u001b[32m  ✓ \u001b[39m\u001b[90mFFTW_jll\u001b[39m\n",
      "\u001b[32m  ✓ \u001b[39m\u001b[90mAbstractFFTs → AbstractFFTsTestExt\u001b[39m\n",
      "\u001b[32m  ✓ \u001b[39m\u001b[90mMLBase\u001b[39m\n",
      "MKL_jll\u001b[33m Waiting for background task / IO / timer.\u001b[39m\n",
      "[pid 20180] waiting for IO to finish:\n",
      " Handle type        uv_handle_t->data\n",
      " timer              0000019ca1299b50->0000019c9f177280\n",
      "This means that a package has started a background task or event source that has not finished running. For precompilation to complete successfully, the event source needs to be closed explicitly. See the developer documentation on fixing precompilation hangs for more help.\n",
      "\n",
      "[pid 20180] waiting for IO to finish:\n",
      " Handle type        uv_handle_t->data\n",
      " timer              0000019ca1299b50->0000019c9f177280\n",
      "This means that a package has started a background task or event source that has not finished running. For precompilation to complete successfully, the event source needs to be closed explicitly. See the developer documentation on fixing precompilation hangs for more help.\n",
      "\u001b[32m  ✓ \u001b[39m\u001b[90mMKL_jll\u001b[39m\n",
      "\u001b[32m  ✓ \u001b[39m\u001b[90mFFTW\u001b[39m\n",
      "\u001b[32m  ✓ \u001b[39m\u001b[90mPolynomials → PolynomialsFFTWExt\u001b[39m\n",
      "\u001b[32m  ✓ \u001b[39m\u001b[90mDSP\u001b[39m\n",
      "\u001b[32m  ✓ \u001b[39mLasso\n",
      "  12 dependencies successfully precompiled in 61 seconds. 246 already precompiled. 8 skipped during auto due to previous errors.\n",
      "  \u001b[33m1\u001b[39m dependency had output during precompilation:\u001b[33m\n",
      "┌ \u001b[39mMKL_jll\u001b[33m\n",
      "│  \u001b[39m\u001b[32m\u001b[1m Downloading\u001b[22m\u001b[39m artifact: MKL\u001b[33m\n",
      "│  \u001b[39m\u001b[33m\n",
      "│  \u001b[39m[pid 20180] waiting for IO to finish:\u001b[33m\n",
      "│  \u001b[39m Handle type        uv_handle_t->data\u001b[33m\n",
      "│  \u001b[39m timer              0000019ca1299b50->0000019c9f177280\u001b[33m\n",
      "│  \u001b[39mThis means that a package has started a background task or event source that has not finished running. For precompilation to complete successfully, the event source needs to be closed explicitly. See the developer documentation on fixing precompilation hangs for more help.\u001b[33m\n",
      "│  \u001b[39m\u001b[33m\n",
      "│  \u001b[39m[pid 20180] waiting for IO to finish:\u001b[33m\n",
      "│  \u001b[39m Handle type        uv_handle_t->data\u001b[33m\n",
      "│  \u001b[39m timer              0000019ca1299b50->0000019c9f177280\u001b[33m\n",
      "│  \u001b[39mThis means that a package has started a background task or event source that has not finished running. For precompilation to complete successfully, the event source needs to be closed explicitly. See the developer documentation on fixing precompilation hangs for more help.\u001b[33m\n",
      "└  \u001b[39m\n",
      "\u001b[32m\u001b[1m   Resolving\u001b[22m\u001b[39m package versions...\n",
      "\u001b[32m\u001b[1m   Installed\u001b[22m\u001b[39m JpegTurbo_jll ─────── v3.0.3+0\n",
      "\u001b[32m\u001b[1m   Installed\u001b[22m\u001b[39m Libmount_jll ──────── v2.40.1+0\n",
      "\u001b[32m\u001b[1m   Installed\u001b[22m\u001b[39m GR_jll ────────────── v0.73.5+0\n",
      "\u001b[32m\u001b[1m   Installed\u001b[22m\u001b[39m Unitful ───────────── v1.19.1\n",
      "\u001b[32m\u001b[1m   Installed\u001b[22m\u001b[39m CEnum ─────────────── v0.4.2\n",
      "\u001b[32m\u001b[1m   Installed\u001b[22m\u001b[39m HTTP ──────────────── v1.10.8\n",
      "\u001b[32m\u001b[1m   Installed\u001b[22m\u001b[39m Xorg_libSM_jll ────── v1.2.4+0\n",
      "\u001b[32m\u001b[1m   Installed\u001b[22m\u001b[39m Fontconfig_jll ────── v2.13.96+0\n",
      "\u001b[32m\u001b[1m   Installed\u001b[22m\u001b[39m Libgpg_error_jll ──── v1.49.0+0\n",
      "\u001b[32m\u001b[1m   Installed\u001b[22m\u001b[39m SentinelArrays ────── v1.4.2\n",
      "\u001b[32m\u001b[1m   Installed\u001b[22m\u001b[39m LZO_jll ───────────── v2.10.2+0\n",
      "\u001b[32m\u001b[1m   Installed\u001b[22m\u001b[39m SpecialFunctions ──── v2.4.0\n",
      "\u001b[32m\u001b[1m   Installed\u001b[22m\u001b[39m TranscodingStreams ── v0.9.13\n",
      "\u001b[32m\u001b[1m   Installed\u001b[22m\u001b[39m Polynomials ───────── v4.0.8\n",
      "\u001b[32m\u001b[1m   Installed\u001b[22m\u001b[39m FriBidi_jll ───────── v1.0.14+0\n",
      "\u001b[32m\u001b[1m   Installed\u001b[22m\u001b[39m MappedArrays ──────── v0.4.2\n",
      "\u001b[32m\u001b[1m   Installed\u001b[22m\u001b[39m Compat ────────────── v4.15.0\n",
      "\u001b[32m\u001b[1m   Installed\u001b[22m\u001b[39m Xorg_libXext_jll ──── v1.3.6+0\n",
      "\u001b[32m\u001b[1m   Installed\u001b[22m\u001b[39m StatsBase ─────────── v0.33.21\n",
      "\u001b[32m\u001b[1m   Installed\u001b[22m\u001b[39m Colors ────────────── v0.12.11\n",
      "\u001b[32m\u001b[1m   Installed\u001b[22m\u001b[39m GR ────────────────── v0.73.5\n",
      "\u001b[32m\u001b[1m   Installed\u001b[22m\u001b[39m ZMQ ───────────────── v1.2.3\n",
      "\u001b[32m\u001b[1m   Installed\u001b[22m\u001b[39m ColorSchemes ──────── v3.25.0\n",
      "\u001b[32m\u001b[1m   Installed\u001b[22m\u001b[39m Expat_jll ─────────── v2.6.2+0\n",
      "\u001b[32m\u001b[1m   Installed\u001b[22m\u001b[39m Xorg_libXrender_jll ─ v0.9.11+0\n",
      "\u001b[32m\u001b[1m   Installed\u001b[22m\u001b[39m Parquet ───────────── v0.4.0\n",
      "\u001b[32m\u001b[1m   Installed\u001b[22m\u001b[39m Pixman_jll ────────── v0.43.4+0\n",
      "\u001b[32m\u001b[1m   Installed\u001b[22m\u001b[39m Libuuid_jll ───────── v2.40.1+0\n",
      "\u001b[32m\u001b[1m   Installed\u001b[22m\u001b[39m AliasTables ───────── v1.1.2\n",
      "\u001b[32m\u001b[1m   Installed\u001b[22m\u001b[39m Xorg_libICE_jll ───── v1.1.1+0\n",
      "\u001b[32m\u001b[1m   Installed\u001b[22m\u001b[39m MLDataUtils ───────── v0.5.4\n",
      "\u001b[32m\u001b[1m   Installed\u001b[22m\u001b[39m Libgcrypt_jll ─────── v1.8.11+0\n",
      "\u001b[32m\u001b[1m   Installed\u001b[22m\u001b[39m FixedPointNumbers ─── v0.8.5\n",
      "\u001b[32m\u001b[1m   Installed\u001b[22m\u001b[39m LAME_jll ──────────── v3.100.2+0\n",
      "\u001b[32m\u001b[1m   Installed\u001b[22m\u001b[39m FillArrays ────────── v1.11.0\n",
      "\u001b[32m\u001b[1m   Installed\u001b[22m\u001b[39m Glib_jll ──────────── v2.80.2+0\n",
      "\u001b[32m\u001b[1m   Installed\u001b[22m\u001b[39m LearnBase ─────────── v0.3.0\n",
      "\u001b[32m\u001b[1m   Installed\u001b[22m\u001b[39m MLLabelUtils ──────── v0.5.7\n",
      "\u001b[32m\u001b[1m   Installed\u001b[22m\u001b[39m MLDataPattern ─────── v0.5.4\n",
      "\u001b[32m\u001b[1m   Installed\u001b[22m\u001b[39m CodecZstd ─────────── v0.7.2\n",
      "\u001b[32m\u001b[1m    Updating\u001b[22m\u001b[39m `C:\\Users\\juanl\\.julia\\environments\\v1.10\\Project.toml`\n",
      "  \u001b[90m[cc2ba9b6] \u001b[39m\u001b[92m+ MLDataUtils v0.5.4\u001b[39m\n",
      "\u001b[32m\u001b[1m    Updating\u001b[22m\u001b[39m `C:\\Users\\juanl\\.julia\\environments\\v1.10\\Manifest.toml`\n",
      "  \u001b[90m[66dad0bd] \u001b[39m\u001b[93m↑ AliasTables v1.0.0 ⇒ v1.1.2\u001b[39m\n",
      "\u001b[33m⌅\u001b[39m \u001b[90m[fa961155] \u001b[39m\u001b[92m+ CEnum v0.4.2\u001b[39m\n",
      "\u001b[33m⌅\u001b[39m \u001b[90m[6b39b394] \u001b[39m\u001b[92m+ CodecZstd v0.7.2\u001b[39m\n",
      "  \u001b[90m[35d6a980] \u001b[39m\u001b[93m↑ ColorSchemes v3.24.0 ⇒ v3.25.0\u001b[39m\n",
      "  \u001b[90m[5ae59095] \u001b[39m\u001b[93m↑ Colors v0.12.10 ⇒ v0.12.11\u001b[39m\n",
      "  \u001b[90m[34da2185] \u001b[39m\u001b[93m↑ Compat v4.14.0 ⇒ v4.15.0\u001b[39m\n",
      "  \u001b[90m[1a297f60] \u001b[39m\u001b[93m↑ FillArrays v1.10.1 ⇒ v1.11.0\u001b[39m\n",
      "  \u001b[90m[53c48c17] \u001b[39m\u001b[93m↑ FixedPointNumbers v0.8.4 ⇒ v0.8.5\u001b[39m\n",
      "  \u001b[90m[28b8d3ca] \u001b[39m\u001b[93m↑ GR v0.73.3 ⇒ v0.73.5\u001b[39m\n",
      "  \u001b[90m[cd3eb016] \u001b[39m\u001b[93m↑ HTTP v1.10.6 ⇒ v1.10.8\u001b[39m\n",
      "\u001b[33m⌅\u001b[39m \u001b[90m[7f8f8fb0] \u001b[39m\u001b[92m+ LearnBase v0.3.0\u001b[39m\n",
      "\u001b[32m⌃\u001b[39m \u001b[90m[9920b226] \u001b[39m\u001b[92m+ MLDataPattern v0.5.4\u001b[39m\n",
      "  \u001b[90m[cc2ba9b6] \u001b[39m\u001b[92m+ MLDataUtils v0.5.4\u001b[39m\n",
      "  \u001b[90m[66a33bbf] \u001b[39m\u001b[92m+ MLLabelUtils v0.5.7\u001b[39m\n",
      "  \u001b[90m[dbb5928d] \u001b[39m\u001b[92m+ MappedArrays v0.4.2\u001b[39m\n",
      "\u001b[33m⌅\u001b[39m \u001b[90m[626c502c] \u001b[39m\u001b[93m↑ Parquet v0.3.2 ⇒ v0.4.0\u001b[39m\n",
      "  \u001b[90m[f27b6e38] \u001b[39m\u001b[93m↑ Polynomials v4.0.7 ⇒ v4.0.8\u001b[39m\n",
      "  \u001b[90m[91c51154] \u001b[39m\u001b[93m↑ SentinelArrays v1.4.1 ⇒ v1.4.2\u001b[39m\n",
      "  \u001b[90m[276daf66] \u001b[39m\u001b[93m↑ SpecialFunctions v2.3.1 ⇒ v2.4.0\u001b[39m\n",
      "\u001b[33m⌅\u001b[39m \u001b[90m[2913bbd2] \u001b[39m\u001b[95m↓ StatsBase v0.34.3 ⇒ v0.33.21\u001b[39m\n",
      "\u001b[33m⌅\u001b[39m \u001b[90m[3bb67fe8] \u001b[39m\u001b[95m↓ TranscodingStreams v0.10.7 ⇒ v0.9.13\u001b[39m\n",
      "  \u001b[90m[1986cc42] \u001b[39m\u001b[93m↑ Unitful v1.19.0 ⇒ v1.19.1\u001b[39m\n",
      "  \u001b[90m[c2297ded] \u001b[39m\u001b[93m↑ ZMQ v1.2.2 ⇒ v1.2.3\u001b[39m\n",
      "  \u001b[90m[2e619515] \u001b[39m\u001b[93m↑ Expat_jll v2.5.0+0 ⇒ v2.6.2+0\u001b[39m\n",
      "  \u001b[90m[a3f928ae] \u001b[39m\u001b[93m↑ Fontconfig_jll v2.13.93+0 ⇒ v2.13.96+0\u001b[39m\n",
      "  \u001b[90m[559328eb] \u001b[39m\u001b[93m↑ FriBidi_jll v1.0.10+0 ⇒ v1.0.14+0\u001b[39m\n",
      "  \u001b[90m[d2c73de3] \u001b[39m\u001b[93m↑ GR_jll v0.73.3+0 ⇒ v0.73.5+0\u001b[39m\n",
      "  \u001b[90m[7746bdde] \u001b[39m\u001b[93m↑ Glib_jll v2.80.0+0 ⇒ v2.80.2+0\u001b[39m\n",
      "  \u001b[90m[aacddb02] \u001b[39m\u001b[93m↑ JpegTurbo_jll v3.0.2+0 ⇒ v3.0.3+0\u001b[39m\n",
      "  \u001b[90m[c1c5ebd0] \u001b[39m\u001b[93m↑ LAME_jll v3.100.1+0 ⇒ v3.100.2+0\u001b[39m\n",
      "  \u001b[90m[dd4b983a] \u001b[39m\u001b[93m↑ LZO_jll v2.10.1+0 ⇒ v2.10.2+0\u001b[39m\n",
      "  \u001b[90m[d4300ac3] \u001b[39m\u001b[93m↑ Libgcrypt_jll v1.8.7+0 ⇒ v1.8.11+0\u001b[39m\n",
      "  \u001b[90m[7add5ba3] \u001b[39m\u001b[93m↑ Libgpg_error_jll v1.42.0+0 ⇒ v1.49.0+0\u001b[39m\n",
      "  \u001b[90m[4b2f31a3] \u001b[39m\u001b[93m↑ Libmount_jll v2.39.3+0 ⇒ v2.40.1+0\u001b[39m\n",
      "  \u001b[90m[38a345b3] \u001b[39m\u001b[93m↑ Libuuid_jll v2.39.3+1 ⇒ v2.40.1+0\u001b[39m\n",
      "  \u001b[90m[30392449] \u001b[39m\u001b[93m↑ Pixman_jll v0.42.2+0 ⇒ v0.43.4+0\u001b[39m\n",
      "  \u001b[90m[f67eecfb] \u001b[39m\u001b[93m↑ Xorg_libICE_jll v1.0.10+1 ⇒ v1.1.1+0\u001b[39m\n",
      "  \u001b[90m[c834827a] \u001b[39m\u001b[93m↑ Xorg_libSM_jll v1.2.3+0 ⇒ v1.2.4+0\u001b[39m\n",
      "  \u001b[90m[1082639a] \u001b[39m\u001b[93m↑ Xorg_libXext_jll v1.3.4+4 ⇒ v1.3.6+0\u001b[39m\n",
      "  \u001b[90m[ea2f1a96] \u001b[39m\u001b[93m↑ Xorg_libXrender_jll v0.9.10+4 ⇒ v0.9.11+0\u001b[39m\n",
      "\u001b[36m\u001b[1m        Info\u001b[22m\u001b[39m Packages marked with \u001b[32m⌃\u001b[39m and \u001b[33m⌅\u001b[39m have new versions available. Those with \u001b[32m⌃\u001b[39m may be upgradable, but those with \u001b[33m⌅\u001b[39m are restricted by compatibility constraints from upgrading. To see why use `status --outdated -m`\n",
      "\u001b[32m\u001b[1mPrecompiling\u001b[22m\u001b[39m project...\n",
      "\u001b[32m  ✓ \u001b[39m\u001b[90mCEnum\u001b[39m\n",
      "\u001b[32m  ✓ \u001b[39m\u001b[90mCompat\u001b[39m\n",
      "\u001b[32m  ✓ \u001b[39m\u001b[90mAliasTables\u001b[39m\n",
      "\u001b[32m  ✓ \u001b[39m\u001b[90mMappedArrays\u001b[39m\n",
      "\u001b[32m  ✓ \u001b[39m\u001b[90mFillArrays\u001b[39m\n",
      "\u001b[32m  ✓ \u001b[39m\u001b[90mLibmount_jll\u001b[39m\n",
      "\u001b[32m  ✓ \u001b[39m\u001b[90mXorg_libICE_jll\u001b[39m\n",
      "\u001b[32m  ✓ \u001b[39m\u001b[90mTranscodingStreams\u001b[39m\n",
      "\u001b[32m  ✓ \u001b[39m\u001b[90mLAME_jll\u001b[39m\n",
      "\u001b[32m  ✓ \u001b[39m\u001b[90mSentinelArrays\u001b[39m\n",
      "\u001b[32m  ✓ \u001b[39m\u001b[90mPixman_jll\u001b[39m\n",
      "\u001b[32m  ✓ \u001b[39m\u001b[90mJpegTurbo_jll\u001b[39m\n",
      "\u001b[32m  ✓ \u001b[39m\u001b[90mExpat_jll\u001b[39m\n",
      "\u001b[32m  ✓ \u001b[39m\u001b[90mLZO_jll\u001b[39m\n",
      "\u001b[32m  ✓ \u001b[39m\u001b[90mLibgpg_error_jll\u001b[39m\n",
      "\u001b[32m  ✓ \u001b[39m\u001b[90mLibuuid_jll\u001b[39m\n",
      "\u001b[32m  ✓ \u001b[39m\u001b[90mFriBidi_jll\u001b[39m\n",
      "\u001b[32m  ✓ \u001b[39m\u001b[90mCompat → CompatLinearAlgebraExt\u001b[39m\n",
      "\u001b[32m  ✓ \u001b[39m\u001b[90mGlib_jll\u001b[39m\n",
      "\u001b[32m  ✓ \u001b[39m\u001b[90mXorg_libSM_jll\u001b[39m\n",
      "\u001b[32m  ✓ \u001b[39m\u001b[90mCodecZlib\u001b[39m\n",
      "\u001b[32m  ✓ \u001b[39m\u001b[90mLibtiff_jll\u001b[39m\n",
      "\u001b[32m  ✓ \u001b[39m\u001b[90mCodecZstd\u001b[39m\n",
      "\u001b[33m  ✓ \u001b[39m\u001b[90mZMQ\u001b[39m\n",
      "\u001b[32m  ✓ \u001b[39m\u001b[90mFixedPointNumbers\u001b[39m\n",
      "\u001b[32m  ✓ \u001b[39m\u001b[90mLibgcrypt_jll\u001b[39m\n",
      "\u001b[32m  ✓ \u001b[39m\u001b[90mFillArrays → FillArraysPDMatsExt\u001b[39m\n",
      "\u001b[32m  ✓ \u001b[39m\u001b[90mFontconfig_jll\u001b[39m\n",
      "\u001b[32m  ✓ \u001b[39m\u001b[90mSpecialFunctions\u001b[39m\n",
      "\u001b[32m  ✓ \u001b[39m\u001b[90mQuadmath\u001b[39m\n",
      "\u001b[32m  ✓ \u001b[39m\u001b[90mFilePathsBase\u001b[39m\n",
      "\u001b[32m  ✓ \u001b[39m\u001b[90mXSLT_jll\u001b[39m\n",
      "\u001b[32m  ✓ \u001b[39m\u001b[90mDataStructures\u001b[39m\n",
      "\u001b[32m  ✓ \u001b[39m\u001b[90mFillArrays → FillArraysStatisticsExt\u001b[39m\n",
      "\u001b[32m  ✓ \u001b[39m\u001b[90mDualNumbers\u001b[39m\n",
      "\u001b[32m  ✓ \u001b[39m\u001b[90mSortingAlgorithms\u001b[39m\n",
      "\u001b[32m  ✓ \u001b[39m\u001b[90mXorg_libXext_jll\u001b[39m\n",
      "\u001b[32m  ✓ \u001b[39m\u001b[90mXorg_libXrender_jll\u001b[39m\n",
      "\u001b[32m  ✓ \u001b[39mFilePaths\n",
      "\u001b[32m  ✓ \u001b[39m\u001b[90mColorTypes\u001b[39m\n",
      "\u001b[32m  ✓ \u001b[39m\u001b[90mHTTP\u001b[39m\n",
      "\u001b[32m  ✓ \u001b[39m\u001b[90mQuadGK\u001b[39m\n",
      "\u001b[32m  ✓ \u001b[39m\u001b[90mQueryOperators\u001b[39m\n",
      "\u001b[32m  ✓ \u001b[39m\u001b[90mHypergeometricFunctions\u001b[39m\n",
      "\u001b[32m  ✓ \u001b[39m\u001b[90mCairo_jll\u001b[39m\n",
      "\u001b[32m  ✓ \u001b[39m\u001b[90mElectron\u001b[39m\n",
      "\u001b[32m  ✓ \u001b[39m\u001b[90mStatsBase\u001b[39m\n",
      "\u001b[32m  ✓ \u001b[39m\u001b[90mQt6Base_jll\u001b[39m\n",
      "\u001b[91m  ✗ \u001b[39m\u001b[90mParquet\u001b[39m\n",
      "\u001b[32m  ✓ \u001b[39m\u001b[90mHarfBuzz_jll\u001b[39m\n",
      "\u001b[32m  ✓ \u001b[39m\u001b[90mVega\u001b[39m\n",
      "\u001b[32m  ✓ \u001b[39m\u001b[90mLearnBase\u001b[39m\n",
      "\u001b[32m  ✓ \u001b[39m\u001b[90mQuery\u001b[39m\n",
      "\u001b[32m  ✓ \u001b[39m\u001b[90mStatsFuns\u001b[39m\n",
      "\u001b[32m  ✓ \u001b[39m\u001b[90mColorVectorSpace\u001b[39m\n",
      "\u001b[32m  ✓ \u001b[39m\u001b[90mColors\u001b[39m\n",
      "\u001b[32m  ✓ \u001b[39m\u001b[90mlibass_jll\u001b[39m\n",
      "\u001b[32m  ✓ \u001b[39m\u001b[90mMLBase\u001b[39m\n",
      "\u001b[32m  ✓ \u001b[39m\u001b[90mMLLabelUtils\u001b[39m\n",
      "\u001b[32m  ✓ \u001b[39m\u001b[90mColorVectorSpace → SpecialFunctionsExt\u001b[39m\n",
      "\u001b[32m  ✓ \u001b[39mStatsModels\n",
      "\u001b[32m  ✓ \u001b[39m\u001b[90mFFMPEG_jll\u001b[39m\n",
      "\u001b[32m  ✓ \u001b[39m\u001b[90mVegaLite\u001b[39m\n",
      "\u001b[32m  ✓ \u001b[39m\u001b[90mFFMPEG\u001b[39m\n",
      "\u001b[32m  ✓ \u001b[39m\u001b[90mMLDataPattern\u001b[39m\n",
      "\u001b[32m  ✓ \u001b[39m\u001b[90mGR_jll\u001b[39m\n",
      "\u001b[32m  ✓ \u001b[39m\u001b[90mPolynomials\u001b[39m\n",
      "\u001b[32m  ✓ \u001b[39m\u001b[90mUnitful\u001b[39m\n",
      "\u001b[32m  ✓ \u001b[39mCSV\n",
      "\u001b[32m  ✓ \u001b[39m\u001b[90mDistributions\u001b[39m\n",
      "\u001b[32m  ✓ \u001b[39m\u001b[90mUnitful → ConstructionBaseUnitfulExt\u001b[39m\n",
      "\u001b[32m  ✓ \u001b[39m\u001b[90mColorSchemes\u001b[39m\n",
      "\u001b[32m  ✓ \u001b[39m\u001b[90mPolynomials → PolynomialsFFTWExt\u001b[39m\n",
      "\u001b[32m  ✓ \u001b[39m\u001b[90mDataVoyager\u001b[39m\n",
      "\u001b[32m  ✓ \u001b[39m\u001b[90mDistributions → DistributionsTestExt\u001b[39m\n",
      "\u001b[32m  ✓ \u001b[39m\u001b[90mGR\u001b[39m\n",
      "\u001b[32m  ✓ \u001b[39m\u001b[90mDoubleFloats\u001b[39m\n",
      "\u001b[32m  ✓ \u001b[39mGLM\n",
      "\u001b[32m  ✓ \u001b[39m\u001b[90mDSP\u001b[39m\n",
      "\u001b[32m  ✓ \u001b[39mLasso\n",
      "\u001b[32m  ✓ \u001b[39m\u001b[90mPlotUtils\u001b[39m\n",
      "\u001b[32m  ✓ \u001b[39m\u001b[90mTextParse\u001b[39m\n",
      "\u001b[32m  ✓ \u001b[39m\u001b[90mPlotThemes\u001b[39m\n",
      "\u001b[32m  ✓ \u001b[39m\u001b[90mCSVFiles\u001b[39m\n",
      "\u001b[32m  ✓ \u001b[39m\u001b[90mRecipesPipeline\u001b[39m\n",
      "\u001b[32m  ✓ \u001b[39mDataFrames\n",
      "\u001b[32m  ✓ \u001b[39m\u001b[90mLatexify → DataFramesExt\u001b[39m\n",
      "\u001b[32m  ✓ \u001b[39mMLDataUtils\n",
      "\u001b[32m  ✓ \u001b[39m\u001b[90mUnitfulLatexify\u001b[39m\n",
      "\u001b[32m  ✓ \u001b[39mPlots\n",
      "\u001b[32m  ✓ \u001b[39m\u001b[90mPlots → FileIOExt\u001b[39m\n",
      "\u001b[32m  ✓ \u001b[39m\u001b[90mPlots → UnitfulExt\u001b[39m\n",
      "\u001b[32m  ✓ \u001b[39m\u001b[90mPlots → IJuliaExt\u001b[39m\n",
      "  92 dependencies successfully precompiled in 202 seconds. 172 already precompiled. 7 skipped during auto due to previous errors.\n",
      "  \u001b[33m1\u001b[39m dependency precompiled but a different version is currently loaded. Restart julia to access the new version\n"
     ]
    }
   ],
   "source": [
    "#pkgs \n",
    "using Pkg\n",
    "Pkg.add(\"CSV\")\n",
    "Pkg.add(\"DataFrames\")\n",
    "Pkg.add(\"Statistics\")\n",
    "Pkg.add(\"Plots\")\n",
    "Pkg.add(\"StatsModels\")\n",
    "Pkg.add(\"Lasso\")\n",
    "Pkg.add(\"MLDataUtils\")\n"
   ]
  },
  {
   "cell_type": "code",
   "execution_count": 2,
   "metadata": {},
   "outputs": [
    {
     "name": "stderr",
     "output_type": "stream",
     "text": [
      "\u001b[32m\u001b[1mPrecompiling\u001b[22m\u001b[39m IJuliaExt\n",
      "\u001b[32m  ✓ \u001b[39m\u001b[90mPlots → IJuliaExt\u001b[39m\n",
      "  1 dependency successfully precompiled in 8 seconds. 174 already precompiled.\n"
     ]
    }
   ],
   "source": [
    "# Libraries\n",
    "using CSV\n",
    "using DataFrames\n",
    "using Statistics\n",
    "using Plots\n",
    "using StatsModels\n",
    "using Lasso\n",
    "using MLDataUtils\n",
    "using Random \n"
   ]
  },
  {
   "cell_type": "code",
   "execution_count": 3,
   "metadata": {},
   "outputs": [
    {
     "data": {
      "text/html": [
       "<div><div style = \"float: left;\"><span>17299×16 DataFrame</span></div><div style = \"float: right;\"><span style = \"font-style: italic;\">17274 rows omitted</span></div><div style = \"clear: both;\"></div></div><div class = \"data-frame\" style = \"overflow-x: scroll;\"><table class = \"data-frame\" style = \"margin-bottom: 6px;\"><thead><tr class = \"header\"><th class = \"rowNumber\" style = \"font-weight: bold; text-align: right;\">Row</th><th style = \"text-align: left;\">outcome.test.score</th><th style = \"text-align: left;\">treatment</th><th style = \"text-align: left;\">school</th><th style = \"text-align: left;\">is.female</th><th style = \"text-align: left;\">mother.attended.secondary.school</th><th style = \"text-align: left;\">father.attened.secondary.school</th><th style = \"text-align: left;\">failed.at.least.one.school.year</th><th style = \"text-align: left;\">family.receives.cash.transfer</th><th style = \"text-align: left;\">has.computer.with.internet.at.home</th><th style = \"text-align: left;\">is.unemployed</th><th style = \"text-align: left;\">has.some.form.of.income</th><th style = \"text-align: left;\">saves.money.for.future.purchases</th><th style = \"text-align: left;\">intention.to.save.index</th><th style = \"text-align: left;\">makes.list.of.expenses.every.month</th><th style = \"text-align: left;\">negotiates.prices.or.payment.methods</th><th style = \"text-align: left;\">financial.autonomy.index</th></tr><tr class = \"subheader headerLastRow\"><th class = \"rowNumber\" style = \"font-weight: bold; text-align: right;\"></th><th title = \"Float64\" style = \"text-align: left;\">Float64</th><th title = \"Int64\" style = \"text-align: left;\">Int64</th><th title = \"Int64\" style = \"text-align: left;\">Int64</th><th title = \"String3\" style = \"text-align: left;\">String3</th><th title = \"String3\" style = \"text-align: left;\">String3</th><th title = \"String3\" style = \"text-align: left;\">String3</th><th title = \"String3\" style = \"text-align: left;\">String3</th><th title = \"String3\" style = \"text-align: left;\">String3</th><th title = \"String3\" style = \"text-align: left;\">String3</th><th title = \"String3\" style = \"text-align: left;\">String3</th><th title = \"String3\" style = \"text-align: left;\">String3</th><th title = \"String3\" style = \"text-align: left;\">String3</th><th title = \"String3\" style = \"text-align: left;\">String3</th><th title = \"String3\" style = \"text-align: left;\">String3</th><th title = \"String3\" style = \"text-align: left;\">String3</th><th title = \"String3\" style = \"text-align: left;\">String3</th></tr></thead><tbody><tr><td class = \"rowNumber\" style = \"font-weight: bold; text-align: right;\">1</td><td style = \"text-align: right;\">47.3674</td><td style = \"text-align: right;\">0</td><td style = \"text-align: right;\">17018390</td><td style = \"text-align: left;\">NA</td><td style = \"text-align: left;\">NA</td><td style = \"text-align: left;\">NA</td><td style = \"text-align: left;\">NA</td><td style = \"text-align: left;\">NA</td><td style = \"text-align: left;\">NA</td><td style = \"text-align: left;\">1</td><td style = \"text-align: left;\">1</td><td style = \"text-align: left;\">0</td><td style = \"text-align: left;\">29</td><td style = \"text-align: left;\">0</td><td style = \"text-align: left;\">1</td><td style = \"text-align: left;\">52</td></tr><tr><td class = \"rowNumber\" style = \"font-weight: bold; text-align: right;\">2</td><td style = \"text-align: right;\">58.1768</td><td style = \"text-align: right;\">1</td><td style = \"text-align: right;\">33002614</td><td style = \"text-align: left;\">NA</td><td style = \"text-align: left;\">NA</td><td style = \"text-align: left;\">NA</td><td style = \"text-align: left;\">NA</td><td style = \"text-align: left;\">NA</td><td style = \"text-align: left;\">NA</td><td style = \"text-align: left;\">0</td><td style = \"text-align: left;\">0</td><td style = \"text-align: left;\">0</td><td style = \"text-align: left;\">41</td><td style = \"text-align: left;\">0</td><td style = \"text-align: left;\">0</td><td style = \"text-align: left;\">27</td></tr><tr><td class = \"rowNumber\" style = \"font-weight: bold; text-align: right;\">3</td><td style = \"text-align: right;\">56.6717</td><td style = \"text-align: right;\">1</td><td style = \"text-align: right;\">35002914</td><td style = \"text-align: left;\">1</td><td style = \"text-align: left;\">1</td><td style = \"text-align: left;\">1</td><td style = \"text-align: left;\">0</td><td style = \"text-align: left;\">0</td><td style = \"text-align: left;\">0</td><td style = \"text-align: left;\">1</td><td style = \"text-align: left;\">0</td><td style = \"text-align: left;\">0</td><td style = \"text-align: left;\">48</td><td style = \"text-align: left;\">0</td><td style = \"text-align: left;\">1</td><td style = \"text-align: left;\">56</td></tr><tr><td class = \"rowNumber\" style = \"font-weight: bold; text-align: right;\">4</td><td style = \"text-align: right;\">29.0794</td><td style = \"text-align: right;\">0</td><td style = \"text-align: right;\">35908915</td><td style = \"text-align: left;\">1</td><td style = \"text-align: left;\">0</td><td style = \"text-align: left;\">0</td><td style = \"text-align: left;\">0</td><td style = \"text-align: left;\">0</td><td style = \"text-align: left;\">0</td><td style = \"text-align: left;\">0</td><td style = \"text-align: left;\">0</td><td style = \"text-align: left;\">0</td><td style = \"text-align: left;\">42</td><td style = \"text-align: left;\">0</td><td style = \"text-align: left;\">0</td><td style = \"text-align: left;\">27</td></tr><tr><td class = \"rowNumber\" style = \"font-weight: bold; text-align: right;\">5</td><td style = \"text-align: right;\">49.5635</td><td style = \"text-align: right;\">1</td><td style = \"text-align: right;\">33047324</td><td style = \"text-align: left;\">1</td><td style = \"text-align: left;\">0</td><td style = \"text-align: left;\">0</td><td style = \"text-align: left;\">0</td><td style = \"text-align: left;\">0</td><td style = \"text-align: left;\">1</td><td style = \"text-align: left;\">0</td><td style = \"text-align: left;\">1</td><td style = \"text-align: left;\">0</td><td style = \"text-align: left;\">50</td><td style = \"text-align: left;\">0</td><td style = \"text-align: left;\">1</td><td style = \"text-align: left;\">31</td></tr><tr><td class = \"rowNumber\" style = \"font-weight: bold; text-align: right;\">6</td><td style = \"text-align: right;\">43.0994</td><td style = \"text-align: right;\">0</td><td style = \"text-align: right;\">53012542</td><td style = \"text-align: left;\">1</td><td style = \"text-align: left;\">0</td><td style = \"text-align: left;\">0</td><td style = \"text-align: left;\">0</td><td style = \"text-align: left;\">1</td><td style = \"text-align: left;\">1</td><td style = \"text-align: left;\">0</td><td style = \"text-align: left;\">1</td><td style = \"text-align: left;\">0</td><td style = \"text-align: left;\">93</td><td style = \"text-align: left;\">0</td><td style = \"text-align: left;\">1</td><td style = \"text-align: left;\">77</td></tr><tr><td class = \"rowNumber\" style = \"font-weight: bold; text-align: right;\">7</td><td style = \"text-align: right;\">71.3296</td><td style = \"text-align: right;\">0</td><td style = \"text-align: right;\">53006984</td><td style = \"text-align: left;\">1</td><td style = \"text-align: left;\">1</td><td style = \"text-align: left;\">0</td><td style = \"text-align: left;\">0</td><td style = \"text-align: left;\">0</td><td style = \"text-align: left;\">1</td><td style = \"text-align: left;\">1</td><td style = \"text-align: left;\">1</td><td style = \"text-align: left;\">0</td><td style = \"text-align: left;\">52</td><td style = \"text-align: left;\">0</td><td style = \"text-align: left;\">1</td><td style = \"text-align: left;\">43</td></tr><tr><td class = \"rowNumber\" style = \"font-weight: bold; text-align: right;\">8</td><td style = \"text-align: right;\">80.0634</td><td style = \"text-align: right;\">0</td><td style = \"text-align: right;\">33049475</td><td style = \"text-align: left;\">1</td><td style = \"text-align: left;\">1</td><td style = \"text-align: left;\">1</td><td style = \"text-align: left;\">0</td><td style = \"text-align: left;\">0</td><td style = \"text-align: left;\">0</td><td style = \"text-align: left;\">0</td><td style = \"text-align: left;\">1</td><td style = \"text-align: left;\">0</td><td style = \"text-align: left;\">50</td><td style = \"text-align: left;\">0</td><td style = \"text-align: left;\">0</td><td style = \"text-align: left;\">31</td></tr><tr><td class = \"rowNumber\" style = \"font-weight: bold; text-align: right;\">9</td><td style = \"text-align: right;\">88.7516</td><td style = \"text-align: right;\">1</td><td style = \"text-align: right;\">35925639</td><td style = \"text-align: left;\">1</td><td style = \"text-align: left;\">1</td><td style = \"text-align: left;\">0</td><td style = \"text-align: left;\">0</td><td style = \"text-align: left;\">0</td><td style = \"text-align: left;\">0</td><td style = \"text-align: left;\">0</td><td style = \"text-align: left;\">0</td><td style = \"text-align: left;\">0</td><td style = \"text-align: left;\">59</td><td style = \"text-align: left;\">0</td><td style = \"text-align: left;\">1</td><td style = \"text-align: left;\">50</td></tr><tr><td class = \"rowNumber\" style = \"font-weight: bold; text-align: right;\">10</td><td style = \"text-align: right;\">61.4361</td><td style = \"text-align: right;\">1</td><td style = \"text-align: right;\">35008758</td><td style = \"text-align: left;\">1</td><td style = \"text-align: left;\">0</td><td style = \"text-align: left;\">0</td><td style = \"text-align: left;\">0</td><td style = \"text-align: left;\">0</td><td style = \"text-align: left;\">1</td><td style = \"text-align: left;\">1</td><td style = \"text-align: left;\">1</td><td style = \"text-align: left;\">0</td><td style = \"text-align: left;\">44</td><td style = \"text-align: left;\">0</td><td style = \"text-align: left;\">1</td><td style = \"text-align: left;\">14</td></tr><tr><td class = \"rowNumber\" style = \"font-weight: bold; text-align: right;\">11</td><td style = \"text-align: right;\">63.8114</td><td style = \"text-align: right;\">1</td><td style = \"text-align: right;\">35005307</td><td style = \"text-align: left;\">1</td><td style = \"text-align: left;\">0</td><td style = \"text-align: left;\">0</td><td style = \"text-align: left;\">0</td><td style = \"text-align: left;\">0</td><td style = \"text-align: left;\">1</td><td style = \"text-align: left;\">0</td><td style = \"text-align: left;\">0</td><td style = \"text-align: left;\">1</td><td style = \"text-align: left;\">NA</td><td style = \"text-align: left;\">0</td><td style = \"text-align: left;\">1</td><td style = \"text-align: left;\">73</td></tr><tr><td class = \"rowNumber\" style = \"font-weight: bold; text-align: right;\">12</td><td style = \"text-align: right;\">66.0135</td><td style = \"text-align: right;\">0</td><td style = \"text-align: right;\">33024537</td><td style = \"text-align: left;\">1</td><td style = \"text-align: left;\">0</td><td style = \"text-align: left;\">0</td><td style = \"text-align: left;\">0</td><td style = \"text-align: left;\">0</td><td style = \"text-align: left;\">1</td><td style = \"text-align: left;\">1</td><td style = \"text-align: left;\">1</td><td style = \"text-align: left;\">1</td><td style = \"text-align: left;\">60</td><td style = \"text-align: left;\">0</td><td style = \"text-align: left;\">1</td><td style = \"text-align: left;\">56</td></tr><tr><td class = \"rowNumber\" style = \"font-weight: bold; text-align: right;\">13</td><td style = \"text-align: right;\">39.5818</td><td style = \"text-align: right;\">1</td><td style = \"text-align: right;\">33075212</td><td style = \"text-align: left;\">NA</td><td style = \"text-align: left;\">NA</td><td style = \"text-align: left;\">NA</td><td style = \"text-align: left;\">NA</td><td style = \"text-align: left;\">NA</td><td style = \"text-align: left;\">NA</td><td style = \"text-align: left;\">1</td><td style = \"text-align: left;\">1</td><td style = \"text-align: left;\">0</td><td style = \"text-align: left;\">NA</td><td style = \"text-align: left;\">0</td><td style = \"text-align: left;\">1</td><td style = \"text-align: left;\">60</td></tr><tr><td style = \"text-align: right;\">&vellip;</td><td style = \"text-align: right;\">&vellip;</td><td style = \"text-align: right;\">&vellip;</td><td style = \"text-align: right;\">&vellip;</td><td style = \"text-align: right;\">&vellip;</td><td style = \"text-align: right;\">&vellip;</td><td style = \"text-align: right;\">&vellip;</td><td style = \"text-align: right;\">&vellip;</td><td style = \"text-align: right;\">&vellip;</td><td style = \"text-align: right;\">&vellip;</td><td style = \"text-align: right;\">&vellip;</td><td style = \"text-align: right;\">&vellip;</td><td style = \"text-align: right;\">&vellip;</td><td style = \"text-align: right;\">&vellip;</td><td style = \"text-align: right;\">&vellip;</td><td style = \"text-align: right;\">&vellip;</td><td style = \"text-align: right;\">&vellip;</td></tr><tr><td class = \"rowNumber\" style = \"font-weight: bold; text-align: right;\">17288</td><td style = \"text-align: right;\">35.0643</td><td style = \"text-align: right;\">1</td><td style = \"text-align: right;\">35012087</td><td style = \"text-align: left;\">1</td><td style = \"text-align: left;\">0</td><td style = \"text-align: left;\">NA</td><td style = \"text-align: left;\">1</td><td style = \"text-align: left;\">1</td><td style = \"text-align: left;\">1</td><td style = \"text-align: left;\">1</td><td style = \"text-align: left;\">1</td><td style = \"text-align: left;\">0</td><td style = \"text-align: left;\">31</td><td style = \"text-align: left;\">0</td><td style = \"text-align: left;\">0</td><td style = \"text-align: left;\">41</td></tr><tr><td class = \"rowNumber\" style = \"font-weight: bold; text-align: right;\">17289</td><td style = \"text-align: right;\">67.246</td><td style = \"text-align: right;\">1</td><td style = \"text-align: right;\">33081743</td><td style = \"text-align: left;\">1</td><td style = \"text-align: left;\">1</td><td style = \"text-align: left;\">NA</td><td style = \"text-align: left;\">0</td><td style = \"text-align: left;\">0</td><td style = \"text-align: left;\">1</td><td style = \"text-align: left;\">0</td><td style = \"text-align: left;\">0</td><td style = \"text-align: left;\">1</td><td style = \"text-align: left;\">96</td><td style = \"text-align: left;\">0</td><td style = \"text-align: left;\">1</td><td style = \"text-align: left;\">60</td></tr><tr><td class = \"rowNumber\" style = \"font-weight: bold; text-align: right;\">17290</td><td style = \"text-align: right;\">52.3272</td><td style = \"text-align: right;\">1</td><td style = \"text-align: right;\">33099243</td><td style = \"text-align: left;\">1</td><td style = \"text-align: left;\">1</td><td style = \"text-align: left;\">0</td><td style = \"text-align: left;\">0</td><td style = \"text-align: left;\">1</td><td style = \"text-align: left;\">0</td><td style = \"text-align: left;\">0</td><td style = \"text-align: left;\">1</td><td style = \"text-align: left;\">0</td><td style = \"text-align: left;\">60</td><td style = \"text-align: left;\">0</td><td style = \"text-align: left;\">0</td><td style = \"text-align: left;\">52</td></tr><tr><td class = \"rowNumber\" style = \"font-weight: bold; text-align: right;\">17291</td><td style = \"text-align: right;\">76.769</td><td style = \"text-align: right;\">1</td><td style = \"text-align: right;\">31069019</td><td style = \"text-align: left;\">1</td><td style = \"text-align: left;\">0</td><td style = \"text-align: left;\">0</td><td style = \"text-align: left;\">0</td><td style = \"text-align: left;\">1</td><td style = \"text-align: left;\">0</td><td style = \"text-align: left;\">0</td><td style = \"text-align: left;\">1</td><td style = \"text-align: left;\">0</td><td style = \"text-align: left;\">56</td><td style = \"text-align: left;\">0</td><td style = \"text-align: left;\">1</td><td style = \"text-align: left;\">54</td></tr><tr><td class = \"rowNumber\" style = \"font-weight: bold; text-align: right;\">17292</td><td style = \"text-align: right;\">62.9471</td><td style = \"text-align: right;\">0</td><td style = \"text-align: right;\">23174986</td><td style = \"text-align: left;\">1</td><td style = \"text-align: left;\">0</td><td style = \"text-align: left;\">0</td><td style = \"text-align: left;\">0</td><td style = \"text-align: left;\">1</td><td style = \"text-align: left;\">1</td><td style = \"text-align: left;\">0</td><td style = \"text-align: left;\">0</td><td style = \"text-align: left;\">0</td><td style = \"text-align: left;\">77</td><td style = \"text-align: left;\">0</td><td style = \"text-align: left;\">1</td><td style = \"text-align: left;\">62</td></tr><tr><td class = \"rowNumber\" style = \"font-weight: bold; text-align: right;\">17293</td><td style = \"text-align: right;\">67.1646</td><td style = \"text-align: right;\">0</td><td style = \"text-align: right;\">53012623</td><td style = \"text-align: left;\">NA</td><td style = \"text-align: left;\">NA</td><td style = \"text-align: left;\">NA</td><td style = \"text-align: left;\">NA</td><td style = \"text-align: left;\">NA</td><td style = \"text-align: left;\">NA</td><td style = \"text-align: left;\">0</td><td style = \"text-align: left;\">1</td><td style = \"text-align: left;\">0</td><td style = \"text-align: left;\">68</td><td style = \"text-align: left;\">0</td><td style = \"text-align: left;\">0</td><td style = \"text-align: left;\">27</td></tr><tr><td class = \"rowNumber\" style = \"font-weight: bold; text-align: right;\">17294</td><td style = \"text-align: right;\">60.3028</td><td style = \"text-align: right;\">0</td><td style = \"text-align: right;\">35038301</td><td style = \"text-align: left;\">1</td><td style = \"text-align: left;\">1</td><td style = \"text-align: left;\">1</td><td style = \"text-align: left;\">0</td><td style = \"text-align: left;\">0</td><td style = \"text-align: left;\">0</td><td style = \"text-align: left;\">0</td><td style = \"text-align: left;\">1</td><td style = \"text-align: left;\">0</td><td style = \"text-align: left;\">46</td><td style = \"text-align: left;\">0</td><td style = \"text-align: left;\">1</td><td style = \"text-align: left;\">NA</td></tr><tr><td class = \"rowNumber\" style = \"font-weight: bold; text-align: right;\">17295</td><td style = \"text-align: right;\">49.4898</td><td style = \"text-align: right;\">1</td><td style = \"text-align: right;\">35012178</td><td style = \"text-align: left;\">1</td><td style = \"text-align: left;\">1</td><td style = \"text-align: left;\">1</td><td style = \"text-align: left;\">0</td><td style = \"text-align: left;\">0</td><td style = \"text-align: left;\">0</td><td style = \"text-align: left;\">1</td><td style = \"text-align: left;\">1</td><td style = \"text-align: left;\">0</td><td style = \"text-align: left;\">34</td><td style = \"text-align: left;\">0</td><td style = \"text-align: left;\">1</td><td style = \"text-align: left;\">43</td></tr><tr><td class = \"rowNumber\" style = \"font-weight: bold; text-align: right;\">17296</td><td style = \"text-align: right;\">56.4573</td><td style = \"text-align: right;\">0</td><td style = \"text-align: right;\">35005320</td><td style = \"text-align: left;\">1</td><td style = \"text-align: left;\">0</td><td style = \"text-align: left;\">0</td><td style = \"text-align: left;\">0</td><td style = \"text-align: left;\">0</td><td style = \"text-align: left;\">1</td><td style = \"text-align: left;\">0</td><td style = \"text-align: left;\">0</td><td style = \"text-align: left;\">0</td><td style = \"text-align: left;\">15</td><td style = \"text-align: left;\">0</td><td style = \"text-align: left;\">0</td><td style = \"text-align: left;\">35</td></tr><tr><td class = \"rowNumber\" style = \"font-weight: bold; text-align: right;\">17297</td><td style = \"text-align: right;\">59.7006</td><td style = \"text-align: right;\">0</td><td style = \"text-align: right;\">33016070</td><td style = \"text-align: left;\">1</td><td style = \"text-align: left;\">0</td><td style = \"text-align: left;\">0</td><td style = \"text-align: left;\">0</td><td style = \"text-align: left;\">0</td><td style = \"text-align: left;\">1</td><td style = \"text-align: left;\">0</td><td style = \"text-align: left;\">NA</td><td style = \"text-align: left;\">0</td><td style = \"text-align: left;\">41</td><td style = \"text-align: left;\">0</td><td style = \"text-align: left;\">0</td><td style = \"text-align: left;\">24</td></tr><tr><td class = \"rowNumber\" style = \"font-weight: bold; text-align: right;\">17298</td><td style = \"text-align: right;\">57.5156</td><td style = \"text-align: right;\">0</td><td style = \"text-align: right;\">53007514</td><td style = \"text-align: left;\">1</td><td style = \"text-align: left;\">1</td><td style = \"text-align: left;\">1</td><td style = \"text-align: left;\">0</td><td style = \"text-align: left;\">0</td><td style = \"text-align: left;\">0</td><td style = \"text-align: left;\">0</td><td style = \"text-align: left;\">0</td><td style = \"text-align: left;\">0</td><td style = \"text-align: left;\">79</td><td style = \"text-align: left;\">0</td><td style = \"text-align: left;\">1</td><td style = \"text-align: left;\">46</td></tr><tr><td class = \"rowNumber\" style = \"font-weight: bold; text-align: right;\">17299</td><td style = \"text-align: right;\">27.3903</td><td style = \"text-align: right;\">1</td><td style = \"text-align: right;\">33075212</td><td style = \"text-align: left;\">NA</td><td style = \"text-align: left;\">NA</td><td style = \"text-align: left;\">NA</td><td style = \"text-align: left;\">NA</td><td style = \"text-align: left;\">NA</td><td style = \"text-align: left;\">NA</td><td style = \"text-align: left;\">1</td><td style = \"text-align: left;\">1</td><td style = \"text-align: left;\">0</td><td style = \"text-align: left;\">57</td><td style = \"text-align: left;\">0</td><td style = \"text-align: left;\">0</td><td style = \"text-align: left;\">-9</td></tr></tbody></table></div>"
      ],
      "text/latex": [
       "\\begin{tabular}{r|cccccc}\n",
       "\t& outcome.test.score & treatment & school & is.female & mother.attended.secondary.school & \\\\\n",
       "\t\\hline\n",
       "\t& Float64 & Int64 & Int64 & String3 & String3 & \\\\\n",
       "\t\\hline\n",
       "\t1 & 47.3674 & 0 & 17018390 & NA & NA & $\\dots$ \\\\\n",
       "\t2 & 58.1768 & 1 & 33002614 & NA & NA & $\\dots$ \\\\\n",
       "\t3 & 56.6717 & 1 & 35002914 & 1 & 1 & $\\dots$ \\\\\n",
       "\t4 & 29.0794 & 0 & 35908915 & 1 & 0 & $\\dots$ \\\\\n",
       "\t5 & 49.5635 & 1 & 33047324 & 1 & 0 & $\\dots$ \\\\\n",
       "\t6 & 43.0994 & 0 & 53012542 & 1 & 0 & $\\dots$ \\\\\n",
       "\t7 & 71.3296 & 0 & 53006984 & 1 & 1 & $\\dots$ \\\\\n",
       "\t8 & 80.0634 & 0 & 33049475 & 1 & 1 & $\\dots$ \\\\\n",
       "\t9 & 88.7516 & 1 & 35925639 & 1 & 1 & $\\dots$ \\\\\n",
       "\t10 & 61.4361 & 1 & 35008758 & 1 & 0 & $\\dots$ \\\\\n",
       "\t11 & 63.8114 & 1 & 35005307 & 1 & 0 & $\\dots$ \\\\\n",
       "\t12 & 66.0135 & 0 & 33024537 & 1 & 0 & $\\dots$ \\\\\n",
       "\t13 & 39.5818 & 1 & 33075212 & NA & NA & $\\dots$ \\\\\n",
       "\t14 & 64.2641 & 1 & 53011520 & 1 & 0 & $\\dots$ \\\\\n",
       "\t15 & 66.0881 & 1 & 33058679 & 1 & 0 & $\\dots$ \\\\\n",
       "\t16 & 37.5406 & 0 & 23100575 & 1 & 0 & $\\dots$ \\\\\n",
       "\t17 & 59.1921 & 0 & 35011502 & 1 & 0 & $\\dots$ \\\\\n",
       "\t18 & 34.7024 & 0 & 35044453 & 1 & 0 & $\\dots$ \\\\\n",
       "\t19 & 36.5031 & 0 & 35012075 & NA & NA & $\\dots$ \\\\\n",
       "\t20 & 54.4889 & 1 & 33126267 & 1 & 0 & $\\dots$ \\\\\n",
       "\t21 & 51.4183 & 1 & 35045160 & 1 & 1 & $\\dots$ \\\\\n",
       "\t22 & 59.4325 & 1 & 31068543 & 1 & 0 & $\\dots$ \\\\\n",
       "\t23 & 70.1714 & 1 & 17002648 & 1 & 1 & $\\dots$ \\\\\n",
       "\t24 & 61.6955 & 1 & 33019223 & 1 & 0 & $\\dots$ \\\\\n",
       "\t25 & 66.9064 & 0 & 31069191 & 1 & 0 & $\\dots$ \\\\\n",
       "\t26 & 50.3237 & 1 & 33025576 & 1 & 0 & $\\dots$ \\\\\n",
       "\t27 & 65.6725 & 1 & 23131802 & 1 & 0 & $\\dots$ \\\\\n",
       "\t28 & 78.4616 & 1 & 35901805 & 1 & 1 & $\\dots$ \\\\\n",
       "\t29 & 27.846 & 1 & 33072310 & 1 & 0 & $\\dots$ \\\\\n",
       "\t30 & 34.9821 & 0 & 35901118 & 1 & 0 & $\\dots$ \\\\\n",
       "\t$\\dots$ & $\\dots$ & $\\dots$ & $\\dots$ & $\\dots$ & $\\dots$ &  \\\\\n",
       "\\end{tabular}\n"
      ],
      "text/plain": [
       "\u001b[1m17299×16 DataFrame\u001b[0m\n",
       "\u001b[1m   Row \u001b[0m│\u001b[1m outcome.test.score \u001b[0m\u001b[1m treatment \u001b[0m\u001b[1m school   \u001b[0m\u001b[1m is.female \u001b[0m\u001b[1m mother.attended.s\u001b[0m ⋯\n",
       "       │\u001b[90m Float64            \u001b[0m\u001b[90m Int64     \u001b[0m\u001b[90m Int64    \u001b[0m\u001b[90m String3   \u001b[0m\u001b[90m String3          \u001b[0m ⋯\n",
       "───────┼────────────────────────────────────────────────────────────────────────\n",
       "     1 │            47.3674          0  17018390  NA         NA                ⋯\n",
       "     2 │            58.1768          1  33002614  NA         NA\n",
       "     3 │            56.6717          1  35002914  1          1\n",
       "     4 │            29.0794          0  35908915  1          0\n",
       "     5 │            49.5635          1  33047324  1          0                 ⋯\n",
       "     6 │            43.0994          0  53012542  1          0\n",
       "     7 │            71.3296          0  53006984  1          1\n",
       "     8 │            80.0634          0  33049475  1          1\n",
       "     9 │            88.7516          1  35925639  1          1                 ⋯\n",
       "    10 │            61.4361          1  35008758  1          0\n",
       "    11 │            63.8114          1  35005307  1          0\n",
       "   ⋮   │         ⋮               ⋮         ⋮          ⋮                     ⋮  ⋱\n",
       " 17290 │            52.3272          1  33099243  1          1\n",
       " 17291 │            76.769           1  31069019  1          0                 ⋯\n",
       " 17292 │            62.9471          0  23174986  1          0\n",
       " 17293 │            67.1646          0  53012623  NA         NA\n",
       " 17294 │            60.3028          0  35038301  1          1\n",
       " 17295 │            49.4898          1  35012178  1          1                 ⋯\n",
       " 17296 │            56.4573          0  35005320  1          0\n",
       " 17297 │            59.7006          0  33016070  1          0\n",
       " 17298 │            57.5156          0  53007514  1          1\n",
       " 17299 │            27.3903          1  33075212  NA         NA                ⋯\n",
       "\u001b[36m                                               12 columns and 17278 rows omitted\u001b[0m"
      ]
     },
     "execution_count": 3,
     "metadata": {},
     "output_type": "execute_result"
    }
   ],
   "source": [
    "# Read CSV file\n",
    "df = CSV.read(\"./data/bruhn2016.csv\", DataFrame)"
   ]
  },
  {
   "cell_type": "code",
   "execution_count": 4,
   "metadata": {},
   "outputs": [
    {
     "data": {
      "text/html": [
       "<div><div style = \"float: left;\"><span>5×16 DataFrame</span></div><div style = \"clear: both;\"></div></div><div class = \"data-frame\" style = \"overflow-x: scroll;\"><table class = \"data-frame\" style = \"margin-bottom: 6px;\"><thead><tr class = \"header\"><th class = \"rowNumber\" style = \"font-weight: bold; text-align: right;\">Row</th><th style = \"text-align: left;\">outcome.test.score</th><th style = \"text-align: left;\">treatment</th><th style = \"text-align: left;\">school</th><th style = \"text-align: left;\">is.female</th><th style = \"text-align: left;\">mother.attended.secondary.school</th><th style = \"text-align: left;\">father.attened.secondary.school</th><th style = \"text-align: left;\">failed.at.least.one.school.year</th><th style = \"text-align: left;\">family.receives.cash.transfer</th><th style = \"text-align: left;\">has.computer.with.internet.at.home</th><th style = \"text-align: left;\">is.unemployed</th><th style = \"text-align: left;\">has.some.form.of.income</th><th style = \"text-align: left;\">saves.money.for.future.purchases</th><th style = \"text-align: left;\">intention.to.save.index</th><th style = \"text-align: left;\">makes.list.of.expenses.every.month</th><th style = \"text-align: left;\">negotiates.prices.or.payment.methods</th><th style = \"text-align: left;\">financial.autonomy.index</th></tr><tr class = \"subheader headerLastRow\"><th class = \"rowNumber\" style = \"font-weight: bold; text-align: right;\"></th><th title = \"Float64\" style = \"text-align: left;\">Float64</th><th title = \"Int64\" style = \"text-align: left;\">Int64</th><th title = \"Int64\" style = \"text-align: left;\">Int64</th><th title = \"String3\" style = \"text-align: left;\">String3</th><th title = \"String3\" style = \"text-align: left;\">String3</th><th title = \"String3\" style = \"text-align: left;\">String3</th><th title = \"String3\" style = \"text-align: left;\">String3</th><th title = \"String3\" style = \"text-align: left;\">String3</th><th title = \"String3\" style = \"text-align: left;\">String3</th><th title = \"String3\" style = \"text-align: left;\">String3</th><th title = \"String3\" style = \"text-align: left;\">String3</th><th title = \"String3\" style = \"text-align: left;\">String3</th><th title = \"String3\" style = \"text-align: left;\">String3</th><th title = \"String3\" style = \"text-align: left;\">String3</th><th title = \"String3\" style = \"text-align: left;\">String3</th><th title = \"String3\" style = \"text-align: left;\">String3</th></tr></thead><tbody><tr><td class = \"rowNumber\" style = \"font-weight: bold; text-align: right;\">1</td><td style = \"text-align: right;\">47.3674</td><td style = \"text-align: right;\">0</td><td style = \"text-align: right;\">17018390</td><td style = \"text-align: left;\">NA</td><td style = \"text-align: left;\">NA</td><td style = \"text-align: left;\">NA</td><td style = \"text-align: left;\">NA</td><td style = \"text-align: left;\">NA</td><td style = \"text-align: left;\">NA</td><td style = \"text-align: left;\">1</td><td style = \"text-align: left;\">1</td><td style = \"text-align: left;\">0</td><td style = \"text-align: left;\">29</td><td style = \"text-align: left;\">0</td><td style = \"text-align: left;\">1</td><td style = \"text-align: left;\">52</td></tr><tr><td class = \"rowNumber\" style = \"font-weight: bold; text-align: right;\">2</td><td style = \"text-align: right;\">58.1768</td><td style = \"text-align: right;\">1</td><td style = \"text-align: right;\">33002614</td><td style = \"text-align: left;\">NA</td><td style = \"text-align: left;\">NA</td><td style = \"text-align: left;\">NA</td><td style = \"text-align: left;\">NA</td><td style = \"text-align: left;\">NA</td><td style = \"text-align: left;\">NA</td><td style = \"text-align: left;\">0</td><td style = \"text-align: left;\">0</td><td style = \"text-align: left;\">0</td><td style = \"text-align: left;\">41</td><td style = \"text-align: left;\">0</td><td style = \"text-align: left;\">0</td><td style = \"text-align: left;\">27</td></tr><tr><td class = \"rowNumber\" style = \"font-weight: bold; text-align: right;\">3</td><td style = \"text-align: right;\">56.6717</td><td style = \"text-align: right;\">1</td><td style = \"text-align: right;\">35002914</td><td style = \"text-align: left;\">1</td><td style = \"text-align: left;\">1</td><td style = \"text-align: left;\">1</td><td style = \"text-align: left;\">0</td><td style = \"text-align: left;\">0</td><td style = \"text-align: left;\">0</td><td style = \"text-align: left;\">1</td><td style = \"text-align: left;\">0</td><td style = \"text-align: left;\">0</td><td style = \"text-align: left;\">48</td><td style = \"text-align: left;\">0</td><td style = \"text-align: left;\">1</td><td style = \"text-align: left;\">56</td></tr><tr><td class = \"rowNumber\" style = \"font-weight: bold; text-align: right;\">4</td><td style = \"text-align: right;\">29.0794</td><td style = \"text-align: right;\">0</td><td style = \"text-align: right;\">35908915</td><td style = \"text-align: left;\">1</td><td style = \"text-align: left;\">0</td><td style = \"text-align: left;\">0</td><td style = \"text-align: left;\">0</td><td style = \"text-align: left;\">0</td><td style = \"text-align: left;\">0</td><td style = \"text-align: left;\">0</td><td style = \"text-align: left;\">0</td><td style = \"text-align: left;\">0</td><td style = \"text-align: left;\">42</td><td style = \"text-align: left;\">0</td><td style = \"text-align: left;\">0</td><td style = \"text-align: left;\">27</td></tr><tr><td class = \"rowNumber\" style = \"font-weight: bold; text-align: right;\">5</td><td style = \"text-align: right;\">49.5635</td><td style = \"text-align: right;\">1</td><td style = \"text-align: right;\">33047324</td><td style = \"text-align: left;\">1</td><td style = \"text-align: left;\">0</td><td style = \"text-align: left;\">0</td><td style = \"text-align: left;\">0</td><td style = \"text-align: left;\">0</td><td style = \"text-align: left;\">1</td><td style = \"text-align: left;\">0</td><td style = \"text-align: left;\">1</td><td style = \"text-align: left;\">0</td><td style = \"text-align: left;\">50</td><td style = \"text-align: left;\">0</td><td style = \"text-align: left;\">1</td><td style = \"text-align: left;\">31</td></tr></tbody></table></div>"
      ],
      "text/latex": [
       "\\begin{tabular}{r|cccccc}\n",
       "\t& outcome.test.score & treatment & school & is.female & mother.attended.secondary.school & \\\\\n",
       "\t\\hline\n",
       "\t& Float64 & Int64 & Int64 & String3 & String3 & \\\\\n",
       "\t\\hline\n",
       "\t1 & 47.3674 & 0 & 17018390 & NA & NA & $\\dots$ \\\\\n",
       "\t2 & 58.1768 & 1 & 33002614 & NA & NA & $\\dots$ \\\\\n",
       "\t3 & 56.6717 & 1 & 35002914 & 1 & 1 & $\\dots$ \\\\\n",
       "\t4 & 29.0794 & 0 & 35908915 & 1 & 0 & $\\dots$ \\\\\n",
       "\t5 & 49.5635 & 1 & 33047324 & 1 & 0 & $\\dots$ \\\\\n",
       "\\end{tabular}\n"
      ],
      "text/plain": [
       "\u001b[1m5×16 DataFrame\u001b[0m\n",
       "\u001b[1m Row \u001b[0m│\u001b[1m outcome.test.score \u001b[0m\u001b[1m treatment \u001b[0m\u001b[1m school   \u001b[0m\u001b[1m is.female \u001b[0m\u001b[1m mother.attended.sec\u001b[0m ⋯\n",
       "     │\u001b[90m Float64            \u001b[0m\u001b[90m Int64     \u001b[0m\u001b[90m Int64    \u001b[0m\u001b[90m String3   \u001b[0m\u001b[90m String3            \u001b[0m ⋯\n",
       "─────┼──────────────────────────────────────────────────────────────────────────\n",
       "   1 │            47.3674          0  17018390  NA         NA                  ⋯\n",
       "   2 │            58.1768          1  33002614  NA         NA\n",
       "   3 │            56.6717          1  35002914  1          1\n",
       "   4 │            29.0794          0  35908915  1          0\n",
       "   5 │            49.5635          1  33047324  1          0                   ⋯\n",
       "\u001b[36m                                                              12 columns omitted\u001b[0m"
      ]
     },
     "execution_count": 4,
     "metadata": {},
     "output_type": "execute_result"
    }
   ],
   "source": [
    "first(df, 5)"
   ]
  },
  {
   "cell_type": "code",
   "execution_count": 5,
   "metadata": {},
   "outputs": [
    {
     "data": {
      "text/html": [
       "<div><div style = \"float: left;\"><span>17299×16 DataFrame</span></div><div style = \"float: right;\"><span style = \"font-style: italic;\">17274 rows omitted</span></div><div style = \"clear: both;\"></div></div><div class = \"data-frame\" style = \"overflow-x: scroll;\"><table class = \"data-frame\" style = \"margin-bottom: 6px;\"><thead><tr class = \"header\"><th class = \"rowNumber\" style = \"font-weight: bold; text-align: right;\">Row</th><th style = \"text-align: left;\">outcome.test.score</th><th style = \"text-align: left;\">treatment</th><th style = \"text-align: left;\">school</th><th style = \"text-align: left;\">is.female</th><th style = \"text-align: left;\">mother.attended.secondary.school</th><th style = \"text-align: left;\">father.attened.secondary.school</th><th style = \"text-align: left;\">failed.at.least.one.school.year</th><th style = \"text-align: left;\">family.receives.cash.transfer</th><th style = \"text-align: left;\">has.computer.with.internet.at.home</th><th style = \"text-align: left;\">is.unemployed</th><th style = \"text-align: left;\">has.some.form.of.income</th><th style = \"text-align: left;\">saves.money.for.future.purchases</th><th style = \"text-align: left;\">intention.to.save.index</th><th style = \"text-align: left;\">makes.list.of.expenses.every.month</th><th style = \"text-align: left;\">negotiates.prices.or.payment.methods</th><th style = \"text-align: left;\">financial.autonomy.index</th></tr><tr class = \"subheader headerLastRow\"><th class = \"rowNumber\" style = \"font-weight: bold; text-align: right;\"></th><th title = \"Float64\" style = \"text-align: left;\">Float64</th><th title = \"Int64\" style = \"text-align: left;\">Int64</th><th title = \"Int64\" style = \"text-align: left;\">Int64</th><th title = \"String3\" style = \"text-align: left;\">String3</th><th title = \"String3\" style = \"text-align: left;\">String3</th><th title = \"String3\" style = \"text-align: left;\">String3</th><th title = \"String3\" style = \"text-align: left;\">String3</th><th title = \"String3\" style = \"text-align: left;\">String3</th><th title = \"String3\" style = \"text-align: left;\">String3</th><th title = \"String3\" style = \"text-align: left;\">String3</th><th title = \"String3\" style = \"text-align: left;\">String3</th><th title = \"String3\" style = \"text-align: left;\">String3</th><th title = \"String3\" style = \"text-align: left;\">String3</th><th title = \"String3\" style = \"text-align: left;\">String3</th><th title = \"String3\" style = \"text-align: left;\">String3</th><th title = \"String3\" style = \"text-align: left;\">String3</th></tr></thead><tbody><tr><td class = \"rowNumber\" style = \"font-weight: bold; text-align: right;\">1</td><td style = \"text-align: right;\">47.3674</td><td style = \"text-align: right;\">0</td><td style = \"text-align: right;\">17018390</td><td style = \"text-align: left;\">NA</td><td style = \"text-align: left;\">NA</td><td style = \"text-align: left;\">NA</td><td style = \"text-align: left;\">NA</td><td style = \"text-align: left;\">NA</td><td style = \"text-align: left;\">NA</td><td style = \"text-align: left;\">1</td><td style = \"text-align: left;\">1</td><td style = \"text-align: left;\">0</td><td style = \"text-align: left;\">29</td><td style = \"text-align: left;\">0</td><td style = \"text-align: left;\">1</td><td style = \"text-align: left;\">52</td></tr><tr><td class = \"rowNumber\" style = \"font-weight: bold; text-align: right;\">2</td><td style = \"text-align: right;\">58.1768</td><td style = \"text-align: right;\">1</td><td style = \"text-align: right;\">33002614</td><td style = \"text-align: left;\">NA</td><td style = \"text-align: left;\">NA</td><td style = \"text-align: left;\">NA</td><td style = \"text-align: left;\">NA</td><td style = \"text-align: left;\">NA</td><td style = \"text-align: left;\">NA</td><td style = \"text-align: left;\">0</td><td style = \"text-align: left;\">0</td><td style = \"text-align: left;\">0</td><td style = \"text-align: left;\">41</td><td style = \"text-align: left;\">0</td><td style = \"text-align: left;\">0</td><td style = \"text-align: left;\">27</td></tr><tr><td class = \"rowNumber\" style = \"font-weight: bold; text-align: right;\">3</td><td style = \"text-align: right;\">56.6717</td><td style = \"text-align: right;\">1</td><td style = \"text-align: right;\">35002914</td><td style = \"text-align: left;\">1</td><td style = \"text-align: left;\">1</td><td style = \"text-align: left;\">1</td><td style = \"text-align: left;\">0</td><td style = \"text-align: left;\">0</td><td style = \"text-align: left;\">0</td><td style = \"text-align: left;\">1</td><td style = \"text-align: left;\">0</td><td style = \"text-align: left;\">0</td><td style = \"text-align: left;\">48</td><td style = \"text-align: left;\">0</td><td style = \"text-align: left;\">1</td><td style = \"text-align: left;\">56</td></tr><tr><td class = \"rowNumber\" style = \"font-weight: bold; text-align: right;\">4</td><td style = \"text-align: right;\">29.0794</td><td style = \"text-align: right;\">0</td><td style = \"text-align: right;\">35908915</td><td style = \"text-align: left;\">1</td><td style = \"text-align: left;\">0</td><td style = \"text-align: left;\">0</td><td style = \"text-align: left;\">0</td><td style = \"text-align: left;\">0</td><td style = \"text-align: left;\">0</td><td style = \"text-align: left;\">0</td><td style = \"text-align: left;\">0</td><td style = \"text-align: left;\">0</td><td style = \"text-align: left;\">42</td><td style = \"text-align: left;\">0</td><td style = \"text-align: left;\">0</td><td style = \"text-align: left;\">27</td></tr><tr><td class = \"rowNumber\" style = \"font-weight: bold; text-align: right;\">5</td><td style = \"text-align: right;\">49.5635</td><td style = \"text-align: right;\">1</td><td style = \"text-align: right;\">33047324</td><td style = \"text-align: left;\">1</td><td style = \"text-align: left;\">0</td><td style = \"text-align: left;\">0</td><td style = \"text-align: left;\">0</td><td style = \"text-align: left;\">0</td><td style = \"text-align: left;\">1</td><td style = \"text-align: left;\">0</td><td style = \"text-align: left;\">1</td><td style = \"text-align: left;\">0</td><td style = \"text-align: left;\">50</td><td style = \"text-align: left;\">0</td><td style = \"text-align: left;\">1</td><td style = \"text-align: left;\">31</td></tr><tr><td class = \"rowNumber\" style = \"font-weight: bold; text-align: right;\">6</td><td style = \"text-align: right;\">43.0994</td><td style = \"text-align: right;\">0</td><td style = \"text-align: right;\">53012542</td><td style = \"text-align: left;\">1</td><td style = \"text-align: left;\">0</td><td style = \"text-align: left;\">0</td><td style = \"text-align: left;\">0</td><td style = \"text-align: left;\">1</td><td style = \"text-align: left;\">1</td><td style = \"text-align: left;\">0</td><td style = \"text-align: left;\">1</td><td style = \"text-align: left;\">0</td><td style = \"text-align: left;\">93</td><td style = \"text-align: left;\">0</td><td style = \"text-align: left;\">1</td><td style = \"text-align: left;\">77</td></tr><tr><td class = \"rowNumber\" style = \"font-weight: bold; text-align: right;\">7</td><td style = \"text-align: right;\">71.3296</td><td style = \"text-align: right;\">0</td><td style = \"text-align: right;\">53006984</td><td style = \"text-align: left;\">1</td><td style = \"text-align: left;\">1</td><td style = \"text-align: left;\">0</td><td style = \"text-align: left;\">0</td><td style = \"text-align: left;\">0</td><td style = \"text-align: left;\">1</td><td style = \"text-align: left;\">1</td><td style = \"text-align: left;\">1</td><td style = \"text-align: left;\">0</td><td style = \"text-align: left;\">52</td><td style = \"text-align: left;\">0</td><td style = \"text-align: left;\">1</td><td style = \"text-align: left;\">43</td></tr><tr><td class = \"rowNumber\" style = \"font-weight: bold; text-align: right;\">8</td><td style = \"text-align: right;\">80.0634</td><td style = \"text-align: right;\">0</td><td style = \"text-align: right;\">33049475</td><td style = \"text-align: left;\">1</td><td style = \"text-align: left;\">1</td><td style = \"text-align: left;\">1</td><td style = \"text-align: left;\">0</td><td style = \"text-align: left;\">0</td><td style = \"text-align: left;\">0</td><td style = \"text-align: left;\">0</td><td style = \"text-align: left;\">1</td><td style = \"text-align: left;\">0</td><td style = \"text-align: left;\">50</td><td style = \"text-align: left;\">0</td><td style = \"text-align: left;\">0</td><td style = \"text-align: left;\">31</td></tr><tr><td class = \"rowNumber\" style = \"font-weight: bold; text-align: right;\">9</td><td style = \"text-align: right;\">88.7516</td><td style = \"text-align: right;\">1</td><td style = \"text-align: right;\">35925639</td><td style = \"text-align: left;\">1</td><td style = \"text-align: left;\">1</td><td style = \"text-align: left;\">0</td><td style = \"text-align: left;\">0</td><td style = \"text-align: left;\">0</td><td style = \"text-align: left;\">0</td><td style = \"text-align: left;\">0</td><td style = \"text-align: left;\">0</td><td style = \"text-align: left;\">0</td><td style = \"text-align: left;\">59</td><td style = \"text-align: left;\">0</td><td style = \"text-align: left;\">1</td><td style = \"text-align: left;\">50</td></tr><tr><td class = \"rowNumber\" style = \"font-weight: bold; text-align: right;\">10</td><td style = \"text-align: right;\">61.4361</td><td style = \"text-align: right;\">1</td><td style = \"text-align: right;\">35008758</td><td style = \"text-align: left;\">1</td><td style = \"text-align: left;\">0</td><td style = \"text-align: left;\">0</td><td style = \"text-align: left;\">0</td><td style = \"text-align: left;\">0</td><td style = \"text-align: left;\">1</td><td style = \"text-align: left;\">1</td><td style = \"text-align: left;\">1</td><td style = \"text-align: left;\">0</td><td style = \"text-align: left;\">44</td><td style = \"text-align: left;\">0</td><td style = \"text-align: left;\">1</td><td style = \"text-align: left;\">14</td></tr><tr><td class = \"rowNumber\" style = \"font-weight: bold; text-align: right;\">11</td><td style = \"text-align: right;\">63.8114</td><td style = \"text-align: right;\">1</td><td style = \"text-align: right;\">35005307</td><td style = \"text-align: left;\">1</td><td style = \"text-align: left;\">0</td><td style = \"text-align: left;\">0</td><td style = \"text-align: left;\">0</td><td style = \"text-align: left;\">0</td><td style = \"text-align: left;\">1</td><td style = \"text-align: left;\">0</td><td style = \"text-align: left;\">0</td><td style = \"text-align: left;\">1</td><td style = \"text-align: left;\">NA</td><td style = \"text-align: left;\">0</td><td style = \"text-align: left;\">1</td><td style = \"text-align: left;\">73</td></tr><tr><td class = \"rowNumber\" style = \"font-weight: bold; text-align: right;\">12</td><td style = \"text-align: right;\">66.0135</td><td style = \"text-align: right;\">0</td><td style = \"text-align: right;\">33024537</td><td style = \"text-align: left;\">1</td><td style = \"text-align: left;\">0</td><td style = \"text-align: left;\">0</td><td style = \"text-align: left;\">0</td><td style = \"text-align: left;\">0</td><td style = \"text-align: left;\">1</td><td style = \"text-align: left;\">1</td><td style = \"text-align: left;\">1</td><td style = \"text-align: left;\">1</td><td style = \"text-align: left;\">60</td><td style = \"text-align: left;\">0</td><td style = \"text-align: left;\">1</td><td style = \"text-align: left;\">56</td></tr><tr><td class = \"rowNumber\" style = \"font-weight: bold; text-align: right;\">13</td><td style = \"text-align: right;\">39.5818</td><td style = \"text-align: right;\">1</td><td style = \"text-align: right;\">33075212</td><td style = \"text-align: left;\">NA</td><td style = \"text-align: left;\">NA</td><td style = \"text-align: left;\">NA</td><td style = \"text-align: left;\">NA</td><td style = \"text-align: left;\">NA</td><td style = \"text-align: left;\">NA</td><td style = \"text-align: left;\">1</td><td style = \"text-align: left;\">1</td><td style = \"text-align: left;\">0</td><td style = \"text-align: left;\">NA</td><td style = \"text-align: left;\">0</td><td style = \"text-align: left;\">1</td><td style = \"text-align: left;\">60</td></tr><tr><td style = \"text-align: right;\">&vellip;</td><td style = \"text-align: right;\">&vellip;</td><td style = \"text-align: right;\">&vellip;</td><td style = \"text-align: right;\">&vellip;</td><td style = \"text-align: right;\">&vellip;</td><td style = \"text-align: right;\">&vellip;</td><td style = \"text-align: right;\">&vellip;</td><td style = \"text-align: right;\">&vellip;</td><td style = \"text-align: right;\">&vellip;</td><td style = \"text-align: right;\">&vellip;</td><td style = \"text-align: right;\">&vellip;</td><td style = \"text-align: right;\">&vellip;</td><td style = \"text-align: right;\">&vellip;</td><td style = \"text-align: right;\">&vellip;</td><td style = \"text-align: right;\">&vellip;</td><td style = \"text-align: right;\">&vellip;</td><td style = \"text-align: right;\">&vellip;</td></tr><tr><td class = \"rowNumber\" style = \"font-weight: bold; text-align: right;\">17288</td><td style = \"text-align: right;\">35.0643</td><td style = \"text-align: right;\">1</td><td style = \"text-align: right;\">35012087</td><td style = \"text-align: left;\">1</td><td style = \"text-align: left;\">0</td><td style = \"text-align: left;\">NA</td><td style = \"text-align: left;\">1</td><td style = \"text-align: left;\">1</td><td style = \"text-align: left;\">1</td><td style = \"text-align: left;\">1</td><td style = \"text-align: left;\">1</td><td style = \"text-align: left;\">0</td><td style = \"text-align: left;\">31</td><td style = \"text-align: left;\">0</td><td style = \"text-align: left;\">0</td><td style = \"text-align: left;\">41</td></tr><tr><td class = \"rowNumber\" style = \"font-weight: bold; text-align: right;\">17289</td><td style = \"text-align: right;\">67.246</td><td style = \"text-align: right;\">1</td><td style = \"text-align: right;\">33081743</td><td style = \"text-align: left;\">1</td><td style = \"text-align: left;\">1</td><td style = \"text-align: left;\">NA</td><td style = \"text-align: left;\">0</td><td style = \"text-align: left;\">0</td><td style = \"text-align: left;\">1</td><td style = \"text-align: left;\">0</td><td style = \"text-align: left;\">0</td><td style = \"text-align: left;\">1</td><td style = \"text-align: left;\">96</td><td style = \"text-align: left;\">0</td><td style = \"text-align: left;\">1</td><td style = \"text-align: left;\">60</td></tr><tr><td class = \"rowNumber\" style = \"font-weight: bold; text-align: right;\">17290</td><td style = \"text-align: right;\">52.3272</td><td style = \"text-align: right;\">1</td><td style = \"text-align: right;\">33099243</td><td style = \"text-align: left;\">1</td><td style = \"text-align: left;\">1</td><td style = \"text-align: left;\">0</td><td style = \"text-align: left;\">0</td><td style = \"text-align: left;\">1</td><td style = \"text-align: left;\">0</td><td style = \"text-align: left;\">0</td><td style = \"text-align: left;\">1</td><td style = \"text-align: left;\">0</td><td style = \"text-align: left;\">60</td><td style = \"text-align: left;\">0</td><td style = \"text-align: left;\">0</td><td style = \"text-align: left;\">52</td></tr><tr><td class = \"rowNumber\" style = \"font-weight: bold; text-align: right;\">17291</td><td style = \"text-align: right;\">76.769</td><td style = \"text-align: right;\">1</td><td style = \"text-align: right;\">31069019</td><td style = \"text-align: left;\">1</td><td style = \"text-align: left;\">0</td><td style = \"text-align: left;\">0</td><td style = \"text-align: left;\">0</td><td style = \"text-align: left;\">1</td><td style = \"text-align: left;\">0</td><td style = \"text-align: left;\">0</td><td style = \"text-align: left;\">1</td><td style = \"text-align: left;\">0</td><td style = \"text-align: left;\">56</td><td style = \"text-align: left;\">0</td><td style = \"text-align: left;\">1</td><td style = \"text-align: left;\">54</td></tr><tr><td class = \"rowNumber\" style = \"font-weight: bold; text-align: right;\">17292</td><td style = \"text-align: right;\">62.9471</td><td style = \"text-align: right;\">0</td><td style = \"text-align: right;\">23174986</td><td style = \"text-align: left;\">1</td><td style = \"text-align: left;\">0</td><td style = \"text-align: left;\">0</td><td style = \"text-align: left;\">0</td><td style = \"text-align: left;\">1</td><td style = \"text-align: left;\">1</td><td style = \"text-align: left;\">0</td><td style = \"text-align: left;\">0</td><td style = \"text-align: left;\">0</td><td style = \"text-align: left;\">77</td><td style = \"text-align: left;\">0</td><td style = \"text-align: left;\">1</td><td style = \"text-align: left;\">62</td></tr><tr><td class = \"rowNumber\" style = \"font-weight: bold; text-align: right;\">17293</td><td style = \"text-align: right;\">67.1646</td><td style = \"text-align: right;\">0</td><td style = \"text-align: right;\">53012623</td><td style = \"text-align: left;\">NA</td><td style = \"text-align: left;\">NA</td><td style = \"text-align: left;\">NA</td><td style = \"text-align: left;\">NA</td><td style = \"text-align: left;\">NA</td><td style = \"text-align: left;\">NA</td><td style = \"text-align: left;\">0</td><td style = \"text-align: left;\">1</td><td style = \"text-align: left;\">0</td><td style = \"text-align: left;\">68</td><td style = \"text-align: left;\">0</td><td style = \"text-align: left;\">0</td><td style = \"text-align: left;\">27</td></tr><tr><td class = \"rowNumber\" style = \"font-weight: bold; text-align: right;\">17294</td><td style = \"text-align: right;\">60.3028</td><td style = \"text-align: right;\">0</td><td style = \"text-align: right;\">35038301</td><td style = \"text-align: left;\">1</td><td style = \"text-align: left;\">1</td><td style = \"text-align: left;\">1</td><td style = \"text-align: left;\">0</td><td style = \"text-align: left;\">0</td><td style = \"text-align: left;\">0</td><td style = \"text-align: left;\">0</td><td style = \"text-align: left;\">1</td><td style = \"text-align: left;\">0</td><td style = \"text-align: left;\">46</td><td style = \"text-align: left;\">0</td><td style = \"text-align: left;\">1</td><td style = \"text-align: left;\">NA</td></tr><tr><td class = \"rowNumber\" style = \"font-weight: bold; text-align: right;\">17295</td><td style = \"text-align: right;\">49.4898</td><td style = \"text-align: right;\">1</td><td style = \"text-align: right;\">35012178</td><td style = \"text-align: left;\">1</td><td style = \"text-align: left;\">1</td><td style = \"text-align: left;\">1</td><td style = \"text-align: left;\">0</td><td style = \"text-align: left;\">0</td><td style = \"text-align: left;\">0</td><td style = \"text-align: left;\">1</td><td style = \"text-align: left;\">1</td><td style = \"text-align: left;\">0</td><td style = \"text-align: left;\">34</td><td style = \"text-align: left;\">0</td><td style = \"text-align: left;\">1</td><td style = \"text-align: left;\">43</td></tr><tr><td class = \"rowNumber\" style = \"font-weight: bold; text-align: right;\">17296</td><td style = \"text-align: right;\">56.4573</td><td style = \"text-align: right;\">0</td><td style = \"text-align: right;\">35005320</td><td style = \"text-align: left;\">1</td><td style = \"text-align: left;\">0</td><td style = \"text-align: left;\">0</td><td style = \"text-align: left;\">0</td><td style = \"text-align: left;\">0</td><td style = \"text-align: left;\">1</td><td style = \"text-align: left;\">0</td><td style = \"text-align: left;\">0</td><td style = \"text-align: left;\">0</td><td style = \"text-align: left;\">15</td><td style = \"text-align: left;\">0</td><td style = \"text-align: left;\">0</td><td style = \"text-align: left;\">35</td></tr><tr><td class = \"rowNumber\" style = \"font-weight: bold; text-align: right;\">17297</td><td style = \"text-align: right;\">59.7006</td><td style = \"text-align: right;\">0</td><td style = \"text-align: right;\">33016070</td><td style = \"text-align: left;\">1</td><td style = \"text-align: left;\">0</td><td style = \"text-align: left;\">0</td><td style = \"text-align: left;\">0</td><td style = \"text-align: left;\">0</td><td style = \"text-align: left;\">1</td><td style = \"text-align: left;\">0</td><td style = \"text-align: left;\">NA</td><td style = \"text-align: left;\">0</td><td style = \"text-align: left;\">41</td><td style = \"text-align: left;\">0</td><td style = \"text-align: left;\">0</td><td style = \"text-align: left;\">24</td></tr><tr><td class = \"rowNumber\" style = \"font-weight: bold; text-align: right;\">17298</td><td style = \"text-align: right;\">57.5156</td><td style = \"text-align: right;\">0</td><td style = \"text-align: right;\">53007514</td><td style = \"text-align: left;\">1</td><td style = \"text-align: left;\">1</td><td style = \"text-align: left;\">1</td><td style = \"text-align: left;\">0</td><td style = \"text-align: left;\">0</td><td style = \"text-align: left;\">0</td><td style = \"text-align: left;\">0</td><td style = \"text-align: left;\">0</td><td style = \"text-align: left;\">0</td><td style = \"text-align: left;\">79</td><td style = \"text-align: left;\">0</td><td style = \"text-align: left;\">1</td><td style = \"text-align: left;\">46</td></tr><tr><td class = \"rowNumber\" style = \"font-weight: bold; text-align: right;\">17299</td><td style = \"text-align: right;\">27.3903</td><td style = \"text-align: right;\">1</td><td style = \"text-align: right;\">33075212</td><td style = \"text-align: left;\">NA</td><td style = \"text-align: left;\">NA</td><td style = \"text-align: left;\">NA</td><td style = \"text-align: left;\">NA</td><td style = \"text-align: left;\">NA</td><td style = \"text-align: left;\">NA</td><td style = \"text-align: left;\">1</td><td style = \"text-align: left;\">1</td><td style = \"text-align: left;\">0</td><td style = \"text-align: left;\">57</td><td style = \"text-align: left;\">0</td><td style = \"text-align: left;\">0</td><td style = \"text-align: left;\">-9</td></tr></tbody></table></div>"
      ],
      "text/latex": [
       "\\begin{tabular}{r|cccccc}\n",
       "\t& outcome.test.score & treatment & school & is.female & mother.attended.secondary.school & \\\\\n",
       "\t\\hline\n",
       "\t& Float64 & Int64 & Int64 & String3 & String3 & \\\\\n",
       "\t\\hline\n",
       "\t1 & 47.3674 & 0 & 17018390 & NA & NA & $\\dots$ \\\\\n",
       "\t2 & 58.1768 & 1 & 33002614 & NA & NA & $\\dots$ \\\\\n",
       "\t3 & 56.6717 & 1 & 35002914 & 1 & 1 & $\\dots$ \\\\\n",
       "\t4 & 29.0794 & 0 & 35908915 & 1 & 0 & $\\dots$ \\\\\n",
       "\t5 & 49.5635 & 1 & 33047324 & 1 & 0 & $\\dots$ \\\\\n",
       "\t6 & 43.0994 & 0 & 53012542 & 1 & 0 & $\\dots$ \\\\\n",
       "\t7 & 71.3296 & 0 & 53006984 & 1 & 1 & $\\dots$ \\\\\n",
       "\t8 & 80.0634 & 0 & 33049475 & 1 & 1 & $\\dots$ \\\\\n",
       "\t9 & 88.7516 & 1 & 35925639 & 1 & 1 & $\\dots$ \\\\\n",
       "\t10 & 61.4361 & 1 & 35008758 & 1 & 0 & $\\dots$ \\\\\n",
       "\t11 & 63.8114 & 1 & 35005307 & 1 & 0 & $\\dots$ \\\\\n",
       "\t12 & 66.0135 & 0 & 33024537 & 1 & 0 & $\\dots$ \\\\\n",
       "\t13 & 39.5818 & 1 & 33075212 & NA & NA & $\\dots$ \\\\\n",
       "\t14 & 64.2641 & 1 & 53011520 & 1 & 0 & $\\dots$ \\\\\n",
       "\t15 & 66.0881 & 1 & 33058679 & 1 & 0 & $\\dots$ \\\\\n",
       "\t16 & 37.5406 & 0 & 23100575 & 1 & 0 & $\\dots$ \\\\\n",
       "\t17 & 59.1921 & 0 & 35011502 & 1 & 0 & $\\dots$ \\\\\n",
       "\t18 & 34.7024 & 0 & 35044453 & 1 & 0 & $\\dots$ \\\\\n",
       "\t19 & 36.5031 & 0 & 35012075 & NA & NA & $\\dots$ \\\\\n",
       "\t20 & 54.4889 & 1 & 33126267 & 1 & 0 & $\\dots$ \\\\\n",
       "\t21 & 51.4183 & 1 & 35045160 & 1 & 1 & $\\dots$ \\\\\n",
       "\t22 & 59.4325 & 1 & 31068543 & 1 & 0 & $\\dots$ \\\\\n",
       "\t23 & 70.1714 & 1 & 17002648 & 1 & 1 & $\\dots$ \\\\\n",
       "\t24 & 61.6955 & 1 & 33019223 & 1 & 0 & $\\dots$ \\\\\n",
       "\t25 & 66.9064 & 0 & 31069191 & 1 & 0 & $\\dots$ \\\\\n",
       "\t26 & 50.3237 & 1 & 33025576 & 1 & 0 & $\\dots$ \\\\\n",
       "\t27 & 65.6725 & 1 & 23131802 & 1 & 0 & $\\dots$ \\\\\n",
       "\t28 & 78.4616 & 1 & 35901805 & 1 & 1 & $\\dots$ \\\\\n",
       "\t29 & 27.846 & 1 & 33072310 & 1 & 0 & $\\dots$ \\\\\n",
       "\t30 & 34.9821 & 0 & 35901118 & 1 & 0 & $\\dots$ \\\\\n",
       "\t$\\dots$ & $\\dots$ & $\\dots$ & $\\dots$ & $\\dots$ & $\\dots$ &  \\\\\n",
       "\\end{tabular}\n"
      ],
      "text/plain": [
       "\u001b[1m17299×16 DataFrame\u001b[0m\n",
       "\u001b[1m   Row \u001b[0m│\u001b[1m outcome.test.score \u001b[0m\u001b[1m treatment \u001b[0m\u001b[1m school   \u001b[0m\u001b[1m is.female \u001b[0m\u001b[1m mother.attended.s\u001b[0m ⋯\n",
       "       │\u001b[90m Float64            \u001b[0m\u001b[90m Int64     \u001b[0m\u001b[90m Int64    \u001b[0m\u001b[90m String3   \u001b[0m\u001b[90m String3          \u001b[0m ⋯\n",
       "───────┼────────────────────────────────────────────────────────────────────────\n",
       "     1 │            47.3674          0  17018390  NA         NA                ⋯\n",
       "     2 │            58.1768          1  33002614  NA         NA\n",
       "     3 │            56.6717          1  35002914  1          1\n",
       "     4 │            29.0794          0  35908915  1          0\n",
       "     5 │            49.5635          1  33047324  1          0                 ⋯\n",
       "     6 │            43.0994          0  53012542  1          0\n",
       "     7 │            71.3296          0  53006984  1          1\n",
       "     8 │            80.0634          0  33049475  1          1\n",
       "     9 │            88.7516          1  35925639  1          1                 ⋯\n",
       "    10 │            61.4361          1  35008758  1          0\n",
       "    11 │            63.8114          1  35005307  1          0\n",
       "   ⋮   │         ⋮               ⋮         ⋮          ⋮                     ⋮  ⋱\n",
       " 17290 │            52.3272          1  33099243  1          1\n",
       " 17291 │            76.769           1  31069019  1          0                 ⋯\n",
       " 17292 │            62.9471          0  23174986  1          0\n",
       " 17293 │            67.1646          0  53012623  NA         NA\n",
       " 17294 │            60.3028          0  35038301  1          1\n",
       " 17295 │            49.4898          1  35012178  1          1                 ⋯\n",
       " 17296 │            56.4573          0  35005320  1          0\n",
       " 17297 │            59.7006          0  33016070  1          0\n",
       " 17298 │            57.5156          0  53007514  1          1\n",
       " 17299 │            27.3903          1  33075212  NA         NA                ⋯\n",
       "\u001b[36m                                               12 columns and 17278 rows omitted\u001b[0m"
      ]
     },
     "execution_count": 5,
     "metadata": {},
     "output_type": "execute_result"
    }
   ],
   "source": [
    "# Drop missing values\n",
    "df = dropmissing(df)"
   ]
  },
  {
   "cell_type": "code",
   "execution_count": 23,
   "metadata": {},
   "outputs": [
    {
     "data": {
      "text/plain": [
       "0"
      ]
     },
     "execution_count": 23,
     "metadata": {},
     "output_type": "execute_result"
    }
   ],
   "source": [
    "missing_count = sum(ismissing, eachcol(df))"
   ]
  },
  {
   "cell_type": "code",
   "execution_count": 6,
   "metadata": {},
   "outputs": [
    {
     "name": "stdout",
     "output_type": "stream",
     "text": [
      "[\"outcome.test.score\", \"treatment\", \"school\", \"is.female\", \"mother.attended.secondary.school\", \"father.attened.secondary.school\", \"failed.at.least.one.school.year\", \"family.receives.cash.transfer\", \"has.computer.with.internet.at.home\", \"is.unemployed\", \"has.some.form.of.income\", \"saves.money.for.future.purchases\", \"intention.to.save.index\", \"makes.list.of.expenses.every.month\", \"negotiates.prices.or.payment.methods\", \"financial.autonomy.index\"]\n"
     ]
    }
   ],
   "source": [
    "column_names = names(df)\n",
    "println(column_names)"
   ]
  },
  {
   "cell_type": "code",
   "execution_count": 7,
   "metadata": {},
   "outputs": [
    {
     "data": {
      "text/plain": [
       "8-element Vector{String}:\n",
       " \"outcome.test.score\"\n",
       " \"intention.to.save.index\"\n",
       " \"negotiates.prices.or.payment.methods\"\n",
       " \"has.some.form.of.income\"\n",
       " \"makes.list.of.expenses.every.month\"\n",
       " \"financial.autonomy.index\"\n",
       " \"saves.money.for.future.purchases\"\n",
       " \"is.unemployed\""
      ]
     },
     "execution_count": 7,
     "metadata": {},
     "output_type": "execute_result"
    }
   ],
   "source": [
    "# Define an array of dependent variable names\n",
    "dependent_vars = [\"outcome.test.score\", \"intention.to.save.index\", \"negotiates.prices.or.payment.methods\", \n",
    "                  \"has.some.form.of.income\", \"makes.list.of.expenses.every.month\", \"financial.autonomy.index\", \n",
    "                  \"saves.money.for.future.purchases\", \"is.unemployed\"]"
   ]
  },
  {
   "cell_type": "markdown",
   "metadata": {},
   "source": [
    "For Lasso regressions, we split the data into train and test data, and standarize the covariates matrix"
   ]
  },
  {
   "cell_type": "code",
   "execution_count": 11,
   "metadata": {},
   "outputs": [
    {
     "data": {
      "text/html": [
       "<div><div style = \"float: left;\"><span>3460×8 SubDataFrame</span></div><div style = \"float: right;\"><span style = \"font-style: italic;\">3435 rows omitted</span></div><div style = \"clear: both;\"></div></div><div class = \"data-frame\" style = \"overflow-x: scroll;\"><table class = \"data-frame\" style = \"margin-bottom: 6px;\"><thead><tr class = \"header\"><th class = \"rowNumber\" style = \"font-weight: bold; text-align: right;\">Row</th><th style = \"text-align: left;\">treatment</th><th style = \"text-align: left;\">school</th><th style = \"text-align: left;\">is.female</th><th style = \"text-align: left;\">mother.attended.secondary.school</th><th style = \"text-align: left;\">father.attened.secondary.school</th><th style = \"text-align: left;\">failed.at.least.one.school.year</th><th style = \"text-align: left;\">family.receives.cash.transfer</th><th style = \"text-align: left;\">has.computer.with.internet.at.home</th></tr><tr class = \"subheader headerLastRow\"><th class = \"rowNumber\" style = \"font-weight: bold; text-align: right;\"></th><th title = \"Int64\" style = \"text-align: left;\">Int64</th><th title = \"Int64\" style = \"text-align: left;\">Int64</th><th title = \"String3\" style = \"text-align: left;\">String3</th><th title = \"String3\" style = \"text-align: left;\">String3</th><th title = \"String3\" style = \"text-align: left;\">String3</th><th title = \"String3\" style = \"text-align: left;\">String3</th><th title = \"String3\" style = \"text-align: left;\">String3</th><th title = \"String3\" style = \"text-align: left;\">String3</th></tr></thead><tbody><tr><td class = \"rowNumber\" style = \"font-weight: bold; text-align: right;\">1</td><td style = \"text-align: right;\">1</td><td style = \"text-align: right;\">35012178</td><td style = \"text-align: left;\">0</td><td style = \"text-align: left;\">0</td><td style = \"text-align: left;\">1</td><td style = \"text-align: left;\">0</td><td style = \"text-align: left;\">0</td><td style = \"text-align: left;\">0</td></tr><tr><td class = \"rowNumber\" style = \"font-weight: bold; text-align: right;\">2</td><td style = \"text-align: right;\">0</td><td style = \"text-align: right;\">23077883</td><td style = \"text-align: left;\">0</td><td style = \"text-align: left;\">1</td><td style = \"text-align: left;\">0</td><td style = \"text-align: left;\">1</td><td style = \"text-align: left;\">1</td><td style = \"text-align: left;\">1</td></tr><tr><td class = \"rowNumber\" style = \"font-weight: bold; text-align: right;\">3</td><td style = \"text-align: right;\">1</td><td style = \"text-align: right;\">33050490</td><td style = \"text-align: left;\">0</td><td style = \"text-align: left;\">0</td><td style = \"text-align: left;\">0</td><td style = \"text-align: left;\">0</td><td style = \"text-align: left;\">1</td><td style = \"text-align: left;\">0</td></tr><tr><td class = \"rowNumber\" style = \"font-weight: bold; text-align: right;\">4</td><td style = \"text-align: right;\">0</td><td style = \"text-align: right;\">33104352</td><td style = \"text-align: left;\">0</td><td style = \"text-align: left;\">1</td><td style = \"text-align: left;\">1</td><td style = \"text-align: left;\">0</td><td style = \"text-align: left;\">0</td><td style = \"text-align: left;\">0</td></tr><tr><td class = \"rowNumber\" style = \"font-weight: bold; text-align: right;\">5</td><td style = \"text-align: right;\">0</td><td style = \"text-align: right;\">33006458</td><td style = \"text-align: left;\">1</td><td style = \"text-align: left;\">0</td><td style = \"text-align: left;\">0</td><td style = \"text-align: left;\">0</td><td style = \"text-align: left;\">1</td><td style = \"text-align: left;\">1</td></tr><tr><td class = \"rowNumber\" style = \"font-weight: bold; text-align: right;\">6</td><td style = \"text-align: right;\">0</td><td style = \"text-align: right;\">33044899</td><td style = \"text-align: left;\">NA</td><td style = \"text-align: left;\">NA</td><td style = \"text-align: left;\">NA</td><td style = \"text-align: left;\">NA</td><td style = \"text-align: left;\">NA</td><td style = \"text-align: left;\">NA</td></tr><tr><td class = \"rowNumber\" style = \"font-weight: bold; text-align: right;\">7</td><td style = \"text-align: right;\">0</td><td style = \"text-align: right;\">23071095</td><td style = \"text-align: left;\">0</td><td style = \"text-align: left;\">0</td><td style = \"text-align: left;\">1</td><td style = \"text-align: left;\">0</td><td style = \"text-align: left;\">0</td><td style = \"text-align: left;\">1</td></tr><tr><td class = \"rowNumber\" style = \"font-weight: bold; text-align: right;\">8</td><td style = \"text-align: right;\">0</td><td style = \"text-align: right;\">33054711</td><td style = \"text-align: left;\">NA</td><td style = \"text-align: left;\">NA</td><td style = \"text-align: left;\">NA</td><td style = \"text-align: left;\">NA</td><td style = \"text-align: left;\">NA</td><td style = \"text-align: left;\">NA</td></tr><tr><td class = \"rowNumber\" style = \"font-weight: bold; text-align: right;\">9</td><td style = \"text-align: right;\">0</td><td style = \"text-align: right;\">33093555</td><td style = \"text-align: left;\">0</td><td style = \"text-align: left;\">0</td><td style = \"text-align: left;\">0</td><td style = \"text-align: left;\">0</td><td style = \"text-align: left;\">1</td><td style = \"text-align: left;\">0</td></tr><tr><td class = \"rowNumber\" style = \"font-weight: bold; text-align: right;\">10</td><td style = \"text-align: right;\">1</td><td style = \"text-align: right;\">35039895</td><td style = \"text-align: left;\">1</td><td style = \"text-align: left;\">1</td><td style = \"text-align: left;\">0</td><td style = \"text-align: left;\">0</td><td style = \"text-align: left;\">0</td><td style = \"text-align: left;\">0</td></tr><tr><td class = \"rowNumber\" style = \"font-weight: bold; text-align: right;\">11</td><td style = \"text-align: right;\">0</td><td style = \"text-align: right;\">35012221</td><td style = \"text-align: left;\">1</td><td style = \"text-align: left;\">1</td><td style = \"text-align: left;\">1</td><td style = \"text-align: left;\">0</td><td style = \"text-align: left;\">0</td><td style = \"text-align: left;\">1</td></tr><tr><td class = \"rowNumber\" style = \"font-weight: bold; text-align: right;\">12</td><td style = \"text-align: right;\">0</td><td style = \"text-align: right;\">35046164</td><td style = \"text-align: left;\">1</td><td style = \"text-align: left;\">1</td><td style = \"text-align: left;\">1</td><td style = \"text-align: left;\">0</td><td style = \"text-align: left;\">0</td><td style = \"text-align: left;\">0</td></tr><tr><td class = \"rowNumber\" style = \"font-weight: bold; text-align: right;\">13</td><td style = \"text-align: right;\">0</td><td style = \"text-align: right;\">35006567</td><td style = \"text-align: left;\">1</td><td style = \"text-align: left;\">1</td><td style = \"text-align: left;\">0</td><td style = \"text-align: left;\">0</td><td style = \"text-align: left;\">0</td><td style = \"text-align: left;\">0</td></tr><tr><td style = \"text-align: right;\">&vellip;</td><td style = \"text-align: right;\">&vellip;</td><td style = \"text-align: right;\">&vellip;</td><td style = \"text-align: right;\">&vellip;</td><td style = \"text-align: right;\">&vellip;</td><td style = \"text-align: right;\">&vellip;</td><td style = \"text-align: right;\">&vellip;</td><td style = \"text-align: right;\">&vellip;</td><td style = \"text-align: right;\">&vellip;</td></tr><tr><td class = \"rowNumber\" style = \"font-weight: bold; text-align: right;\">3449</td><td style = \"text-align: right;\">1</td><td style = \"text-align: right;\">35012178</td><td style = \"text-align: left;\">1</td><td style = \"text-align: left;\">1</td><td style = \"text-align: left;\">0</td><td style = \"text-align: left;\">0</td><td style = \"text-align: left;\">NA</td><td style = \"text-align: left;\">0</td></tr><tr><td class = \"rowNumber\" style = \"font-weight: bold; text-align: right;\">3450</td><td style = \"text-align: right;\">1</td><td style = \"text-align: right;\">31330566</td><td style = \"text-align: left;\">0</td><td style = \"text-align: left;\">0</td><td style = \"text-align: left;\">0</td><td style = \"text-align: left;\">0</td><td style = \"text-align: left;\">1</td><td style = \"text-align: left;\">1</td></tr><tr><td class = \"rowNumber\" style = \"font-weight: bold; text-align: right;\">3451</td><td style = \"text-align: right;\">0</td><td style = \"text-align: right;\">33085498</td><td style = \"text-align: left;\">1</td><td style = \"text-align: left;\">1</td><td style = \"text-align: left;\">1</td><td style = \"text-align: left;\">1</td><td style = \"text-align: left;\">0</td><td style = \"text-align: left;\">0</td></tr><tr><td class = \"rowNumber\" style = \"font-weight: bold; text-align: right;\">3452</td><td style = \"text-align: right;\">1</td><td style = \"text-align: right;\">33044961</td><td style = \"text-align: left;\">NA</td><td style = \"text-align: left;\">NA</td><td style = \"text-align: left;\">NA</td><td style = \"text-align: left;\">NA</td><td style = \"text-align: left;\">NA</td><td style = \"text-align: left;\">NA</td></tr><tr><td class = \"rowNumber\" style = \"font-weight: bold; text-align: right;\">3453</td><td style = \"text-align: right;\">1</td><td style = \"text-align: right;\">23224509</td><td style = \"text-align: left;\">0</td><td style = \"text-align: left;\">0</td><td style = \"text-align: left;\">0</td><td style = \"text-align: left;\">0</td><td style = \"text-align: left;\">0</td><td style = \"text-align: left;\">0</td></tr><tr><td class = \"rowNumber\" style = \"font-weight: bold; text-align: right;\">3454</td><td style = \"text-align: right;\">0</td><td style = \"text-align: right;\">23002590</td><td style = \"text-align: left;\">1</td><td style = \"text-align: left;\">0</td><td style = \"text-align: left;\">0</td><td style = \"text-align: left;\">0</td><td style = \"text-align: left;\">1</td><td style = \"text-align: left;\">1</td></tr><tr><td class = \"rowNumber\" style = \"font-weight: bold; text-align: right;\">3455</td><td style = \"text-align: right;\">1</td><td style = \"text-align: right;\">35011496</td><td style = \"text-align: left;\">0</td><td style = \"text-align: left;\">0</td><td style = \"text-align: left;\">0</td><td style = \"text-align: left;\">0</td><td style = \"text-align: left;\">1</td><td style = \"text-align: left;\">0</td></tr><tr><td class = \"rowNumber\" style = \"font-weight: bold; text-align: right;\">3456</td><td style = \"text-align: right;\">0</td><td style = \"text-align: right;\">17046270</td><td style = \"text-align: left;\">0</td><td style = \"text-align: left;\">0</td><td style = \"text-align: left;\">0</td><td style = \"text-align: left;\">0</td><td style = \"text-align: left;\">0</td><td style = \"text-align: left;\">1</td></tr><tr><td class = \"rowNumber\" style = \"font-weight: bold; text-align: right;\">3457</td><td style = \"text-align: right;\">0</td><td style = \"text-align: right;\">35019653</td><td style = \"text-align: left;\">1</td><td style = \"text-align: left;\">0</td><td style = \"text-align: left;\">0</td><td style = \"text-align: left;\">0</td><td style = \"text-align: left;\">0</td><td style = \"text-align: left;\">0</td></tr><tr><td class = \"rowNumber\" style = \"font-weight: bold; text-align: right;\">3458</td><td style = \"text-align: right;\">0</td><td style = \"text-align: right;\">23080841</td><td style = \"text-align: left;\">0</td><td style = \"text-align: left;\">0</td><td style = \"text-align: left;\">0</td><td style = \"text-align: left;\">1</td><td style = \"text-align: left;\">0</td><td style = \"text-align: left;\">1</td></tr><tr><td class = \"rowNumber\" style = \"font-weight: bold; text-align: right;\">3459</td><td style = \"text-align: right;\">0</td><td style = \"text-align: right;\">33007420</td><td style = \"text-align: left;\">1</td><td style = \"text-align: left;\">1</td><td style = \"text-align: left;\">0</td><td style = \"text-align: left;\">0</td><td style = \"text-align: left;\">0</td><td style = \"text-align: left;\">0</td></tr><tr><td class = \"rowNumber\" style = \"font-weight: bold; text-align: right;\">3460</td><td style = \"text-align: right;\">0</td><td style = \"text-align: right;\">35901386</td><td style = \"text-align: left;\">1</td><td style = \"text-align: left;\">1</td><td style = \"text-align: left;\">1</td><td style = \"text-align: left;\">0</td><td style = \"text-align: left;\">1</td><td style = \"text-align: left;\">0</td></tr></tbody></table></div>"
      ],
      "text/latex": [
       "\\begin{tabular}{r|cccccc}\n",
       "\t& treatment & school & is.female & mother.attended.secondary.school & father.attened.secondary.school & \\\\\n",
       "\t\\hline\n",
       "\t& Int64 & Int64 & String3 & String3 & String3 & \\\\\n",
       "\t\\hline\n",
       "\t1 & 1 & 35012178 & 0 & 0 & 1 & $\\dots$ \\\\\n",
       "\t2 & 0 & 23077883 & 0 & 1 & 0 & $\\dots$ \\\\\n",
       "\t3 & 1 & 33050490 & 0 & 0 & 0 & $\\dots$ \\\\\n",
       "\t4 & 0 & 33104352 & 0 & 1 & 1 & $\\dots$ \\\\\n",
       "\t5 & 0 & 33006458 & 1 & 0 & 0 & $\\dots$ \\\\\n",
       "\t6 & 0 & 33044899 & NA & NA & NA & $\\dots$ \\\\\n",
       "\t7 & 0 & 23071095 & 0 & 0 & 1 & $\\dots$ \\\\\n",
       "\t8 & 0 & 33054711 & NA & NA & NA & $\\dots$ \\\\\n",
       "\t9 & 0 & 33093555 & 0 & 0 & 0 & $\\dots$ \\\\\n",
       "\t10 & 1 & 35039895 & 1 & 1 & 0 & $\\dots$ \\\\\n",
       "\t11 & 0 & 35012221 & 1 & 1 & 1 & $\\dots$ \\\\\n",
       "\t12 & 0 & 35046164 & 1 & 1 & 1 & $\\dots$ \\\\\n",
       "\t13 & 0 & 35006567 & 1 & 1 & 0 & $\\dots$ \\\\\n",
       "\t14 & 1 & 35019823 & 1 & 0 & 0 & $\\dots$ \\\\\n",
       "\t15 & 0 & 53007360 & 0 & NA & NA & $\\dots$ \\\\\n",
       "\t16 & 1 & 17004950 & 1 & 1 & 1 & $\\dots$ \\\\\n",
       "\t17 & 0 & 33008892 & 0 & 1 & 1 & $\\dots$ \\\\\n",
       "\t18 & 1 & 33052069 & 1 & 0 & 0 & $\\dots$ \\\\\n",
       "\t19 & 0 & 23072374 & 0 & 0 & 0 & $\\dots$ \\\\\n",
       "\t20 & 0 & 33018340 & 1 & 1 & 1 & $\\dots$ \\\\\n",
       "\t21 & 1 & 53006062 & 0 & 1 & 1 & $\\dots$ \\\\\n",
       "\t22 & 0 & 35006567 & 0 & 1 & 1 & $\\dots$ \\\\\n",
       "\t23 & 1 & 33046743 & 0 & 1 & 0 & $\\dots$ \\\\\n",
       "\t24 & 0 & 33050554 & 0 & 0 & 0 & $\\dots$ \\\\\n",
       "\t25 & 0 & 17024307 & NA & NA & NA & $\\dots$ \\\\\n",
       "\t26 & 0 & 31069949 & 1 & 0 & 0 & $\\dots$ \\\\\n",
       "\t27 & 0 & 35018855 & 1 & 0 & 1 & $\\dots$ \\\\\n",
       "\t28 & 1 & 35909877 & 0 & 0 & 0 & $\\dots$ \\\\\n",
       "\t29 & 0 & 33050554 & 0 & 0 & 0 & $\\dots$ \\\\\n",
       "\t30 & 1 & 33106738 & 1 & 1 & NA & $\\dots$ \\\\\n",
       "\t$\\dots$ & $\\dots$ & $\\dots$ & $\\dots$ & $\\dots$ & $\\dots$ &  \\\\\n",
       "\\end{tabular}\n"
      ],
      "text/plain": [
       "\u001b[1m3460×8 SubDataFrame\u001b[0m\n",
       "\u001b[1m  Row \u001b[0m│\u001b[1m treatment \u001b[0m\u001b[1m school   \u001b[0m\u001b[1m is.female \u001b[0m\u001b[1m mother.attended.secondary.school \u001b[0m\u001b[1m fath\u001b[0m ⋯\n",
       "      │\u001b[90m Int64     \u001b[0m\u001b[90m Int64    \u001b[0m\u001b[90m String3   \u001b[0m\u001b[90m String3                          \u001b[0m\u001b[90m Stri\u001b[0m ⋯\n",
       "──────┼─────────────────────────────────────────────────────────────────────────\n",
       "    1 │         1  35012178  0          0                                 1    ⋯\n",
       "    2 │         0  23077883  0          1                                 0\n",
       "    3 │         1  33050490  0          0                                 0\n",
       "    4 │         0  33104352  0          1                                 1\n",
       "    5 │         0  33006458  1          0                                 0    ⋯\n",
       "    6 │         0  33044899  NA         NA                                NA\n",
       "    7 │         0  23071095  0          0                                 1\n",
       "    8 │         0  33054711  NA         NA                                NA\n",
       "    9 │         0  33093555  0          0                                 0    ⋯\n",
       "   10 │         1  35039895  1          1                                 0\n",
       "   11 │         0  35012221  1          1                                 1\n",
       "  ⋮   │     ⋮         ⋮          ⋮                     ⋮                       ⋱\n",
       " 3451 │         0  33085498  1          1                                 1\n",
       " 3452 │         1  33044961  NA         NA                                NA   ⋯\n",
       " 3453 │         1  23224509  0          0                                 0\n",
       " 3454 │         0  23002590  1          0                                 0\n",
       " 3455 │         1  35011496  0          0                                 0\n",
       " 3456 │         0  17046270  0          0                                 0    ⋯\n",
       " 3457 │         0  35019653  1          0                                 0\n",
       " 3458 │         0  23080841  0          0                                 0\n",
       " 3459 │         0  33007420  1          1                                 0\n",
       " 3460 │         0  35901386  1          1                                 1    ⋯\n",
       "\u001b[36m                                                 4 columns and 3439 rows omitted\u001b[0m"
      ]
     },
     "execution_count": 11,
     "metadata": {},
     "output_type": "execute_result"
    }
   ],
   "source": [
    "# Splitting the DataFrame into features and targets based on dependent variable names\n",
    "X = select(df, Not(dependent_vars))  # Features excluding dependent variables\n",
    "y = select(df, dependent_vars)       # Only dependent variables\n",
    "\n",
    "# Performing the train-test split with an appropriate random number generator\n",
    "rng = MersenneTwister(42)  # Initialize the random number generator with seed 42\n",
    "(X_train, X_test) = splitobs(shuffleobs((X, y), rng=rng), at=0.8)  # 80% for training, 20% for testing\n",
    "y_train = X_train[2]  # Second item is the y component\n",
    "y_test = X_test[2]\n",
    "X_train = X_train[1]  # First item is the X component\n",
    "X_test = X_test[1]"
   ]
  },
  {
   "cell_type": "code",
   "execution_count": 13,
   "metadata": {},
   "outputs": [
    {
     "name": "stdout",
     "output_type": "stream",
     "text": [
      "Column 'treatment' not found in one or both DataFrames.\n"
     ]
    }
   ],
   "source": [
    "if \"treatment\" in names(X_train) && \"treatment\" in names(X_test)\n",
    "    T_train = X_train[:, :treatment]\n",
    "    T_test = X_test[:, :treatment]\n",
    "\n",
    "    select!(X_train, Not(:treatment))  \n",
    "    select!(X_test, Not(:treatment))   \n",
    "else\n",
    "    println(\"Column 'treatment' not found in one or both DataFrames.\")\n",
    "end"
   ]
  },
  {
   "cell_type": "code",
   "execution_count": 26,
   "metadata": {},
   "outputs": [
    {
     "ename": "LoadError",
     "evalue": "MethodError: no method matching standardize(::SubDataFrame{DataFrame, DataFrames.Index, Vector{Int64}}; fit::Bool, center::Bool, scale::Bool)\n\n\u001b[0mClosest candidates are:\n\u001b[0m  standardize(\u001b[91m::Type{DT}\u001b[39m, \u001b[91m::AbstractVecOrMat{<:Real}\u001b[39m; kwargs...) where DT<:AbstractDataTransform\n\u001b[0m\u001b[90m   @\u001b[39m \u001b[32mStatsBase\u001b[39m \u001b[90mC:\\Users\\juanl\\.julia\\packages\\StatsBase\\XgjIN\\src\\\u001b[39m\u001b[90m\u001b[4mtransformations.jl:366\u001b[24m\u001b[39m\n",
     "output_type": "error",
     "traceback": [
      "MethodError: no method matching standardize(::SubDataFrame{DataFrame, DataFrames.Index, Vector{Int64}}; fit::Bool, center::Bool, scale::Bool)\n\n\u001b[0mClosest candidates are:\n\u001b[0m  standardize(\u001b[91m::Type{DT}\u001b[39m, \u001b[91m::AbstractVecOrMat{<:Real}\u001b[39m; kwargs...) where DT<:AbstractDataTransform\n\u001b[0m\u001b[90m   @\u001b[39m \u001b[32mStatsBase\u001b[39m \u001b[90mC:\\Users\\juanl\\.julia\\packages\\StatsBase\\XgjIN\\src\\\u001b[39m\u001b[90m\u001b[4mtransformations.jl:366\u001b[24m\u001b[39m\n",
      "",
      "Stacktrace:",
      " [1] top-level scope",
      "   @ In[26]:2"
     ]
    }
   ],
   "source": [
    "# Fit and transform the training data\n",
    "X_train_scaled, scaler = standardize(X_train; fit=true, center=true, scale=true)\n",
    "\n",
    "# Transform the test data using the same scaler\n",
    "X_test_scaled = transform(X_test, scaler)"
   ]
  },
  {
   "cell_type": "code",
   "execution_count": 27,
   "metadata": {},
   "outputs": [
    {
     "ename": "LoadError",
     "evalue": "UndefVarError: `X_train_scaled_df` not defined",
     "output_type": "error",
     "traceback": [
      "UndefVarError: `X_train_scaled_df` not defined",
      "",
      "Stacktrace:",
      " [1] top-level scope",
      "   @ In[27]:2"
     ]
    }
   ],
   "source": [
    "\n",
    "X_scaled = vcat(X_train_scaled_df, X_test_scaled_df)\n",
    "sort!(X_scaled, :index)\n",
    "\n",
    "T_train_df = DataFrame(T_train = T_train)\n",
    "T_test_df = DataFrame(T_test = T_test)\n",
    "\n",
    "# Concatenate and sort T data\n",
    "T = vcat(T_train_df, T_test_df)\n",
    "sort!(T, :index)"
   ]
  },
  {
   "cell_type": "markdown",
   "metadata": {},
   "source": [
    "#### 2.2.2. Regressions"
   ]
  },
  {
   "cell_type": "markdown",
   "metadata": {},
   "source": [
    "##### a. OLS"
   ]
  },
  {
   "cell_type": "markdown",
   "metadata": {},
   "source": [
    "From 1 - 3 regression: measures treatment impact on **student financial proficiency**\n",
    "\n",
    "From 4 - 6 regression: measures treatment impact on **student savings behavior and attitudes**\n",
    "\n",
    "From 7 - 9 regression: measures treatment impact on **student money management behavior and attitudes**\n",
    "\n",
    "From 10 - 12 regression: measures treatment impact on **student entrepreneurship and work outcomes**"
   ]
  },
  {
   "cell_type": "code",
   "execution_count": null,
   "metadata": {},
   "outputs": [
    {
     "name": "stdout",
     "output_type": "stream",
     "text": [
      "Intel MKL WARNING: Support of Intel(R) Streaming SIMD Extensions 4.2 (Intel(R) SSE4.2) enabled only processors has been deprecated. Intel oneAPI Math Kernel Library 2025.0 will require Intel(R) Advanced Vector Extensions (Intel(R) AVX) instructions.\n",
      "Intel MKL WARNING: Support of Intel(R) Streaming SIMD Extensions 4.2 (Intel(R) SSE4.2) enabled only processors has been deprecated. Intel oneAPI Math Kernel Library 2025.0 will require Intel(R) Advanced Vector Extensions (Intel(R) AVX) instructions.\n",
      "Intel MKL WARNING: Support of Intel(R) Streaming SIMD Extensions 4.2 (Intel(R) SSE4.2) enabled only processors has been deprecated. Intel oneAPI Math Kernel Library 2025.0 will require Intel(R) Advanced Vector Extensions (Intel(R) AVX) instructions.\n",
      "Intel MKL WARNING: Support of Intel(R) Streaming SIMD Extensions 4.2 (Intel(R) SSE4.2) enabled only processors has been deprecated. Intel oneAPI Math Kernel Library 2025.0 will require Intel(R) Advanced Vector Extensions (Intel(R) AVX) instructions.\n",
      "Intel MKL WARNING: Support of Intel(R) Streaming SIMD Extensions 4.2 (Intel(R) SSE4.2) enabled only processors has been deprecated. Intel oneAPI Math Kernel Library 2025.0 will require Intel(R) Advanced Vector Extensions (Intel(R) AVX) instructions.\n",
      "Intel MKL WARNING: Support of Intel(R) Streaming SIMD Extensions 4.2 (Intel(R) SSE4.2) enabled only processors has been deprecated. Intel oneAPI Math Kernel Library 2025.0 will require Intel(R) Advanced Vector Extensions (Intel(R) AVX) instructions.\n",
      "Intel MKL WARNING: Support of Intel(R) Streaming SIMD Extensions 4.2 (Intel(R) SSE4.2) enabled only processors has been deprecated. Intel oneAPI Math Kernel Library 2025.0 will require Intel(R) Advanced Vector Extensions (Intel(R) AVX) instructions.\n",
      "Intel MKL WARNING: Support of Intel(R) Streaming SIMD Extensions 4.2 (Intel(R) SSE4.2) enabled only processors has been deprecated. Intel oneAPI Math Kernel Library 2025.0 will require Intel(R) Advanced Vector Extensions (Intel(R) AVX) instructions.\n",
      "Intel MKL WARNING: Support of Intel(R) Streaming SIMD Extensions 4.2 (Intel(R) SSE4.2) enabled only processors has been deprecated. Intel oneAPI Math Kernel Library 2025.0 will require Intel(R) Advanced Vector Extensions (Intel(R) AVX) instructions.\n",
      "Intel MKL WARNING: Support of Intel(R) Streaming SIMD Extensions 4.2 (Intel(R) SSE4.2) enabled only processors has been deprecated. Intel oneAPI Math Kernel Library 2025.0 will require Intel(R) Advanced Vector Extensions (Intel(R) AVX) instructions.\n",
      "Intel MKL WARNING: Support of Intel(R) Streaming SIMD Extensions 4.2 (Intel(R) SSE4.2) enabled only processors has been deprecated. Intel oneAPI Math Kernel Library 2025.0 will require Intel(R) Advanced Vector Extensions (Intel(R) AVX) instructions.\n",
      "Intel MKL WARNING: Support of Intel(R) Streaming SIMD Extensions 4.2 (Intel(R) SSE4.2) enabled only processors has been deprecated. Intel oneAPI Math Kernel Library 2025.0 will require Intel(R) Advanced Vector Extensions (Intel(R) AVX) instructions.\n"
     ]
    },
    {
     "data": {
      "text/html": [
       "<table style=\"text-align:center\"><tr><td colspan=\"13\" style=\"border-bottom: 1px solid black\"></td></tr>\n",
       "<tr><td style=\"text-align:left\"></td><tr><td></td><td colspan=\"3\">Dependent var 1: Student Financial Proficiency</td><td colspan=\"3\">Dependent var 2: Intention to save index</td><td colspan=\"3\">Dependent var 3: Negotiates prices or payment methods</td><td colspan=\"3\">Dependent var 4: Has some form of income</td></tr><tr><td style=\"text-align:left\"></td><td>(1)</td><td>(2)</td><td>(3)</td><td>(4)</td><td>(5)</td><td>(6)</td><td>(7)</td><td>(8)</td><td>(9)</td><td>(10)</td><td>(11)</td><td>(12)</td></tr>\n",
       "<tr><td colspan=\"13\" style=\"border-bottom: 1px solid black\"></td></tr>\n",
       "\n",
       "<tr><td style=\"text-align:left\">Intercept</td><td>57.591<sup>***</sup></td><td>59.377<sup>***</sup></td><td>57.013<sup>***</sup></td><td>49.016<sup>***</sup></td><td>46.725<sup>***</sup></td><td>45.407<sup>***</sup></td><td>0.763<sup>***</sup></td><td>0.856<sup>***</sup></td><td>0.901<sup>***</sup></td><td>0.639<sup>***</sup></td><td>0.534<sup>***</sup></td><td>0.553<sup>***</sup></td></tr>\n",
       "<tr><td style=\"text-align:left\"></td><td>(0.187)</td><td>(0.556)</td><td>(0.583)</td><td>(0.240)</td><td>(0.728)</td><td>(0.767)</td><td>(0.006)</td><td>(0.017)</td><td>(0.018)</td><td>(0.006)</td><td>(0.019)</td><td>(0.020)</td></tr>\n",
       "<tr><td style=\"text-align:left\">Failed at least one school year</td><td></td><td>-7.218<sup>***</sup></td><td>-6.759<sup>***</sup></td><td></td><td>-3.614<sup>***</sup></td><td>-3.354<sup>***</sup></td><td></td><td>0.024<sup>***</sup></td><td>0.016<sup>*</sup></td><td></td><td>0.005<sup></sup></td><td>0.002<sup></sup></td></tr>\n",
       "<tr><td style=\"text-align:left\"></td><td></td><td>(0.288)</td><td>(0.289)</td><td></td><td>(0.377)</td><td>(0.380)</td><td></td><td>(0.009)</td><td>(0.009)</td><td></td><td>(0.010)</td><td>(0.010)</td></tr>\n",
       "<tr><td style=\"text-align:left\">Female</td><td></td><td></td><td>2.836<sup>***</sup></td><td></td><td></td><td>1.357<sup>***</sup></td><td></td><td></td><td>-0.066<sup>***</sup></td><td></td><td></td><td>-0.054<sup>***</sup></td></tr>\n",
       "<tr><td style=\"text-align:left\"></td><td></td><td></td><td>(0.257)</td><td></td><td></td><td>(0.339)</td><td></td><td></td><td>(0.008)</td><td></td><td></td><td>(0.009)</td></tr>\n",
       "<tr><td style=\"text-align:left\">Q(\"mother.attended.secondary.school\")</td><td></td><td></td><td>1.826<sup>***</sup></td><td></td><td></td><td>1.380<sup>***</sup></td><td></td><td></td><td>-0.016<sup>**</sup></td><td></td><td></td><td>0.036<sup>***</sup></td></tr>\n",
       "<tr><td style=\"text-align:left\"></td><td></td><td></td><td>(0.257)</td><td></td><td></td><td>(0.338)</td><td></td><td></td><td>(0.008)</td><td></td><td></td><td>(0.009)</td></tr>\n",
       "<tr><td style=\"text-align:left\">school</td><td></td><td>0.000<sup></sup></td><td>-0.000<sup></sup></td><td></td><td>0.000<sup>***</sup></td><td>0.000<sup>***</sup></td><td></td><td>-0.000<sup>***</sup></td><td>-0.000<sup>***</sup></td><td></td><td>0.000<sup>***</sup></td><td>0.000<sup>***</sup></td></tr>\n",
       "<tr><td style=\"text-align:left\"></td><td></td><td>(0.000)</td><td>(0.000)</td><td></td><td>(0.000)</td><td>(0.000)</td><td></td><td>(0.000)</td><td>(0.000)</td><td></td><td>(0.000)</td><td>(0.000)</td></tr>\n",
       "<tr><td style=\"text-align:left\">treatment</td><td>4.216<sup>***</sup></td><td>4.392<sup>***</sup></td><td>4.307<sup>***</sup></td><td>-0.070<sup></sup></td><td>-0.005<sup></sup></td><td>-0.047<sup></sup></td><td>0.001<sup></sup></td><td>0.001<sup></sup></td><td>0.003<sup></sup></td><td>0.017<sup>**</sup></td><td>0.016<sup>*</sup></td><td>0.018<sup>**</sup></td></tr>\n",
       "<tr><td style=\"text-align:left\"></td><td>(0.261)</td><td>(0.255)</td><td>(0.253)</td><td>(0.335)</td><td>(0.334)</td><td>(0.333)</td><td>(0.008)</td><td>(0.008)</td><td>(0.008)</td><td>(0.009)</td><td>(0.009)</td><td>(0.009)</td></tr>\n",
       "\n",
       "<td colspan=\"13\" style=\"border-bottom: 1px solid black\"></td></tr>\n",
       "<tr><td style=\"text-align: left\">Observations</td><td>12222</td><td>12222</td><td>12222</td><td>12222</td><td>12222</td><td>12222</td><td>12222</td><td>12222</td><td>12222</td><td>12222</td><td>12222</td><td>12222</td></tr><tr><td style=\"text-align: left\">R<sup>2</sup></td><td>0.021</td><td>0.069</td><td>0.081</td><td>0.000</td><td>0.009</td><td>0.012</td><td>0.000</td><td>0.004</td><td>0.010</td><td>0.000</td><td>0.003</td><td>0.008</td></tr><tr><td style=\"text-align: left\">Adjusted R<sup>2</sup></td><td>0.021</td><td>0.068</td><td>0.080</td><td>-0.000</td><td>0.009</td><td>0.011</td><td>-0.000</td><td>0.004</td><td>0.010</td><td>0.000</td><td>0.003</td><td>0.008</td></tr><tr><td style=\"text-align: left\">Residual Std. Error</td><td>14.432 (df=12220)</td><td>14.076 (df=12218)</td><td>13.986 (df=12216)</td><td>18.506 (df=12220)</td><td>18.421 (df=12218)</td><td>18.400 (df=12216)</td><td>0.425 (df=12220)</td><td>0.424 (df=12218)</td><td>0.423 (df=12216)</td><td>0.478 (df=12220)</td><td>0.477 (df=12218)</td><td>0.476 (df=12216)</td></tr><tr><td style=\"text-align: left\">F Statistic</td><td>260.547<sup>***</sup> (df=1; 12220)</td><td>300.463<sup>***</sup> (df=3; 12218)</td><td>214.786<sup>***</sup> (df=5; 12216)</td><td>0.043<sup></sup> (df=1; 12220)</td><td>38.533<sup>***</sup> (df=3; 12218)</td><td>29.248<sup>***</sup> (df=5; 12216)</td><td>0.018<sup></sup> (df=1; 12220)</td><td>16.352<sup>***</sup> (df=3; 12218)</td><td>24.653<sup>***</sup> (df=5; 12216)</td><td>3.843<sup>**</sup> (df=1; 12220)</td><td>12.839<sup>***</sup> (df=3; 12218)</td><td>19.652<sup>***</sup> (df=5; 12216)</td></tr>\n",
       "<tr><td colspan=\"13\" style=\"border-bottom: 1px solid black\"></td></tr><tr><td style=\"text-align: left\">Note:</td><td colspan=\"12\" style=\"text-align: right\"><sup>*</sup>p&lt;0.1; <sup>**</sup>p&lt;0.05; <sup>***</sup>p&lt;0.01</td></tr></table>"
      ],
      "text/plain": [
       "<stargazer.stargazer.Stargazer at 0x7fef97da8f70>"
      ]
     },
     "metadata": {},
     "output_type": "display_data"
    }
   ],
   "source": [
    "using GLM, DataFrames\n",
    "\n",
    "# Define formulas for regressions\n",
    "formulas_score = [\n",
    "    @formula(outcome.test.score ~ treatment),\n",
    "    @formula(outcome.test.score ~ treatment + school + failed_at_least_one_school_year),\n",
    "    @formula(outcome.test.score ~ treatment + school + failed_at_least_one_school_year + is_female + mother_attended_secondary_school)\n",
    "]\n",
    "\n",
    "formulas_saving = [\n",
    "    @formula(intention.to.save.index ~ treatment),\n",
    "    @formula(intention.to.save.index ~ treatment + school + failed_at_least_one_school_year),\n",
    "    @formula(intention.to.save.index ~ treatment + school + failed_at_least_one_school_year + is_female + mother_attended_secondary_school)\n",
    "]\n",
    "\n",
    "formulas_negotiates = [\n",
    "    @formula(negotiates.prices.or.payment.methods ~ treatment),\n",
    "    @formula(negotiates.prices.or.payment.methods ~ treatment + school + failed_at_least_one_school_year),\n",
    "    @formula(negotiates.prices.or.payment.methods ~ treatment + school + failed_at_least_one_school_year + is_female + mother_attended_secondary_school)\n",
    "]\n",
    "\n",
    "formulas_manage = [\n",
    "    @formula(has.some.form.of.income ~ treatment),\n",
    "    @formula(has.some.form.of.income ~ treatment + school + failed_at_least_one_school_year),\n",
    "    @formula(has.some.form.of.income ~ treatment + school + failed_at_least_one_school_year + is_female + mother_attended_secondary_school)\n",
    "]\n",
    "\n",
    "# Perform regressions\n",
    "ols_score = [glm(f, df, Normal(), IdentityLink()) for f in formulas_score]\n",
    "ols_saving = [glm(f, df, Normal(), IdentityLink()) for f in formulas_saving]\n",
    "ols_negotiates = [glm(f, df, Normal(), IdentityLink()) for f in formulas_negotiates]\n",
    "ols_manage = [glm(f, df, Normal(), IdentityLink()) for f in formulas_manage]\n",
    "\n",
    "# Displaying the summary of one of the models as an example\n",
    "println(summary(ols_score[1]))\n"
   ]
  },
  {
   "cell_type": "markdown",
   "metadata": {},
   "source": [
    "##### b. Double Lasso using cross validation"
   ]
  },
  {
   "cell_type": "markdown",
   "metadata": {},
   "source": [
    "Dependent var 1: Student Financial Proficiency"
   ]
  },
  {
   "cell_type": "markdown",
   "metadata": {},
   "source": [
    "Step 1: We ran Lasso regression of Y (student financial proficiency) on X, and T on X"
   ]
  },
  {
   "cell_type": "code",
   "execution_count": null,
   "metadata": {},
   "outputs": [
    {
     "name": "stdout",
     "output_type": "stream",
     "text": [
      "Intel MKL WARNING: Support of Intel(R) Streaming SIMD Extensions 4.2 (Intel(R) SSE4.2) enabled only processors has been deprecated. Intel oneAPI Math Kernel Library 2025.0 will require Intel(R) Advanced Vector Extensions (Intel(R) AVX) instructions.\n",
      "Intel MKL WARNING: Support of Intel(R) Streaming SIMD Extensions 4.2 (Intel(R) SSE4.2) enabled only processors has been deprecated. Intel oneAPI Math Kernel Library 2025.0 will require Intel(R) Advanced Vector Extensions (Intel(R) AVX) instructions.\n",
      "Intel MKL WARNING: Support of Intel(R) Streaming SIMD Extensions 4.2 (Intel(R) SSE4.2) enabled only processors has been deprecated. Intel oneAPI Math Kernel Library 2025.0 will require Intel(R) Advanced Vector Extensions (Intel(R) AVX) instructions.\n",
      "Intel MKL WARNING: Support of Intel(R) Streaming SIMD Extensions 4.2 (Intel(R) SSE4.2) enabled only processors has been deprecated. Intel oneAPI Math Kernel Library 2025.0 will require Intel(R) Advanced Vector Extensions (Intel(R) AVX) instructions.\n",
      "Intel MKL WARNING: Support of Intel(R) Streaming SIMD Extensions 4.2 (Intel(R) SSE4.2) enabled only processors has been deprecated. Intel oneAPI Math Kernel Library 2025.0 will require Intel(R) Advanced Vector Extensions (Intel(R) AVX) instructions.\n",
      "Intel MKL WARNING: Support of Intel(R) Streaming SIMD Extensions 4.2 (Intel(R) SSE4.2) enabled only processors has been deprecated. Intel oneAPI Math Kernel Library 2025.0 will require Intel(R) Advanced Vector Extensions (Intel(R) AVX) instructions.\n",
      "Intel MKL WARNING: Support of Intel(R) Streaming SIMD Extensions 4.2 (Intel(R) SSE4.2) enabled only processors has been deprecated. Intel oneAPI Math Kernel Library 2025.0 will require Intel(R) Advanced Vector Extensions (Intel(R) AVX) instructions.\n",
      "Intel MKL WARNING: Support of Intel(R) Streaming SIMD Extensions 4.2 (Intel(R) SSE4.2) enabled only processors has been deprecated. Intel oneAPI Math Kernel Library 2025.0 will require Intel(R) Advanced Vector Extensions (Intel(R) AVX) instructions.\n",
      "Intel MKL WARNING: Support of Intel(R) Streaming SIMD Extensions 4.2 (Intel(R) SSE4.2) enabled only processors has been deprecated. Intel oneAPI Math Kernel Library 2025.0 will require Intel(R) Advanced Vector Extensions (Intel(R) AVX) instructions.\n",
      "Intel MKL WARNING: Support of Intel(R) Streaming SIMD Extensions 4.2 (Intel(R) SSE4.2) enabled only processors has been deprecated. Intel oneAPI Math Kernel Library 2025.0 will require Intel(R) Advanced Vector Extensions (Intel(R) AVX) instructions.\n",
      "Mejor lambda: 0.0001\n"
     ]
    }
   ],
   "source": [
    "lasso_CV_yX = LassoCV(alphas = np.arange(0.0001, 0.5, 0.001), cv = 10, max_iter = 5000)\n",
    "lasso_CV_yX.fit(X_train_scaled, y_train['outcome.test.score'])\n",
    "\n",
    "lasso_CV_lambda = lasso_CV_yX.alpha_\n",
    "print(f\"Mejor lambda: {lasso_CV_lambda:.4f}\")"
   ]
  },
  {
   "cell_type": "code",
   "execution_count": null,
   "metadata": {},
   "outputs": [],
   "source": [
    "# Estimate y predictions with all X\n",
    "y_pred_yX = lasso_CV_yX.predict(X_scaled)"
   ]
  },
  {
   "cell_type": "code",
   "execution_count": null,
   "metadata": {},
   "outputs": [
    {
     "name": "stdout",
     "output_type": "stream",
     "text": [
      "Intel MKL WARNING: Support of Intel(R) Streaming SIMD Extensions 4.2 (Intel(R) SSE4.2) enabled only processors has been deprecated. Intel oneAPI Math Kernel Library 2025.0 will require Intel(R) Advanced Vector Extensions (Intel(R) AVX) instructions.\n",
      "Intel MKL WARNING: Support of Intel(R) Streaming SIMD Extensions 4.2 (Intel(R) SSE4.2) enabled only processors has been deprecated. Intel oneAPI Math Kernel Library 2025.0 will require Intel(R) Advanced Vector Extensions (Intel(R) AVX) instructions.\n",
      "Intel MKL WARNING: Support of Intel(R) Streaming SIMD Extensions 4.2 (Intel(R) SSE4.2) enabled only processors has been deprecated. Intel oneAPI Math Kernel Library 2025.0 will require Intel(R) Advanced Vector Extensions (Intel(R) AVX) instructions.\n",
      "Intel MKL WARNING: Support of Intel(R) Streaming SIMD Extensions 4.2 (Intel(R) SSE4.2) enabled only processors has been deprecated. Intel oneAPI Math Kernel Library 2025.0 will require Intel(R) Advanced Vector Extensions (Intel(R) AVX) instructions.\n",
      "Intel MKL WARNING: Support of Intel(R) Streaming SIMD Extensions 4.2 (Intel(R) SSE4.2) enabled only processors has been deprecated. Intel oneAPI Math Kernel Library 2025.0 will require Intel(R) Advanced Vector Extensions (Intel(R) AVX) instructions.\n",
      "Intel MKL WARNING: Support of Intel(R) Streaming SIMD Extensions 4.2 (Intel(R) SSE4.2) enabled only processors has been deprecated. Intel oneAPI Math Kernel Library 2025.0 will require Intel(R) Advanced Vector Extensions (Intel(R) AVX) instructions.\n",
      "Intel MKL WARNING: Support of Intel(R) Streaming SIMD Extensions 4.2 (Intel(R) SSE4.2) enabled only processors has been deprecated. Intel oneAPI Math Kernel Library 2025.0 will require Intel(R) Advanced Vector Extensions (Intel(R) AVX) instructions.\n",
      "Intel MKL WARNING: Support of Intel(R) Streaming SIMD Extensions 4.2 (Intel(R) SSE4.2) enabled only processors has been deprecated. Intel oneAPI Math Kernel Library 2025.0 will require Intel(R) Advanced Vector Extensions (Intel(R) AVX) instructions.\n",
      "Intel MKL WARNING: Support of Intel(R) Streaming SIMD Extensions 4.2 (Intel(R) SSE4.2) enabled only processors has been deprecated. Intel oneAPI Math Kernel Library 2025.0 will require Intel(R) Advanced Vector Extensions (Intel(R) AVX) instructions.\n",
      "Intel MKL WARNING: Support of Intel(R) Streaming SIMD Extensions 4.2 (Intel(R) SSE4.2) enabled only processors has been deprecated. Intel oneAPI Math Kernel Library 2025.0 will require Intel(R) Advanced Vector Extensions (Intel(R) AVX) instructions.\n",
      "Mejor lambda: 0.0011\n"
     ]
    }
   ],
   "source": [
    "lasso_CV_TX = LassoCV(alphas = np.arange(0.0001, 0.5, 0.001), cv = 10, max_iter = 5000)\n",
    "lasso_CV_TX.fit(X_train_scaled, T_train)\n",
    "y_pred = lasso_CV_TX.predict(X_test_scaled)\n",
    "\n",
    "lasso_CV_lambda = lasso_CV_TX.alpha_\n",
    "print(f\"Mejor lambda: {lasso_CV_lambda:.4f}\")"
   ]
  },
  {
   "cell_type": "code",
   "execution_count": null,
   "metadata": {},
   "outputs": [],
   "source": [
    "# Estimate T predictions with all X\n",
    "y_pred_TX = lasso_CV_TX.predict(X_scaled)"
   ]
  },
  {
   "cell_type": "markdown",
   "metadata": {},
   "source": [
    "Step 2: Obtain the resulting residuals"
   ]
  },
  {
   "cell_type": "code",
   "execution_count": null,
   "metadata": {},
   "outputs": [],
   "source": [
    "res_yX = y['outcome.test.score'] - y_pred_yX\n",
    "res_TX = T - y_pred_TX"
   ]
  },
  {
   "cell_type": "markdown",
   "metadata": {},
   "source": [
    "Step 3: We run the least squares of res_yX on res_TX"
   ]
  },
  {
   "cell_type": "code",
   "execution_count": null,
   "metadata": {},
   "outputs": [
    {
     "name": "stdout",
     "output_type": "stream",
     "text": [
      "Intel MKL WARNING: Support of Intel(R) Streaming SIMD Extensions 4.2 (Intel(R) SSE4.2) enabled only processors has been deprecated. Intel oneAPI Math Kernel Library 2025.0 will require Intel(R) Advanced Vector Extensions (Intel(R) AVX) instructions.\n"
     ]
    },
    {
     "data": {
      "text/html": [
       "<table style=\"text-align:center\"><tr><td colspan=\"2\" style=\"border-bottom: 1px solid black\"></td></tr>\n",
       "<tr><td style=\"text-align:left\"></td><td colspan=\"1\"><em>Dependent variable: res_yX</em></td></tr><tr><td style=\"text-align:left\"></td><tr><td style=\"text-align:left\"></td><td>(1)</td></tr>\n",
       "<tr><td colspan=\"2\" style=\"border-bottom: 1px solid black\"></td></tr>\n",
       "\n",
       "<tr><td style=\"text-align:left\">Intercept</td><td>0.033<sup></sup></td></tr>\n",
       "<tr><td style=\"text-align:left\"></td><td>(0.126)</td></tr>\n",
       "<tr><td style=\"text-align:left\">res_TX</td><td>4.324<sup>***</sup></td></tr>\n",
       "<tr><td style=\"text-align:left\"></td><td>(0.253)</td></tr>\n",
       "\n",
       "<td colspan=\"2\" style=\"border-bottom: 1px solid black\"></td></tr>\n",
       "<tr><td style=\"text-align: left\">Observations</td><td>12222</td></tr><tr><td style=\"text-align: left\">R<sup>2</sup></td><td>0.023</td></tr><tr><td style=\"text-align: left\">Adjusted R<sup>2</sup></td><td>0.023</td></tr><tr><td style=\"text-align: left\">Residual Std. Error</td><td>13.945 (df=12220)</td></tr><tr><td style=\"text-align: left\">F Statistic</td><td>292.956<sup>***</sup> (df=1; 12220)</td></tr>\n",
       "<tr><td colspan=\"2\" style=\"border-bottom: 1px solid black\"></td></tr><tr><td style=\"text-align: left\">Note:</td><td colspan=\"1\" style=\"text-align: right\"><sup>*</sup>p&lt;0.1; <sup>**</sup>p&lt;0.05; <sup>***</sup>p&lt;0.01</td></tr></table>"
      ],
      "text/plain": [
       "<stargazer.stargazer.Stargazer at 0x7fefa65f59a0>"
      ]
     },
     "metadata": {},
     "output_type": "display_data"
    }
   ],
   "source": [
    "ols_score = sm.OLS.from_formula('res_yX ~ res_TX', data=df).fit()\n",
    "\n",
    "# Show parameters in table\n",
    "st = Stargazer([ols_score])\n",
    "st"
   ]
  }
 ],
 "metadata": {
  "kernelspec": {
   "display_name": "Julia 1.10.2",
   "language": "julia",
   "name": "julia-1.10"
  },
  "language_info": {
   "file_extension": ".jl",
   "mimetype": "application/julia",
   "name": "julia",
   "version": "1.10.2"
  }
 },
 "nbformat": 4,
 "nbformat_minor": 2
}
