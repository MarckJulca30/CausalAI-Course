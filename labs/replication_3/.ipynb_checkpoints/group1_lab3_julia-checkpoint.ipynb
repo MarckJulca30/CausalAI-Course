{
 "cells": [
  {
   "cell_type": "markdown",
   "id": "3ef7d780-4726-4f07-8f02-3ff43219b133",
   "metadata": {},
   "source": [
    "**Double Lasso - Using School data**"
   ]
  },
  {
   "cell_type": "code",
   "execution_count": 7,
   "id": "20a4ad94-a6b3-483b-9409-da62de8b1284",
   "metadata": {},
   "outputs": [
    {
     "name": "stderr",
     "output_type": "stream",
     "text": [
      "\u001b[32m\u001b[1m   Resolving\u001b[22m\u001b[39m package versions...\n",
      "\u001b[32m\u001b[1m  No Changes\u001b[22m\u001b[39m to `C:\\Users\\Alvaro\\.julia\\environments\\v1.11\\Project.toml`\n",
      "\u001b[32m\u001b[1m  No Changes\u001b[22m\u001b[39m to `C:\\Users\\Alvaro\\.julia\\environments\\v1.11\\Manifest.toml`\n",
      "\u001b[32m\u001b[1m   Resolving\u001b[22m\u001b[39m package versions...\n",
      "\u001b[32m\u001b[1m  No Changes\u001b[22m\u001b[39m to `C:\\Users\\Alvaro\\.julia\\environments\\v1.11\\Project.toml`\n",
      "\u001b[32m\u001b[1m  No Changes\u001b[22m\u001b[39m to `C:\\Users\\Alvaro\\.julia\\environments\\v1.11\\Manifest.toml`\n",
      "\u001b[32m\u001b[1m   Resolving\u001b[22m\u001b[39m package versions...\n",
      "\u001b[32m\u001b[1m  No Changes\u001b[22m\u001b[39m to `C:\\Users\\Alvaro\\.julia\\environments\\v1.11\\Project.toml`\n",
      "\u001b[32m\u001b[1m  No Changes\u001b[22m\u001b[39m to `C:\\Users\\Alvaro\\.julia\\environments\\v1.11\\Manifest.toml`\n",
      "\u001b[32m\u001b[1m   Resolving\u001b[22m\u001b[39m package versions...\n",
      "\u001b[32m\u001b[1m  No Changes\u001b[22m\u001b[39m to `C:\\Users\\Alvaro\\.julia\\environments\\v1.11\\Project.toml`\n",
      "\u001b[32m\u001b[1m  No Changes\u001b[22m\u001b[39m to `C:\\Users\\Alvaro\\.julia\\environments\\v1.11\\Manifest.toml`\n",
      "\u001b[32m\u001b[1m   Resolving\u001b[22m\u001b[39m package versions...\n",
      "\u001b[32m\u001b[1m  No Changes\u001b[22m\u001b[39m to `C:\\Users\\Alvaro\\.julia\\environments\\v1.11\\Project.toml`\n",
      "\u001b[32m\u001b[1m  No Changes\u001b[22m\u001b[39m to `C:\\Users\\Alvaro\\.julia\\environments\\v1.11\\Manifest.toml`\n",
      "\u001b[32m\u001b[1m   Resolving\u001b[22m\u001b[39m package versions...\n",
      "\u001b[32m\u001b[1m   Installed\u001b[22m\u001b[39m HDMjl ─ v0.0.11\n",
      "\u001b[32m\u001b[1m    Updating\u001b[22m\u001b[39m `C:\\Users\\Alvaro\\.julia\\environments\\v1.11\\Project.toml`\n",
      "\u001b[32m⌃\u001b[39m \u001b[90m[8de29b41] \u001b[39m\u001b[92m+ HDMjl v0.0.11\u001b[39m\n",
      "\u001b[32m\u001b[1m    Updating\u001b[22m\u001b[39m `C:\\Users\\Alvaro\\.julia\\environments\\v1.11\\Manifest.toml`\n",
      "\u001b[32m⌃\u001b[39m \u001b[90m[8de29b41] \u001b[39m\u001b[92m+ HDMjl v0.0.11\u001b[39m\n",
      "\u001b[36m\u001b[1m        Info\u001b[22m\u001b[39m Packages marked with \u001b[32m⌃\u001b[39m have new versions available and may be upgradable.\n",
      "\u001b[92m\u001b[1mPrecompiling\u001b[22m\u001b[39m project...\n",
      "   2956.3 ms\u001b[32m  ✓ \u001b[39mHDMjl\n",
      "  1 dependency successfully precompiled in 6 seconds. 439 already precompiled.\n"
     ]
    }
   ],
   "source": [
    "import Pkg\n",
    "Pkg.add(\"DataFrames\")\n",
    "Pkg.add(\"CausalInference\")\n",
    "Pkg.add(\"CSV\")\n",
    "Pkg.add(\"Plots\")\n",
    "Pkg.add(\"Lasso\")\n",
    "Pkg.add(\"HDMjl\")\n",
    "using CSV\n",
    "using DataFrames\n",
    "using Dates\n",
    "using Plots\n",
    "using Lasso\n",
    "using HDMjl\n",
    "using RData"
   ]
  },
  {
   "cell_type": "markdown",
   "id": "f9d7c4d4-c54d-482b-9845-a47cac38d64f",
   "metadata": {},
   "source": []
  },
  {
   "cell_type": "code",
   "execution_count": 47,
   "id": "596adc5a-f5cb-41b8-9ea1-d4c6dc8a1eaf",
   "metadata": {},
   "outputs": [
    {
     "data": {
      "text/html": [
       "<div><div style = \"float: left;\"><span>10×16 DataFrame</span></div><div style = \"clear: both;\"></div></div><div class = \"data-frame\" style = \"overflow-x: scroll;\"><table class = \"data-frame\" style = \"margin-bottom: 6px;\"><thead><tr class = \"header\"><th class = \"rowNumber\" style = \"font-weight: bold; text-align: right;\">Row</th><th style = \"text-align: left;\">outcome.test.score</th><th style = \"text-align: left;\">treatment</th><th style = \"text-align: left;\">school</th><th style = \"text-align: left;\">is.female</th><th style = \"text-align: left;\">mother.attended.secondary.school</th><th style = \"text-align: left;\">father.attened.secondary.school</th><th style = \"text-align: left;\">failed.at.least.one.school.year</th><th style = \"text-align: left;\">family.receives.cash.transfer</th><th style = \"text-align: left;\">has.computer.with.internet.at.home</th><th style = \"text-align: left;\">is.unemployed</th><th style = \"text-align: left;\">has.some.form.of.income</th><th style = \"text-align: left;\">saves.money.for.future.purchases</th><th style = \"text-align: left;\">intention.to.save.index</th><th style = \"text-align: left;\">makes.list.of.expenses.every.month</th><th style = \"text-align: left;\">negotiates.prices.or.payment.methods</th><th style = \"text-align: left;\">fincial.autonomy.index</th></tr><tr class = \"subheader headerLastRow\"><th class = \"rowNumber\" style = \"font-weight: bold; text-align: right;\"></th><th title = \"Float64\" style = \"text-align: left;\">Float64</th><th title = \"Int64\" style = \"text-align: left;\">Int64</th><th title = \"Int64\" style = \"text-align: left;\">Int64</th><th title = \"Union{Missing, Int64}\" style = \"text-align: left;\">Int64?</th><th title = \"Union{Missing, Int64}\" style = \"text-align: left;\">Int64?</th><th title = \"Union{Missing, Int64}\" style = \"text-align: left;\">Int64?</th><th title = \"Union{Missing, Int64}\" style = \"text-align: left;\">Int64?</th><th title = \"Union{Missing, Int64}\" style = \"text-align: left;\">Int64?</th><th title = \"Union{Missing, Int64}\" style = \"text-align: left;\">Int64?</th><th title = \"Union{Missing, Int64}\" style = \"text-align: left;\">Int64?</th><th title = \"Union{Missing, Int64}\" style = \"text-align: left;\">Int64?</th><th title = \"Union{Missing, Int64}\" style = \"text-align: left;\">Int64?</th><th title = \"Union{Missing, Int64}\" style = \"text-align: left;\">Int64?</th><th title = \"Union{Missing, Int64}\" style = \"text-align: left;\">Int64?</th><th title = \"Union{Missing, Int64}\" style = \"text-align: left;\">Int64?</th><th title = \"Union{Missing, Int64}\" style = \"text-align: left;\">Int64?</th></tr></thead><tbody><tr><td class = \"rowNumber\" style = \"font-weight: bold; text-align: right;\">1</td><td style = \"text-align: right;\">47.3674</td><td style = \"text-align: right;\">0</td><td style = \"text-align: right;\">17018390</td><td style = \"font-style: italic; text-align: right;\">missing</td><td style = \"font-style: italic; text-align: right;\">missing</td><td style = \"font-style: italic; text-align: right;\">missing</td><td style = \"font-style: italic; text-align: right;\">missing</td><td style = \"font-style: italic; text-align: right;\">missing</td><td style = \"font-style: italic; text-align: right;\">missing</td><td style = \"text-align: right;\">1</td><td style = \"text-align: right;\">1</td><td style = \"text-align: right;\">0</td><td style = \"text-align: right;\">29</td><td style = \"text-align: right;\">0</td><td style = \"text-align: right;\">1</td><td style = \"text-align: right;\">52</td></tr><tr><td class = \"rowNumber\" style = \"font-weight: bold; text-align: right;\">2</td><td style = \"text-align: right;\">58.1768</td><td style = \"text-align: right;\">1</td><td style = \"text-align: right;\">33002614</td><td style = \"font-style: italic; text-align: right;\">missing</td><td style = \"font-style: italic; text-align: right;\">missing</td><td style = \"font-style: italic; text-align: right;\">missing</td><td style = \"font-style: italic; text-align: right;\">missing</td><td style = \"font-style: italic; text-align: right;\">missing</td><td style = \"font-style: italic; text-align: right;\">missing</td><td style = \"text-align: right;\">0</td><td style = \"text-align: right;\">0</td><td style = \"text-align: right;\">0</td><td style = \"text-align: right;\">41</td><td style = \"text-align: right;\">0</td><td style = \"text-align: right;\">0</td><td style = \"text-align: right;\">27</td></tr><tr><td class = \"rowNumber\" style = \"font-weight: bold; text-align: right;\">3</td><td style = \"text-align: right;\">56.6717</td><td style = \"text-align: right;\">1</td><td style = \"text-align: right;\">35002914</td><td style = \"text-align: right;\">1</td><td style = \"text-align: right;\">1</td><td style = \"text-align: right;\">1</td><td style = \"text-align: right;\">0</td><td style = \"text-align: right;\">0</td><td style = \"text-align: right;\">0</td><td style = \"text-align: right;\">1</td><td style = \"text-align: right;\">0</td><td style = \"text-align: right;\">0</td><td style = \"text-align: right;\">48</td><td style = \"text-align: right;\">0</td><td style = \"text-align: right;\">1</td><td style = \"text-align: right;\">56</td></tr><tr><td class = \"rowNumber\" style = \"font-weight: bold; text-align: right;\">4</td><td style = \"text-align: right;\">29.0794</td><td style = \"text-align: right;\">0</td><td style = \"text-align: right;\">35908915</td><td style = \"text-align: right;\">1</td><td style = \"text-align: right;\">0</td><td style = \"text-align: right;\">0</td><td style = \"text-align: right;\">0</td><td style = \"text-align: right;\">0</td><td style = \"text-align: right;\">0</td><td style = \"text-align: right;\">0</td><td style = \"text-align: right;\">0</td><td style = \"text-align: right;\">0</td><td style = \"text-align: right;\">42</td><td style = \"text-align: right;\">0</td><td style = \"text-align: right;\">0</td><td style = \"text-align: right;\">27</td></tr><tr><td class = \"rowNumber\" style = \"font-weight: bold; text-align: right;\">5</td><td style = \"text-align: right;\">49.5635</td><td style = \"text-align: right;\">1</td><td style = \"text-align: right;\">33047324</td><td style = \"text-align: right;\">1</td><td style = \"text-align: right;\">0</td><td style = \"text-align: right;\">0</td><td style = \"text-align: right;\">0</td><td style = \"text-align: right;\">0</td><td style = \"text-align: right;\">1</td><td style = \"text-align: right;\">0</td><td style = \"text-align: right;\">1</td><td style = \"text-align: right;\">0</td><td style = \"text-align: right;\">50</td><td style = \"text-align: right;\">0</td><td style = \"text-align: right;\">1</td><td style = \"text-align: right;\">31</td></tr><tr><td class = \"rowNumber\" style = \"font-weight: bold; text-align: right;\">6</td><td style = \"text-align: right;\">43.0994</td><td style = \"text-align: right;\">0</td><td style = \"text-align: right;\">53012542</td><td style = \"text-align: right;\">1</td><td style = \"text-align: right;\">0</td><td style = \"text-align: right;\">0</td><td style = \"text-align: right;\">0</td><td style = \"text-align: right;\">1</td><td style = \"text-align: right;\">1</td><td style = \"text-align: right;\">0</td><td style = \"text-align: right;\">1</td><td style = \"text-align: right;\">0</td><td style = \"text-align: right;\">93</td><td style = \"text-align: right;\">0</td><td style = \"text-align: right;\">1</td><td style = \"text-align: right;\">77</td></tr><tr><td class = \"rowNumber\" style = \"font-weight: bold; text-align: right;\">7</td><td style = \"text-align: right;\">71.3296</td><td style = \"text-align: right;\">0</td><td style = \"text-align: right;\">53006984</td><td style = \"text-align: right;\">1</td><td style = \"text-align: right;\">1</td><td style = \"text-align: right;\">0</td><td style = \"text-align: right;\">0</td><td style = \"text-align: right;\">0</td><td style = \"text-align: right;\">1</td><td style = \"text-align: right;\">1</td><td style = \"text-align: right;\">1</td><td style = \"text-align: right;\">0</td><td style = \"text-align: right;\">52</td><td style = \"text-align: right;\">0</td><td style = \"text-align: right;\">1</td><td style = \"text-align: right;\">43</td></tr><tr><td class = \"rowNumber\" style = \"font-weight: bold; text-align: right;\">8</td><td style = \"text-align: right;\">80.0634</td><td style = \"text-align: right;\">0</td><td style = \"text-align: right;\">33049475</td><td style = \"text-align: right;\">1</td><td style = \"text-align: right;\">1</td><td style = \"text-align: right;\">1</td><td style = \"text-align: right;\">0</td><td style = \"text-align: right;\">0</td><td style = \"text-align: right;\">0</td><td style = \"text-align: right;\">0</td><td style = \"text-align: right;\">1</td><td style = \"text-align: right;\">0</td><td style = \"text-align: right;\">50</td><td style = \"text-align: right;\">0</td><td style = \"text-align: right;\">0</td><td style = \"text-align: right;\">31</td></tr><tr><td class = \"rowNumber\" style = \"font-weight: bold; text-align: right;\">9</td><td style = \"text-align: right;\">88.7516</td><td style = \"text-align: right;\">1</td><td style = \"text-align: right;\">35925639</td><td style = \"text-align: right;\">1</td><td style = \"text-align: right;\">1</td><td style = \"text-align: right;\">0</td><td style = \"text-align: right;\">0</td><td style = \"text-align: right;\">0</td><td style = \"text-align: right;\">0</td><td style = \"text-align: right;\">0</td><td style = \"text-align: right;\">0</td><td style = \"text-align: right;\">0</td><td style = \"text-align: right;\">59</td><td style = \"text-align: right;\">0</td><td style = \"text-align: right;\">1</td><td style = \"text-align: right;\">50</td></tr><tr><td class = \"rowNumber\" style = \"font-weight: bold; text-align: right;\">10</td><td style = \"text-align: right;\">61.4361</td><td style = \"text-align: right;\">1</td><td style = \"text-align: right;\">35008758</td><td style = \"text-align: right;\">1</td><td style = \"text-align: right;\">0</td><td style = \"text-align: right;\">0</td><td style = \"text-align: right;\">0</td><td style = \"text-align: right;\">0</td><td style = \"text-align: right;\">1</td><td style = \"text-align: right;\">1</td><td style = \"text-align: right;\">1</td><td style = \"text-align: right;\">0</td><td style = \"text-align: right;\">44</td><td style = \"text-align: right;\">0</td><td style = \"text-align: right;\">1</td><td style = \"text-align: right;\">14</td></tr></tbody></table></div>"
      ],
      "text/latex": [
       "\\begin{tabular}{r|cccccc}\n",
       "\t& outcome.test.score & treatment & school & is.female & mother.attended.secondary.school & \\\\\n",
       "\t\\hline\n",
       "\t& Float64 & Int64 & Int64 & Int64? & Int64? & \\\\\n",
       "\t\\hline\n",
       "\t1 & 47.3674 & 0 & 17018390 & \\emph{missing} & \\emph{missing} & $\\dots$ \\\\\n",
       "\t2 & 58.1768 & 1 & 33002614 & \\emph{missing} & \\emph{missing} & $\\dots$ \\\\\n",
       "\t3 & 56.6717 & 1 & 35002914 & 1 & 1 & $\\dots$ \\\\\n",
       "\t4 & 29.0794 & 0 & 35908915 & 1 & 0 & $\\dots$ \\\\\n",
       "\t5 & 49.5635 & 1 & 33047324 & 1 & 0 & $\\dots$ \\\\\n",
       "\t6 & 43.0994 & 0 & 53012542 & 1 & 0 & $\\dots$ \\\\\n",
       "\t7 & 71.3296 & 0 & 53006984 & 1 & 1 & $\\dots$ \\\\\n",
       "\t8 & 80.0634 & 0 & 33049475 & 1 & 1 & $\\dots$ \\\\\n",
       "\t9 & 88.7516 & 1 & 35925639 & 1 & 1 & $\\dots$ \\\\\n",
       "\t10 & 61.4361 & 1 & 35008758 & 1 & 0 & $\\dots$ \\\\\n",
       "\\end{tabular}\n"
      ],
      "text/plain": [
       "\u001b[1m10×16 DataFrame\u001b[0m\n",
       "\u001b[1m Row \u001b[0m│\u001b[1m outcome.test.score \u001b[0m\u001b[1m treatment \u001b[0m\u001b[1m school   \u001b[0m\u001b[1m is.female \u001b[0m\u001b[1m mother.attended.sec\u001b[0m ⋯\n",
       "     │\u001b[90m Float64            \u001b[0m\u001b[90m Int64     \u001b[0m\u001b[90m Int64    \u001b[0m\u001b[90m Int64?    \u001b[0m\u001b[90m Int64?             \u001b[0m ⋯\n",
       "─────┼──────────────────────────────────────────────────────────────────────────\n",
       "   1 │            47.3674          0  17018390 \u001b[90m   missing \u001b[0m\u001b[90m                    \u001b[0m ⋯\n",
       "   2 │            58.1768          1  33002614 \u001b[90m   missing \u001b[0m\u001b[90m                    \u001b[0m\n",
       "   3 │            56.6717          1  35002914          1\n",
       "   4 │            29.0794          0  35908915          1\n",
       "   5 │            49.5635          1  33047324          1                      ⋯\n",
       "   6 │            43.0994          0  53012542          1\n",
       "   7 │            71.3296          0  53006984          1\n",
       "   8 │            80.0634          0  33049475          1\n",
       "   9 │            88.7516          1  35925639          1                      ⋯\n",
       "  10 │            61.4361          1  35008758          1\n",
       "\u001b[36m                                                              12 columns omitted\u001b[0m"
      ]
     },
     "execution_count": 47,
     "metadata": {},
     "output_type": "execute_result"
    }
   ],
   "source": [
    "#Reading CSV file\n",
    "data = CSV.read(\"data/bruhn2016.csv\", DataFrame)\n",
    "first(data,10)"
   ]
  },
  {
   "cell_type": "code",
   "execution_count": 48,
   "id": "3c28e12a-0786-4916-aaaf-f331c28191e0",
   "metadata": {},
   "outputs": [
    {
     "ename": "LoadError",
     "evalue": "ArgumentError: column name \"financial.autonomy.index\" not found in the data frame; existing most similar names are: \"fincial.autonomy.index\"",
     "output_type": "error",
     "traceback": [
      "ArgumentError: column name \"financial.autonomy.index\" not found in the data frame; existing most similar names are: \"fincial.autonomy.index\"",
      "",
      "Stacktrace:",
      " [1] lookupname",
      "   @ C:\\Users\\Alvaro\\.julia\\packages\\DataFrames\\58MUJ\\src\\other\\index.jl:416 [inlined]",
      " [2] getindex",
      "   @ C:\\Users\\Alvaro\\.julia\\packages\\DataFrames\\58MUJ\\src\\other\\index.jl:422 [inlined]",
      " [3] getindex",
      "   @ C:\\Users\\Alvaro\\.julia\\packages\\DataFrames\\58MUJ\\src\\other\\index.jl:423 [inlined]",
      " [4] getindex(df::DataFrame, ::typeof(!), col_ind::String)",
      "   @ DataFrames C:\\Users\\Alvaro\\.julia\\packages\\DataFrames\\58MUJ\\src\\dataframe\\dataframe.jl:557",
      " [5] top-level scope",
      "   @ In[48]:20"
     ]
    }
   ],
   "source": [
    "#Los nombres de las variables hacen clash con las originales de CSV, asi que las cambiamos\n",
    "outcome = data[!,\"outcome.test.score\"]\n",
    "outcome = DataFrame([outcome],[:outcome])\n",
    "treatment = data[!,\"treatment\"]\n",
    "treatment = DataFrame([treatment],[:treatment])\n",
    "school = data[!,\"school\"]\n",
    "school = DataFrame([school],[:school])\n",
    "female = data[!,\"is.female\"]\n",
    "female = DataFrame([female],[:female])\n",
    "mother_secondary = data[!,\"mother.attended.secondary.school\"]\n",
    "mother_secondary = DataFrame([mother_secondary],[:mother_secondary])\n",
    "father_secondary = data[!,\"father.attened.secondary.school\"]\n",
    "father_secondary = DataFrame([father_secondary],[:father_secondary])\n",
    "failed_one_year = data[!,\"failed.at.least.one.school.year\"]\n",
    "failed_one_year = DataFrame([failed_one_year],[:failed_one_year])\n",
    "cash_transfer = data[!,\"family.receives.cash.transfer\"]\n",
    "cash_transfer = DataFrame([cash_transfer],[:cash_transfer])\n",
    "computer = data[!,\"has.computer.with.internet.at.home\"]\n",
    "computer = DataFrame([computer],[:computer])\n",
    "financial_index = data[!,\"fincial.autonomy.index\"]\n",
    "financial_index = DataFrame([financial_index],[:financial_index])\n",
    "data = [outcome treatment school female mother_secondary father_secondary failed_one_year cash_transfer computer]"
   ]
  },
  {
   "cell_type": "code",
   "execution_count": 43,
   "id": "126384e5-eafd-475e-9339-5ed2bac09f30",
   "metadata": {},
   "outputs": [
    {
     "data": {
      "text/html": [
       "<div><div style = \"float: left;\"><span>17299×9 DataFrame</span></div><div style = \"float: right;\"><span style = \"font-style: italic;\">17274 rows omitted</span></div><div style = \"clear: both;\"></div></div><div class = \"data-frame\" style = \"overflow-x: scroll;\"><table class = \"data-frame\" style = \"margin-bottom: 6px;\"><thead><tr class = \"header\"><th class = \"rowNumber\" style = \"font-weight: bold; text-align: right;\">Row</th><th style = \"text-align: left;\">outcome</th><th style = \"text-align: left;\">treatment</th><th style = \"text-align: left;\">school</th><th style = \"text-align: left;\">female</th><th style = \"text-align: left;\">mother_secondary</th><th style = \"text-align: left;\">father_secondary</th><th style = \"text-align: left;\">failed_one_year</th><th style = \"text-align: left;\">cash_transfer</th><th style = \"text-align: left;\">computer</th></tr><tr class = \"subheader headerLastRow\"><th class = \"rowNumber\" style = \"font-weight: bold; text-align: right;\"></th><th title = \"Float64\" style = \"text-align: left;\">Float64</th><th title = \"Int64\" style = \"text-align: left;\">Int64</th><th title = \"Int64\" style = \"text-align: left;\">Int64</th><th title = \"String3\" style = \"text-align: left;\">String3</th><th title = \"String3\" style = \"text-align: left;\">String3</th><th title = \"String3\" style = \"text-align: left;\">String3</th><th title = \"String3\" style = \"text-align: left;\">String3</th><th title = \"String3\" style = \"text-align: left;\">String3</th><th title = \"String3\" style = \"text-align: left;\">String3</th></tr></thead><tbody><tr><td class = \"rowNumber\" style = \"font-weight: bold; text-align: right;\">1</td><td style = \"text-align: right;\">47.3674</td><td style = \"text-align: right;\">0</td><td style = \"text-align: right;\">17018390</td><td style = \"text-align: left;\">NA</td><td style = \"text-align: left;\">NA</td><td style = \"text-align: left;\">NA</td><td style = \"text-align: left;\">NA</td><td style = \"text-align: left;\">NA</td><td style = \"text-align: left;\">NA</td></tr><tr><td class = \"rowNumber\" style = \"font-weight: bold; text-align: right;\">2</td><td style = \"text-align: right;\">58.1768</td><td style = \"text-align: right;\">1</td><td style = \"text-align: right;\">33002614</td><td style = \"text-align: left;\">NA</td><td style = \"text-align: left;\">NA</td><td style = \"text-align: left;\">NA</td><td style = \"text-align: left;\">NA</td><td style = \"text-align: left;\">NA</td><td style = \"text-align: left;\">NA</td></tr><tr><td class = \"rowNumber\" style = \"font-weight: bold; text-align: right;\">3</td><td style = \"text-align: right;\">56.6717</td><td style = \"text-align: right;\">1</td><td style = \"text-align: right;\">35002914</td><td style = \"text-align: left;\">1</td><td style = \"text-align: left;\">1</td><td style = \"text-align: left;\">1</td><td style = \"text-align: left;\">0</td><td style = \"text-align: left;\">0</td><td style = \"text-align: left;\">0</td></tr><tr><td class = \"rowNumber\" style = \"font-weight: bold; text-align: right;\">4</td><td style = \"text-align: right;\">29.0794</td><td style = \"text-align: right;\">0</td><td style = \"text-align: right;\">35908915</td><td style = \"text-align: left;\">1</td><td style = \"text-align: left;\">0</td><td style = \"text-align: left;\">0</td><td style = \"text-align: left;\">0</td><td style = \"text-align: left;\">0</td><td style = \"text-align: left;\">0</td></tr><tr><td class = \"rowNumber\" style = \"font-weight: bold; text-align: right;\">5</td><td style = \"text-align: right;\">49.5635</td><td style = \"text-align: right;\">1</td><td style = \"text-align: right;\">33047324</td><td style = \"text-align: left;\">1</td><td style = \"text-align: left;\">0</td><td style = \"text-align: left;\">0</td><td style = \"text-align: left;\">0</td><td style = \"text-align: left;\">0</td><td style = \"text-align: left;\">1</td></tr><tr><td class = \"rowNumber\" style = \"font-weight: bold; text-align: right;\">6</td><td style = \"text-align: right;\">43.0994</td><td style = \"text-align: right;\">0</td><td style = \"text-align: right;\">53012542</td><td style = \"text-align: left;\">1</td><td style = \"text-align: left;\">0</td><td style = \"text-align: left;\">0</td><td style = \"text-align: left;\">0</td><td style = \"text-align: left;\">1</td><td style = \"text-align: left;\">1</td></tr><tr><td class = \"rowNumber\" style = \"font-weight: bold; text-align: right;\">7</td><td style = \"text-align: right;\">71.3296</td><td style = \"text-align: right;\">0</td><td style = \"text-align: right;\">53006984</td><td style = \"text-align: left;\">1</td><td style = \"text-align: left;\">1</td><td style = \"text-align: left;\">0</td><td style = \"text-align: left;\">0</td><td style = \"text-align: left;\">0</td><td style = \"text-align: left;\">1</td></tr><tr><td class = \"rowNumber\" style = \"font-weight: bold; text-align: right;\">8</td><td style = \"text-align: right;\">80.0634</td><td style = \"text-align: right;\">0</td><td style = \"text-align: right;\">33049475</td><td style = \"text-align: left;\">1</td><td style = \"text-align: left;\">1</td><td style = \"text-align: left;\">1</td><td style = \"text-align: left;\">0</td><td style = \"text-align: left;\">0</td><td style = \"text-align: left;\">0</td></tr><tr><td class = \"rowNumber\" style = \"font-weight: bold; text-align: right;\">9</td><td style = \"text-align: right;\">88.7516</td><td style = \"text-align: right;\">1</td><td style = \"text-align: right;\">35925639</td><td style = \"text-align: left;\">1</td><td style = \"text-align: left;\">1</td><td style = \"text-align: left;\">0</td><td style = \"text-align: left;\">0</td><td style = \"text-align: left;\">0</td><td style = \"text-align: left;\">0</td></tr><tr><td class = \"rowNumber\" style = \"font-weight: bold; text-align: right;\">10</td><td style = \"text-align: right;\">61.4361</td><td style = \"text-align: right;\">1</td><td style = \"text-align: right;\">35008758</td><td style = \"text-align: left;\">1</td><td style = \"text-align: left;\">0</td><td style = \"text-align: left;\">0</td><td style = \"text-align: left;\">0</td><td style = \"text-align: left;\">0</td><td style = \"text-align: left;\">1</td></tr><tr><td class = \"rowNumber\" style = \"font-weight: bold; text-align: right;\">11</td><td style = \"text-align: right;\">63.8114</td><td style = \"text-align: right;\">1</td><td style = \"text-align: right;\">35005307</td><td style = \"text-align: left;\">1</td><td style = \"text-align: left;\">0</td><td style = \"text-align: left;\">0</td><td style = \"text-align: left;\">0</td><td style = \"text-align: left;\">0</td><td style = \"text-align: left;\">1</td></tr><tr><td class = \"rowNumber\" style = \"font-weight: bold; text-align: right;\">12</td><td style = \"text-align: right;\">66.0135</td><td style = \"text-align: right;\">0</td><td style = \"text-align: right;\">33024537</td><td style = \"text-align: left;\">1</td><td style = \"text-align: left;\">0</td><td style = \"text-align: left;\">0</td><td style = \"text-align: left;\">0</td><td style = \"text-align: left;\">0</td><td style = \"text-align: left;\">1</td></tr><tr><td class = \"rowNumber\" style = \"font-weight: bold; text-align: right;\">13</td><td style = \"text-align: right;\">39.5818</td><td style = \"text-align: right;\">1</td><td style = \"text-align: right;\">33075212</td><td style = \"text-align: left;\">NA</td><td style = \"text-align: left;\">NA</td><td style = \"text-align: left;\">NA</td><td style = \"text-align: left;\">NA</td><td style = \"text-align: left;\">NA</td><td style = \"text-align: left;\">NA</td></tr><tr><td style = \"text-align: right;\">&vellip;</td><td style = \"text-align: right;\">&vellip;</td><td style = \"text-align: right;\">&vellip;</td><td style = \"text-align: right;\">&vellip;</td><td style = \"text-align: right;\">&vellip;</td><td style = \"text-align: right;\">&vellip;</td><td style = \"text-align: right;\">&vellip;</td><td style = \"text-align: right;\">&vellip;</td><td style = \"text-align: right;\">&vellip;</td><td style = \"text-align: right;\">&vellip;</td></tr><tr><td class = \"rowNumber\" style = \"font-weight: bold; text-align: right;\">17288</td><td style = \"text-align: right;\">35.0643</td><td style = \"text-align: right;\">1</td><td style = \"text-align: right;\">35012087</td><td style = \"text-align: left;\">1</td><td style = \"text-align: left;\">0</td><td style = \"text-align: left;\">NA</td><td style = \"text-align: left;\">1</td><td style = \"text-align: left;\">1</td><td style = \"text-align: left;\">1</td></tr><tr><td class = \"rowNumber\" style = \"font-weight: bold; text-align: right;\">17289</td><td style = \"text-align: right;\">67.246</td><td style = \"text-align: right;\">1</td><td style = \"text-align: right;\">33081743</td><td style = \"text-align: left;\">1</td><td style = \"text-align: left;\">1</td><td style = \"text-align: left;\">NA</td><td style = \"text-align: left;\">0</td><td style = \"text-align: left;\">0</td><td style = \"text-align: left;\">1</td></tr><tr><td class = \"rowNumber\" style = \"font-weight: bold; text-align: right;\">17290</td><td style = \"text-align: right;\">52.3272</td><td style = \"text-align: right;\">1</td><td style = \"text-align: right;\">33099243</td><td style = \"text-align: left;\">1</td><td style = \"text-align: left;\">1</td><td style = \"text-align: left;\">0</td><td style = \"text-align: left;\">0</td><td style = \"text-align: left;\">1</td><td style = \"text-align: left;\">0</td></tr><tr><td class = \"rowNumber\" style = \"font-weight: bold; text-align: right;\">17291</td><td style = \"text-align: right;\">76.769</td><td style = \"text-align: right;\">1</td><td style = \"text-align: right;\">31069019</td><td style = \"text-align: left;\">1</td><td style = \"text-align: left;\">0</td><td style = \"text-align: left;\">0</td><td style = \"text-align: left;\">0</td><td style = \"text-align: left;\">1</td><td style = \"text-align: left;\">0</td></tr><tr><td class = \"rowNumber\" style = \"font-weight: bold; text-align: right;\">17292</td><td style = \"text-align: right;\">62.9471</td><td style = \"text-align: right;\">0</td><td style = \"text-align: right;\">23174986</td><td style = \"text-align: left;\">1</td><td style = \"text-align: left;\">0</td><td style = \"text-align: left;\">0</td><td style = \"text-align: left;\">0</td><td style = \"text-align: left;\">1</td><td style = \"text-align: left;\">1</td></tr><tr><td class = \"rowNumber\" style = \"font-weight: bold; text-align: right;\">17293</td><td style = \"text-align: right;\">67.1646</td><td style = \"text-align: right;\">0</td><td style = \"text-align: right;\">53012623</td><td style = \"text-align: left;\">NA</td><td style = \"text-align: left;\">NA</td><td style = \"text-align: left;\">NA</td><td style = \"text-align: left;\">NA</td><td style = \"text-align: left;\">NA</td><td style = \"text-align: left;\">NA</td></tr><tr><td class = \"rowNumber\" style = \"font-weight: bold; text-align: right;\">17294</td><td style = \"text-align: right;\">60.3028</td><td style = \"text-align: right;\">0</td><td style = \"text-align: right;\">35038301</td><td style = \"text-align: left;\">1</td><td style = \"text-align: left;\">1</td><td style = \"text-align: left;\">1</td><td style = \"text-align: left;\">0</td><td style = \"text-align: left;\">0</td><td style = \"text-align: left;\">0</td></tr><tr><td class = \"rowNumber\" style = \"font-weight: bold; text-align: right;\">17295</td><td style = \"text-align: right;\">49.4898</td><td style = \"text-align: right;\">1</td><td style = \"text-align: right;\">35012178</td><td style = \"text-align: left;\">1</td><td style = \"text-align: left;\">1</td><td style = \"text-align: left;\">1</td><td style = \"text-align: left;\">0</td><td style = \"text-align: left;\">0</td><td style = \"text-align: left;\">0</td></tr><tr><td class = \"rowNumber\" style = \"font-weight: bold; text-align: right;\">17296</td><td style = \"text-align: right;\">56.4573</td><td style = \"text-align: right;\">0</td><td style = \"text-align: right;\">35005320</td><td style = \"text-align: left;\">1</td><td style = \"text-align: left;\">0</td><td style = \"text-align: left;\">0</td><td style = \"text-align: left;\">0</td><td style = \"text-align: left;\">0</td><td style = \"text-align: left;\">1</td></tr><tr><td class = \"rowNumber\" style = \"font-weight: bold; text-align: right;\">17297</td><td style = \"text-align: right;\">59.7006</td><td style = \"text-align: right;\">0</td><td style = \"text-align: right;\">33016070</td><td style = \"text-align: left;\">1</td><td style = \"text-align: left;\">0</td><td style = \"text-align: left;\">0</td><td style = \"text-align: left;\">0</td><td style = \"text-align: left;\">0</td><td style = \"text-align: left;\">1</td></tr><tr><td class = \"rowNumber\" style = \"font-weight: bold; text-align: right;\">17298</td><td style = \"text-align: right;\">57.5156</td><td style = \"text-align: right;\">0</td><td style = \"text-align: right;\">53007514</td><td style = \"text-align: left;\">1</td><td style = \"text-align: left;\">1</td><td style = \"text-align: left;\">1</td><td style = \"text-align: left;\">0</td><td style = \"text-align: left;\">0</td><td style = \"text-align: left;\">0</td></tr><tr><td class = \"rowNumber\" style = \"font-weight: bold; text-align: right;\">17299</td><td style = \"text-align: right;\">27.3903</td><td style = \"text-align: right;\">1</td><td style = \"text-align: right;\">33075212</td><td style = \"text-align: left;\">NA</td><td style = \"text-align: left;\">NA</td><td style = \"text-align: left;\">NA</td><td style = \"text-align: left;\">NA</td><td style = \"text-align: left;\">NA</td><td style = \"text-align: left;\">NA</td></tr></tbody></table></div>"
      ],
      "text/latex": [
       "\\begin{tabular}{r|cccccccc}\n",
       "\t& outcome & treatment & school & female & mother\\_secondary & father\\_secondary & failed\\_one\\_year & \\\\\n",
       "\t\\hline\n",
       "\t& Float64 & Int64 & Int64 & String3 & String3 & String3 & String3 & \\\\\n",
       "\t\\hline\n",
       "\t1 & 47.3674 & 0 & 17018390 & NA & NA & NA & NA & $\\dots$ \\\\\n",
       "\t2 & 58.1768 & 1 & 33002614 & NA & NA & NA & NA & $\\dots$ \\\\\n",
       "\t3 & 56.6717 & 1 & 35002914 & 1 & 1 & 1 & 0 & $\\dots$ \\\\\n",
       "\t4 & 29.0794 & 0 & 35908915 & 1 & 0 & 0 & 0 & $\\dots$ \\\\\n",
       "\t5 & 49.5635 & 1 & 33047324 & 1 & 0 & 0 & 0 & $\\dots$ \\\\\n",
       "\t6 & 43.0994 & 0 & 53012542 & 1 & 0 & 0 & 0 & $\\dots$ \\\\\n",
       "\t7 & 71.3296 & 0 & 53006984 & 1 & 1 & 0 & 0 & $\\dots$ \\\\\n",
       "\t8 & 80.0634 & 0 & 33049475 & 1 & 1 & 1 & 0 & $\\dots$ \\\\\n",
       "\t9 & 88.7516 & 1 & 35925639 & 1 & 1 & 0 & 0 & $\\dots$ \\\\\n",
       "\t10 & 61.4361 & 1 & 35008758 & 1 & 0 & 0 & 0 & $\\dots$ \\\\\n",
       "\t11 & 63.8114 & 1 & 35005307 & 1 & 0 & 0 & 0 & $\\dots$ \\\\\n",
       "\t12 & 66.0135 & 0 & 33024537 & 1 & 0 & 0 & 0 & $\\dots$ \\\\\n",
       "\t13 & 39.5818 & 1 & 33075212 & NA & NA & NA & NA & $\\dots$ \\\\\n",
       "\t14 & 64.2641 & 1 & 53011520 & 1 & 0 & 0 & 1 & $\\dots$ \\\\\n",
       "\t15 & 66.0881 & 1 & 33058679 & 1 & 0 & 1 & 0 & $\\dots$ \\\\\n",
       "\t16 & 37.5406 & 0 & 23100575 & 1 & 0 & 1 & 0 & $\\dots$ \\\\\n",
       "\t17 & 59.1921 & 0 & 35011502 & 1 & 0 & 0 & 0 & $\\dots$ \\\\\n",
       "\t18 & 34.7024 & 0 & 35044453 & 1 & 0 & 1 & 0 & $\\dots$ \\\\\n",
       "\t19 & 36.5031 & 0 & 35012075 & NA & NA & NA & NA & $\\dots$ \\\\\n",
       "\t20 & 54.4889 & 1 & 33126267 & 1 & 0 & 0 & 1 & $\\dots$ \\\\\n",
       "\t21 & 51.4183 & 1 & 35045160 & 1 & 1 & 1 & 1 & $\\dots$ \\\\\n",
       "\t22 & 59.4325 & 1 & 31068543 & 1 & 0 & 0 & 1 & $\\dots$ \\\\\n",
       "\t23 & 70.1714 & 1 & 17002648 & 1 & 1 & 0 & 0 & $\\dots$ \\\\\n",
       "\t24 & 61.6955 & 1 & 33019223 & 1 & 0 & 0 & 0 & $\\dots$ \\\\\n",
       "\t25 & 66.9064 & 0 & 31069191 & 1 & 0 & 0 & 0 & $\\dots$ \\\\\n",
       "\t26 & 50.3237 & 1 & 33025576 & 1 & 0 & 0 & 0 & $\\dots$ \\\\\n",
       "\t27 & 65.6725 & 1 & 23131802 & 1 & 0 & 0 & 0 & $\\dots$ \\\\\n",
       "\t28 & 78.4616 & 1 & 35901805 & 1 & 1 & 1 & 0 & $\\dots$ \\\\\n",
       "\t29 & 27.846 & 1 & 33072310 & 1 & 0 & 0 & 1 & $\\dots$ \\\\\n",
       "\t30 & 34.9821 & 0 & 35901118 & 1 & 0 & 0 & 1 & $\\dots$ \\\\\n",
       "\t$\\dots$ & $\\dots$ & $\\dots$ & $\\dots$ & $\\dots$ & $\\dots$ & $\\dots$ & $\\dots$ &  \\\\\n",
       "\\end{tabular}\n"
      ],
      "text/plain": [
       "\u001b[1m17299×9 DataFrame\u001b[0m\n",
       "\u001b[1m   Row \u001b[0m│\u001b[1m outcome \u001b[0m\u001b[1m treatment \u001b[0m\u001b[1m school   \u001b[0m\u001b[1m female  \u001b[0m\u001b[1m mother_secondary \u001b[0m\u001b[1m father_secon\u001b[0m ⋯\n",
       "       │\u001b[90m Float64 \u001b[0m\u001b[90m Int64     \u001b[0m\u001b[90m Int64    \u001b[0m\u001b[90m String3 \u001b[0m\u001b[90m String3          \u001b[0m\u001b[90m String3     \u001b[0m ⋯\n",
       "───────┼────────────────────────────────────────────────────────────────────────\n",
       "     1 │ 47.3674          0  17018390  NA       NA                NA           ⋯\n",
       "     2 │ 58.1768          1  33002614  NA       NA                NA\n",
       "     3 │ 56.6717          1  35002914  1        1                 1\n",
       "     4 │ 29.0794          0  35908915  1        0                 0\n",
       "     5 │ 49.5635          1  33047324  1        0                 0            ⋯\n",
       "     6 │ 43.0994          0  53012542  1        0                 0\n",
       "     7 │ 71.3296          0  53006984  1        1                 0\n",
       "     8 │ 80.0634          0  33049475  1        1                 1\n",
       "     9 │ 88.7516          1  35925639  1        1                 0            ⋯\n",
       "    10 │ 61.4361          1  35008758  1        0                 0\n",
       "    11 │ 63.8114          1  35005307  1        0                 0\n",
       "   ⋮   │    ⋮         ⋮         ⋮         ⋮            ⋮                 ⋮     ⋱\n",
       " 17290 │ 52.3272          1  33099243  1        1                 0\n",
       " 17291 │ 76.769           1  31069019  1        0                 0            ⋯\n",
       " 17292 │ 62.9471          0  23174986  1        0                 0\n",
       " 17293 │ 67.1646          0  53012623  NA       NA                NA\n",
       " 17294 │ 60.3028          0  35038301  1        1                 1\n",
       " 17295 │ 49.4898          1  35012178  1        1                 1            ⋯\n",
       " 17296 │ 56.4573          0  35005320  1        0                 0\n",
       " 17297 │ 59.7006          0  33016070  1        0                 0\n",
       " 17298 │ 57.5156          0  53007514  1        1                 1\n",
       " 17299 │ 27.3903          1  33075212  NA       NA                NA           ⋯\n",
       "\u001b[36m                                                4 columns and 17278 rows omitted\u001b[0m"
      ]
     },
     "execution_count": 43,
     "metadata": {},
     "output_type": "execute_result"
    }
   ],
   "source": [
    "data = dropmissing(data, :female)"
   ]
  },
  {
   "cell_type": "markdown",
   "id": "57af17f6-e8d3-4b05-b945-99e8ebc8e7b3",
   "metadata": {},
   "source": [
    "# **OLS**"
   ]
  },
  {
   "cell_type": "code",
   "execution_count": 30,
   "id": "c5e92bce-4d50-4cf2-a5e3-4267f3af05a2",
   "metadata": {},
   "outputs": [
    {
     "data": {
      "text/plain": [
       "StatsModels.TableRegressionModel{LinearModel{GLM.LmResp{Vector{Float64}}, GLM.DensePredChol{Float64, LinearAlgebra.CholeskyPivoted{Float64, Matrix{Float64}, Vector{Int64}}}}, Matrix{Float64}}\n",
       "\n",
       "outcome ~ 1 + treatment + female + mother_secondary + father_secondary + failed_one_year + cash_transfer + computer\n",
       "\n",
       "Coefficients:\n",
       "────────────────────────────────────────────────────────────────────────────────────\n",
       "                          Coef.  Std. Error       t  Pr(>|t|)  Lower 95%   Upper 95%\n",
       "────────────────────────────────────────────────────────────────────────────────────\n",
       "(Intercept)           56.8945      0.30287   187.85    <1e-99  56.3009    57.4882\n",
       "treatment              4.4436      0.214368   20.73    <1e-93   4.02341    4.86378\n",
       "female: 1              2.99931     0.228537   13.12    <1e-38   2.55135    3.44726\n",
       "female: NA             3.88167     1.41127     2.75    0.0060   1.11544    6.6479\n",
       "mother_secondary: 1    1.00748     0.262604    3.84    0.0001   0.49275    1.52221\n",
       "mother_secondary: NA  -0.780159    0.97945    -0.80    0.4257  -2.69998    1.13966\n",
       "father_secondary: 1    0.888475    0.266263    3.34    0.0008   0.366573   1.41038\n",
       "father_secondary: NA  -0.659814    0.853639   -0.77    0.4396  -2.33303    1.0134\n",
       "failed_one_year: 1    -6.90657     0.253414  -27.25    <1e-99  -7.40329   -6.40985\n",
       "failed_one_year: NA   -4.55705     0.995492   -4.58    <1e-05  -6.50831   -2.60578\n",
       "cash_transfer: 1      -1.69705     0.250624   -6.77    <1e-10  -2.1883    -1.2058\n",
       "cash_transfer: NA     -2.22266     1.28853    -1.72    0.0846  -4.74831    0.302994\n",
       "computer: 1           -0.5253      0.245331   -2.14    0.0323  -1.00617   -0.0444257\n",
       "computer: NA           0.888784    1.06298     0.84    0.4031  -1.19476    2.97233\n",
       "────────────────────────────────────────────────────────────────────────────────────"
      ]
     },
     "execution_count": 30,
     "metadata": {},
     "output_type": "execute_result"
    }
   ],
   "source": [
    "#Modelo OLS\n",
    "\n",
    "basic  = @formula(outcome ~ (treatment + female + mother_secondary + father_secondary + failed_one_year + cash_transfer + computer))\n",
    "basic_results  = lm(basic, data)"
   ]
  },
  {
   "cell_type": "code",
   "execution_count": null,
   "id": "713f98a3-89cd-4cf3-93fc-12fc6d7d6679",
   "metadata": {},
   "outputs": [],
   "source": []
  }
 ],
 "metadata": {
  "kernelspec": {
   "display_name": "Julia 1.11.0-alpha2",
   "language": "julia",
   "name": "julia-1.11"
  },
  "language_info": {
   "file_extension": ".jl",
   "mimetype": "application/julia",
   "name": "julia",
   "version": "1.11.0"
  }
 },
 "nbformat": 4,
 "nbformat_minor": 5
}
