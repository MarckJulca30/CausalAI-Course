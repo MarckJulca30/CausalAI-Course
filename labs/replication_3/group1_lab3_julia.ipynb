{
 "cells": [
  {
   "cell_type": "markdown",
   "id": "3ef7d780-4726-4f07-8f02-3ff43219b133",
   "metadata": {},
   "source": [
    "## **Double Lasso - Using School data**"
   ]
  },
  {
   "cell_type": "code",
   "execution_count": 132,
   "id": "20a4ad94-a6b3-483b-9409-da62de8b1284",
   "metadata": {},
   "outputs": [
    {
     "name": "stderr",
     "output_type": "stream",
     "text": [
      "\u001b[32m\u001b[1m   Resolving\u001b[22m\u001b[39m package versions...\n",
      "\u001b[32m\u001b[1m  No Changes\u001b[22m\u001b[39m to `C:\\Users\\Alvaro\\.julia\\environments\\v1.11\\Project.toml`\n",
      "\u001b[32m\u001b[1m  No Changes\u001b[22m\u001b[39m to `C:\\Users\\Alvaro\\.julia\\environments\\v1.11\\Manifest.toml`\n",
      "\u001b[32m\u001b[1m   Resolving\u001b[22m\u001b[39m package versions...\n",
      "\u001b[32m\u001b[1m  No Changes\u001b[22m\u001b[39m to `C:\\Users\\Alvaro\\.julia\\environments\\v1.11\\Project.toml`\n",
      "\u001b[32m\u001b[1m  No Changes\u001b[22m\u001b[39m to `C:\\Users\\Alvaro\\.julia\\environments\\v1.11\\Manifest.toml`\n",
      "\u001b[32m\u001b[1m   Resolving\u001b[22m\u001b[39m package versions...\n",
      "\u001b[32m\u001b[1m  No Changes\u001b[22m\u001b[39m to `C:\\Users\\Alvaro\\.julia\\environments\\v1.11\\Project.toml`\n",
      "\u001b[32m\u001b[1m  No Changes\u001b[22m\u001b[39m to `C:\\Users\\Alvaro\\.julia\\environments\\v1.11\\Manifest.toml`\n",
      "\u001b[32m\u001b[1m   Resolving\u001b[22m\u001b[39m package versions...\n",
      "\u001b[32m\u001b[1m  No Changes\u001b[22m\u001b[39m to `C:\\Users\\Alvaro\\.julia\\environments\\v1.11\\Project.toml`\n",
      "\u001b[32m\u001b[1m  No Changes\u001b[22m\u001b[39m to `C:\\Users\\Alvaro\\.julia\\environments\\v1.11\\Manifest.toml`\n",
      "\u001b[32m\u001b[1m   Resolving\u001b[22m\u001b[39m package versions...\n",
      "\u001b[32m\u001b[1m  No Changes\u001b[22m\u001b[39m to `C:\\Users\\Alvaro\\.julia\\environments\\v1.11\\Project.toml`\n",
      "\u001b[32m\u001b[1m  No Changes\u001b[22m\u001b[39m to `C:\\Users\\Alvaro\\.julia\\environments\\v1.11\\Manifest.toml`\n",
      "\u001b[32m\u001b[1m   Resolving\u001b[22m\u001b[39m package versions...\n",
      "\u001b[32m\u001b[1m  No Changes\u001b[22m\u001b[39m to `C:\\Users\\Alvaro\\.julia\\environments\\v1.11\\Project.toml`\n",
      "\u001b[32m\u001b[1m  No Changes\u001b[22m\u001b[39m to `C:\\Users\\Alvaro\\.julia\\environments\\v1.11\\Manifest.toml`\n",
      "\u001b[32m\u001b[1m   Resolving\u001b[22m\u001b[39m package versions...\n",
      "\u001b[32m\u001b[1m  No Changes\u001b[22m\u001b[39m to `C:\\Users\\Alvaro\\.julia\\environments\\v1.11\\Project.toml`\n",
      "\u001b[32m\u001b[1m  No Changes\u001b[22m\u001b[39m to `C:\\Users\\Alvaro\\.julia\\environments\\v1.11\\Manifest.toml`\n",
      "\u001b[32m\u001b[1m   Resolving\u001b[22m\u001b[39m package versions...\n",
      "\u001b[32m\u001b[1m  No Changes\u001b[22m\u001b[39m to `C:\\Users\\Alvaro\\.julia\\environments\\v1.11\\Project.toml`\n",
      "\u001b[32m\u001b[1m  No Changes\u001b[22m\u001b[39m to `C:\\Users\\Alvaro\\.julia\\environments\\v1.11\\Manifest.toml`\n",
      "\u001b[32m\u001b[1m   Resolving\u001b[22m\u001b[39m package versions...\n",
      "\u001b[32m\u001b[1m  No Changes\u001b[22m\u001b[39m to `C:\\Users\\Alvaro\\.julia\\environments\\v1.11\\Project.toml`\n",
      "\u001b[32m\u001b[1m  No Changes\u001b[22m\u001b[39m to `C:\\Users\\Alvaro\\.julia\\environments\\v1.11\\Manifest.toml`\n",
      "\u001b[32m\u001b[1m   Resolving\u001b[22m\u001b[39m package versions...\n",
      "\u001b[32m\u001b[1m  No Changes\u001b[22m\u001b[39m to `C:\\Users\\Alvaro\\.julia\\environments\\v1.11\\Project.toml`\n",
      "\u001b[32m\u001b[1m  No Changes\u001b[22m\u001b[39m to `C:\\Users\\Alvaro\\.julia\\environments\\v1.11\\Manifest.toml`\n"
     ]
    }
   ],
   "source": [
    "import Pkg \n",
    "Pkg.add(\"DataFrames\")\n",
    "Pkg.add(\"CausalInference\")\n",
    "Pkg.add(\"CSV\")\n",
    "Pkg.add(\"Plots\")\n",
    "Pkg.add(\"Lasso\")\n",
    "Pkg.add(\"HDMjl\")\n",
    "Pkg.add(\"DataStructures\")\n",
    "Pkg.add(\"NamedArrays\")\n",
    "Pkg.add(\"PrettyTables\")\n",
    "Pkg.add(\"Distributions\")\n",
    "using RData, LinearAlgebra, GLM, DataFrames, Statistics, Random, Distributions, DataStructures, NamedArrays, PrettyTables, CSV, Plots, Dates, HDMjl\n"
   ]
  },
  {
   "cell_type": "code",
   "execution_count": 115,
   "id": "596adc5a-f5cb-41b8-9ea1-d4c6dc8a1eaf",
   "metadata": {},
   "outputs": [
    {
     "data": {
      "text/html": [
       "<div><div style = \"float: left;\"><span>10×16 DataFrame</span></div><div style = \"clear: both;\"></div></div><div class = \"data-frame\" style = \"overflow-x: scroll;\"><table class = \"data-frame\" style = \"margin-bottom: 6px;\"><thead><tr class = \"header\"><th class = \"rowNumber\" style = \"font-weight: bold; text-align: right;\">Row</th><th style = \"text-align: left;\">outcome.test.score</th><th style = \"text-align: left;\">treatment</th><th style = \"text-align: left;\">school</th><th style = \"text-align: left;\">is.female</th><th style = \"text-align: left;\">mother.attended.secondary.school</th><th style = \"text-align: left;\">father.attened.secondary.school</th><th style = \"text-align: left;\">failed.at.least.one.school.year</th><th style = \"text-align: left;\">family.receives.cash.transfer</th><th style = \"text-align: left;\">has.computer.with.internet.at.home</th><th style = \"text-align: left;\">is.unemployed</th><th style = \"text-align: left;\">has.some.form.of.income</th><th style = \"text-align: left;\">saves.money.for.future.purchases</th><th style = \"text-align: left;\">intention.to.save.index</th><th style = \"text-align: left;\">makes.list.of.expenses.every.month</th><th style = \"text-align: left;\">negotiates.prices.or.payment.methods</th><th style = \"text-align: left;\">fincial.autonomy.index</th></tr><tr class = \"subheader headerLastRow\"><th class = \"rowNumber\" style = \"font-weight: bold; text-align: right;\"></th><th title = \"Float64\" style = \"text-align: left;\">Float64</th><th title = \"Int64\" style = \"text-align: left;\">Int64</th><th title = \"Int64\" style = \"text-align: left;\">Int64</th><th title = \"Union{Missing, Int64}\" style = \"text-align: left;\">Int64?</th><th title = \"Union{Missing, Int64}\" style = \"text-align: left;\">Int64?</th><th title = \"Union{Missing, Int64}\" style = \"text-align: left;\">Int64?</th><th title = \"Union{Missing, Int64}\" style = \"text-align: left;\">Int64?</th><th title = \"Union{Missing, Int64}\" style = \"text-align: left;\">Int64?</th><th title = \"Union{Missing, Int64}\" style = \"text-align: left;\">Int64?</th><th title = \"Union{Missing, Int64}\" style = \"text-align: left;\">Int64?</th><th title = \"Union{Missing, Int64}\" style = \"text-align: left;\">Int64?</th><th title = \"Union{Missing, Int64}\" style = \"text-align: left;\">Int64?</th><th title = \"Union{Missing, Int64}\" style = \"text-align: left;\">Int64?</th><th title = \"Union{Missing, Int64}\" style = \"text-align: left;\">Int64?</th><th title = \"Union{Missing, Int64}\" style = \"text-align: left;\">Int64?</th><th title = \"Union{Missing, Int64}\" style = \"text-align: left;\">Int64?</th></tr></thead><tbody><tr><td class = \"rowNumber\" style = \"font-weight: bold; text-align: right;\">1</td><td style = \"text-align: right;\">47.3674</td><td style = \"text-align: right;\">0</td><td style = \"text-align: right;\">17018390</td><td style = \"font-style: italic; text-align: right;\">missing</td><td style = \"font-style: italic; text-align: right;\">missing</td><td style = \"font-style: italic; text-align: right;\">missing</td><td style = \"font-style: italic; text-align: right;\">missing</td><td style = \"font-style: italic; text-align: right;\">missing</td><td style = \"font-style: italic; text-align: right;\">missing</td><td style = \"text-align: right;\">1</td><td style = \"text-align: right;\">1</td><td style = \"text-align: right;\">0</td><td style = \"text-align: right;\">29</td><td style = \"text-align: right;\">0</td><td style = \"text-align: right;\">1</td><td style = \"text-align: right;\">52</td></tr><tr><td class = \"rowNumber\" style = \"font-weight: bold; text-align: right;\">2</td><td style = \"text-align: right;\">58.1768</td><td style = \"text-align: right;\">1</td><td style = \"text-align: right;\">33002614</td><td style = \"font-style: italic; text-align: right;\">missing</td><td style = \"font-style: italic; text-align: right;\">missing</td><td style = \"font-style: italic; text-align: right;\">missing</td><td style = \"font-style: italic; text-align: right;\">missing</td><td style = \"font-style: italic; text-align: right;\">missing</td><td style = \"font-style: italic; text-align: right;\">missing</td><td style = \"text-align: right;\">0</td><td style = \"text-align: right;\">0</td><td style = \"text-align: right;\">0</td><td style = \"text-align: right;\">41</td><td style = \"text-align: right;\">0</td><td style = \"text-align: right;\">0</td><td style = \"text-align: right;\">27</td></tr><tr><td class = \"rowNumber\" style = \"font-weight: bold; text-align: right;\">3</td><td style = \"text-align: right;\">56.6717</td><td style = \"text-align: right;\">1</td><td style = \"text-align: right;\">35002914</td><td style = \"text-align: right;\">1</td><td style = \"text-align: right;\">1</td><td style = \"text-align: right;\">1</td><td style = \"text-align: right;\">0</td><td style = \"text-align: right;\">0</td><td style = \"text-align: right;\">0</td><td style = \"text-align: right;\">1</td><td style = \"text-align: right;\">0</td><td style = \"text-align: right;\">0</td><td style = \"text-align: right;\">48</td><td style = \"text-align: right;\">0</td><td style = \"text-align: right;\">1</td><td style = \"text-align: right;\">56</td></tr><tr><td class = \"rowNumber\" style = \"font-weight: bold; text-align: right;\">4</td><td style = \"text-align: right;\">29.0794</td><td style = \"text-align: right;\">0</td><td style = \"text-align: right;\">35908915</td><td style = \"text-align: right;\">1</td><td style = \"text-align: right;\">0</td><td style = \"text-align: right;\">0</td><td style = \"text-align: right;\">0</td><td style = \"text-align: right;\">0</td><td style = \"text-align: right;\">0</td><td style = \"text-align: right;\">0</td><td style = \"text-align: right;\">0</td><td style = \"text-align: right;\">0</td><td style = \"text-align: right;\">42</td><td style = \"text-align: right;\">0</td><td style = \"text-align: right;\">0</td><td style = \"text-align: right;\">27</td></tr><tr><td class = \"rowNumber\" style = \"font-weight: bold; text-align: right;\">5</td><td style = \"text-align: right;\">49.5635</td><td style = \"text-align: right;\">1</td><td style = \"text-align: right;\">33047324</td><td style = \"text-align: right;\">1</td><td style = \"text-align: right;\">0</td><td style = \"text-align: right;\">0</td><td style = \"text-align: right;\">0</td><td style = \"text-align: right;\">0</td><td style = \"text-align: right;\">1</td><td style = \"text-align: right;\">0</td><td style = \"text-align: right;\">1</td><td style = \"text-align: right;\">0</td><td style = \"text-align: right;\">50</td><td style = \"text-align: right;\">0</td><td style = \"text-align: right;\">1</td><td style = \"text-align: right;\">31</td></tr><tr><td class = \"rowNumber\" style = \"font-weight: bold; text-align: right;\">6</td><td style = \"text-align: right;\">43.0994</td><td style = \"text-align: right;\">0</td><td style = \"text-align: right;\">53012542</td><td style = \"text-align: right;\">1</td><td style = \"text-align: right;\">0</td><td style = \"text-align: right;\">0</td><td style = \"text-align: right;\">0</td><td style = \"text-align: right;\">1</td><td style = \"text-align: right;\">1</td><td style = \"text-align: right;\">0</td><td style = \"text-align: right;\">1</td><td style = \"text-align: right;\">0</td><td style = \"text-align: right;\">93</td><td style = \"text-align: right;\">0</td><td style = \"text-align: right;\">1</td><td style = \"text-align: right;\">77</td></tr><tr><td class = \"rowNumber\" style = \"font-weight: bold; text-align: right;\">7</td><td style = \"text-align: right;\">71.3296</td><td style = \"text-align: right;\">0</td><td style = \"text-align: right;\">53006984</td><td style = \"text-align: right;\">1</td><td style = \"text-align: right;\">1</td><td style = \"text-align: right;\">0</td><td style = \"text-align: right;\">0</td><td style = \"text-align: right;\">0</td><td style = \"text-align: right;\">1</td><td style = \"text-align: right;\">1</td><td style = \"text-align: right;\">1</td><td style = \"text-align: right;\">0</td><td style = \"text-align: right;\">52</td><td style = \"text-align: right;\">0</td><td style = \"text-align: right;\">1</td><td style = \"text-align: right;\">43</td></tr><tr><td class = \"rowNumber\" style = \"font-weight: bold; text-align: right;\">8</td><td style = \"text-align: right;\">80.0634</td><td style = \"text-align: right;\">0</td><td style = \"text-align: right;\">33049475</td><td style = \"text-align: right;\">1</td><td style = \"text-align: right;\">1</td><td style = \"text-align: right;\">1</td><td style = \"text-align: right;\">0</td><td style = \"text-align: right;\">0</td><td style = \"text-align: right;\">0</td><td style = \"text-align: right;\">0</td><td style = \"text-align: right;\">1</td><td style = \"text-align: right;\">0</td><td style = \"text-align: right;\">50</td><td style = \"text-align: right;\">0</td><td style = \"text-align: right;\">0</td><td style = \"text-align: right;\">31</td></tr><tr><td class = \"rowNumber\" style = \"font-weight: bold; text-align: right;\">9</td><td style = \"text-align: right;\">88.7516</td><td style = \"text-align: right;\">1</td><td style = \"text-align: right;\">35925639</td><td style = \"text-align: right;\">1</td><td style = \"text-align: right;\">1</td><td style = \"text-align: right;\">0</td><td style = \"text-align: right;\">0</td><td style = \"text-align: right;\">0</td><td style = \"text-align: right;\">0</td><td style = \"text-align: right;\">0</td><td style = \"text-align: right;\">0</td><td style = \"text-align: right;\">0</td><td style = \"text-align: right;\">59</td><td style = \"text-align: right;\">0</td><td style = \"text-align: right;\">1</td><td style = \"text-align: right;\">50</td></tr><tr><td class = \"rowNumber\" style = \"font-weight: bold; text-align: right;\">10</td><td style = \"text-align: right;\">61.4361</td><td style = \"text-align: right;\">1</td><td style = \"text-align: right;\">35008758</td><td style = \"text-align: right;\">1</td><td style = \"text-align: right;\">0</td><td style = \"text-align: right;\">0</td><td style = \"text-align: right;\">0</td><td style = \"text-align: right;\">0</td><td style = \"text-align: right;\">1</td><td style = \"text-align: right;\">1</td><td style = \"text-align: right;\">1</td><td style = \"text-align: right;\">0</td><td style = \"text-align: right;\">44</td><td style = \"text-align: right;\">0</td><td style = \"text-align: right;\">1</td><td style = \"text-align: right;\">14</td></tr></tbody></table></div>"
      ],
      "text/latex": [
       "\\begin{tabular}{r|cccccc}\n",
       "\t& outcome.test.score & treatment & school & is.female & mother.attended.secondary.school & \\\\\n",
       "\t\\hline\n",
       "\t& Float64 & Int64 & Int64 & Int64? & Int64? & \\\\\n",
       "\t\\hline\n",
       "\t1 & 47.3674 & 0 & 17018390 & \\emph{missing} & \\emph{missing} & $\\dots$ \\\\\n",
       "\t2 & 58.1768 & 1 & 33002614 & \\emph{missing} & \\emph{missing} & $\\dots$ \\\\\n",
       "\t3 & 56.6717 & 1 & 35002914 & 1 & 1 & $\\dots$ \\\\\n",
       "\t4 & 29.0794 & 0 & 35908915 & 1 & 0 & $\\dots$ \\\\\n",
       "\t5 & 49.5635 & 1 & 33047324 & 1 & 0 & $\\dots$ \\\\\n",
       "\t6 & 43.0994 & 0 & 53012542 & 1 & 0 & $\\dots$ \\\\\n",
       "\t7 & 71.3296 & 0 & 53006984 & 1 & 1 & $\\dots$ \\\\\n",
       "\t8 & 80.0634 & 0 & 33049475 & 1 & 1 & $\\dots$ \\\\\n",
       "\t9 & 88.7516 & 1 & 35925639 & 1 & 1 & $\\dots$ \\\\\n",
       "\t10 & 61.4361 & 1 & 35008758 & 1 & 0 & $\\dots$ \\\\\n",
       "\\end{tabular}\n"
      ],
      "text/plain": [
       "\u001b[1m10×16 DataFrame\u001b[0m\n",
       "\u001b[1m Row \u001b[0m│\u001b[1m outcome.test.score \u001b[0m\u001b[1m treatment \u001b[0m\u001b[1m school   \u001b[0m\u001b[1m is.female \u001b[0m\u001b[1m mother.attended.sec\u001b[0m ⋯\n",
       "     │\u001b[90m Float64            \u001b[0m\u001b[90m Int64     \u001b[0m\u001b[90m Int64    \u001b[0m\u001b[90m Int64?    \u001b[0m\u001b[90m Int64?             \u001b[0m ⋯\n",
       "─────┼──────────────────────────────────────────────────────────────────────────\n",
       "   1 │            47.3674          0  17018390 \u001b[90m   missing \u001b[0m\u001b[90m                    \u001b[0m ⋯\n",
       "   2 │            58.1768          1  33002614 \u001b[90m   missing \u001b[0m\u001b[90m                    \u001b[0m\n",
       "   3 │            56.6717          1  35002914          1\n",
       "   4 │            29.0794          0  35908915          1\n",
       "   5 │            49.5635          1  33047324          1                      ⋯\n",
       "   6 │            43.0994          0  53012542          1\n",
       "   7 │            71.3296          0  53006984          1\n",
       "   8 │            80.0634          0  33049475          1\n",
       "   9 │            88.7516          1  35925639          1                      ⋯\n",
       "  10 │            61.4361          1  35008758          1\n",
       "\u001b[36m                                                              12 columns omitted\u001b[0m"
      ]
     },
     "execution_count": 115,
     "metadata": {},
     "output_type": "execute_result"
    }
   ],
   "source": [
    "#Reading CSV file\n",
    "data = CSV.read(\"data/bruhn2016.csv\", DataFrame)\n",
    "first(data,10)"
   ]
  },
  {
   "cell_type": "code",
   "execution_count": 116,
   "id": "3c28e12a-0786-4916-aaaf-f331c28191e0",
   "metadata": {},
   "outputs": [
    {
     "data": {
      "text/html": [
       "<div><div style = \"float: left;\"><span>11×9 DataFrame</span></div><div style = \"clear: both;\"></div></div><div class = \"data-frame\" style = \"overflow-x: scroll;\"><table class = \"data-frame\" style = \"margin-bottom: 6px;\"><thead><tr class = \"header\"><th class = \"rowNumber\" style = \"font-weight: bold; text-align: right;\">Row</th><th style = \"text-align: left;\">outcome</th><th style = \"text-align: left;\">treatment</th><th style = \"text-align: left;\">school</th><th style = \"text-align: left;\">female</th><th style = \"text-align: left;\">mother_secondary</th><th style = \"text-align: left;\">father_secondary</th><th style = \"text-align: left;\">failed_one_year</th><th style = \"text-align: left;\">cash_transfer</th><th style = \"text-align: left;\">computer</th></tr><tr class = \"subheader headerLastRow\"><th class = \"rowNumber\" style = \"font-weight: bold; text-align: right;\"></th><th title = \"Float64\" style = \"text-align: left;\">Float64</th><th title = \"Int64\" style = \"text-align: left;\">Int64</th><th title = \"Int64\" style = \"text-align: left;\">Int64</th><th title = \"Union{Missing, Int64}\" style = \"text-align: left;\">Int64?</th><th title = \"Union{Missing, Int64}\" style = \"text-align: left;\">Int64?</th><th title = \"Union{Missing, Int64}\" style = \"text-align: left;\">Int64?</th><th title = \"Union{Missing, Int64}\" style = \"text-align: left;\">Int64?</th><th title = \"Union{Missing, Int64}\" style = \"text-align: left;\">Int64?</th><th title = \"Union{Missing, Int64}\" style = \"text-align: left;\">Int64?</th></tr></thead><tbody><tr><td class = \"rowNumber\" style = \"font-weight: bold; text-align: right;\">1</td><td style = \"text-align: right;\">47.3674</td><td style = \"text-align: right;\">0</td><td style = \"text-align: right;\">1</td><td style = \"font-style: italic; text-align: right;\">missing</td><td style = \"font-style: italic; text-align: right;\">missing</td><td style = \"font-style: italic; text-align: right;\">missing</td><td style = \"font-style: italic; text-align: right;\">missing</td><td style = \"font-style: italic; text-align: right;\">missing</td><td style = \"font-style: italic; text-align: right;\">missing</td></tr><tr><td class = \"rowNumber\" style = \"font-weight: bold; text-align: right;\">2</td><td style = \"text-align: right;\">58.1768</td><td style = \"text-align: right;\">1</td><td style = \"text-align: right;\">2</td><td style = \"font-style: italic; text-align: right;\">missing</td><td style = \"font-style: italic; text-align: right;\">missing</td><td style = \"font-style: italic; text-align: right;\">missing</td><td style = \"font-style: italic; text-align: right;\">missing</td><td style = \"font-style: italic; text-align: right;\">missing</td><td style = \"font-style: italic; text-align: right;\">missing</td></tr><tr><td class = \"rowNumber\" style = \"font-weight: bold; text-align: right;\">3</td><td style = \"text-align: right;\">56.6717</td><td style = \"text-align: right;\">1</td><td style = \"text-align: right;\">3</td><td style = \"text-align: right;\">1</td><td style = \"text-align: right;\">1</td><td style = \"text-align: right;\">1</td><td style = \"text-align: right;\">0</td><td style = \"text-align: right;\">0</td><td style = \"text-align: right;\">0</td></tr><tr><td class = \"rowNumber\" style = \"font-weight: bold; text-align: right;\">4</td><td style = \"text-align: right;\">29.0794</td><td style = \"text-align: right;\">0</td><td style = \"text-align: right;\">4</td><td style = \"text-align: right;\">1</td><td style = \"text-align: right;\">0</td><td style = \"text-align: right;\">0</td><td style = \"text-align: right;\">0</td><td style = \"text-align: right;\">0</td><td style = \"text-align: right;\">0</td></tr><tr><td class = \"rowNumber\" style = \"font-weight: bold; text-align: right;\">5</td><td style = \"text-align: right;\">49.5635</td><td style = \"text-align: right;\">1</td><td style = \"text-align: right;\">5</td><td style = \"text-align: right;\">1</td><td style = \"text-align: right;\">0</td><td style = \"text-align: right;\">0</td><td style = \"text-align: right;\">0</td><td style = \"text-align: right;\">0</td><td style = \"text-align: right;\">1</td></tr><tr><td class = \"rowNumber\" style = \"font-weight: bold; text-align: right;\">6</td><td style = \"text-align: right;\">43.0994</td><td style = \"text-align: right;\">0</td><td style = \"text-align: right;\">6</td><td style = \"text-align: right;\">1</td><td style = \"text-align: right;\">0</td><td style = \"text-align: right;\">0</td><td style = \"text-align: right;\">0</td><td style = \"text-align: right;\">1</td><td style = \"text-align: right;\">1</td></tr><tr><td class = \"rowNumber\" style = \"font-weight: bold; text-align: right;\">7</td><td style = \"text-align: right;\">71.3296</td><td style = \"text-align: right;\">0</td><td style = \"text-align: right;\">7</td><td style = \"text-align: right;\">1</td><td style = \"text-align: right;\">1</td><td style = \"text-align: right;\">0</td><td style = \"text-align: right;\">0</td><td style = \"text-align: right;\">0</td><td style = \"text-align: right;\">1</td></tr><tr><td class = \"rowNumber\" style = \"font-weight: bold; text-align: right;\">8</td><td style = \"text-align: right;\">80.0634</td><td style = \"text-align: right;\">0</td><td style = \"text-align: right;\">8</td><td style = \"text-align: right;\">1</td><td style = \"text-align: right;\">1</td><td style = \"text-align: right;\">1</td><td style = \"text-align: right;\">0</td><td style = \"text-align: right;\">0</td><td style = \"text-align: right;\">0</td></tr><tr><td class = \"rowNumber\" style = \"font-weight: bold; text-align: right;\">9</td><td style = \"text-align: right;\">88.7516</td><td style = \"text-align: right;\">1</td><td style = \"text-align: right;\">9</td><td style = \"text-align: right;\">1</td><td style = \"text-align: right;\">1</td><td style = \"text-align: right;\">0</td><td style = \"text-align: right;\">0</td><td style = \"text-align: right;\">0</td><td style = \"text-align: right;\">0</td></tr><tr><td class = \"rowNumber\" style = \"font-weight: bold; text-align: right;\">10</td><td style = \"text-align: right;\">61.4361</td><td style = \"text-align: right;\">1</td><td style = \"text-align: right;\">10</td><td style = \"text-align: right;\">1</td><td style = \"text-align: right;\">0</td><td style = \"text-align: right;\">0</td><td style = \"text-align: right;\">0</td><td style = \"text-align: right;\">0</td><td style = \"text-align: right;\">1</td></tr><tr><td class = \"rowNumber\" style = \"font-weight: bold; text-align: right;\">11</td><td style = \"text-align: right;\">63.8114</td><td style = \"text-align: right;\">1</td><td style = \"text-align: right;\">11</td><td style = \"text-align: right;\">1</td><td style = \"text-align: right;\">0</td><td style = \"text-align: right;\">0</td><td style = \"text-align: right;\">0</td><td style = \"text-align: right;\">0</td><td style = \"text-align: right;\">1</td></tr></tbody></table></div>"
      ],
      "text/latex": [
       "\\begin{tabular}{r|cccccccc}\n",
       "\t& outcome & treatment & school & female & mother\\_secondary & father\\_secondary & failed\\_one\\_year & \\\\\n",
       "\t\\hline\n",
       "\t& Float64 & Int64 & Int64 & Int64? & Int64? & Int64? & Int64? & \\\\\n",
       "\t\\hline\n",
       "\t1 & 47.3674 & 0 & 1 & \\emph{missing} & \\emph{missing} & \\emph{missing} & \\emph{missing} & $\\dots$ \\\\\n",
       "\t2 & 58.1768 & 1 & 2 & \\emph{missing} & \\emph{missing} & \\emph{missing} & \\emph{missing} & $\\dots$ \\\\\n",
       "\t3 & 56.6717 & 1 & 3 & 1 & 1 & 1 & 0 & $\\dots$ \\\\\n",
       "\t4 & 29.0794 & 0 & 4 & 1 & 0 & 0 & 0 & $\\dots$ \\\\\n",
       "\t5 & 49.5635 & 1 & 5 & 1 & 0 & 0 & 0 & $\\dots$ \\\\\n",
       "\t6 & 43.0994 & 0 & 6 & 1 & 0 & 0 & 0 & $\\dots$ \\\\\n",
       "\t7 & 71.3296 & 0 & 7 & 1 & 1 & 0 & 0 & $\\dots$ \\\\\n",
       "\t8 & 80.0634 & 0 & 8 & 1 & 1 & 1 & 0 & $\\dots$ \\\\\n",
       "\t9 & 88.7516 & 1 & 9 & 1 & 1 & 0 & 0 & $\\dots$ \\\\\n",
       "\t10 & 61.4361 & 1 & 10 & 1 & 0 & 0 & 0 & $\\dots$ \\\\\n",
       "\t11 & 63.8114 & 1 & 11 & 1 & 0 & 0 & 0 & $\\dots$ \\\\\n",
       "\\end{tabular}\n"
      ],
      "text/plain": [
       "\u001b[1m11×9 DataFrame\u001b[0m\n",
       "\u001b[1m Row \u001b[0m│\u001b[1m outcome \u001b[0m\u001b[1m treatment \u001b[0m\u001b[1m school \u001b[0m\u001b[1m female  \u001b[0m\u001b[1m mother_secondary \u001b[0m\u001b[1m father_secondary\u001b[0m ⋯\n",
       "     │\u001b[90m Float64 \u001b[0m\u001b[90m Int64     \u001b[0m\u001b[90m Int64  \u001b[0m\u001b[90m Int64?  \u001b[0m\u001b[90m Int64?           \u001b[0m\u001b[90m Int64?          \u001b[0m ⋯\n",
       "─────┼──────────────────────────────────────────────────────────────────────────\n",
       "   1 │ 47.3674          0       1 \u001b[90m missing \u001b[0m\u001b[90m          missing \u001b[0m\u001b[90m          missing\u001b[0m ⋯\n",
       "   2 │ 58.1768          1       2 \u001b[90m missing \u001b[0m\u001b[90m          missing \u001b[0m\u001b[90m          missing\u001b[0m\n",
       "   3 │ 56.6717          1       3        1                 1                 1\n",
       "   4 │ 29.0794          0       4        1                 0                 0\n",
       "   5 │ 49.5635          1       5        1                 0                 0 ⋯\n",
       "   6 │ 43.0994          0       6        1                 0                 0\n",
       "   7 │ 71.3296          0       7        1                 1                 0\n",
       "   8 │ 80.0634          0       8        1                 1                 1\n",
       "   9 │ 88.7516          1       9        1                 1                 0 ⋯\n",
       "  10 │ 61.4361          1      10        1                 0                 0\n",
       "  11 │ 63.8114          1      11        1                 0                 0\n",
       "\u001b[36m                                                               3 columns omitted\u001b[0m"
      ]
     },
     "execution_count": 116,
     "metadata": {},
     "output_type": "execute_result"
    }
   ],
   "source": [
    "#Los nombres de las variables hacen clash con las originales de CSV, asi que las cambiamos\n",
    "outcome = data[!,\"outcome.test.score\"]\n",
    "outcome = DataFrame([outcome],[:outcome])\n",
    "treatment = data[!,\"treatment\"]\n",
    "treatment = DataFrame([treatment],[:treatment])\n",
    "#Codigo Para Convetir los valores de escuela en ID unica\n",
    "school = data[!,\"school\"]\n",
    "c = unique(school)\n",
    "cd = eachrow(c)\n",
    "d = size(school)[1]\n",
    "for i in c\n",
    "    row_in_c = findall(x -> x == i, c)[1]\n",
    "    school[school.==i] .= row_in_c\n",
    "end\n",
    "school = DataFrame([school],[:school])\n",
    "female = data[!,\"is.female\"]\n",
    "female = DataFrame([female],[:female])\n",
    "mother_secondary = data[!,\"mother.attended.secondary.school\"]\n",
    "mother_secondary = DataFrame([mother_secondary],[:mother_secondary])\n",
    "father_secondary = data[!,\"father.attened.secondary.school\"]\n",
    "father_secondary = DataFrame([father_secondary],[:father_secondary])\n",
    "failed_one_year = data[!,\"failed.at.least.one.school.year\"]\n",
    "failed_one_year = DataFrame([failed_one_year],[:failed_one_year])\n",
    "cash_transfer = data[!,\"family.receives.cash.transfer\"]\n",
    "cash_transfer = DataFrame([cash_transfer],[:cash_transfer])\n",
    "computer = data[!,\"has.computer.with.internet.at.home\"]\n",
    "computer = DataFrame([computer],[:computer])\n",
    "financial_index = data[!,\"fincial.autonomy.index\"]\n",
    "financial_index = DataFrame([financial_index],[:financial_index])\n",
    "data = [outcome treatment school female mother_secondary father_secondary failed_one_year cash_transfer computer]\n",
    "first(data,11)"
   ]
  },
  {
   "cell_type": "code",
   "execution_count": 157,
   "id": "126384e5-eafd-475e-9339-5ed2bac09f30",
   "metadata": {},
   "outputs": [
    {
     "data": {
      "text/html": [
       "<div><div style = \"float: left;\"><span>10×9 DataFrame</span></div><div style = \"clear: both;\"></div></div><div class = \"data-frame\" style = \"overflow-x: scroll;\"><table class = \"data-frame\" style = \"margin-bottom: 6px;\"><thead><tr class = \"header\"><th class = \"rowNumber\" style = \"font-weight: bold; text-align: right;\">Row</th><th style = \"text-align: left;\">outcome</th><th style = \"text-align: left;\">treatment</th><th style = \"text-align: left;\">school</th><th style = \"text-align: left;\">female</th><th style = \"text-align: left;\">mother_secondary</th><th style = \"text-align: left;\">father_secondary</th><th style = \"text-align: left;\">failed_one_year</th><th style = \"text-align: left;\">cash_transfer</th><th style = \"text-align: left;\">computer</th></tr><tr class = \"subheader headerLastRow\"><th class = \"rowNumber\" style = \"font-weight: bold; text-align: right;\"></th><th title = \"Float64\" style = \"text-align: left;\">Float64</th><th title = \"Int64\" style = \"text-align: left;\">Int64</th><th title = \"Int64\" style = \"text-align: left;\">Int64</th><th title = \"Int64\" style = \"text-align: left;\">Int64</th><th title = \"Int64\" style = \"text-align: left;\">Int64</th><th title = \"Int64\" style = \"text-align: left;\">Int64</th><th title = \"Int64\" style = \"text-align: left;\">Int64</th><th title = \"Int64\" style = \"text-align: left;\">Int64</th><th title = \"Int64\" style = \"text-align: left;\">Int64</th></tr></thead><tbody><tr><td class = \"rowNumber\" style = \"font-weight: bold; text-align: right;\">1</td><td style = \"text-align: right;\">56.6717</td><td style = \"text-align: right;\">1</td><td style = \"text-align: right;\">3</td><td style = \"text-align: right;\">1</td><td style = \"text-align: right;\">1</td><td style = \"text-align: right;\">1</td><td style = \"text-align: right;\">0</td><td style = \"text-align: right;\">0</td><td style = \"text-align: right;\">0</td></tr><tr><td class = \"rowNumber\" style = \"font-weight: bold; text-align: right;\">2</td><td style = \"text-align: right;\">29.0794</td><td style = \"text-align: right;\">0</td><td style = \"text-align: right;\">4</td><td style = \"text-align: right;\">1</td><td style = \"text-align: right;\">0</td><td style = \"text-align: right;\">0</td><td style = \"text-align: right;\">0</td><td style = \"text-align: right;\">0</td><td style = \"text-align: right;\">0</td></tr><tr><td class = \"rowNumber\" style = \"font-weight: bold; text-align: right;\">3</td><td style = \"text-align: right;\">49.5635</td><td style = \"text-align: right;\">1</td><td style = \"text-align: right;\">5</td><td style = \"text-align: right;\">1</td><td style = \"text-align: right;\">0</td><td style = \"text-align: right;\">0</td><td style = \"text-align: right;\">0</td><td style = \"text-align: right;\">0</td><td style = \"text-align: right;\">1</td></tr><tr><td class = \"rowNumber\" style = \"font-weight: bold; text-align: right;\">4</td><td style = \"text-align: right;\">43.0994</td><td style = \"text-align: right;\">0</td><td style = \"text-align: right;\">6</td><td style = \"text-align: right;\">1</td><td style = \"text-align: right;\">0</td><td style = \"text-align: right;\">0</td><td style = \"text-align: right;\">0</td><td style = \"text-align: right;\">1</td><td style = \"text-align: right;\">1</td></tr><tr><td class = \"rowNumber\" style = \"font-weight: bold; text-align: right;\">5</td><td style = \"text-align: right;\">71.3296</td><td style = \"text-align: right;\">0</td><td style = \"text-align: right;\">7</td><td style = \"text-align: right;\">1</td><td style = \"text-align: right;\">1</td><td style = \"text-align: right;\">0</td><td style = \"text-align: right;\">0</td><td style = \"text-align: right;\">0</td><td style = \"text-align: right;\">1</td></tr><tr><td class = \"rowNumber\" style = \"font-weight: bold; text-align: right;\">6</td><td style = \"text-align: right;\">80.0634</td><td style = \"text-align: right;\">0</td><td style = \"text-align: right;\">8</td><td style = \"text-align: right;\">1</td><td style = \"text-align: right;\">1</td><td style = \"text-align: right;\">1</td><td style = \"text-align: right;\">0</td><td style = \"text-align: right;\">0</td><td style = \"text-align: right;\">0</td></tr><tr><td class = \"rowNumber\" style = \"font-weight: bold; text-align: right;\">7</td><td style = \"text-align: right;\">88.7516</td><td style = \"text-align: right;\">1</td><td style = \"text-align: right;\">9</td><td style = \"text-align: right;\">1</td><td style = \"text-align: right;\">1</td><td style = \"text-align: right;\">0</td><td style = \"text-align: right;\">0</td><td style = \"text-align: right;\">0</td><td style = \"text-align: right;\">0</td></tr><tr><td class = \"rowNumber\" style = \"font-weight: bold; text-align: right;\">8</td><td style = \"text-align: right;\">61.4361</td><td style = \"text-align: right;\">1</td><td style = \"text-align: right;\">10</td><td style = \"text-align: right;\">1</td><td style = \"text-align: right;\">0</td><td style = \"text-align: right;\">0</td><td style = \"text-align: right;\">0</td><td style = \"text-align: right;\">0</td><td style = \"text-align: right;\">1</td></tr><tr><td class = \"rowNumber\" style = \"font-weight: bold; text-align: right;\">9</td><td style = \"text-align: right;\">63.8114</td><td style = \"text-align: right;\">1</td><td style = \"text-align: right;\">11</td><td style = \"text-align: right;\">1</td><td style = \"text-align: right;\">0</td><td style = \"text-align: right;\">0</td><td style = \"text-align: right;\">0</td><td style = \"text-align: right;\">0</td><td style = \"text-align: right;\">1</td></tr><tr><td class = \"rowNumber\" style = \"font-weight: bold; text-align: right;\">10</td><td style = \"text-align: right;\">66.0135</td><td style = \"text-align: right;\">0</td><td style = \"text-align: right;\">12</td><td style = \"text-align: right;\">1</td><td style = \"text-align: right;\">0</td><td style = \"text-align: right;\">0</td><td style = \"text-align: right;\">0</td><td style = \"text-align: right;\">0</td><td style = \"text-align: right;\">1</td></tr></tbody></table></div>"
      ],
      "text/latex": [
       "\\begin{tabular}{r|cccccccc}\n",
       "\t& outcome & treatment & school & female & mother\\_secondary & father\\_secondary & failed\\_one\\_year & \\\\\n",
       "\t\\hline\n",
       "\t& Float64 & Int64 & Int64 & Int64 & Int64 & Int64 & Int64 & \\\\\n",
       "\t\\hline\n",
       "\t1 & 56.6717 & 1 & 3 & 1 & 1 & 1 & 0 & $\\dots$ \\\\\n",
       "\t2 & 29.0794 & 0 & 4 & 1 & 0 & 0 & 0 & $\\dots$ \\\\\n",
       "\t3 & 49.5635 & 1 & 5 & 1 & 0 & 0 & 0 & $\\dots$ \\\\\n",
       "\t4 & 43.0994 & 0 & 6 & 1 & 0 & 0 & 0 & $\\dots$ \\\\\n",
       "\t5 & 71.3296 & 0 & 7 & 1 & 1 & 0 & 0 & $\\dots$ \\\\\n",
       "\t6 & 80.0634 & 0 & 8 & 1 & 1 & 1 & 0 & $\\dots$ \\\\\n",
       "\t7 & 88.7516 & 1 & 9 & 1 & 1 & 0 & 0 & $\\dots$ \\\\\n",
       "\t8 & 61.4361 & 1 & 10 & 1 & 0 & 0 & 0 & $\\dots$ \\\\\n",
       "\t9 & 63.8114 & 1 & 11 & 1 & 0 & 0 & 0 & $\\dots$ \\\\\n",
       "\t10 & 66.0135 & 0 & 12 & 1 & 0 & 0 & 0 & $\\dots$ \\\\\n",
       "\\end{tabular}\n"
      ],
      "text/plain": [
       "\u001b[1m10×9 DataFrame\u001b[0m\n",
       "\u001b[1m Row \u001b[0m│\u001b[1m outcome \u001b[0m\u001b[1m treatment \u001b[0m\u001b[1m school \u001b[0m\u001b[1m female \u001b[0m\u001b[1m mother_secondary \u001b[0m\u001b[1m father_secondary \u001b[0m\u001b[1m\u001b[0m ⋯\n",
       "     │\u001b[90m Float64 \u001b[0m\u001b[90m Int64     \u001b[0m\u001b[90m Int64  \u001b[0m\u001b[90m Int64  \u001b[0m\u001b[90m Int64            \u001b[0m\u001b[90m Int64            \u001b[0m\u001b[90m\u001b[0m ⋯\n",
       "─────┼──────────────────────────────────────────────────────────────────────────\n",
       "   1 │ 56.6717          1       3       1                 1                 1  ⋯\n",
       "   2 │ 29.0794          0       4       1                 0                 0\n",
       "   3 │ 49.5635          1       5       1                 0                 0\n",
       "   4 │ 43.0994          0       6       1                 0                 0\n",
       "   5 │ 71.3296          0       7       1                 1                 0  ⋯\n",
       "   6 │ 80.0634          0       8       1                 1                 1\n",
       "   7 │ 88.7516          1       9       1                 1                 0\n",
       "   8 │ 61.4361          1      10       1                 0                 0\n",
       "   9 │ 63.8114          1      11       1                 0                 0  ⋯\n",
       "  10 │ 66.0135          0      12       1                 0                 0\n",
       "\u001b[36m                                                               3 columns omitted\u001b[0m"
      ]
     },
     "execution_count": 157,
     "metadata": {},
     "output_type": "execute_result"
    }
   ],
   "source": [
    "data = dropmissing(data, :female)\n",
    "data = dropmissing(data, :computer)\n",
    "data = dropmissing(data, :school)\n",
    "data = dropmissing(data, :father_secondary)\n",
    "data = dropmissing(data, :cash_transfer)\n",
    "data = dropmissing(data, :failed_one_year)\n",
    "data = dropmissing(data, :mother_secondary)\n",
    "data = dropmissing(data, :treatment)\n",
    "data = dropmissing(data, :outcome)\n",
    "\n",
    "first(data,10)"
   ]
  },
  {
   "cell_type": "markdown",
   "id": "57af17f6-e8d3-4b05-b945-99e8ebc8e7b3",
   "metadata": {},
   "source": [
    "# **OLS**"
   ]
  },
  {
   "cell_type": "code",
   "execution_count": 124,
   "id": "c5e92bce-4d50-4cf2-a5e3-4267f3af05a2",
   "metadata": {},
   "outputs": [
    {
     "data": {
      "text/plain": [
       "StatsModels.TableRegressionModel{LinearModel{GLM.LmResp{Vector{Float64}}, GLM.DensePredChol{Float64, CholeskyPivoted{Float64, Matrix{Float64}, Vector{Int64}}}}, Matrix{Float64}}\n",
       "\n",
       "outcome ~ 1 + treatment + school + female + mother_secondary + father_secondary + failed_one_year + cash_transfer + computer\n",
       "\n",
       "Coefficients:\n",
       "──────────────────────────────────────────────────────────────────────────────────────\n",
       "                        Coef.   Std. Error       t  Pr(>|t|)    Lower 95%    Upper 95%\n",
       "──────────────────────────────────────────────────────────────────────────────────────\n",
       "(Intercept)       58.5095      0.368371     158.83    <1e-99  57.7875      59.2316\n",
       "treatment          4.51228     0.230809      19.55    <1e-83   4.05987      4.96469\n",
       "school            -0.00414664  0.000500685   -8.28    <1e-15  -0.00512805  -0.00316524\n",
       "female             3.02781     0.234285      12.92    <1e-37   2.56859      3.48704\n",
       "mother_secondary   1.01695     0.268085       3.79    0.0001   0.491468     1.54243\n",
       "father_secondary   0.847064    0.271242       3.12    0.0018   0.315397     1.37873\n",
       "failed_one_year   -6.73214     0.258739     -26.02    <1e-99  -7.2393      -6.22498\n",
       "cash_transfer     -1.689       0.256201      -6.59    <1e-10  -2.19118     -1.18681\n",
       "computer          -0.486698    0.250067      -1.95    0.0516  -0.97686      0.00346401\n",
       "──────────────────────────────────────────────────────────────────────────────────────"
      ]
     },
     "execution_count": 124,
     "metadata": {},
     "output_type": "execute_result"
    }
   ],
   "source": [
    "#Modelo OLS\n",
    "\n",
    "basic  = @formula(outcome ~ (treatment + school + female + mother_secondary + father_secondary + failed_one_year + cash_transfer + computer))\n",
    "basic_results  = lm(basic, data)"
   ]
  },
  {
   "cell_type": "markdown",
   "id": "8337e98a-da90-4191-8ef4-0f1220bc6302",
   "metadata": {},
   "source": [
    "# **Double Lasso**"
   ]
  },
  {
   "cell_type": "code",
   "execution_count": 96,
   "id": "1e961506-4f3c-4d41-abac-98848477a25c",
   "metadata": {},
   "outputs": [
    {
     "data": {
      "text/plain": [
       "StatsModels.TableRegressionModel{LinearModel{GLM.LmResp{Vector{Float64}}, GLM.DensePredChol{Float64, LinearAlgebra.CholeskyPivoted{Float64, Matrix{Float64}, Vector{Int64}}}}, Matrix{Float64}}\n",
       "\n",
       "r_Y ~ 1 + r_D\n",
       "\n",
       "Coefficients:\n",
       "───────────────────────────────────────────────────────────────────────────\n",
       "                   Coef.  Std. Error      t  Pr(>|t|)  Lower 95%  Upper 95%\n",
       "───────────────────────────────────────────────────────────────────────────\n",
       "(Intercept)  9.67487e-16    0.115231   0.00    1.0000  -0.225868   0.225868\n",
       "r_D          4.51234        0.230753  19.55    <1e-83   4.06003    4.96464\n",
       "───────────────────────────────────────────────────────────────────────────"
      ]
     },
     "execution_count": 96,
     "metadata": {},
     "output_type": "execute_result"
    }
   ],
   "source": [
    "# Seat values for Lasso\n",
    "\n",
    "lasso_model = fit(LassoModel, term(:outcome) ~  sum(term.(names(data[!, Not([\"outcome\",\"treatment\"])]))), data; α = 0.8)\n",
    "r_Y = residuals(lasso_model)\n",
    "r_Y = DataFrame([r_Y], [:r_Y])\n",
    "\n",
    "# Part. out d\n",
    "\n",
    "lasso_model = fit(LassoModel, term(:treatment) ~  sum(term.(names(data[!, Not([\"outcome\", \"treatment\"])]))), data;  α = 0.8)\n",
    "r_D = residuals(lasso_model)\n",
    "r_D = DataFrame([r_D], [:r_D])\n",
    "\n",
    "# ols \n",
    "data_aux = [r_Y r_D]\n",
    "fm_1 = @formula(r_Y ~ r_D)\n",
    "partial_lasso_fit = lm(fm_1, data_aux)"
   ]
  },
  {
   "cell_type": "code",
   "execution_count": 104,
   "id": "ceef0f3c-10dd-487b-b173-ea5e822a2e71",
   "metadata": {},
   "outputs": [
    {
     "name": "stdout",
     "output_type": "stream",
     "text": [
      "Coefficient for D via partialling-out using lasso is: 4.512336363218052\n"
     ]
    }
   ],
   "source": [
    "# output: estimated regression coefficient corresponding to the target regressor\n",
    "est_lasso = coef(partial_lasso_fit)[2]\n",
    "# Regress residuales\n",
    "partial_lasso_fit = lm(fm_1, data_aux)\n",
    "partial_lasso_est = coef(partial_lasso_fit)[2]\n",
    "\n",
    "println(\"Coefficient for D via partialling-out using lasso is: \", partial_lasso_est )"
   ]
  },
  {
   "cell_type": "markdown",
   "id": "1468bdf8-b8ec-42e1-b4a3-e43eaa1edbc2",
   "metadata": {},
   "source": [
    "# Double Lasson using HDMJL"
   ]
  },
  {
   "cell_type": "code",
   "execution_count": 166,
   "id": "f05736dc-0556-4f50-8373-1edb10cf4aee",
   "metadata": {},
   "outputs": [
    {
     "name": "stdout",
     "output_type": "stream",
     "text": [
      "\n"
     ]
    }
   ],
   "source": [
    "outcome = data[:, \"outcome\"] |> collect\n",
    "treatment = data[:, \"treatment\"] |> collect\n",
    "school = data[:, \"school\"] |> collect\n",
    "female = data[:, \"female\"] |> collect\n",
    "mother_secondary = data[:, \"mother_secondary\"] |> collect\n",
    "father_secondary = data[:, \"father_secondary\"] |> collect\n",
    "failed_one_year = data[:, \"failed_one_year\"] |> collect\n",
    "cash_transfer = data[:, \"cash_transfer\"] |> collect\n",
    "computer = data[:, \"computer\"] |> collect\n",
    "matrix_to_use = Matrix(select(data,Not([\"outcome\"])))\n",
    "println(\"\")"
   ]
  },
  {
   "cell_type": "code",
   "execution_count": 171,
   "id": "62ed3345-ca57-4849-a67c-a3f8f3fb1191",
   "metadata": {},
   "outputs": [
    {
     "data": {
      "text/plain": [
       "Dict{String, Any} with 15 entries:\n",
       "  \"tss\"          => 3.21075e6\n",
       "  \"dev\"          => [-2.24373, -29.836, -9.35185, -15.816, 12.4142, 21.148, 29.…\n",
       "  \"model\"        => [1.0 3.0 … 0.0 0.0; 0.0 4.0 … 0.0 0.0; … ; 0.0 459.0 … 0.0 …\n",
       "  \"loadings\"     => [7.03095, 3258.38, 7.03407, 7.02577, 6.97035, 6.15023, 6.57…\n",
       "  \"sigma\"        => 14.0511\n",
       "  \"lambda0\"      => 860.507\n",
       "  \"lambda\"       => [6050.19, 2.80386e6, 6052.87, 6045.73, 5998.04, 5292.32, 56…\n",
       "  \"intercept\"    => 58.4551\n",
       "  \"iter\"         => 4\n",
       "  \"residuals\"    => [-8.68649, -31.5496, -14.7452, -16.3857, 10.1363, 18.4307, …\n",
       "  \"rss\"          => 2.92102e6\n",
       "  \"index\"        => Bool[1, 1, 1, 1, 1, 1, 1, 1]\n",
       "  \"beta\"         => [3.71294, -0.00248818, 2.18388, 0.602433, 0.411276, -6.0607…\n",
       "  \"options\"      => Dict{String, Any}(\"intercept\"=>true, \"post\"=>false, \"meanx\"…\n",
       "  \"coefficients\" => [58.4551, 3.71294, -0.00248818, 2.18388, 0.602433, 0.411276…"
      ]
     },
     "execution_count": 171,
     "metadata": {},
     "output_type": "execute_result"
    }
   ],
   "source": [
    "res_Y_0 = rlasso(matrix_to_use, outcome, post=false )"
   ]
  },
  {
   "cell_type": "markdown",
   "id": "e6d14b70-32c1-4157-93f1-a06b514c7d40",
   "metadata": {},
   "source": [
    "# Double Lasson using HDMJL with partialling out"
   ]
  },
  {
   "cell_type": "code",
   "execution_count": 170,
   "id": "5acfbc15-c9de-4cca-9540-c7813788286c",
   "metadata": {},
   "outputs": [
    {
     "data": {
      "text/plain": [
       "Dict{String, Any} with 9 entries:\n",
       "  \"alpha\"            => 4.50286\n",
       "  \"t\"                => 19.5335\n",
       "  \"se\"               => 0.230519\n",
       "  \"coefficients_reg\" => [60.7908, -0.0043728, 3.15416, 1.02396, 0.856549, -6.59…\n",
       "  \"sample_size\"      => 14796\n",
       "  \"coefficient\"      => 4.50286\n",
       "  \"selection_index\"  => Any[true, true, true, true, true, true, true]\n",
       "  \"residuals\"        => Dict(\"v\"=>[0.488984, -0.511016, 0.488984, -0.511016, -0…\n",
       "  \"coefficients\"     => 4.50286"
      ]
     },
     "execution_count": 170,
     "metadata": {},
     "output_type": "execute_result"
    }
   ],
   "source": [
    "matrix_to_use_2 = Matrix(select(data,Not([\"outcome\",\"treatment\"])))\n",
    "res_Y_1 = rlassoEffect(matrix_to_use_2, outcome, treatment, method = \"partialling out\" )"
   ]
  },
  {
   "attachments": {},
   "cell_type": "markdown",
   "id": "a126c22d-6cb9-475e-9f3c-b2855b4a7408",
   "metadata": {},
   "source": [
    "# Plotting"
   ]
  },
  {
   "cell_type": "code",
   "execution_count": 173,
   "id": "dd1535f0-102c-44b7-ae57-8e69c555a31a",
   "metadata": {},
   "outputs": [
    {
     "data": {
      "text/plain": [
       "4-element Vector{Float64}:\n",
       "  4.512280849760991\n",
       "  4.512336363218052\n",
       "  3.71293983038266\n",
       " 58.45508671330132"
      ]
     },
     "execution_count": 173,
     "metadata": {},
     "output_type": "execute_result"
    }
   ],
   "source": [
    "#1 \n",
    "\n",
    "x = [\"OLS\",\"Double Lasso\",\"HDM Lasso\",\"HDM partialling out\"]\n",
    "y = [coef(basic_results)[2],partial_lasso_est,res_Y_0[\"coefficients\"][2],res_Y_0[\"coefficients\"][1]]"
   ]
  },
  {
   "cell_type": "code",
   "execution_count": null,
   "id": "6c49ff17-5341-498c-b80a-be89efa4528c",
   "metadata": {},
   "outputs": [],
   "source": []
  }
 ],
 "metadata": {
  "kernelspec": {
   "display_name": "Julia 1.11.0-alpha2",
   "language": "julia",
   "name": "julia-1.11"
  },
  "language_info": {
   "file_extension": ".jl",
   "mimetype": "application/julia",
   "name": "julia",
   "version": "1.11.0"
  }
 },
 "nbformat": 4,
 "nbformat_minor": 5
}
