{
  "cells": [
    {
      "cell_type": "code",
      "execution_count": 2,
      "metadata": {
        "vscode": {
          "languageId": "r"
        }
      },
      "outputs": [],
      "source": [
        "librarian::shelf(\n",
        "  tidyverse, \n",
        "  glmnet,\n",
        "  tidymodels\n",
        ")\n",
        "ggplot2::theme_set(theme_minimal())"
      ]
    },
    {
      "cell_type": "markdown",
      "metadata": {},
      "source": [
        "Variable Description:\n",
        "\n",
        "- occ : Occupational classification\n",
        "- ind : Industry classification\n",
        "- lwage : Log hourly wage\n",
        "- sex : Gender (1 female) (0 male)\n",
        "- shs : Some high school\n",
        "- hsg : High school graduated\n",
        "- scl : Some College\n",
        "- clg: College Graduate\n",
        "- ad: Advanced Degree\n",
        "- ne: Northeast\n",
        "- mw: Midwest\n",
        "- so: South\n",
        "- we: West\n",
        "- exp1: Experience"
      ]
    },
    {
      "cell_type": "code",
      "execution_count": 3,
      "metadata": {
        "vscode": {
          "languageId": "r"
        }
      },
      "outputs": [
        {
          "name": "stdout",
          "output_type": "stream",
          "text": [
            "Rows: 5,150\n",
            "Columns: 20\n",
            "$ wage  \u001b[3m\u001b[90m<dbl>\u001b[39m\u001b[23m 9.615385, 48.076923, 11.057692, 13.942308, 28.846154, 11.730769,…\n",
            "$ lwage \u001b[3m\u001b[90m<dbl>\u001b[39m\u001b[23m 2.263364, 3.872802, 2.403126, 2.634928, 3.361977, 2.462215, 2.95…\n",
            "$ sex   \u001b[3m\u001b[90m<dbl>\u001b[39m\u001b[23m 1, 0, 0, 1, 1, 1, 1, 0, 1, 1, 1, 0, 1, 1, 1, 0, 0, 0, 0, 0, 1, 1…\n",
            "$ shs   \u001b[3m\u001b[90m<dbl>\u001b[39m\u001b[23m 0, 0, 0, 0, 0, 0, 0, 0, 0, 0, 0, 0, 0, 0, 0, 0, 0, 0, 0, 0, 0, 0…\n",
            "$ hsg   \u001b[3m\u001b[90m<dbl>\u001b[39m\u001b[23m 0, 0, 1, 0, 0, 0, 1, 1, 1, 0, 1, 1, 0, 0, 0, 1, 1, 0, 1, 1, 0, 0…\n",
            "$ scl   \u001b[3m\u001b[90m<dbl>\u001b[39m\u001b[23m 0, 0, 0, 0, 0, 0, 0, 0, 0, 0, 0, 0, 1, 1, 0, 0, 0, 1, 0, 0, 1, 1…\n",
            "$ clg   \u001b[3m\u001b[90m<dbl>\u001b[39m\u001b[23m 1, 1, 0, 0, 1, 1, 0, 0, 0, 1, 0, 0, 0, 0, 1, 0, 0, 0, 0, 0, 0, 0…\n",
            "$ ad    \u001b[3m\u001b[90m<dbl>\u001b[39m\u001b[23m 0, 0, 0, 1, 0, 0, 0, 0, 0, 0, 0, 0, 0, 0, 0, 0, 0, 0, 0, 0, 0, 0…\n",
            "$ mw    \u001b[3m\u001b[90m<dbl>\u001b[39m\u001b[23m 0, 0, 0, 0, 0, 0, 0, 0, 0, 0, 0, 0, 0, 0, 0, 0, 0, 0, 0, 0, 0, 0…\n",
            "$ so    \u001b[3m\u001b[90m<dbl>\u001b[39m\u001b[23m 0, 0, 0, 0, 0, 0, 0, 0, 0, 0, 0, 0, 0, 0, 0, 0, 0, 0, 0, 0, 0, 0…\n",
            "$ we    \u001b[3m\u001b[90m<dbl>\u001b[39m\u001b[23m 0, 0, 0, 0, 0, 0, 0, 0, 0, 0, 0, 0, 0, 0, 0, 0, 0, 0, 0, 0, 0, 0…\n",
            "$ ne    \u001b[3m\u001b[90m<dbl>\u001b[39m\u001b[23m 1, 1, 1, 1, 1, 1, 1, 1, 1, 1, 1, 1, 1, 1, 1, 1, 1, 1, 1, 1, 1, 1…\n",
            "$ exp1  \u001b[3m\u001b[90m<dbl>\u001b[39m\u001b[23m 7.0, 31.0, 18.0, 25.0, 22.0, 1.0, 42.0, 37.0, 31.0, 4.0, 7.0, 30…\n",
            "$ exp2  \u001b[3m\u001b[90m<dbl>\u001b[39m\u001b[23m 0.4900, 9.6100, 3.2400, 6.2500, 4.8400, 0.0100, 17.6400, 13.6900…\n",
            "$ exp3  \u001b[3m\u001b[90m<dbl>\u001b[39m\u001b[23m 0.343000, 29.791000, 5.832000, 15.625000, 10.648000, 0.001000, 7…\n",
            "$ exp4  \u001b[3m\u001b[90m<dbl>\u001b[39m\u001b[23m 0.24010000, 92.35210000, 10.49760000, 39.06250000, 23.42560000, …\n",
            "$ occ   \u001b[3m\u001b[90m<fct>\u001b[39m\u001b[23m 3600, 3050, 6260, 420, 2015, 1650, 5120, 5240, 4040, 3255, 4020,…\n",
            "$ occ2  \u001b[3m\u001b[90m<fct>\u001b[39m\u001b[23m 11, 10, 19, 1, 6, 5, 17, 17, 13, 10, 13, 14, 11, 11, 1, 19, 19, …\n",
            "$ ind   \u001b[3m\u001b[90m<fct>\u001b[39m\u001b[23m 8370, 5070, 770, 6990, 9470, 7460, 7280, 5680, 8590, 8190, 8270,…\n",
            "$ ind2  \u001b[3m\u001b[90m<fct>\u001b[39m\u001b[23m 18, 9, 4, 12, 22, 14, 14, 9, 19, 18, 18, 18, 18, 18, 17, 4, 4, 3…\n"
          ]
        }
      ],
      "source": [
        "data = readr::read_csv(\"https://raw.githubusercontent.com/alexanderquispe/CausalAI-Course/main/data/wage2015_subsample_inference.csv\", show_col_types = F) |> \n",
        "  dplyr::select(!rownames) |> \n",
        "  mutate(\n",
        "    across(\n",
        "      c(occ, occ2, ind, ind2), \\(x) as.factor(x)\n",
        "    )\n",
        "  )\n",
        "\n",
        "data |> glimpse()"
      ]
    },
    {
      "cell_type": "code",
      "execution_count": 32,
      "metadata": {
        "vscode": {
          "languageId": "r"
        }
      },
      "outputs": [
        {
          "data": {
            "text/html": [
              "<table class=\"dataframe\">\n",
              "<caption>A tibble: 6 × 20</caption>\n",
              "<thead>\n",
              "\t<tr><th scope=col>wage</th><th scope=col>lwage</th><th scope=col>sex</th><th scope=col>shs</th><th scope=col>hsg</th><th scope=col>scl</th><th scope=col>clg</th><th scope=col>ad</th><th scope=col>mw</th><th scope=col>so</th><th scope=col>we</th><th scope=col>ne</th><th scope=col>exp1</th><th scope=col>exp2</th><th scope=col>exp3</th><th scope=col>exp4</th><th scope=col>occ</th><th scope=col>occ2</th><th scope=col>ind</th><th scope=col>ind2</th></tr>\n",
              "\t<tr><th scope=col>&lt;dbl&gt;</th><th scope=col>&lt;dbl&gt;</th><th scope=col>&lt;chr&gt;</th><th scope=col>&lt;dbl&gt;</th><th scope=col>&lt;dbl&gt;</th><th scope=col>&lt;dbl&gt;</th><th scope=col>&lt;dbl&gt;</th><th scope=col>&lt;dbl&gt;</th><th scope=col>&lt;dbl&gt;</th><th scope=col>&lt;dbl&gt;</th><th scope=col>&lt;dbl&gt;</th><th scope=col>&lt;dbl&gt;</th><th scope=col>&lt;dbl&gt;</th><th scope=col>&lt;dbl&gt;</th><th scope=col>&lt;dbl&gt;</th><th scope=col>&lt;dbl&gt;</th><th scope=col>&lt;fct&gt;</th><th scope=col>&lt;fct&gt;</th><th scope=col>&lt;fct&gt;</th><th scope=col>&lt;fct&gt;</th></tr>\n",
              "</thead>\n",
              "<tbody>\n",
              "\t<tr><td> 9.615385</td><td>2.263364</td><td>Female</td><td>0</td><td>0</td><td>0</td><td>1</td><td>0</td><td>0</td><td>0</td><td>0</td><td>1</td><td> 7</td><td>0.49</td><td> 0.343</td><td> 0.2401</td><td>3600</td><td>11</td><td>8370</td><td>18</td></tr>\n",
              "\t<tr><td>48.076923</td><td>3.872802</td><td>Male  </td><td>0</td><td>0</td><td>0</td><td>1</td><td>0</td><td>0</td><td>0</td><td>0</td><td>1</td><td>31</td><td>9.61</td><td>29.791</td><td>92.3521</td><td>3050</td><td>10</td><td>5070</td><td>9 </td></tr>\n",
              "\t<tr><td>13.942308</td><td>2.634928</td><td>Female</td><td>0</td><td>0</td><td>0</td><td>0</td><td>1</td><td>0</td><td>0</td><td>0</td><td>1</td><td>25</td><td>6.25</td><td>15.625</td><td>39.0625</td><td>420 </td><td>1 </td><td>6990</td><td>12</td></tr>\n",
              "\t<tr><td>28.846154</td><td>3.361977</td><td>Female</td><td>0</td><td>0</td><td>0</td><td>1</td><td>0</td><td>0</td><td>0</td><td>0</td><td>1</td><td>22</td><td>4.84</td><td>10.648</td><td>23.4256</td><td>2015</td><td>6 </td><td>9470</td><td>22</td></tr>\n",
              "\t<tr><td>11.730769</td><td>2.462215</td><td>Female</td><td>0</td><td>0</td><td>0</td><td>1</td><td>0</td><td>0</td><td>0</td><td>0</td><td>1</td><td> 1</td><td>0.01</td><td> 0.001</td><td> 0.0001</td><td>1650</td><td>5 </td><td>7460</td><td>14</td></tr>\n",
              "\t<tr><td>19.230769</td><td>2.956512</td><td>Female</td><td>0</td><td>0</td><td>0</td><td>1</td><td>0</td><td>0</td><td>0</td><td>0</td><td>1</td><td> 4</td><td>0.16</td><td> 0.064</td><td> 0.0256</td><td>3255</td><td>10</td><td>8190</td><td>18</td></tr>\n",
              "</tbody>\n",
              "</table>\n"
            ],
            "text/latex": [
              "A tibble: 6 × 20\n",
              "\\begin{tabular}{llllllllllllllllllll}\n",
              " wage & lwage & sex & shs & hsg & scl & clg & ad & mw & so & we & ne & exp1 & exp2 & exp3 & exp4 & occ & occ2 & ind & ind2\\\\\n",
              " <dbl> & <dbl> & <chr> & <dbl> & <dbl> & <dbl> & <dbl> & <dbl> & <dbl> & <dbl> & <dbl> & <dbl> & <dbl> & <dbl> & <dbl> & <dbl> & <fct> & <fct> & <fct> & <fct>\\\\\n",
              "\\hline\n",
              "\t  9.615385 & 2.263364 & Female & 0 & 0 & 0 & 1 & 0 & 0 & 0 & 0 & 1 &  7 & 0.49 &  0.343 &  0.2401 & 3600 & 11 & 8370 & 18\\\\\n",
              "\t 48.076923 & 3.872802 & Male   & 0 & 0 & 0 & 1 & 0 & 0 & 0 & 0 & 1 & 31 & 9.61 & 29.791 & 92.3521 & 3050 & 10 & 5070 & 9 \\\\\n",
              "\t 13.942308 & 2.634928 & Female & 0 & 0 & 0 & 0 & 1 & 0 & 0 & 0 & 1 & 25 & 6.25 & 15.625 & 39.0625 & 420  & 1  & 6990 & 12\\\\\n",
              "\t 28.846154 & 3.361977 & Female & 0 & 0 & 0 & 1 & 0 & 0 & 0 & 0 & 1 & 22 & 4.84 & 10.648 & 23.4256 & 2015 & 6  & 9470 & 22\\\\\n",
              "\t 11.730769 & 2.462215 & Female & 0 & 0 & 0 & 1 & 0 & 0 & 0 & 0 & 1 &  1 & 0.01 &  0.001 &  0.0001 & 1650 & 5  & 7460 & 14\\\\\n",
              "\t 19.230769 & 2.956512 & Female & 0 & 0 & 0 & 1 & 0 & 0 & 0 & 0 & 1 &  4 & 0.16 &  0.064 &  0.0256 & 3255 & 10 & 8190 & 18\\\\\n",
              "\\end{tabular}\n"
            ],
            "text/markdown": [
              "\n",
              "A tibble: 6 × 20\n",
              "\n",
              "| wage &lt;dbl&gt; | lwage &lt;dbl&gt; | sex &lt;chr&gt; | shs &lt;dbl&gt; | hsg &lt;dbl&gt; | scl &lt;dbl&gt; | clg &lt;dbl&gt; | ad &lt;dbl&gt; | mw &lt;dbl&gt; | so &lt;dbl&gt; | we &lt;dbl&gt; | ne &lt;dbl&gt; | exp1 &lt;dbl&gt; | exp2 &lt;dbl&gt; | exp3 &lt;dbl&gt; | exp4 &lt;dbl&gt; | occ &lt;fct&gt; | occ2 &lt;fct&gt; | ind &lt;fct&gt; | ind2 &lt;fct&gt; |\n",
              "|---|---|---|---|---|---|---|---|---|---|---|---|---|---|---|---|---|---|---|---|\n",
              "|  9.615385 | 2.263364 | Female | 0 | 0 | 0 | 1 | 0 | 0 | 0 | 0 | 1 |  7 | 0.49 |  0.343 |  0.2401 | 3600 | 11 | 8370 | 18 |\n",
              "| 48.076923 | 3.872802 | Male   | 0 | 0 | 0 | 1 | 0 | 0 | 0 | 0 | 1 | 31 | 9.61 | 29.791 | 92.3521 | 3050 | 10 | 5070 | 9  |\n",
              "| 13.942308 | 2.634928 | Female | 0 | 0 | 0 | 0 | 1 | 0 | 0 | 0 | 1 | 25 | 6.25 | 15.625 | 39.0625 | 420  | 1  | 6990 | 12 |\n",
              "| 28.846154 | 3.361977 | Female | 0 | 0 | 0 | 1 | 0 | 0 | 0 | 0 | 1 | 22 | 4.84 | 10.648 | 23.4256 | 2015 | 6  | 9470 | 22 |\n",
              "| 11.730769 | 2.462215 | Female | 0 | 0 | 0 | 1 | 0 | 0 | 0 | 0 | 1 |  1 | 0.01 |  0.001 |  0.0001 | 1650 | 5  | 7460 | 14 |\n",
              "| 19.230769 | 2.956512 | Female | 0 | 0 | 0 | 1 | 0 | 0 | 0 | 0 | 1 |  4 | 0.16 |  0.064 |  0.0256 | 3255 | 10 | 8190 | 18 |\n",
              "\n"
            ],
            "text/plain": [
              "  wage      lwage    sex    shs hsg scl clg ad mw so we ne exp1 exp2 exp3  \n",
              "1  9.615385 2.263364 Female 0   0   0   1   0  0  0  0  1   7   0.49  0.343\n",
              "2 48.076923 3.872802 Male   0   0   0   1   0  0  0  0  1  31   9.61 29.791\n",
              "3 13.942308 2.634928 Female 0   0   0   0   1  0  0  0  1  25   6.25 15.625\n",
              "4 28.846154 3.361977 Female 0   0   0   1   0  0  0  0  1  22   4.84 10.648\n",
              "5 11.730769 2.462215 Female 0   0   0   1   0  0  0  0  1   1   0.01  0.001\n",
              "6 19.230769 2.956512 Female 0   0   0   1   0  0  0  0  1   4   0.16  0.064\n",
              "  exp4    occ  occ2 ind  ind2\n",
              "1  0.2401 3600 11   8370 18  \n",
              "2 92.3521 3050 10   5070 9   \n",
              "3 39.0625 420  1    6990 12  \n",
              "4 23.4256 2015 6    9470 22  \n",
              "5  0.0001 1650 5    7460 14  \n",
              "6  0.0256 3255 10   8190 18  "
            ]
          },
          "metadata": {},
          "output_type": "display_data"
        }
      ],
      "source": [
        "# Filtering data to focus on college-advanced-educated workers\n",
        "data_filtered <- data |> \n",
        "  filter(\n",
        "    scl == 1| clg ==1 | ad == 1\n",
        "  ) |> \n",
        "  mutate(\n",
        "    sex = ifelse(sex == 0, \"Male\", \"Female\")\n",
        "  )\n",
        "n_data = dim(data_filtered)[1]\n",
        "data_filtered |> head()"
      ]
    },
    {
      "cell_type": "markdown",
      "metadata": {},
      "source": [
        "# Plots"
      ]
    },
    {
      "cell_type": "code",
      "execution_count": 5,
      "metadata": {
        "vscode": {
          "languageId": "r"
        }
      },
      "outputs": [
        {
          "data": {
            "text/html": [
              "<table class=\"dataframe\">\n",
              "<caption>A tibble: 2 × 8</caption>\n",
              "<thead>\n",
              "\t<tr><th scope=col>wage</th><th scope=col>lwage</th><th scope=col>sex</th><th scope=col>scl</th><th scope=col>clg</th><th scope=col>ad</th><th scope=col>exp1</th><th scope=col>hsg</th></tr>\n",
              "\t<tr><th scope=col>&lt;dbl&gt;</th><th scope=col>&lt;dbl&gt;</th><th scope=col>&lt;chr&gt;</th><th scope=col>&lt;dbl&gt;</th><th scope=col>&lt;dbl&gt;</th><th scope=col>&lt;dbl&gt;</th><th scope=col>&lt;dbl&gt;</th><th scope=col>&lt;dbl&gt;</th></tr>\n",
              "</thead>\n",
              "<tbody>\n",
              "\t<tr><td> 9.615385</td><td>2.263364</td><td>Female</td><td>0</td><td>1</td><td>0</td><td> 7</td><td>0</td></tr>\n",
              "\t<tr><td>48.076923</td><td>3.872802</td><td>Male  </td><td>0</td><td>1</td><td>0</td><td>31</td><td>0</td></tr>\n",
              "</tbody>\n",
              "</table>\n"
            ],
            "text/latex": [
              "A tibble: 2 × 8\n",
              "\\begin{tabular}{llllllll}\n",
              " wage & lwage & sex & scl & clg & ad & exp1 & hsg\\\\\n",
              " <dbl> & <dbl> & <chr> & <dbl> & <dbl> & <dbl> & <dbl> & <dbl>\\\\\n",
              "\\hline\n",
              "\t  9.615385 & 2.263364 & Female & 0 & 1 & 0 &  7 & 0\\\\\n",
              "\t 48.076923 & 3.872802 & Male   & 0 & 1 & 0 & 31 & 0\\\\\n",
              "\\end{tabular}\n"
            ],
            "text/markdown": [
              "\n",
              "A tibble: 2 × 8\n",
              "\n",
              "| wage &lt;dbl&gt; | lwage &lt;dbl&gt; | sex &lt;chr&gt; | scl &lt;dbl&gt; | clg &lt;dbl&gt; | ad &lt;dbl&gt; | exp1 &lt;dbl&gt; | hsg &lt;dbl&gt; |\n",
              "|---|---|---|---|---|---|---|---|\n",
              "|  9.615385 | 2.263364 | Female | 0 | 1 | 0 |  7 | 0 |\n",
              "| 48.076923 | 3.872802 | Male   | 0 | 1 | 0 | 31 | 0 |\n",
              "\n"
            ],
            "text/plain": [
              "  wage      lwage    sex    scl clg ad exp1 hsg\n",
              "1  9.615385 2.263364 Female 0   1   0   7   0  \n",
              "2 48.076923 3.872802 Male   0   1   0  31   0  "
            ]
          },
          "metadata": {},
          "output_type": "display_data"
        }
      ],
      "source": [
        "main_variables = c(\"wage\", \"lwage\", \"sex\", \"scl\", \"clg\", \"ad\", \"exp1\", \"hsg\")\n",
        "\n",
        "data_filtered <- data_filtered |> select(any_of(main_variables))\n",
        "data_filtered |> head(2)"
      ]
    },
    {
      "cell_type": "code",
      "execution_count": 6,
      "metadata": {
        "vscode": {
          "languageId": "r"
        }
      },
      "outputs": [
        {
          "name": "stderr",
          "output_type": "stream",
          "text": [
            "Warning message:\n",
            "\"\u001b[1m\u001b[22mThe dot-dot notation (`..density..`) was deprecated in ggplot2 3.4.0.\n",
            "\u001b[36mℹ\u001b[39m Please use `after_stat(density)` instead.\"\n"
          ]
        },
        {
          "data": {
            "image/png": "[encoded data removed]",
            "text/plain": [
              "plot without title"
            ]
          },
          "metadata": {
            "image/png": {
              "height": 420,
              "width": 420
            }
          },
          "output_type": "display_data"
        }
      ],
      "source": [
        "# wage\n",
        "data_filtered |> \n",
        "  ggplot() +\n",
        "  aes(x=wage, y = ..density..) +\n",
        "  geom_histogram(bins = 50, fill=\"#69b3a2\", color = 'white') +\n",
        "  geom_density(color = 'red') + \n",
        "  scale_color_brewer(palette=\"Dark2\")\n"
      ]
    },
    {
      "cell_type": "code",
      "execution_count": 7,
      "metadata": {
        "vscode": {
          "languageId": "r"
        }
      },
      "outputs": [
        {
          "data": {
            "image/png": "[encoded data removed]",
            "text/plain": [
              "plot without title"
            ]
          },
          "metadata": {
            "image/png": {
              "height": 420,
              "width": 420
            }
          },
          "output_type": "display_data"
        }
      ],
      "source": [
        "# lwage\n",
        "data_filtered |> \n",
        "  ggplot() +\n",
        "  aes(x=lwage, y = ..density..) +\n",
        "  geom_histogram(bins = 50, fill=\"#69b3a2\", color = 'white') +\n",
        "  geom_density(color = 'red') + \n",
        "  scale_color_brewer(palette=\"Dark2\")\n"
      ]
    },
    {
      "cell_type": "code",
      "execution_count": 8,
      "metadata": {
        "vscode": {
          "languageId": "r"
        }
      },
      "outputs": [
        {
          "data": {
            "image/png": "[encoded data removed]",
            "text/plain": [
              "plot without title"
            ]
          },
          "metadata": {
            "image/png": {
              "height": 420,
              "width": 420
            }
          },
          "output_type": "display_data"
        }
      ],
      "source": [
        "data_count_sex <- table(data_filtered$sex)\n",
        "data_count_sex <- prop.table(data_count_sex) * 100\n",
        "data_count_sex <- round(data_count_sex, 2)\n",
        "data_count_sex <- as.data.frame(data_count_sex)\n",
        "\n",
        "\n",
        "names(data_count_sex) <- c(\"Sex\", \"Proportion\")\n",
        "\n",
        "\n",
        "ggplot(data_count_sex, aes(x = Sex, y = Proportion, fill = Sex)) +\n",
        "  geom_bar(stat = \"identity\") +\n",
        "  labs(title = \"Proportion of Male and Female Individuals with Higher Education\",\n",
        "       x = \"Sex\",\n",
        "       y = \"%\") +\n",
        "  scale_fill_manual(values = c(\"blue\", \"orange\")) +\n",
        "  theme_minimal()"
      ]
    },
    {
      "cell_type": "code",
      "execution_count": 9,
      "metadata": {
        "vscode": {
          "languageId": "r"
        }
      },
      "outputs": [
        {
          "data": {
            "image/png": "[encoded data removed]",
            "text/plain": [
              "plot without title"
            ]
          },
          "metadata": {
            "image/png": {
              "height": 420,
              "width": 420
            }
          },
          "output_type": "display_data"
        }
      ],
      "source": [
        "ggplot(data_count_sex, aes(x=\"\",y = Proportion, fill = Sex)) +\n",
        "  geom_bar(stat = \"identity\") +\n",
        "  labs(title = \"Proportion of Male and Female Individuals with Higher Education\",\n",
        "       x = \"Sex\",\n",
        "       y = \"%\") +\n",
        "  scale_fill_manual(values = c(\"blue\", \"orange\")) +\n",
        "  theme_void() +\n",
        "  coord_polar(\"y\", start=0)"
      ]
    },
    {
      "cell_type": "code",
      "execution_count": 10,
      "metadata": {
        "vscode": {
          "languageId": "r"
        }
      },
      "outputs": [
        {
          "name": "stderr",
          "output_type": "stream",
          "text": [
            "Warning message in geom_col(stats = \"identity\", width = 1, color = \"white\"):\n",
            "\"\u001b[1m\u001b[22mIgnoring unknown parameters: `stats`\"\n"
          ]
        },
        {
          "data": {
            "image/png": "[encoded data removed]",
            "text/plain": [
              "plot without title"
            ]
          },
          "metadata": {
            "image/png": {
              "height": 420,
              "width": 420
            }
          },
          "output_type": "display_data"
        }
      ],
      "source": [
        "data_filtered |> \n",
        "  pivot_longer(\n",
        "    c(scl, ad, clg)\n",
        "    , names_to = 'cat'\n",
        "  )  |> \n",
        "  filter(value > 0, sex == 'Male') |> \n",
        "  count(cat) |> \n",
        "  mutate(\n",
        "    percent = n / sum(n) * 100\n",
        "    , ypos = cumsum(percent) \n",
        "    ) |> \n",
        "  ggplot() + \n",
        "  aes(x=\"\", y=percent, fill = cat) +\n",
        "  geom_col(stats = 'identity', width = 1, color = 'white') +\n",
        "  coord_polar('y', start = 0) +\n",
        "  theme_void() +\n",
        "  labs(\n",
        "    title = \"sdaf\",\n",
        "    color = \"s\"\n",
        "  )\n",
        "\n",
        "data_count_sex <- data_filtered %>%\n",
        "  group_by(sex, ) %>%\n",
        "  summarise(count = n()) %>%\n",
        "  mutate(proportion = count / sum(count) * 100)\n"
      ]
    },
    {
      "cell_type": "code",
      "execution_count": 11,
      "metadata": {
        "vscode": {
          "languageId": "r"
        }
      },
      "outputs": [
        {
          "name": "stderr",
          "output_type": "stream",
          "text": [
            "\u001b[1m\u001b[22m`stat_bin()` using `bins = 30`. Pick better value with `binwidth`.\n"
          ]
        },
        {
          "data": {
            "image/png": "[encoded data removed]",
            "text/plain": [
              "plot without title"
            ]
          },
          "metadata": {
            "image/png": {
              "height": 420,
              "width": 420
            }
          },
          "output_type": "display_data"
        }
      ],
      "source": [
        "data_filtered |> \n",
        "  pivot_longer(\n",
        "    c(scl, ad, clg)\n",
        "    , names_to = 'cat'\n",
        "  )  |> \n",
        "  filter(value > 0) |> \n",
        "  ggplot() +\n",
        "  aes(x = wage, fill = cat) + \n",
        "  geom_histogram(position='identity', alpha = 0.7) +\n",
        "  scale_fill_manual(values=c(\"#999999\", \"#E69F00\", \"#56B4E9\"))\n"
      ]
    },
    {
      "cell_type": "code",
      "execution_count": 12,
      "metadata": {
        "vscode": {
          "languageId": "r"
        }
      },
      "outputs": [
        {
          "data": {
            "image/png": "[encoded data removed]",
            "text/plain": [
              "plot without title"
            ]
          },
          "metadata": {
            "image/png": {
              "height": 420,
              "width": 420
            }
          },
          "output_type": "display_data"
        }
      ],
      "source": [
        "data_filtered |> \n",
        "  pivot_longer(\n",
        "    c(scl, ad, clg)\n",
        "    , names_to = 'cat'\n",
        "  )  |> \n",
        "  filter(value > 0) |> \n",
        "  ggplot() +\n",
        "  aes(x = lwage, fill = cat) + \n",
        "  geom_histogram(position='identity', alpha = 0.7, bins = 40) +\n",
        "  scale_fill_manual(values=c(\"#999999\", \"#E69F00\", \"#56B4E9\"))"
      ]
    },
    {
      "cell_type": "code",
      "execution_count": 13,
      "metadata": {
        "vscode": {
          "languageId": "r"
        }
      },
      "outputs": [
        {
          "data": {
            "image/png": "[encoded data removed]",
            "text/plain": [
              "plot without title"
            ]
          },
          "metadata": {
            "image/png": {
              "height": 420,
              "width": 420
            }
          },
          "output_type": "display_data"
        }
      ],
      "source": [
        "data_filtered |> \n",
        "  ggplot() +\n",
        "  aes(x = lwage, fill = sex) +\n",
        "  geom_histogram(bins = 50)"
      ]
    },
    {
      "cell_type": "code",
      "execution_count": 14,
      "metadata": {
        "vscode": {
          "languageId": "r"
        }
      },
      "outputs": [
        {
          "data": {
            "image/png": "[encoded data removed]",
            "text/plain": [
              "plot without title"
            ]
          },
          "metadata": {
            "image/png": {
              "height": 420,
              "width": 420
            }
          },
          "output_type": "display_data"
        }
      ],
      "source": [
        "data_filtered |> \n",
        "  pivot_longer(\n",
        "    c(scl, ad, clg)\n",
        "    , names_to = 'cat'\n",
        "  ) |> \n",
        "  filter(value > 0) |> \n",
        "  ggplot() +\n",
        "  aes(x = lwage, fill = sex) +\n",
        "  geom_histogram(bins = 50) +\n",
        "  facet_wrap(~cat, ncol = 2)"
      ]
    },
    {
      "cell_type": "markdown",
      "metadata": {},
      "source": [
        "# Estimation\n",
        "\n",
        "## Basic"
      ]
    },
    {
      "cell_type": "code",
      "execution_count": 15,
      "metadata": {
        "vscode": {
          "languageId": "r"
        }
      },
      "outputs": [],
      "source": [
        "# no control model\n",
        "# data_filtered <- \n",
        "data_filtered <- data[data$ad == 1 | data$scl == 1 | data$clg == 1, colnames(data)]\n",
        "\n",
        "base <- lm(lwage ~ sex, data = data_filtered) \n",
        "ci_base <- confint(base)|> as_tibble()\n",
        "base <- base |> broom::tidy()"
      ]
    },
    {
      "cell_type": "markdown",
      "metadata": {},
      "source": [
        "## With Controls"
      ]
    },
    {
      "cell_type": "code",
      "execution_count": 16,
      "metadata": {
        "vscode": {
          "languageId": "r"
        }
      },
      "outputs": [],
      "source": [
        "flex <- lwage ~ sex + (exp1+exp2+exp3+exp4)*(shs+hsg+scl+clg+occ2+ind2+mw+so+we)\n",
        "\n",
        "control_fit <- lm(flex, data=data_filtered) \n",
        "ci_control = confint(control_fit)|> as_tibble()\n",
        "control_fit <- control_fit |> broom::tidy()"
      ]
    },
    {
      "cell_type": "markdown",
      "metadata": {},
      "source": [
        "## Partiallling Out"
      ]
    },
    {
      "cell_type": "code",
      "execution_count": 17,
      "metadata": {
        "vscode": {
          "languageId": "r"
        }
      },
      "outputs": [],
      "source": [
        "flex_y <- lwage ~  (exp1+exp2+exp3+exp4)*(shs+hsg+scl+clg+occ2+ind2+mw+so+we) # model for Y\n",
        "flex_d <- sex ~ (exp1+exp2+exp3+exp4)*(shs+hsg+scl+clg+occ2+ind2+mw+so+we)\n",
        "\n",
        "t_Y = lm(flex_y, data=data_filtered) |> resid()\n",
        "\n",
        "t_D = lm(flex_d, data=data_filtered) |> resid()\n",
        "\n",
        "new_data = tibble(\n",
        "  y = t_Y,\n",
        "  sex = t_D\n",
        ")\n",
        "\n",
        "partial_fit = lm(y ~ sex, data = new_data) \n",
        "ci_partial = confint(partial_fit) |> as_tibble()\n",
        "partial_fit <- partial_fit|> broom::tidy()"
      ]
    },
    {
      "cell_type": "code",
      "execution_count": 18,
      "metadata": {
        "vscode": {
          "languageId": "r"
        }
      },
      "outputs": [
        {
          "data": {
            "image/png": "[encoded data removed]",
            "text/plain": [
              "plot without title"
            ]
          },
          "metadata": {
            "image/png": {
              "height": 420,
              "width": 420
            }
          },
          "output_type": "display_data"
        }
      ],
      "source": [
        "ci_df = bind_rows(ci_partial, ci_control, ci_base) |> rename(ll = 1, ul = 2)\n",
        "bind_rows(partial_fit, control_fit, base) |> \n",
        "  bind_cols(ci_df) |> \n",
        "  filter(term == 'sex') |> \n",
        "  mutate(type = c('PartialFit', 'WithControls', 'Base')) |> \n",
        "  ggplot() +\n",
        "  aes(x=type, y = estimate) + \n",
        "  geom_point() +\n",
        "  geom_errorbar(\n",
        "    aes(ymin = ll, ymax = ul), width = .1\n",
        "  ) +\n",
        "  labs(x=\"\", y = '')"
      ]
    },
    {
      "cell_type": "markdown",
      "metadata": {},
      "source": [
        "# Replication: Male and Female\n",
        "\n",
        "## Male"
      ]
    },
    {
      "cell_type": "code",
      "execution_count": 19,
      "metadata": {
        "vscode": {
          "languageId": "r"
        }
      },
      "outputs": [
        {
          "data": {
            "text/html": [
              "<table class=\"dataframe\">\n",
              "<caption>A tibble: 6 × 3</caption>\n",
              "<thead>\n",
              "\t<tr><th scope=col>exp1</th><th scope=col>lwage</th><th scope=col>.fitted</th></tr>\n",
              "\t<tr><th scope=col>&lt;dbl&gt;</th><th scope=col>&lt;dbl&gt;</th><th scope=col>&lt;dbl&gt;</th></tr>\n",
              "</thead>\n",
              "<tbody>\n",
              "\t<tr><td> 5</td><td>2.615219</td><td>2.597271</td></tr>\n",
              "\t<tr><td> 6</td><td>2.669723</td><td>2.691433</td></tr>\n",
              "\t<tr><td> 7</td><td>2.628311</td><td>2.657159</td></tr>\n",
              "\t<tr><td> 8</td><td>2.753753</td><td>2.642348</td></tr>\n",
              "\t<tr><td> 9</td><td>2.586999</td><td>2.695604</td></tr>\n",
              "\t<tr><td>10</td><td>2.781384</td><td>2.733146</td></tr>\n",
              "</tbody>\n",
              "</table>\n"
            ],
            "text/latex": [
              "A tibble: 6 × 3\n",
              "\\begin{tabular}{lll}\n",
              " exp1 & lwage & .fitted\\\\\n",
              " <dbl> & <dbl> & <dbl>\\\\\n",
              "\\hline\n",
              "\t  5 & 2.615219 & 2.597271\\\\\n",
              "\t  6 & 2.669723 & 2.691433\\\\\n",
              "\t  7 & 2.628311 & 2.657159\\\\\n",
              "\t  8 & 2.753753 & 2.642348\\\\\n",
              "\t  9 & 2.586999 & 2.695604\\\\\n",
              "\t 10 & 2.781384 & 2.733146\\\\\n",
              "\\end{tabular}\n"
            ],
            "text/markdown": [
              "\n",
              "A tibble: 6 × 3\n",
              "\n",
              "| exp1 &lt;dbl&gt; | lwage &lt;dbl&gt; | .fitted &lt;dbl&gt; |\n",
              "|---|---|---|\n",
              "|  5 | 2.615219 | 2.597271 |\n",
              "|  6 | 2.669723 | 2.691433 |\n",
              "|  7 | 2.628311 | 2.657159 |\n",
              "|  8 | 2.753753 | 2.642348 |\n",
              "|  9 | 2.586999 | 2.695604 |\n",
              "| 10 | 2.781384 | 2.733146 |\n",
              "\n"
            ],
            "text/plain": [
              "  exp1 lwage    .fitted \n",
              "1  5   2.615219 2.597271\n",
              "2  6   2.669723 2.691433\n",
              "3  7   2.628311 2.657159\n",
              "4  8   2.753753 2.642348\n",
              "5  9   2.586999 2.695604\n",
              "6 10   2.781384 2.733146"
            ]
          },
          "metadata": {},
          "output_type": "display_data"
        }
      ],
      "source": [
        "type_education = c(\"clg\", \"hsg\")\n",
        "\n",
        "MODEL = lwage ~ sex + (exp1+exp2+exp3+exp4)*(scl+clg+ad+occ2+ind2+mw+so+we)\n",
        "\n",
        "predict_values <- function(type_edu, sex_, model = MODEL, group = 'exp1') {\n",
        "  ref_data <- data %>%\n",
        "    filter(sex == sex_) %>%\n",
        "    filter(.data[[type_edu]] == 1)\n",
        "  fiteed_md <- lm(model, data = ref_data)\n",
        "  new_dat <- fiteed_md |> broom::augment() |> \n",
        "    select(exp1, lwage, .fitted) |> \n",
        "    group_by(exp1) |> \n",
        "    summarise(\n",
        "      across(everything(), \\(x) mean(x))\n",
        "    )\n",
        "  return(new_dat)\n",
        "  \n",
        "  \n",
        "}\n",
        "clg_mean <- predict_values(\"clg\", 0)\n",
        "hsg_mean <- predict_values(\"hsg\", 0)\n",
        "hsg_mean |> head()"
      ]
    },
    {
      "cell_type": "code",
      "execution_count": 20,
      "metadata": {
        "vscode": {
          "languageId": "r"
        }
      },
      "outputs": [
        {
          "data": {
            "text/html": [
              "<table class=\"dataframe\">\n",
              "<caption>A tibble: 2 × 4</caption>\n",
              "<thead>\n",
              "\t<tr><th scope=col>exp1</th><th scope=col>.fitted</th><th scope=col>ll</th><th scope=col>ul</th></tr>\n",
              "\t<tr><th scope=col>&lt;dbl&gt;</th><th scope=col>&lt;dbl&gt;</th><th scope=col>&lt;dbl&gt;</th><th scope=col>&lt;dbl&gt;</th></tr>\n",
              "</thead>\n",
              "<tbody>\n",
              "\t<tr><td>5</td><td>0.5246516</td><td>0.03238054</td><td>0.9190515</td></tr>\n",
              "\t<tr><td>6</td><td>0.4272595</td><td>0.02956168</td><td>0.9162326</td></tr>\n",
              "</tbody>\n",
              "</table>\n"
            ],
            "text/latex": [
              "A tibble: 2 × 4\n",
              "\\begin{tabular}{llll}\n",
              " exp1 & .fitted & ll & ul\\\\\n",
              " <dbl> & <dbl> & <dbl> & <dbl>\\\\\n",
              "\\hline\n",
              "\t 5 & 0.5246516 & 0.03238054 & 0.9190515\\\\\n",
              "\t 6 & 0.4272595 & 0.02956168 & 0.9162326\\\\\n",
              "\\end{tabular}\n"
            ],
            "text/markdown": [
              "\n",
              "A tibble: 2 × 4\n",
              "\n",
              "| exp1 &lt;dbl&gt; | .fitted &lt;dbl&gt; | ll &lt;dbl&gt; | ul &lt;dbl&gt; |\n",
              "|---|---|---|---|\n",
              "| 5 | 0.5246516 | 0.03238054 | 0.9190515 |\n",
              "| 6 | 0.4272595 | 0.02956168 | 0.9162326 |\n",
              "\n"
            ],
            "text/plain": [
              "  exp1 .fitted   ll         ul       \n",
              "1 5    0.5246516 0.03238054 0.9190515\n",
              "2 6    0.4272595 0.02956168 0.9162326"
            ]
          },
          "metadata": {},
          "output_type": "display_data"
        }
      ],
      "source": [
        "intersection <- inner_join(clg_mean, hsg_mean, by='exp1') |> pull(exp1)\n",
        "hsg_in_gap <- hsg_mean |> filter(exp1 %in% intersection)\n",
        "clg_in_gap <- clg_mean |> filter(exp1 %in% intersection)\n",
        "\n",
        "gap_values <- function(col, df1, df2) {\n",
        "  gap = df1 |> pull(col) - df2 |> pull(col)\n",
        "  return(gap)\n",
        "}\n",
        "fitted_gap <- gap_values('.fitted', clg_in_gap, hsg_in_gap)\n",
        "actual_gap <- gap_values('lwage', clg_in_gap, hsg_in_gap)\n",
        "std_gap <- sd(actual_gap)\n",
        "\n",
        "gap_df <- tibble(\n",
        "  exp1 = intersection,\n",
        "  .fitted = fitted_gap,\n",
        "  ll = actual_gap - std_gap,\n",
        "  ul = actual_gap + std_gap,\n",
        ")\n",
        "gap_df |> head(2)"
      ]
    },
    {
      "cell_type": "code",
      "execution_count": 21,
      "metadata": {
        "vscode": {
          "languageId": "r"
        }
      },
      "outputs": [
        {
          "data": {
            "image/png": "[encoded data removed]",
            "text/plain": [
              "plot without title"
            ]
          },
          "metadata": {
            "image/png": {
              "height": 420,
              "width": 420
            }
          },
          "output_type": "display_data"
        }
      ],
      "source": [
        "library(ggplot2)\n",
        "\n",
        "# Definir colores y etiquetas\n",
        "colors <- c(\"red\", \"blue\", \"red\", \"blue\", 'black')\n",
        "labels <- c(\"Actual College\", \"Predicted College\", \"Actual High School\", \"Predicted High School\", \"Gap Predicted\")\n",
        "\n",
        "# Graficar\n",
        "ggplot() +\n",
        "  geom_line(aes(x = exp1, y = lwage, color = \"Actual College\"), data = clg_mean) +\n",
        "  geom_line(aes(x = exp1, y = .fitted, color = \"Predicted College\"), data = clg_mean, linetype = \"dashed\") +\n",
        "  geom_line(aes(x = exp1, y = lwage, color = \"Actual High School\"), data = hsg_mean) +\n",
        "  geom_line(aes(x = exp1, y = .fitted, color = \"Predicted High School\"), data = hsg_mean, linetype = \"dashed\") +\n",
        "  geom_line(aes(x = exp1, y = .fitted, color = \"Gap Predicted\"), color='black', data = gap_df) +\n",
        "  geom_ribbon(aes(x = exp1, ymin = ll, ymax = ul), fill = 'skyblue' , data = gap_df, alpha = 0.7) +\n",
        "  scale_color_manual(values = colors, labels = labels) +\n",
        "  # scale_fill_manual(values = colors, labels = \"Gap Predicted\") +\n",
        "  labs(x = \"Years of potential experience\", y = \"Log wage\",\n",
        "       title = \"Predicted and Actual wage profiles for colleges and high school graduates - Male\",\n",
        "       color='Legend'\n",
        "       ) +\n",
        "  theme_minimal()\n"
      ]
    },
    {
      "cell_type": "markdown",
      "metadata": {},
      "source": [
        "## Female"
      ]
    },
    {
      "cell_type": "code",
      "execution_count": 22,
      "metadata": {
        "vscode": {
          "languageId": "r"
        }
      },
      "outputs": [
        {
          "data": {
            "text/html": [
              "<table class=\"dataframe\">\n",
              "<caption>A tibble: 6 × 3</caption>\n",
              "<thead>\n",
              "\t<tr><th scope=col>exp1</th><th scope=col>lwage</th><th scope=col>.fitted</th></tr>\n",
              "\t<tr><th scope=col>&lt;dbl&gt;</th><th scope=col>&lt;dbl&gt;</th><th scope=col>&lt;dbl&gt;</th></tr>\n",
              "</thead>\n",
              "<tbody>\n",
              "\t<tr><td> 5</td><td>2.484081</td><td>2.469379</td></tr>\n",
              "\t<tr><td> 6</td><td>2.391093</td><td>2.473223</td></tr>\n",
              "\t<tr><td> 7</td><td>2.638640</td><td>2.563370</td></tr>\n",
              "\t<tr><td> 8</td><td>2.600319</td><td>2.471772</td></tr>\n",
              "\t<tr><td> 9</td><td>2.409274</td><td>2.562453</td></tr>\n",
              "\t<tr><td>10</td><td>2.709616</td><td>2.585180</td></tr>\n",
              "</tbody>\n",
              "</table>\n"
            ],
            "text/latex": [
              "A tibble: 6 × 3\n",
              "\\begin{tabular}{lll}\n",
              " exp1 & lwage & .fitted\\\\\n",
              " <dbl> & <dbl> & <dbl>\\\\\n",
              "\\hline\n",
              "\t  5 & 2.484081 & 2.469379\\\\\n",
              "\t  6 & 2.391093 & 2.473223\\\\\n",
              "\t  7 & 2.638640 & 2.563370\\\\\n",
              "\t  8 & 2.600319 & 2.471772\\\\\n",
              "\t  9 & 2.409274 & 2.562453\\\\\n",
              "\t 10 & 2.709616 & 2.585180\\\\\n",
              "\\end{tabular}\n"
            ],
            "text/markdown": [
              "\n",
              "A tibble: 6 × 3\n",
              "\n",
              "| exp1 &lt;dbl&gt; | lwage &lt;dbl&gt; | .fitted &lt;dbl&gt; |\n",
              "|---|---|---|\n",
              "|  5 | 2.484081 | 2.469379 |\n",
              "|  6 | 2.391093 | 2.473223 |\n",
              "|  7 | 2.638640 | 2.563370 |\n",
              "|  8 | 2.600319 | 2.471772 |\n",
              "|  9 | 2.409274 | 2.562453 |\n",
              "| 10 | 2.709616 | 2.585180 |\n",
              "\n"
            ],
            "text/plain": [
              "  exp1 lwage    .fitted \n",
              "1  5   2.484081 2.469379\n",
              "2  6   2.391093 2.473223\n",
              "3  7   2.638640 2.563370\n",
              "4  8   2.600319 2.471772\n",
              "5  9   2.409274 2.562453\n",
              "6 10   2.709616 2.585180"
            ]
          },
          "metadata": {},
          "output_type": "display_data"
        }
      ],
      "source": [
        "clg_mean <- predict_values(\"clg\", 1)\n",
        "hsg_mean <- predict_values(\"hsg\", 1)\n",
        "hsg_mean |> head()"
      ]
    },
    {
      "cell_type": "code",
      "execution_count": 23,
      "metadata": {
        "vscode": {
          "languageId": "r"
        }
      },
      "outputs": [
        {
          "data": {
            "text/html": [
              "<table class=\"dataframe\">\n",
              "<caption>A tibble: 2 × 4</caption>\n",
              "<thead>\n",
              "\t<tr><th scope=col>exp1</th><th scope=col>.fitted</th><th scope=col>ll</th><th scope=col>ul</th></tr>\n",
              "\t<tr><th scope=col>&lt;dbl&gt;</th><th scope=col>&lt;dbl&gt;</th><th scope=col>&lt;dbl&gt;</th><th scope=col>&lt;dbl&gt;</th></tr>\n",
              "</thead>\n",
              "<tbody>\n",
              "\t<tr><td>5</td><td>0.5626599</td><td>0.2418729</td><td>0.6925999</td></tr>\n",
              "\t<tr><td>6</td><td>0.6011450</td><td>0.6119416</td><td>1.0626687</td></tr>\n",
              "</tbody>\n",
              "</table>\n"
            ],
            "text/latex": [
              "A tibble: 2 × 4\n",
              "\\begin{tabular}{llll}\n",
              " exp1 & .fitted & ll & ul\\\\\n",
              " <dbl> & <dbl> & <dbl> & <dbl>\\\\\n",
              "\\hline\n",
              "\t 5 & 0.5626599 & 0.2418729 & 0.6925999\\\\\n",
              "\t 6 & 0.6011450 & 0.6119416 & 1.0626687\\\\\n",
              "\\end{tabular}\n"
            ],
            "text/markdown": [
              "\n",
              "A tibble: 2 × 4\n",
              "\n",
              "| exp1 &lt;dbl&gt; | .fitted &lt;dbl&gt; | ll &lt;dbl&gt; | ul &lt;dbl&gt; |\n",
              "|---|---|---|---|\n",
              "| 5 | 0.5626599 | 0.2418729 | 0.6925999 |\n",
              "| 6 | 0.6011450 | 0.6119416 | 1.0626687 |\n",
              "\n"
            ],
            "text/plain": [
              "  exp1 .fitted   ll        ul       \n",
              "1 5    0.5626599 0.2418729 0.6925999\n",
              "2 6    0.6011450 0.6119416 1.0626687"
            ]
          },
          "metadata": {},
          "output_type": "display_data"
        }
      ],
      "source": [
        "intersection <- inner_join(clg_mean, hsg_mean, by='exp1') |> pull(exp1)\n",
        "hsg_in_gap <- hsg_mean |> filter(exp1 %in% intersection)\n",
        "clg_in_gap <- clg_mean |> filter(exp1 %in% intersection)\n",
        "\n",
        "gap_values <- function(col, df1, df2) {\n",
        "  gap = df1 |> pull(col) - df2 |> pull(col)\n",
        "  return(gap)\n",
        "}\n",
        "fitted_gap <- gap_values('.fitted', clg_in_gap, hsg_in_gap)\n",
        "actual_gap <- gap_values('lwage', clg_in_gap, hsg_in_gap)\n",
        "std_gap <- sd(actual_gap)\n",
        "\n",
        "gap_df <- tibble(\n",
        "  exp1 = intersection,\n",
        "  .fitted = fitted_gap,\n",
        "  ll = actual_gap - std_gap,\n",
        "  ul = actual_gap + std_gap,\n",
        ")\n",
        "gap_df |> head(2)"
      ]
    },
    {
      "cell_type": "code",
      "execution_count": 24,
      "metadata": {
        "vscode": {
          "languageId": "r"
        }
      },
      "outputs": [
        {
          "data": {
            "image/png": "[encoded data removed]",
            "text/plain": [
              "plot without title"
            ]
          },
          "metadata": {
            "image/png": {
              "height": 420,
              "width": 420
            }
          },
          "output_type": "display_data"
        }
      ],
      "source": [
        "library(ggplot2)\n",
        "\n",
        "# Definir colores y etiquetas\n",
        "colors <- c(\"red\", \"blue\", \"red\", \"blue\", 'black')\n",
        "labels <- c(\"Actual College\", \"Predicted College\", \"Actual High School\", \"Predicted High School\", \"Gap Predicted\")\n",
        "\n",
        "# Graficar\n",
        "ggplot() +\n",
        "  geom_line(aes(x = exp1, y = lwage, color = \"Actual College\"), data = clg_mean) +\n",
        "  geom_line(aes(x = exp1, y = .fitted, color = \"Predicted College\"), data = clg_mean, linetype = \"dashed\") +\n",
        "  geom_line(aes(x = exp1, y = lwage, color = \"Actual High School\"), data = hsg_mean) +\n",
        "  geom_line(aes(x = exp1, y = .fitted, color = \"Predicted High School\"), data = hsg_mean, linetype = \"dashed\") +\n",
        "  geom_line(aes(x = exp1, y = .fitted, color = \"Gap Predicted\"), color='black', data = gap_df) +\n",
        "  geom_ribbon(aes(x = exp1, ymin = ll, ymax = ul), fill = 'skyblue' , data = gap_df, alpha = 0.7) +\n",
        "  scale_color_manual(values = colors, labels = labels) +\n",
        "  # scale_fill_manual(values = colors, labels = \"Gap Predicted\") +\n",
        "  labs(x = \"Years of potential experience\", y = \"Log wage\",\n",
        "       title = \"Predicted and Actual wage profiles for colleges and high school graduates - Male\",\n",
        "       color='Legend'\n",
        "       ) +\n",
        "  theme_minimal()\n"
      ]
    },
    {
      "cell_type": "markdown",
      "metadata": {},
      "source": [
        "## Cross Validation\n"
      ]
    },
    {
      "cell_type": "code",
      "execution_count": 25,
      "metadata": {
        "vscode": {
          "languageId": "r"
        }
      },
      "outputs": [],
      "source": [
        "# alphas\n",
        "alphas <- seq(0.1, 0.5, 0.1)\n",
        "data_s <- data |> drop_na() |> select(!wage) |> mutate(across(everything(), \\(x) as.double(x)))"
      ]
    },
    {
      "cell_type": "code",
      "execution_count": 26,
      "metadata": {
        "vscode": {
          "languageId": "r"
        }
      },
      "outputs": [
        {
          "data": {
            "text/html": [
              "<table class=\"dataframe\">\n",
              "<caption>A tibble: 25 × 4</caption>\n",
              "<thead>\n",
              "\t<tr><th scope=col>.metric</th><th scope=col>.estimator</th><th scope=col>.estimate</th><th scope=col>alpha</th></tr>\n",
              "\t<tr><th scope=col>&lt;chr&gt;</th><th scope=col>&lt;chr&gt;</th><th scope=col>&lt;dbl&gt;</th><th scope=col>&lt;dbl&gt;</th></tr>\n",
              "</thead>\n",
              "<tbody>\n",
              "\t<tr><td>rmse</td><td>standard</td><td>0.5002072</td><td>0.1</td></tr>\n",
              "\t<tr><td>rmse</td><td>standard</td><td>0.5033908</td><td>0.2</td></tr>\n",
              "\t<tr><td>rmse</td><td>standard</td><td>0.5076726</td><td>0.3</td></tr>\n",
              "\t<tr><td>rmse</td><td>standard</td><td>0.5130059</td><td>0.4</td></tr>\n",
              "\t<tr><td>rmse</td><td>standard</td><td>0.5182999</td><td>0.5</td></tr>\n",
              "\t<tr><td>rmse</td><td>standard</td><td>0.5162665</td><td>0.1</td></tr>\n",
              "\t<tr><td>rmse</td><td>standard</td><td>0.5208929</td><td>0.2</td></tr>\n",
              "\t<tr><td>rmse</td><td>standard</td><td>0.5267745</td><td>0.3</td></tr>\n",
              "\t<tr><td>rmse</td><td>standard</td><td>0.5329322</td><td>0.4</td></tr>\n",
              "\t<tr><td>rmse</td><td>standard</td><td>0.5396695</td><td>0.5</td></tr>\n",
              "\t<tr><td>rmse</td><td>standard</td><td>0.5101698</td><td>0.1</td></tr>\n",
              "\t<tr><td>rmse</td><td>standard</td><td>0.5145772</td><td>0.2</td></tr>\n",
              "\t<tr><td>rmse</td><td>standard</td><td>0.5200557</td><td>0.3</td></tr>\n",
              "\t<tr><td>rmse</td><td>standard</td><td>0.5257810</td><td>0.4</td></tr>\n",
              "\t<tr><td>rmse</td><td>standard</td><td>0.5322085</td><td>0.5</td></tr>\n",
              "\t<tr><td>rmse</td><td>standard</td><td>0.4859791</td><td>0.1</td></tr>\n",
              "\t<tr><td>rmse</td><td>standard</td><td>0.4908077</td><td>0.2</td></tr>\n",
              "\t<tr><td>rmse</td><td>standard</td><td>0.4964633</td><td>0.3</td></tr>\n",
              "\t<tr><td>rmse</td><td>standard</td><td>0.5030785</td><td>0.4</td></tr>\n",
              "\t<tr><td>rmse</td><td>standard</td><td>0.5103409</td><td>0.5</td></tr>\n",
              "\t<tr><td>rmse</td><td>standard</td><td>0.5126826</td><td>0.1</td></tr>\n",
              "\t<tr><td>rmse</td><td>standard</td><td>0.5145467</td><td>0.2</td></tr>\n",
              "\t<tr><td>rmse</td><td>standard</td><td>0.5177048</td><td>0.3</td></tr>\n",
              "\t<tr><td>rmse</td><td>standard</td><td>0.5219344</td><td>0.4</td></tr>\n",
              "\t<tr><td>rmse</td><td>standard</td><td>0.5268326</td><td>0.5</td></tr>\n",
              "</tbody>\n",
              "</table>\n"
            ],
            "text/latex": [
              "A tibble: 25 × 4\n",
              "\\begin{tabular}{llll}\n",
              " .metric & .estimator & .estimate & alpha\\\\\n",
              " <chr> & <chr> & <dbl> & <dbl>\\\\\n",
              "\\hline\n",
              "\t rmse & standard & 0.5002072 & 0.1\\\\\n",
              "\t rmse & standard & 0.5033908 & 0.2\\\\\n",
              "\t rmse & standard & 0.5076726 & 0.3\\\\\n",
              "\t rmse & standard & 0.5130059 & 0.4\\\\\n",
              "\t rmse & standard & 0.5182999 & 0.5\\\\\n",
              "\t rmse & standard & 0.5162665 & 0.1\\\\\n",
              "\t rmse & standard & 0.5208929 & 0.2\\\\\n",
              "\t rmse & standard & 0.5267745 & 0.3\\\\\n",
              "\t rmse & standard & 0.5329322 & 0.4\\\\\n",
              "\t rmse & standard & 0.5396695 & 0.5\\\\\n",
              "\t rmse & standard & 0.5101698 & 0.1\\\\\n",
              "\t rmse & standard & 0.5145772 & 0.2\\\\\n",
              "\t rmse & standard & 0.5200557 & 0.3\\\\\n",
              "\t rmse & standard & 0.5257810 & 0.4\\\\\n",
              "\t rmse & standard & 0.5322085 & 0.5\\\\\n",
              "\t rmse & standard & 0.4859791 & 0.1\\\\\n",
              "\t rmse & standard & 0.4908077 & 0.2\\\\\n",
              "\t rmse & standard & 0.4964633 & 0.3\\\\\n",
              "\t rmse & standard & 0.5030785 & 0.4\\\\\n",
              "\t rmse & standard & 0.5103409 & 0.5\\\\\n",
              "\t rmse & standard & 0.5126826 & 0.1\\\\\n",
              "\t rmse & standard & 0.5145467 & 0.2\\\\\n",
              "\t rmse & standard & 0.5177048 & 0.3\\\\\n",
              "\t rmse & standard & 0.5219344 & 0.4\\\\\n",
              "\t rmse & standard & 0.5268326 & 0.5\\\\\n",
              "\\end{tabular}\n"
            ],
            "text/markdown": [
              "\n",
              "A tibble: 25 × 4\n",
              "\n",
              "| .metric &lt;chr&gt; | .estimator &lt;chr&gt; | .estimate &lt;dbl&gt; | alpha &lt;dbl&gt; |\n",
              "|---|---|---|---|\n",
              "| rmse | standard | 0.5002072 | 0.1 |\n",
              "| rmse | standard | 0.5033908 | 0.2 |\n",
              "| rmse | standard | 0.5076726 | 0.3 |\n",
              "| rmse | standard | 0.5130059 | 0.4 |\n",
              "| rmse | standard | 0.5182999 | 0.5 |\n",
              "| rmse | standard | 0.5162665 | 0.1 |\n",
              "| rmse | standard | 0.5208929 | 0.2 |\n",
              "| rmse | standard | 0.5267745 | 0.3 |\n",
              "| rmse | standard | 0.5329322 | 0.4 |\n",
              "| rmse | standard | 0.5396695 | 0.5 |\n",
              "| rmse | standard | 0.5101698 | 0.1 |\n",
              "| rmse | standard | 0.5145772 | 0.2 |\n",
              "| rmse | standard | 0.5200557 | 0.3 |\n",
              "| rmse | standard | 0.5257810 | 0.4 |\n",
              "| rmse | standard | 0.5322085 | 0.5 |\n",
              "| rmse | standard | 0.4859791 | 0.1 |\n",
              "| rmse | standard | 0.4908077 | 0.2 |\n",
              "| rmse | standard | 0.4964633 | 0.3 |\n",
              "| rmse | standard | 0.5030785 | 0.4 |\n",
              "| rmse | standard | 0.5103409 | 0.5 |\n",
              "| rmse | standard | 0.5126826 | 0.1 |\n",
              "| rmse | standard | 0.5145467 | 0.2 |\n",
              "| rmse | standard | 0.5177048 | 0.3 |\n",
              "| rmse | standard | 0.5219344 | 0.4 |\n",
              "| rmse | standard | 0.5268326 | 0.5 |\n",
              "\n"
            ],
            "text/plain": [
              "   .metric .estimator .estimate alpha\n",
              "1  rmse    standard   0.5002072 0.1  \n",
              "2  rmse    standard   0.5033908 0.2  \n",
              "3  rmse    standard   0.5076726 0.3  \n",
              "4  rmse    standard   0.5130059 0.4  \n",
              "5  rmse    standard   0.5182999 0.5  \n",
              "6  rmse    standard   0.5162665 0.1  \n",
              "7  rmse    standard   0.5208929 0.2  \n",
              "8  rmse    standard   0.5267745 0.3  \n",
              "9  rmse    standard   0.5329322 0.4  \n",
              "10 rmse    standard   0.5396695 0.5  \n",
              "11 rmse    standard   0.5101698 0.1  \n",
              "12 rmse    standard   0.5145772 0.2  \n",
              "13 rmse    standard   0.5200557 0.3  \n",
              "14 rmse    standard   0.5257810 0.4  \n",
              "15 rmse    standard   0.5322085 0.5  \n",
              "16 rmse    standard   0.4859791 0.1  \n",
              "17 rmse    standard   0.4908077 0.2  \n",
              "18 rmse    standard   0.4964633 0.3  \n",
              "19 rmse    standard   0.5030785 0.4  \n",
              "20 rmse    standard   0.5103409 0.5  \n",
              "21 rmse    standard   0.5126826 0.1  \n",
              "22 rmse    standard   0.5145467 0.2  \n",
              "23 rmse    standard   0.5177048 0.3  \n",
              "24 rmse    standard   0.5219344 0.4  \n",
              "25 rmse    standard   0.5268326 0.5  "
            ]
          },
          "metadata": {},
          "output_type": "display_data"
        }
      ],
      "source": [
        "rec <- recipe(lwage ~ ., data = data_s) \n",
        "prep <- rec |> prep(strings_as_factors = F)\n",
        "\n",
        "splits <- map(\n",
        "  1:5, \\(x) initial_split(data_s, strata = lwage)\n",
        ")\n",
        "\n",
        "\n",
        "rmse_lasso <- function(split_model, alpha = 0.1, recipe = rec) {\n",
        "  \n",
        "  train <- training(split_model)\n",
        "  test <- testing(split_model)\n",
        "  # model\n",
        "  lasso <- linear_reg(penalty = 0.1, mixture = alpha) |> #mixture = alpha \n",
        "    set_engine('glmnet')\n",
        "  wf <- workflow() |> \n",
        "    add_recipe(rec)\n",
        "  # fit\n",
        "  lasso_fit <- wf |> \n",
        "    add_model(lasso) |> \n",
        "    fit(data = train)\n",
        "  # mse\n",
        "  result <- lasso_fit |> augment(test) |> \n",
        "    rmse(lwage, .pred) |> \n",
        "    mutate(alpha = alpha)\n",
        "  return(result)\n",
        "}\n",
        "\n",
        "df_result <- tibble()\n",
        "\n",
        "for(i_split in 1:length(splits)){\n",
        "  for(j_alpha in alphas){\n",
        "    result <- rmse_lasso(splits[[i_split]], j_alpha)\n",
        "    df_result <- bind_rows(df_result, result)\n",
        "  }\n",
        "}\n",
        "\n",
        "df_result "
      ]
    },
    {
      "cell_type": "code",
      "execution_count": 27,
      "metadata": {
        "vscode": {
          "languageId": "r"
        }
      },
      "outputs": [
        {
          "data": {
            "text/html": [
              "<table class=\"dataframe\">\n",
              "<caption>A tibble: 5 × 2</caption>\n",
              "<thead>\n",
              "\t<tr><th scope=col>alpha</th><th scope=col>alpha_m</th></tr>\n",
              "\t<tr><th scope=col>&lt;dbl&gt;</th><th scope=col>&lt;dbl&gt;</th></tr>\n",
              "</thead>\n",
              "<tbody>\n",
              "\t<tr><td>0.1</td><td>0.5050610</td></tr>\n",
              "\t<tr><td>0.2</td><td>0.5088431</td></tr>\n",
              "\t<tr><td>0.3</td><td>0.5137342</td></tr>\n",
              "\t<tr><td>0.4</td><td>0.5193464</td></tr>\n",
              "\t<tr><td>0.5</td><td>0.5254703</td></tr>\n",
              "</tbody>\n",
              "</table>\n"
            ],
            "text/latex": [
              "A tibble: 5 × 2\n",
              "\\begin{tabular}{ll}\n",
              " alpha & alpha\\_m\\\\\n",
              " <dbl> & <dbl>\\\\\n",
              "\\hline\n",
              "\t 0.1 & 0.5050610\\\\\n",
              "\t 0.2 & 0.5088431\\\\\n",
              "\t 0.3 & 0.5137342\\\\\n",
              "\t 0.4 & 0.5193464\\\\\n",
              "\t 0.5 & 0.5254703\\\\\n",
              "\\end{tabular}\n"
            ],
            "text/markdown": [
              "\n",
              "A tibble: 5 × 2\n",
              "\n",
              "| alpha &lt;dbl&gt; | alpha_m &lt;dbl&gt; |\n",
              "|---|---|\n",
              "| 0.1 | 0.5050610 |\n",
              "| 0.2 | 0.5088431 |\n",
              "| 0.3 | 0.5137342 |\n",
              "| 0.4 | 0.5193464 |\n",
              "| 0.5 | 0.5254703 |\n",
              "\n"
            ],
            "text/plain": [
              "  alpha alpha_m  \n",
              "1 0.1   0.5050610\n",
              "2 0.2   0.5088431\n",
              "3 0.3   0.5137342\n",
              "4 0.4   0.5193464\n",
              "5 0.5   0.5254703"
            ]
          },
          "metadata": {},
          "output_type": "display_data"
        }
      ],
      "source": [
        "result_arranged <- \n",
        "  df_result |> \n",
        "  group_by(alpha) |> \n",
        "  summarise(alpha_m = mean(.estimate)) |> \n",
        "  arrange(alpha_m)\n",
        "result_arranged"
      ]
    },
    {
      "cell_type": "code",
      "execution_count": 28,
      "metadata": {
        "vscode": {
          "languageId": "r"
        }
      },
      "outputs": [
        {
          "data": {
            "text/html": [
              "<table class=\"dataframe\">\n",
              "<caption>A tibble: 1 × 2</caption>\n",
              "<thead>\n",
              "\t<tr><th scope=col>alpha</th><th scope=col>alpha_m</th></tr>\n",
              "\t<tr><th scope=col>&lt;dbl&gt;</th><th scope=col>&lt;dbl&gt;</th></tr>\n",
              "</thead>\n",
              "<tbody>\n",
              "\t<tr><td>0.1</td><td>0.505061</td></tr>\n",
              "</tbody>\n",
              "</table>\n"
            ],
            "text/latex": [
              "A tibble: 1 × 2\n",
              "\\begin{tabular}{ll}\n",
              " alpha & alpha\\_m\\\\\n",
              " <dbl> & <dbl>\\\\\n",
              "\\hline\n",
              "\t 0.1 & 0.505061\\\\\n",
              "\\end{tabular}\n"
            ],
            "text/markdown": [
              "\n",
              "A tibble: 1 × 2\n",
              "\n",
              "| alpha &lt;dbl&gt; | alpha_m &lt;dbl&gt; |\n",
              "|---|---|\n",
              "| 0.1 | 0.505061 |\n",
              "\n"
            ],
            "text/plain": [
              "  alpha alpha_m \n",
              "1 0.1   0.505061"
            ]
          },
          "metadata": {},
          "output_type": "display_data"
        }
      ],
      "source": [
        "result_arranged |> first()"
      ]
    },
    {
      "cell_type": "code",
      "execution_count": 29,
      "metadata": {
        "vscode": {
          "languageId": "r"
        }
      },
      "outputs": [
        {
          "data": {
            "image/png": "[encoded data removed]",
            "text/plain": [
              "plot without title"
            ]
          },
          "metadata": {
            "image/png": {
              "height": 420,
              "width": 420
            }
          },
          "output_type": "display_data"
        }
      ],
      "source": [
        "ggplot(result_arranged) +\n",
        "  aes(alpha, alpha_m) +\n",
        "  geom_point() +\n",
        "  geom_line() +\n",
        "  labs(title = 'RMSE by alpha', x='Alpha', y = 'RMSE')"
      ]
    },
    {
      "cell_type": "code",
      "execution_count": 30,
      "metadata": {
        "vscode": {
          "languageId": "r"
        }
      },
      "outputs": [
        {
          "data": {
            "text/html": [
              "<table class=\"dataframe\">\n",
              "<caption>A tibble: 6 × 20</caption>\n",
              "<thead>\n",
              "\t<tr><th scope=col>.pred</th><th scope=col>lwage</th><th scope=col>sex</th><th scope=col>shs</th><th scope=col>hsg</th><th scope=col>scl</th><th scope=col>clg</th><th scope=col>ad</th><th scope=col>mw</th><th scope=col>so</th><th scope=col>we</th><th scope=col>ne</th><th scope=col>exp1</th><th scope=col>exp2</th><th scope=col>exp3</th><th scope=col>exp4</th><th scope=col>occ</th><th scope=col>occ2</th><th scope=col>ind</th><th scope=col>ind2</th></tr>\n",
              "\t<tr><th scope=col>&lt;dbl&gt;</th><th scope=col>&lt;dbl&gt;</th><th scope=col>&lt;dbl&gt;</th><th scope=col>&lt;dbl&gt;</th><th scope=col>&lt;dbl&gt;</th><th scope=col>&lt;dbl&gt;</th><th scope=col>&lt;dbl&gt;</th><th scope=col>&lt;dbl&gt;</th><th scope=col>&lt;dbl&gt;</th><th scope=col>&lt;dbl&gt;</th><th scope=col>&lt;dbl&gt;</th><th scope=col>&lt;dbl&gt;</th><th scope=col>&lt;dbl&gt;</th><th scope=col>&lt;dbl&gt;</th><th scope=col>&lt;dbl&gt;</th><th scope=col>&lt;dbl&gt;</th><th scope=col>&lt;dbl&gt;</th><th scope=col>&lt;dbl&gt;</th><th scope=col>&lt;dbl&gt;</th><th scope=col>&lt;dbl&gt;</th></tr>\n",
              "</thead>\n",
              "<tbody>\n",
              "\t<tr><td>2.971862</td><td>2.263364</td><td>1</td><td>0</td><td>0</td><td>0</td><td>1</td><td>0</td><td>0</td><td>0</td><td>0</td><td>1</td><td> 7</td><td>0.49</td><td> 0.343</td><td> 0.2401</td><td>150</td><td>11</td><td>199</td><td>17</td></tr>\n",
              "\t<tr><td>3.293489</td><td>3.872802</td><td>0</td><td>0</td><td>0</td><td>0</td><td>1</td><td>0</td><td>0</td><td>0</td><td>0</td><td>1</td><td>31</td><td>9.61</td><td>29.791</td><td>92.3521</td><td>128</td><td>10</td><td>112</td><td> 8</td></tr>\n",
              "\t<tr><td>2.814137</td><td>2.403126</td><td>0</td><td>0</td><td>1</td><td>0</td><td>0</td><td>0</td><td>0</td><td>0</td><td>0</td><td>1</td><td>18</td><td>3.24</td><td> 5.832</td><td>10.4976</td><td>258</td><td>19</td><td> 12</td><td> 3</td></tr>\n",
              "\t<tr><td>3.454972</td><td>2.634928</td><td>1</td><td>0</td><td>0</td><td>0</td><td>0</td><td>1</td><td>0</td><td>0</td><td>0</td><td>1</td><td>25</td><td>6.25</td><td>15.625</td><td>39.0625</td><td> 22</td><td> 1</td><td>160</td><td>11</td></tr>\n",
              "\t<tr><td>3.109826</td><td>3.361977</td><td>1</td><td>0</td><td>0</td><td>0</td><td>1</td><td>0</td><td>0</td><td>0</td><td>0</td><td>1</td><td>22</td><td>4.84</td><td>10.648</td><td>23.4256</td><td> 93</td><td> 6</td><td>225</td><td>21</td></tr>\n",
              "\t<tr><td>3.066364</td><td>2.462215</td><td>1</td><td>0</td><td>0</td><td>0</td><td>1</td><td>0</td><td>0</td><td>0</td><td>0</td><td>1</td><td> 1</td><td>0.01</td><td> 0.001</td><td> 0.0001</td><td> 82</td><td> 5</td><td>171</td><td>13</td></tr>\n",
              "</tbody>\n",
              "</table>\n"
            ],
            "text/latex": [
              "A tibble: 6 × 20\n",
              "\\begin{tabular}{llllllllllllllllllll}\n",
              " .pred & lwage & sex & shs & hsg & scl & clg & ad & mw & so & we & ne & exp1 & exp2 & exp3 & exp4 & occ & occ2 & ind & ind2\\\\\n",
              " <dbl> & <dbl> & <dbl> & <dbl> & <dbl> & <dbl> & <dbl> & <dbl> & <dbl> & <dbl> & <dbl> & <dbl> & <dbl> & <dbl> & <dbl> & <dbl> & <dbl> & <dbl> & <dbl> & <dbl>\\\\\n",
              "\\hline\n",
              "\t 2.971862 & 2.263364 & 1 & 0 & 0 & 0 & 1 & 0 & 0 & 0 & 0 & 1 &  7 & 0.49 &  0.343 &  0.2401 & 150 & 11 & 199 & 17\\\\\n",
              "\t 3.293489 & 3.872802 & 0 & 0 & 0 & 0 & 1 & 0 & 0 & 0 & 0 & 1 & 31 & 9.61 & 29.791 & 92.3521 & 128 & 10 & 112 &  8\\\\\n",
              "\t 2.814137 & 2.403126 & 0 & 0 & 1 & 0 & 0 & 0 & 0 & 0 & 0 & 1 & 18 & 3.24 &  5.832 & 10.4976 & 258 & 19 &  12 &  3\\\\\n",
              "\t 3.454972 & 2.634928 & 1 & 0 & 0 & 0 & 0 & 1 & 0 & 0 & 0 & 1 & 25 & 6.25 & 15.625 & 39.0625 &  22 &  1 & 160 & 11\\\\\n",
              "\t 3.109826 & 3.361977 & 1 & 0 & 0 & 0 & 1 & 0 & 0 & 0 & 0 & 1 & 22 & 4.84 & 10.648 & 23.4256 &  93 &  6 & 225 & 21\\\\\n",
              "\t 3.066364 & 2.462215 & 1 & 0 & 0 & 0 & 1 & 0 & 0 & 0 & 0 & 1 &  1 & 0.01 &  0.001 &  0.0001 &  82 &  5 & 171 & 13\\\\\n",
              "\\end{tabular}\n"
            ],
            "text/markdown": [
              "\n",
              "A tibble: 6 × 20\n",
              "\n",
              "| .pred &lt;dbl&gt; | lwage &lt;dbl&gt; | sex &lt;dbl&gt; | shs &lt;dbl&gt; | hsg &lt;dbl&gt; | scl &lt;dbl&gt; | clg &lt;dbl&gt; | ad &lt;dbl&gt; | mw &lt;dbl&gt; | so &lt;dbl&gt; | we &lt;dbl&gt; | ne &lt;dbl&gt; | exp1 &lt;dbl&gt; | exp2 &lt;dbl&gt; | exp3 &lt;dbl&gt; | exp4 &lt;dbl&gt; | occ &lt;dbl&gt; | occ2 &lt;dbl&gt; | ind &lt;dbl&gt; | ind2 &lt;dbl&gt; |\n",
              "|---|---|---|---|---|---|---|---|---|---|---|---|---|---|---|---|---|---|---|---|\n",
              "| 2.971862 | 2.263364 | 1 | 0 | 0 | 0 | 1 | 0 | 0 | 0 | 0 | 1 |  7 | 0.49 |  0.343 |  0.2401 | 150 | 11 | 199 | 17 |\n",
              "| 3.293489 | 3.872802 | 0 | 0 | 0 | 0 | 1 | 0 | 0 | 0 | 0 | 1 | 31 | 9.61 | 29.791 | 92.3521 | 128 | 10 | 112 |  8 |\n",
              "| 2.814137 | 2.403126 | 0 | 0 | 1 | 0 | 0 | 0 | 0 | 0 | 0 | 1 | 18 | 3.24 |  5.832 | 10.4976 | 258 | 19 |  12 |  3 |\n",
              "| 3.454972 | 2.634928 | 1 | 0 | 0 | 0 | 0 | 1 | 0 | 0 | 0 | 1 | 25 | 6.25 | 15.625 | 39.0625 |  22 |  1 | 160 | 11 |\n",
              "| 3.109826 | 3.361977 | 1 | 0 | 0 | 0 | 1 | 0 | 0 | 0 | 0 | 1 | 22 | 4.84 | 10.648 | 23.4256 |  93 |  6 | 225 | 21 |\n",
              "| 3.066364 | 2.462215 | 1 | 0 | 0 | 0 | 1 | 0 | 0 | 0 | 0 | 1 |  1 | 0.01 |  0.001 |  0.0001 |  82 |  5 | 171 | 13 |\n",
              "\n"
            ],
            "text/plain": [
              "  .pred    lwage    sex shs hsg scl clg ad mw so we ne exp1 exp2 exp3   exp4   \n",
              "1 2.971862 2.263364 1   0   0   0   1   0  0  0  0  1   7   0.49  0.343  0.2401\n",
              "2 3.293489 3.872802 0   0   0   0   1   0  0  0  0  1  31   9.61 29.791 92.3521\n",
              "3 2.814137 2.403126 0   0   1   0   0   0  0  0  0  1  18   3.24  5.832 10.4976\n",
              "4 3.454972 2.634928 1   0   0   0   0   1  0  0  0  1  25   6.25 15.625 39.0625\n",
              "5 3.109826 3.361977 1   0   0   0   1   0  0  0  0  1  22   4.84 10.648 23.4256\n",
              "6 3.066364 2.462215 1   0   0   0   1   0  0  0  0  1   1   0.01  0.001  0.0001\n",
              "  occ occ2 ind ind2\n",
              "1 150 11   199 17  \n",
              "2 128 10   112  8  \n",
              "3 258 19    12  3  \n",
              "4  22  1   160 11  \n",
              "5  93  6   225 21  \n",
              "6  82  5   171 13  "
            ]
          },
          "metadata": {},
          "output_type": "display_data"
        }
      ],
      "source": [
        "rmse_lasso <- function(split_model, alpha = 0.1, recipe = rec) {\n",
        "  \n",
        "  train <- training(split_model)\n",
        "  test <- testing(split_model)\n",
        "  # model\n",
        "  lasso <- linear_reg(penalty = 0.1, mixture = alpha) |> #mixture = alpha \n",
        "    set_engine('glmnet')\n",
        "  wf <- workflow() |> \n",
        "    add_recipe(rec)\n",
        "  # fit\n",
        "  lasso_fit <- wf |> \n",
        "    add_model(lasso) |> \n",
        "    fit(data = train)\n",
        "  # mse\n",
        "  result <- lasso_fit |> augment(test) |> \n",
        "    rmse(lwage, .pred) |> \n",
        "    mutate(alpha = alpha)\n",
        "  return(result)\n",
        "}\n",
        "\n",
        "lasso <- linear_reg(penalty =0.1, mixture = result_arranged |> first() |> pull(alpha)) |> \n",
        "  set_engine('glmnet')\n",
        "wf <- workflow() |> \n",
        "  add_recipe(rec)\n",
        "\n",
        "lasso_fit <- wf |> \n",
        "  add_model(lasso) |> \n",
        "  fit(data = data_s)\n",
        "\n",
        "lass_pred <- lasso_fit |> augment(data_s) \n",
        "lass_pred |> head()"
      ]
    },
    {
      "cell_type": "code",
      "execution_count": 31,
      "metadata": {
        "vscode": {
          "languageId": "r"
        }
      },
      "outputs": [
        {
          "data": {
            "text/html": [
              "<table class=\"dataframe\">\n",
              "<caption>A tibble: 1 × 3</caption>\n",
              "<thead>\n",
              "\t<tr><th scope=col>.metric</th><th scope=col>.estimator</th><th scope=col>.estimate</th></tr>\n",
              "\t<tr><th scope=col>&lt;chr&gt;</th><th scope=col>&lt;chr&gt;</th><th scope=col>&lt;dbl&gt;</th></tr>\n",
              "</thead>\n",
              "<tbody>\n",
              "\t<tr><td>rmse</td><td>standard</td><td>0.5038829</td></tr>\n",
              "</tbody>\n",
              "</table>\n"
            ],
            "text/latex": [
              "A tibble: 1 × 3\n",
              "\\begin{tabular}{lll}\n",
              " .metric & .estimator & .estimate\\\\\n",
              " <chr> & <chr> & <dbl>\\\\\n",
              "\\hline\n",
              "\t rmse & standard & 0.5038829\\\\\n",
              "\\end{tabular}\n"
            ],
            "text/markdown": [
              "\n",
              "A tibble: 1 × 3\n",
              "\n",
              "| .metric &lt;chr&gt; | .estimator &lt;chr&gt; | .estimate &lt;dbl&gt; |\n",
              "|---|---|---|\n",
              "| rmse | standard | 0.5038829 |\n",
              "\n"
            ],
            "text/plain": [
              "  .metric .estimator .estimate\n",
              "1 rmse    standard   0.5038829"
            ]
          },
          "metadata": {},
          "output_type": "display_data"
        }
      ],
      "source": [
        "lass_pred |> yardstick::rmse(lwage, .pred)"
      ]
    }
  ],
  "metadata": {
    "kernelspec": {
      "display_name": "R",
      "language": "R",
      "name": "ir"
    },
    "language_info": {
      "codemirror_mode": "r",
      "file_extension": ".r",
      "mimetype": "text/x-r-source",
      "name": "R",
      "pygments_lexer": "r",
      "version": "4.3.2"
    }
  },
  "nbformat": 4,
  "nbformat_minor": 4
}
