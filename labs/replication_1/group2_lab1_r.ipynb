{
 "cells": [
  {
   "cell_type": "markdown",
   "id": "94f34b86",
   "metadata": {
    "vscode": {
     "languageId": "r"
    }
   },
   "source": [
    "#First part"
   ]
  },
  {
   "cell_type": "markdown",
   "id": "508d5eda",
   "metadata": {
    "vscode": {
     "languageId": "r"
    }
   },
   "source": [
    "# Frisch-Waugh-Lovell theorem proff\n",
    "\n",
    "We have the following equation:\n",
    "$$y=D\\beta_1+W\\beta_2+\\mu$$\n",
    "\n",
    "The Frisch-Waugh-Lovell Theorem states that we can obtain **$\\beta_1$** through the alternative regression:\n",
    "$$\\epsilon^y=\\epsilon^D*\\phi+e$$\n",
    "\n",
    "Because $\\phi=\\beta_1$\n",
    "\n",
    "\n",
    "### First step\n",
    "\n",
    "First, we regress:\n",
    "\n",
    "$$W'y=W'D\\hat{\\beta_1}+W'W\\hat{\\beta_2}$$\n",
    "\n",
    "So we obtain the estimated coefficient vector:\n",
    "\n",
    "$$\\hat{\\beta_2}=(W'W)^{-1}W'y-(W'W)^{-1}W'D\\hat{\\beta_1}$$\n",
    "$$\\hat{\\beta_2}=(W'W)^{-1}W'(y-D\\hat{\\beta_1})$$\n",
    "\n",
    "### Second step\n",
    "\n",
    "Then we regress:\n",
    "\n",
    "$$D'y=D'D\\hat{\\beta_1}+D'W\\hat{\\beta_2}$$\n",
    "\n",
    "And, using the equation from first step:\n",
    "\n",
    "$$D'y=D'D\\hat{\\beta_1}+D'W((W'W)^{-1}W'(y-D\\hat{\\beta_1}))$$\n",
    "$$D'y=(D'W)(W'W)^{-1}W'y-(D'W)(W'W)^{-1}W'\\hat{\\beta_1}+D'D\\hat{\\beta_1}))$$\n",
    "\n",
    "\n",
    "### Third step\n",
    "\n",
    "From the last equation, we solve for the $\\hat{\\beta_1}$ estimator:\n",
    "\n",
    "$$\\hat{\\beta_1}= [D'(I-W(W'W)^{-1}W')D]^{-1}[D'(I-W(W'W)^{-1}W')y]$$\n",
    "\n",
    "### Four step\n",
    "\n",
    "Now we need to estimate the error vectors and regrest it:\n",
    "\n",
    "#### 4.1\n",
    "\n",
    "$$y=W\\alpha_1+\\epsilon^y$$\n",
    "\n",
    "where:\n",
    "$$\\hat{\\alpha_1}=(W'W)^{-1}W'y$$\n",
    "\n",
    "So:\n",
    "\n",
    "$$\\hat{\\epsilon}^y=y-W(W'W)^{-1}W'y$$\n",
    "$$\\hat{\\epsilon}^y=[I-W(W'W)^{-1}W']y$$\n",
    "\n",
    "\n",
    "#### 4.2\n",
    "\n",
    "$$D=W\\alpha_2+\\epsilon^D$$\n",
    "\n",
    "where:\n",
    "$$\\hat{\\alpha_2}=(W'W)^{-1}W'D$$\n",
    "\n",
    "So:\n",
    "\n",
    "$$\\hat{\\epsilon}^D=D-W(W'W)^{-1}W'D$$\n",
    "$$\\hat{\\epsilon}^D=[I-W(W'W)^{-1}W']D$$\n",
    "\n",
    "#### 4.3\n",
    "\n",
    "Finally, regress it:\n",
    "\n",
    "$$\\hat{\\epsilon}^y=\\hat{\\epsilon}^D\\phi+e$$\n",
    "\n",
    "So we estimate $\\phi$:\n",
    "\n",
    "$$\\hat{\\phi}=(\\hat{\\epsilon}{^D}'\\hat{\\epsilon}{^D})^{-1}\\hat{\\epsilon}{^D}'\\hat{\\epsilon}{^y}$$\n",
    "\n",
    "And we note that it is equal to:\n",
    "\n",
    "$$\\hat{\\phi}=(D'[I-W(W'W)^{-1}W']'[I-W(W'W)^{-1}W']D)^{-1}D'[I-W(W'W)^{-1}W']'[I-W(W'W)^{-1}W']y$$\n",
    "\n",
    "* Note that $[I-W(W'W)^{-1}W']'[I-W(W'W)^{-1}W']=I-W(W'W)^{-1}W'$\n",
    "\n",
    "Finally, we had this:\n",
    "\n",
    "$$\\hat{\\phi}=(D'[I-W(W'W)^{-1}W']D)^{-1}D'[I-W(W'W)^{-1}W']y$$\n",
    "\n",
    "\n",
    "### Five step\n",
    "\n",
    "We note that the last equation from the step four is the same from the step three!!!\n",
    "\n",
    "$$\\hat{\\beta_1}= [D'(I-W(W'W)^{-1}W')D]^{-1}[D'(I-W(W'W)^{-1}W')y]$$\n",
    "$$\\hat{\\phi}=(D'[I-W(W'W)^{-1}W']D)^{-1}D'[I-W(W'W)^{-1}W']y$$\n",
    "\n",
    "\n",
    "Proven!\n",
    "\n"
   ]
  },
  {
   "cell_type": "markdown",
   "id": "f876fa7f",
   "metadata": {},
   "source": [
    "# The conditional Expectation Function minimizes expected squared error proof\n",
    "\n",
    "We use the following equation:\n",
    "$$Y=m(X)+e$$\n",
    "\n",
    "$$m(X)=arg min_{g(X)}, E[(Y-g(X))^2]$$\n",
    "\n",
    "Show that:\n",
    "\n",
    "$$[(Y-g(X))^2]=E[(e)^2]$$\n",
    "\n",
    "\n",
    "### First step\n",
    "\n",
    "Adding $E[Y|X]$:\n",
    "\n",
    "$$E[(Y-g(X))^2]=E[(Y-E[Y|X]+E[Y|X]-g(X))^2]$$\n",
    "$$=E[(Y-E[Y|X])^2]+E[(E[Y|X]-g(X))^2]+2E[(Y-E[Y|X])]E[E[Y|X]-g(X)]$$\n",
    "\n",
    "With the Law of Iterated Expectations:\n",
    "\n",
    "$$E[E[(Y-E[Y|X])][E[Y|X]-g(X)]|X]$$\n",
    "$$E[(E[Y|X]-E[Y|X])(E[Y|X]-g(X))]=0$$\n",
    "\n",
    "\n",
    "### Second step\n",
    "\n",
    "So now, the equation is:\n",
    "\n",
    "$$E[(Y-g(X))^2]=E[(Y-E[Y|X])^2]+E[(E[Y|X]-g(X))^2]$$\n",
    "\n",
    "The equation: $E[(E[Y|X]-g(X))^2]$ will never be negative because of the square, so we had that:\n",
    "\n",
    "$$E[(Y-g(X))^2]>=E[(Y-E[Y|X])^2]$$\n",
    "\n",
    "### Third step\n",
    "\n",
    "If we minimize the squared errors, it will give us the following equality:\n",
    "\n",
    "$$E[(Y-g(X))^2]>=E[(e)^2]$$\n",
    "\n"
   ]
  },
  {
   "cell_type": "markdown",
   "id": "26400f9e",
   "metadata": {
    "vscode": {
     "languageId": "r"
    }
   },
   "source": [
    "#Second part"
   ]
  },
  {
   "cell_type": "code",
   "execution_count": 13,
   "id": "b6e55629",
   "metadata": {
    "vscode": {
     "languageId": "r"
    }
   },
   "outputs": [
    {
     "ename": "ERROR",
     "evalue": "Error in library(dplyr): there is no package called 'dplyr'\n",
     "output_type": "error",
     "traceback": [
      "Error in library(dplyr): there is no package called 'dplyr'\nTraceback:\n",
      "1. library(dplyr)"
     ]
    }
   ],
   "source": [
    "library(dplyr)\n",
    "library(glmnet)\n",
    "library(ggplot2)\n",
    "library(glmnet)\n",
    "library(gridExtra)\n",
    "library(sandwich)\n",
    "library(lmtest)"
   ]
  },
  {
   "cell_type": "code",
   "execution_count": null,
   "id": "4318a9cf",
   "metadata": {
    "vscode": {
     "languageId": "r"
    }
   },
   "outputs": [],
   "source": [
    "data <- read.csv(\"wage2015_subsample_inference.csv\")\n",
    "\n",
    "data$occ <- as.factor(data$occ) \n",
    "data$occ2 <- as.factor(data$occ2) \n",
    "data$ind <- as.factor(data$ind) \n",
    "data$ind2 <- as.factor(data$ind2)\n",
    "\n",
    "dim(data)\n",
    "\n",
    "data"
   ]
  },
  {
   "cell_type": "markdown",
   "id": "1449a124",
   "metadata": {
    "vscode": {
     "languageId": "r"
    }
   },
   "source": [
    "Thus, the unconditional gender wage gap is about $7,5$\\% for the group of never married workers (women get paid less on average in our sample). We also observe that never married working women are relatively more educated than working men and have lower working experience.\n",
    "\n",
    "This unconditional (predictive) effect of gender equals the coefficient $\\beta$ in the univariate ols regression of $Y$ on $D$:\n",
    "\\begin{align}\n",
    "\\log(Y) &=\\beta D + \\epsilon.\n",
    "\\end{align}"
   ]
  },
  {
   "cell_type": "code",
   "execution_count": null,
   "id": "05d5e4a6",
   "metadata": {
    "vscode": {
     "languageId": "r"
    }
   },
   "outputs": [],
   "source": [
    "nocontrol_model <- lm(lwage ~ sex, data = data_filtered)\n",
    "nocontrol_est <- coef(nocontrol_model)[\"sex\"]\n",
    "nocontrol_se2 <- summary(nocontrol_model)$coefficients[2,\"Std. Error\"]\n",
    "\n",
    "# robust standar erros\n",
    "HCV_coefs <- vcovHC(nocontrol_model, type = \"HC0\")\n",
    "nocontrol_se <- sqrt(diag(HCV_coefs))[1]\n",
    "nocontrol_se"
   ]
  },
  {
   "cell_type": "code",
   "execution_count": null,
   "id": "f0eb6083",
   "metadata": {
    "vscode": {
     "languageId": "r"
    }
   },
   "outputs": [],
   "source": [
    "# OLS regression with controls\n",
    "flex <- formula(paste(\"lwage ~ sex +\", paste(\"(exp1 + exp2 + exp3 + exp4) *\", paste(\"(scl + clg + ad + occ2 + ind2 + mw + so + we)\", collapse = \"+\"))))\n",
    "control_model <- lm(flex, data = data_filtered)\n",
    "control_est <- coef(control_model)[\"sex\"]\n",
    "HCV_coefs <- vcovHC(control_model, type = \"HC0\")\n",
    "control_se <- sqrt(diag(HCV_coefs)[42])"
   ]
  },
  {
   "cell_type": "code",
   "execution_count": null,
   "id": "14a6f501",
   "metadata": {
    "vscode": {
     "languageId": "r"
    }
   },
   "outputs": [],
   "source": [
    "# confidence interval\n",
    "confint(control_model, level = 0.95)[\"sex\", ]\n",
    "\n",
    "The estimated regression coefficient $\\beta_1\\approx-0.0675$ measures how our linear prediction of wage changes if we set the gender variable $D$ from 0 to 1, holding the controls $W$ fixed.\n",
    "We can call this the *predictive effect* (PE), as it measures the impact of a variable on the prediction we make. Overall, we see that the unconditional wage gap of size $7.5$\\% for women decreases to about $6.7$\\% after controlling for worker characteristics.  \n"
   ]
  },
  {
   "cell_type": "markdown",
   "id": "2d08a767",
   "metadata": {
    "vscode": {
     "languageId": "r"
    }
   },
   "source": [
    "##Partialling-Out using ols"
   ]
  },
  {
   "cell_type": "code",
   "execution_count": null,
   "id": "26678d39",
   "metadata": {
    "vscode": {
     "languageId": "r"
    }
   },
   "outputs": [],
   "source": [
    "#Using frish waugh lovell\n",
    "flex_y <- formula(paste(\"lwage ~ (exp1 + exp2 + exp3 + exp4) * (scl + clg + ad + occ2 + ind2 + mw + so + we)\"))\n",
    "flex_d <- formula(paste(\"sex ~ (exp1 + exp2 + exp3 + exp4) * (scl + clg + ad + occ2 + ind2 + mw + so + we)\"))\n",
    "\n",
    "t_Y <- resid(lm(flex_y, data = data_filtered))\n",
    "t_D <- resid(lm(flex_d, data = data_filtered))\n",
    "\n",
    "data_res <- data.frame(t_Y = c(t_Y), t_D = c(t_D))\n",
    "\n",
    "partial_fit <- lm(t_Y ~ t_D, data = data_res) \n",
    "partial_est <- coef(summary(partial_fit))[\"t_D\", \"Estimate\"]\n",
    "\n",
    "HCV_coefs <- vcovHC(partial_fit, type = \"HC0\") \n",
    "partial_se <- sqrt(diag(HCV_coefs)[1])"
   ]
  },
  {
   "cell_type": "code",
   "execution_count": null,
   "id": "ce9e517c",
   "metadata": {
    "vscode": {
     "languageId": "r"
    }
   },
   "outputs": [],
   "source": [
    "# confidence interval\n",
    "confint(partial_fit, level = 0.95)[\"t_D\", ]\n",
    "data_res <- data.frame(t_Y = c(t_Y), t_D = c(t_D))\n",
    "data_res"
   ]
  },
  {
   "cell_type": "markdown",
   "id": "165bf7b1",
   "metadata": {
    "vscode": {
     "languageId": "r"
    }
   },
   "source": [
    "We know that the partialling-out approach works well when the dimension of $W$ is low in relation to the sample size $n$. When the dimension of $W$ is relatively high, we need to use variable selection or penalization for regularization purposes. \n"
   ]
  },
  {
   "cell_type": "code",
   "execution_count": null,
   "id": "de70a776",
   "metadata": {
    "vscode": {
     "languageId": "r"
    }
   },
   "outputs": [],
   "source": [
    "## Graphics of main variables\n",
    "\n",
    "color_all <- c(1, 0.77, 0.44) \n",
    "color_female <- c(1, 0.82, 0.89) \n",
    "color_male <- c(0.36, 0.73, 1)\n",
    "\n",
    "ggplot(data_filtered, aes(x = wage)) + geom_histogram(binwidth = 7.5, fill = color_all, color = \"black\", boundary = 0) + scale_x_continuous(limits = c(0, 150), expand = c(0, 0)) + scale_y_continuous(limits = c(0, 2700), expand = c(0, 0)) + labs(x = \"Wage\", y = \"Frequency\", title = \"Distribution of Wage (All)\")\n",
    "ggplot(data_male, aes(x = wage)) + geom_histogram(binwidth = 7.5, fill = color_male, color = \"black\", boundary = 0) + scale_x_continuous(limits = c(0, 150), expand = c(0, 0)) + scale_y_continuous(limits = c(0, 2700), expand = c(0, 0)) + labs(x = \"Wage\", y = \"Frequency\", title = \"Distribution of Wage (Male)\")\n",
    "ggplot(data_female, aes(x = wage)) + geom_histogram(binwidth = 7.5, fill = color_female, color = \"black\", boundary = 0) + scale_x_continuous(limits = c(0, 150), expand = c(0, 0)) + scale_y_continuous(limits = c(0, 2700), expand = c(0, 0)) + labs(x = \"Wage\", y = \"Frequency\", title = \"Distribution of Wage (Female)\")\n",
    "\n",
    "par(mfrow=c(1,1))\n",
    "ggplot(data, aes(x = wage)) + geom_density(fill = color_all, alpha = 0.5) + geom_density(data = data_female, fill = color_female, alpha = 0.5) + geom_density(data = data_male, fill = color_male, alpha = 0.5) + scale_x_continuous(limits = c(1, 140)) + labs(x = \"Wage\", y = \"Density\", title = \"Density Plot of Wage\") + theme_minimal()\n"
   ]
  },
  {
   "cell_type": "code",
   "execution_count": null,
   "id": "f40b3f2c",
   "metadata": {
    "vscode": {
     "languageId": "r"
    }
   },
   "outputs": [],
   "source": [
    "#Log Wage\n",
    "ggplot(data_filtered, aes(x = lwage)) + geom_histogram(binwidth = 0.05, fill = color_all, color = \"black\", boundary = 0) + scale_x_continuous(limits = c(1, 5)) + scale_y_continuous(limits = c(0, 750)) + labs(x = \"Wage\", y = \"Frequency\", title = \"Distribution of Log Wage (All)\") + theme_minimal()\n",
    "ggplot(data_male, aes(x = lwage)) + geom_histogram(binwidth = 0.05, fill = color_male, color = \"black\", boundary = 0) + scale_x_continuous(limits = c(1, 5)) + scale_y_continuous(limits = c(0, 750)) + labs(x = \"Wage\", y = \"Frequency\", title = \"Distribution of Log Wage (Male)\") + theme_minimal()\n",
    "ggplot(data_female, aes(x = lwage)) + geom_histogram(binwidth = 0.05, fill = color_female, color = \"black\", boundary = 0) + scale_x_continuous(limits = c(1, 5)) + scale_y_continuous(limits = c(0, 750)) + labs(x = \"Wage\", y = \"Frequency\", title = \"Distribution of Log Wage (Female)\") + theme_minimal()\n",
    "grid.arrange(grobs = list(p1, p2, p3), ncol = 3)\n",
    "ggplot(data, aes(x = lwage)) + geom_density(fill = color_all, alpha = 0.5) + geom_density(data = data_female, fill = color_female, alpha = 0.5) + geom_density(data = data_male, fill = color_male, alpha = 0.5) + scale_x_continuous(limits = c(1, 6)) + labs(x = \"Log Wage\", y = \"Density\", title = \"Density Plot of Log Wage\") + theme_minimal()\n"
   ]
  },
  {
   "cell_type": "markdown",
   "id": "6f684027",
   "metadata": {
    "vscode": {
     "languageId": "r"
    }
   },
   "source": [
    "We can see that compared to salary, lwage is more similar to a normal distribution\n"
   ]
  },
  {
   "cell_type": "markdown",
   "id": "f5e889fb",
   "metadata": {
    "vscode": {
     "languageId": "r"
    }
   },
   "source": [
    "#SEX"
   ]
  },
  {
   "cell_type": "code",
   "execution_count": null,
   "id": "b41b4df6",
   "metadata": {
    "vscode": {
     "languageId": "r"
    }
   },
   "outputs": [],
   "source": [
    "sex_counts <- table(data$sex)\n",
    "\n",
    "ggplot(as.data.frame(sex_counts), aes(x = \"\", y = Freq, fill = sex)) + geom_bar(width = 1, stat = \"identity\") + scale_fill_manual(values = c(\"blue\", \"pink\")) + coord_polar(\"y\", start = 1.4) + labs(x = \"\", y = \"\", fill = \"\", title = \"Proportion of Males and Females\") + theme_void()\n",
    "\n",
    "### Some College -  College Graduate - Advanced Degree\n",
    "\n",
    "education_counts <- colSums(data[c(\"scl\", \"clg\", \"ad\")])\n",
    "\n",
    "ggplot(data.frame(Education = names(education_counts), Count = education_counts), aes(x = Education, y = Count, fill = Education)) + geom_bar(stat = \"identity\", width = 0.7) + scale_fill_manual(values = c(\"lightblue\", \"orange\", \"lightgreen\")) + labs(x = \"Education Level\", y = \"Count\", fill = \"Education\", title = \"Count of Education Levels\") + theme_minimal() + theme(axis.text.x = element_text(angle = 45, hjust = 1))\n",
    "\n",
    "ggplot(data.frame(Education = names(education_counts), Proportion = education_counts / sum(education_counts)), aes(x = \"\", y = Proportion, fill = Education)) + geom_bar(stat = \"identity\", width = 1) + scale_fill_manual(values = c(\"lightblue\", \"orange\", \"lightgreen\")) + coord_polar(\"y\", start = 1.4) + labs(x = \"\", y = \"\", fill = \"\", title = \"Proportion of Education\") + theme_void()\n"
   ]
  },
  {
   "cell_type": "code",
   "execution_count": null,
   "id": "75068f9e",
   "metadata": {
    "vscode": {
     "languageId": "r"
    }
   },
   "outputs": [],
   "source": [
    "data_filtered$education_level <- NA \n",
    "data_filtered$education_level[data_filtered$scl == 1] <- 1 \n",
    "data_filtered$education_level[data_filtered$clg == 1] <- 2 \n",
    "data_filtered$education_level[data_filtered$ad == 1] <- 3\n",
    "ggplot(data_filtered, aes(x = factor(education_level), y = wage, fill = factor(education_level))) + geom_boxplot() + scale_x_discrete(limits = c(\"0\", \"1\", \"2\"), labels = c(\"Some college\", \"College Graduate\", \"Advanced Degree\")) + scale_y_continuous(limits = c(0, 130)) + labs(x = \"Education Level\", y = \"Wage\", title = \"Wage by Education Level\") + theme_minimal() + theme(legend.position = \"none\")\n"
   ]
  },
  {
   "cell_type": "code",
   "execution_count": null,
   "id": "0309fb52",
   "metadata": {
    "vscode": {
     "languageId": "r"
    }
   },
   "outputs": [],
   "source": [
    "#As expected, those with an advanced degree have a higher mean wage than the other two education groups\n",
    "ggplot(data_filtered, aes(x = sex, y = wage, fill = sex)) + geom_boxplot(width = 0.4, position = position_dodge(0.8), show.legend = FALSE) + geom_point(aes(y = wage), position = position_dodge(0.8), size = 3, shape = 21, color = \"black\") + geom_errorbar(aes(ymin = wage - 1.96 * IQR(wage) / sqrt(length(wage)), ymax = wage + 1.96 * IQR(wage) / sqrt(length(wage))), width = 0.2, position = position_dodge(0.8)) + scale_x_discrete(limits = c(\"0\", \"1\"), labels = c(\"Male\", \"Female\")) + scale_y_continuous(limits = c(0, 100)) + labs(x = \"Sex\", y = \"Wage\", title = \"Wage by Sex with Confidence Intervals\") + theme_minimal() + theme(axis.text.x = element_text(angle = 45, hjust = 1))\n",
    "\n",
    "ggplot(data_filtered, aes(x = sex, y = lwage, fill = sex)) + geom_boxplot(width = 0.4, position = position_dodge(0.8), show.legend = FALSE) + geom_point(aes(y = lwage), position = position_dodge(0.8), size = 3, shape = 21, color = \"black\") + geom_errorbar(aes(ymin = lwage - 1.96 * IQR(lwage) / sqrt(length(lwage)), ymax = lwage + 1.96 * IQR(lwage) / sqrt(length(lwage))), width = 0.2, position = position_dodge(0.8)) + scale_x_discrete(limits = c(\"0\", \"1\"), labels = c(\"Male\", \"Female\")) + scale_y_continuous(limits = c(0, 5)) + labs(x = \"Sex\", y = \"Log Wage\", title = \"Log Wage by Sex with Confidence Intervals\") + theme_minimal() + theme(axis.text.x = element_text(angle = 45, hjust = 1))\n",
    "\n",
    "#In these two plots, it can be seen that the mean wage  and mean lwage between men and women is not very different. This could be due to the fact that the sample now only includes individuals with some type of university education.\n",
    "\n",
    "ggplot() + geom_density(data = data_male, aes(x = exp1), fill = color_male, alpha = 0.5) + geom_density(data = data_female, aes(x = exp1), fill = color_female, alpha = 0.5) + geom_density(data = data, aes(x = exp1), fill = color_all, alpha = 0.5) + scale_x_continuous(limits = c(0, 50)) + labs(x = \"Experience\", y = \"Density\", title = \"Density Plot of Wage\") + theme_minimal()\n",
    "\n",
    "#Coef intervals\n",
    "nocontrol_model <- lm(lwage ~ sex, data = data_filtered) nocontrol_est <- coef(summary(nocontrol_model))[\"sex\", \"Estimate\"] \n",
    "print(nocontrol_est)\n",
    "\n",
    "ll_nocontrol <- confint(nocontrol_model, level = 0.95)[2, 1] \n",
    "print(ll_nocontrol)\n",
    "\n",
    "flex <- lwage ~ sex + exp1 * (scl + clg + ad + occ2 + ind2 + mw + so + we) control_model <- lm(flex, data = data_filtered) control_est <- coef(summary(control_model))[\"sex\", \"Estimate\"] \n",
    "print(control_est)\n",
    "\n",
    "ll_control <- confint(control_model, level = 0.95)[2, 1] \n",
    "print(ll_control)"
   ]
  },
  {
   "cell_type": "code",
   "execution_count": null,
   "id": "463005f9",
   "metadata": {
    "vscode": {
     "languageId": "r"
    }
   },
   "outputs": [],
   "source": [
    "flex_y <- lwage ~ (exp1 + exp2 + exp3 + exp4) * (scl + clg + ad + occ2 + ind2 + mw + so + we) \n",
    "flex_d <- sex ~ (exp1 + exp2 + exp3 + exp4) * (scl + clg + ad + occ2 + ind2 + mw + so + we)\n",
    "t_Y <- resid(lm(flex_y, data = data_filtered)) \n",
    "t_D <- resid(lm(flex_d, data = data_filtered))\n",
    "data_res <- data.frame(t_Y, t_D)\n",
    "partial_fit <- lm(t_Y ~ t_D, data = data_res) \n",
    "partial_est <- coef(summary(partial_fit))[\"t_D\", \"Estimate\"]\n",
    "#Coef interval\n",
    "ll_partial <- confint(partial_fit, level = 0.95)[2, 1]\n",
    "\n",
    "err_nocontrol <- nocontrol_est - ll_nocontrol \n",
    "err_control <- control_est - ll_control \n",
    "err_partial <- partial_est - ll_partial\n",
    "\n",
    "\n",
    "coef <- c(nocontrol_est, control_est, partial_est)\n",
    "err <- c(err_nocontrol, err_control, err_partial)\n",
    "varname <- c(\"No control\", \"Control\", \"Partial\")\n",
    "\n",
    "coef_df <- data.frame(coef = c(nocontrol_est, control_est, partial_est), err = c(err_nocontrol, err_control, err_partial), varname = c(\"No control\", \"Control\", \"Partial\"))\n",
    "\n",
    "coef_df\n",
    "\n",
    "coef_df$varname <- factor(coef_df$varname, levels = c(\"no control\", \"control\", \"partial\"))\n",
    "\n",
    "ggplot(coef_df, aes(x = varname, y = coef)) + geom_bar(stat = \"identity\", fill = \"none\", color = \"black\") + geom_errorbar(aes(ymin = coef - err, ymax = coef + err), width = 0.2) + scale_y_continuous(breaks = NULL) + xlab(\"\") + ylab(\"\") + geom_text(aes(label = coef), hjust = -0.1, vjust = 0.5, size = 4) + theme_minimal() + theme(axis.text.x = element_text(angle = 45, hjust = 1))\n"
   ]
  },
  {
   "cell_type": "code",
   "execution_count": null,
   "id": "5821a5be",
   "metadata": {
    "vscode": {
     "languageId": "r"
    }
   },
   "outputs": [],
   "source": [
    "#PREDICTING LOG SALARY FOR COLLEGE GRADUATES - male\n",
    "data_clg_male <- data[data$clg == 1 & data$sex == 0, ]\n",
    "flex <- lwage ~ sex + exp1 * (scl + clg + ad + occ2 + ind2 + mw + so + we)\n",
    "control_model_clg_male <- lm(flex, data = data_clg_male) \n",
    "control_model_clg_fit_male <- predict(control_model_clg_male, data_clg_male)\n",
    "data_clg_male$predicted_lwage <- control_model_clg_fit_male\n",
    "predicted_lwage_clg_male_mean <- aggregate(data_clg_male$predicted_lwage, by = list(data_clg_male$exp1), FUN = mean) \n",
    "actual_lwage_clg_male_mean <- aggregate(data_clg_male$lwage, by = list(data_clg_male$exp1), FUN = mean) \n",
    "actual_lwage_clg_male_std <- sd(data_clg_male$lwage)\n"
   ]
  },
  {
   "cell_type": "code",
   "execution_count": null,
   "id": "54f779bb",
   "metadata": {
    "vscode": {
     "languageId": "r"
    }
   },
   "outputs": [],
   "source": [
    "#PREDICTING LOG SALARY FOR HIGH SCHOOL GRADUATES - male\n",
    "\n",
    "data_hsg_male <- data[data$hsg == 1 & data$sex == 0, ]\n",
    "flex <- lwage ~ sex + exp1 * (scl + clg + ad + occ2 + ind2 + mw + so + we)\n",
    "control_model_hsg_male <- lm(flex, data = data_hsg_male) \n",
    "control_model_hsg_fit_male <- predict(control_model_hsg_male, data_hsg_male)\n",
    "data_hsg_male$predicted_lwage <- control_model_hsg_fit_male\n",
    "\n",
    "predicted_lwage_hsg_male_mean <- aggregate(data_hsg_male$predicted_lwage, by = list(data_hsg_male$exp1), FUN = mean) \n",
    "actual_lwage_hsg_male_mean <- aggregate(data_hsg_male$lwage, by = list(data_hsg_male$exp1), FUN = mean) \n",
    "actual_lwage_hsg_male_std <- sd(data_hsg_male$lwage)"
   ]
  },
  {
   "cell_type": "code",
   "execution_count": null,
   "id": "543ccd23",
   "metadata": {
    "vscode": {
     "languageId": "r"
    }
   },
   "outputs": [],
   "source": [
    "plot(predicted_lwage_clg_male_mean$index, predicted_lwage_clg_male_mean$values, type = \"l\", lty = 2, col = \"blue\", xlab = \"Experience\", ylab = \"Log Wage\", ylim = c(0, 5), main = \"Predicted and Actual Log Wages for College-Educated Males\")\n",
    "lines(actual_lwage_clg_male_mean$index, actual_lwage_clg_male_mean$lwage, type = \"l\", col = \"blue\")\n",
    "legend(\"topleft\", legend = c(\"Predicted College\", \"Actual College\"), col = c(\"blue\", \"blue\"), lty = c(2, 1))\n"
   ]
  },
  {
   "cell_type": "code",
   "execution_count": null,
   "id": "5d1e2b02",
   "metadata": {
    "vscode": {
     "languageId": "r"
    }
   },
   "outputs": [],
   "source": [
    "# Plot predicted and actual log wages for high school males\n",
    "plot(data_hsg_male$exp1, predicted_lwage_hsg_male_mean, type = \"l\", col = \"red\", lty = 2, xlab = \"Experience\", ylab = \"Log Wage\", ylim = c(0, 5), main = \"Predicted and Actual Log Wages for High School Males\")\n",
    "lines(data_hsg_male$exp1, actual_lwage_hsg_male_mean, type = \"l\", col = \"red\")\n",
    "legend(\"topleft\", legend = c(\"Predicted High School\", \"Actual High School\"), col = c(\"red\", \"red\"), lty = c(2, 1))\n",
    "\n",
    "\n",
    "aligned_index <- intersect(predicted_lwage_clg_male_mean$index, predicted_lwage_hsg_male_mean$index)\n",
    "predicted_gap_male <- predicted_lwage_clg_male_mean$values[aligned_index] - predicted_lwage_hsg_male_mean$values[aligned_index]\n",
    "actual_gap_male <- actual_lwage_clg_male_mean$values[aligned_index] - actual_lwage_hsg_male_mean$values[aligned_index]\n",
    "\n",
    "actual_gap_male_std <- sd(actual_gap_male)\n",
    "ll <- actual_gap_male - actual_gap_male_std\n",
    "ul <- actual_gap_male + actual_gap_male_std\n",
    "\n",
    "ggplot(data.frame(aligned_index, predicted_gap_male, ll, ul), aes(x = aligned_index)) +\n",
    "  geom_line(aes(y = predicted_gap_male), color = \"green\", size = 1) +\n",
    "  geom_ribbon(aes(ymin = ll, ymax = ul), fill = \"skyblue\", alpha = 0.5) +\n",
    "  labs(x = \"Years of potential experience\", y = \"Log wage\", title = \"Predicted and Actual wage profiles for colleges and high school graduates - Male\") +\n",
    "  theme_minimal() +\n",
    "  theme(legend.position = \"top\")\n",
    "\n",
    "graphic_male <- ggplot2::last_plot()\n",
    "\n",
    "grid.arrange(graphic_male, ncol = 1)\n"
   ]
  },
  {
   "cell_type": "markdown",
   "id": "95ccb09c",
   "metadata": {
    "vscode": {
     "languageId": "r"
    }
   },
   "source": [
    "In this graph, 68% confidence intervals are used. It can be clearly seen in this graph the gap that exists between those with university education and those with secondary education\n"
   ]
  },
  {
   "cell_type": "code",
   "execution_count": null,
   "id": "45b7edfa",
   "metadata": {
    "vscode": {
     "languageId": "r"
    }
   },
   "outputs": [],
   "source": [
    "#PREDICTING LOG SALARY FOR COLLEGE GRADUATES female\n",
    "data_clg_female <- data[data$clg == 1 & data$sex == 1, ]\n",
    "flex <- as.formula(\"lwage ~ sex + (exp1 + exp2 + exp3 + exp4) * (scl + clg + ad + occ2 + ind2 + mw + so + we)\")\n",
    "\n",
    "control_model_clg_female <- lm(formula = flex, data = data_clg_female)\n",
    "control_model_clg_fit_female <- lmtest::coeftest(control_model_clg_female)\n",
    "\n",
    "data_clg_female$predicted_lwage <- predict(control_model_clg_female, newdata = data_clg_female)\n",
    "\n",
    "predicted_lwage_clg_female_mean <- aggregate(data_clg_female$predicted_Lwage, by = list(data_clg_female$exp1), FUN = mean) \n",
    "actual_lwage_clg_female_mean <- aggregate(data_clg_female$lwage, by = list(data_clg_female$exp1), FUN = mean) \n",
    "actual_lwage_clg_female_std <- sd(data_clg_female$lwage, na.rm = TRUE)\n",
    "\n",
    "actual_lwage_clg_female_std"
   ]
  },
  {
   "cell_type": "code",
   "execution_count": null,
   "id": "3b61b275",
   "metadata": {
    "vscode": {
     "languageId": "r"
    }
   },
   "outputs": [],
   "source": [
    "#PREDICTING LOG SALARY FOR HIGH SCHOOL GRADUATES - female\n",
    "data_hsg_female <- data[data$hsg == 1 & data$sex == 1, ]\n",
    "flex <- as.formula(\"lwage ~ sex + (exp1 + exp2 + exp3 + exp4) * (scl + clg + ad + occ2 + ind2 + mw + so + we)\")\n",
    "\n",
    "control_model_hsg_female <- lm(flex, data = data_hsg_female) \n",
    "control_model_hsg_fit_female <- control_model_hsg_female\n",
    "\n",
    "data_hsg_female$predicted_lwage <- predict(control_model_hsg_fit_female, newdata = data_hsg_female)\n",
    "\n",
    "predicted_lwage_hsg_female_mean <- aggregate(data_hsg_female$predicted_Lwage, by = list(data_hsg_female$exp1), FUN = mean) \n",
    "actual_lwage_hsg_female_mean <- aggregate(data_hsg_female$lwage, by = list(data_hsg_female$exp1), FUN = mean) \n",
    "actual_lwage_hsg_female_std <- sd(data_hsg_female$lwage, na.rm = TRUE)\n",
    "\n",
    "ggplot() + geom_line(data = predicted_lwage_clg_female_mean, aes(x = index, y = values), color = \"blue\", linetype = \"dashed\", size = 1) + geom_line(data = actual_lwage_clg_female_mean, aes(x = index, y = values), color = \"blue\", size = 1) + labs(x = \"Experience\", y = \"Log Wage\", title = \"Predicted and Actual Wage Profiles for College and High School Graduates - Female\") + theme_minimal()\n",
    "ggplot() + geom_line(data = predicted_lwage_hsg_female_mean, aes(x = index, y = values), color = \"red\", linetype = \"dashed\", size = 1) + geom_line(data = actual_lwage_hsg_female_mean, aes(x = index, y = values), color = \"red\", size = 1) + labs(x = \"Experience\", y = \"Log Wage\", title = \"Predicted and Actual Wage Profiles for College and High School Graduates - Female\") + theme_minimal()\n",
    "\n",
    "aligned_index <- intersect(predicted_lwage_clg_female_mean$index, predicted_lwage_hsg_female_mean$index) \n",
    "predicted_gap_female <- predicted_lwage_clg_female_mean$values[aligned_index] - predicted_lwage_hsg_female_mean$values[aligned_index] \n",
    "actual_gap_female <- actual_lwage_clg_female_mean$values[aligned_index] - actual_lwage_hsg_female_mean$values[aligned_index]\n",
    "\n",
    "actual_gap_female_std <- sd(actual_gap_female) \n",
    "ll <- actual_gap_female - actual_gap_female_std \n",
    "ul <- actual_gap_female + actual_gap_female_std\n",
    "\n",
    "ggplot() + geom_line(data = data.frame(aligned_index, predicted_gap_female), aes(x = aligned_index, y = predicted_gap_female), color = \"green\", size = 2) + geom_ribbon(data = data.frame(aligned_index, ll, ul), aes(x = aligned_index, ymin = ll, ymax = ul), fill = \"skyblue\", alpha = 0.5) + labs(x = \"Years of potential experience\", y = \"Log Salary\", title = \"Predicted and Actual wage profiles for colleges and high school graduates - Female\") + theme_minimal() + theme(legend.position = \"top\")\n",
    "\n"
   ]
  },
  {
   "cell_type": "markdown",
   "id": "461c331c",
   "metadata": {
    "vscode": {
     "languageId": "r"
    }
   },
   "source": [
    "#Third part"
   ]
  },
  {
   "cell_type": "code",
   "execution_count": null,
   "id": "2105d193",
   "metadata": {
    "vscode": {
     "languageId": "r"
    }
   },
   "outputs": [],
   "source": [
    "# Filter the observations that have some type of university\n",
    "data_filtered <- data[data$scl == 1 | data$clg == 1 | data$ad == 1, ]\n",
    "data_filtered <- data_filtered[, c(\"lwage\", \"sex\", \"scl\", \"clg\", \"ad\", \"ne\", \"mw\", \"so\", \"we\", \"exp1\")]\n",
    "data_filtered <- data_filtered %>% mutate(index = row_number()) %>% select(-index)\n",
    "\n",
    "data_female <- data_filtered[data_filtered$sex == 1, ]\n",
    "Z_female <- data_female[, c(\"lwage\", \"sex\", \"scl\", \"clg\", \"ad\", \"ne\", \"mw\", \"so\", \"we\", \"exp1\")]\n",
    "\n",
    "table <- matrix(nrow = 10, ncol = 3)\n",
    "table[, 1] <- colMeans(Z) table[, 2] <- colMeans(Z_male) table[, 3] <- colMeans(Z_female)\n",
    "table_dataframe <- as.data.frame(table)\n",
    "colnames(table_dataframe) <- c(\"All\", \"Men\", \"Women\")\n",
    "rownames(table_dataframe) <- c(\"Log Wage\", \"Sex\", \"Some College\", \"Gollage Graduate\", \"Advanced Degree\", \"Northeast\", \"Midwest\", \"South\", \"West\", \"Experience\")\n",
    "table_dataframe\n",
    "\n",
    "mean(data_female$lwage) - mean(data_male$lwage)"
   ]
  },
  {
   "cell_type": "code",
   "execution_count": 2,
   "id": "10dec2d8",
   "metadata": {
    "vscode": {
     "languageId": "r"
    }
   },
   "outputs": [],
   "source": [
    "file_path <- \"wage2015_subsample_inference.csv\"\n",
    "data <- read.csv(file_path)\n",
    "data <- na.omit(data)  # Eliminar filas con valores NA"
   ]
  },
  {
   "cell_type": "code",
   "execution_count": 4,
   "id": "80c1e112",
   "metadata": {
    "vscode": {
     "languageId": "r"
    }
   },
   "outputs": [
    {
     "data": {
      "text/html": [
       "<ol class=list-inline>\n",
       "\t<li>0.1</li>\n",
       "\t<li>0.2</li>\n",
       "\t<li>0.3</li>\n",
       "\t<li>0.4</li>\n",
       "\t<li>0.5</li>\n",
       "</ol>\n"
      ],
      "text/latex": [
       "\\begin{enumerate*}\n",
       "\\item 0.1\n",
       "\\item 0.2\n",
       "\\item 0.3\n",
       "\\item 0.4\n",
       "\\item 0.5\n",
       "\\end{enumerate*}\n"
      ],
      "text/markdown": [
       "1. 0.1\n",
       "2. 0.2\n",
       "3. 0.3\n",
       "4. 0.4\n",
       "5. 0.5\n",
       "\n",
       "\n"
      ],
      "text/plain": [
       "[1] 0.1 0.2 0.3 0.4 0.5"
      ]
     },
     "metadata": {},
     "output_type": "display_data"
    }
   ],
   "source": [
    "alphas <- seq(0.1, 0.5, by = 0.1)\n",
    "alphas"
   ]
  },
  {
   "cell_type": "code",
   "execution_count": 5,
   "id": "ad76cb4b",
   "metadata": {
    "vscode": {
     "languageId": "r"
    }
   },
   "outputs": [],
   "source": [
    "partition_indices <- function(indices, kf) {\n",
    "  n <- length(indices)\n",
    "  fold_sizes <- rep(n %/% kf, kf)\n",
    "  remainder <- n %% kf\n",
    "  for (i in 1:remainder) {\n",
    "    fold_sizes[i] <- fold_sizes[i] + 1\n",
    "  }\n",
    "  fold_indices <- list()\n",
    "  start_idx <- 1\n",
    "  for (fold_size in fold_sizes) {\n",
    "    end_idx <- start_idx + fold_size - 1\n",
    "    fold_indices[[length(fold_indices) + 1]] <- indices[start_idx:end_idx]\n",
    "    start_idx <- end_idx + 1\n",
    "  }\n",
    "  return(fold_indices)\n",
    "}\n"
   ]
  },
  {
   "cell_type": "code",
   "execution_count": 6,
   "id": "eef26d5b",
   "metadata": {
    "vscode": {
     "languageId": "r"
    }
   },
   "outputs": [],
   "source": [
    "kf <- 5\n",
    "n <- nrow(data)\n",
    "indices <- sample(1:n) \n",
    "fold_indices <- partition_indices(indices, kf) "
   ]
  },
  {
   "cell_type": "code",
   "execution_count": 7,
   "id": "caee287c",
   "metadata": {
    "vscode": {
     "languageId": "r"
    }
   },
   "outputs": [],
   "source": [
    "lasso_model <- function(X_train, y_train, alpha) {\n",
    "  model <- glmnet(X_train, y_train, alpha = alpha, family = \"gaussian\")\n",
    "  list(coefficients = coef(model), intercept = model$a0)\n",
    "}\n"
   ]
  },
  {
   "cell_type": "code",
   "execution_count": 9,
   "id": "eadbc2ec",
   "metadata": {
    "vscode": {
     "languageId": "r"
    }
   },
   "outputs": [
    {
     "data": {
      "text/html": [
       "<table>\n",
       "<tbody>\n",
       "\t<tr><td>0</td><td>0</td><td>0</td><td>0</td><td>0</td></tr>\n",
       "\t<tr><td>0</td><td>0</td><td>0</td><td>0</td><td>0</td></tr>\n",
       "\t<tr><td>0</td><td>0</td><td>0</td><td>0</td><td>0</td></tr>\n",
       "\t<tr><td>0</td><td>0</td><td>0</td><td>0</td><td>0</td></tr>\n",
       "\t<tr><td>0</td><td>0</td><td>0</td><td>0</td><td>0</td></tr>\n",
       "</tbody>\n",
       "</table>\n"
      ],
      "text/latex": [
       "\\begin{tabular}{lllll}\n",
       "\t 0 & 0 & 0 & 0 & 0\\\\\n",
       "\t 0 & 0 & 0 & 0 & 0\\\\\n",
       "\t 0 & 0 & 0 & 0 & 0\\\\\n",
       "\t 0 & 0 & 0 & 0 & 0\\\\\n",
       "\t 0 & 0 & 0 & 0 & 0\\\\\n",
       "\\end{tabular}\n"
      ],
      "text/markdown": [
       "\n",
       "| 0 | 0 | 0 | 0 | 0 |\n",
       "| 0 | 0 | 0 | 0 | 0 |\n",
       "| 0 | 0 | 0 | 0 | 0 |\n",
       "| 0 | 0 | 0 | 0 | 0 |\n",
       "| 0 | 0 | 0 | 0 | 0 |\n",
       "\n"
      ],
      "text/plain": [
       "     [,1] [,2] [,3] [,4] [,5]\n",
       "[1,] 0    0    0    0    0   \n",
       "[2,] 0    0    0    0    0   \n",
       "[3,] 0    0    0    0    0   \n",
       "[4,] 0    0    0    0    0   \n",
       "[5,] 0    0    0    0    0   "
      ]
     },
     "metadata": {},
     "output_type": "display_data"
    }
   ],
   "source": [
    "mse <- matrix(0, nrow = length(alphas), ncol = kf)\n",
    "mse"
   ]
  },
  {
   "cell_type": "code",
   "execution_count": 10,
   "id": "732144fc",
   "metadata": {
    "vscode": {
     "languageId": "r"
    }
   },
   "outputs": [
    {
     "ename": "ERROR",
     "evalue": "Error in glmnet(X_train, y_train, alpha = alpha, family = \"gaussian\"): no se pudo encontrar la función \"glmnet\"\n",
     "output_type": "error",
     "traceback": [
      "Error in glmnet(X_train, y_train, alpha = alpha, family = \"gaussian\"): no se pudo encontrar la función \"glmnet\"\nTraceback:\n",
      "1. lasso_model(X_train, y_train, alpha)"
     ]
    }
   ],
   "source": [
    "for (i in seq_along(alphas)) {\n",
    "  alpha <- alphas[i]\n",
    "  for (fold in seq_along(fold_indices)) {\n",
    "    val_indices <- fold_indices[[fold]]\n",
    "    train_indices <- setdiff(1:n, val_indices)\n",
    "    X_train <- as.matrix(data[train_indices, 1:ncol(data)-1])\n",
    "    y_train <- as.numeric(data[train_indices, ncol(data)])\n",
    "    X_val <- as.matrix(data[val_indices, 1:ncol(data)-1])\n",
    "    y_val <- as.numeric(data[val_indices, ncol(data)])\n",
    "    \n",
    "    result <- lasso_model(X_train, y_train, alpha)\n",
    "    y_pred <- X_val %*% result$coefficients[-1] + result$intercept\n",
    "    \n",
    "    mse[i, fold] <- mean((y_pred - y_val)^2)\n",
    "  }\n",
    "}\n",
    "\n",
    "avg_mse <- rowMeans(mse)"
   ]
  },
  {
   "cell_type": "code",
   "execution_count": 11,
   "id": "4dd5a5da",
   "metadata": {
    "vscode": {
     "languageId": "r"
    }
   },
   "outputs": [
    {
     "ename": "ERROR",
     "evalue": "Error in which.min(avg_mse): objeto 'avg_mse' no encontrado\n",
     "output_type": "error",
     "traceback": [
      "Error in which.min(avg_mse): objeto 'avg_mse' no encontrado\nTraceback:\n",
      "1. which.min(avg_mse)"
     ]
    }
   ],
   "source": [
    "optimal_alpha <- alphas[which.min(avg_mse)]"
   ]
  },
  {
   "cell_type": "code",
   "execution_count": 12,
   "id": "755c4f80",
   "metadata": {
    "vscode": {
     "languageId": "r"
    }
   },
   "outputs": [
    {
     "ename": "ERROR",
     "evalue": "Error in glmnet(X_train, y_train, alpha = alpha, family = \"gaussian\"): no se pudo encontrar la función \"glmnet\"\n",
     "output_type": "error",
     "traceback": [
      "Error in glmnet(X_train, y_train, alpha = alpha, family = \"gaussian\"): no se pudo encontrar la función \"glmnet\"\nTraceback:\n",
      "1. lasso_model(as.matrix(data[, 1:ncol(data) - 1]), data[, ncol(data)], \n .     optimal_alpha)"
     ]
    }
   ],
   "source": [
    "final_model <- lasso_model(as.matrix(data[, 1:ncol(data)-1]), data[, ncol(data)], optimal_alpha)\n",
    "final_predictions <- as.matrix(data[, 1:ncol(data)-1]) %*% final_model$coefficients[-1] + final_model$intercept\n",
    "final_mse <- mean((data[, ncol(data)] - final_predictions)^2)\n"
   ]
  },
  {
   "cell_type": "code",
   "execution_count": null,
   "id": "0b5b12f1",
   "metadata": {
    "vscode": {
     "languageId": "r"
    }
   },
   "outputs": [],
   "source": []
  }
 ],
 "metadata": {
  "kernelspec": {
   "display_name": "R",
   "language": "R",
   "name": "ir"
  },
  "language_info": {
   "codemirror_mode": "r",
   "file_extension": ".r",
   "mimetype": "text/x-r-source",
   "name": "R",
   "pygments_lexer": "r",
   "version": "3.6.1"
  }
 },
 "nbformat": 4,
 "nbformat_minor": 5
}
