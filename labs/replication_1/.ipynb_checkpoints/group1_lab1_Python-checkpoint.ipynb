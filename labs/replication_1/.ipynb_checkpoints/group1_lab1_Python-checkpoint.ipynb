{
 "cells": [
  {
   "cell_type": "markdown",
   "id": "7e829e69",
   "metadata": {
    "papermill": {
     "duration": 0.018579,
     "end_time": "2021-02-21T17:17:47.809138",
     "exception": false,
     "start_time": "2021-02-21T17:17:47.790559",
     "status": "completed"
    },
    "tags": []
   },
   "source": [
    "# An inferential problem: The Gender Wage Gap"
   ]
  },
  {
   "cell_type": "markdown",
   "id": "341c3651",
   "metadata": {
    "papermill": {
     "duration": 0.018169,
     "end_time": "2021-02-21T17:17:47.921363",
     "exception": false,
     "start_time": "2021-02-21T17:17:47.903194",
     "status": "completed"
    },
    "tags": []
   },
   "source": [
    "## Data analysis"
   ]
  },
  {
   "cell_type": "code",
   "execution_count": 18,
   "id": "3a8d67cc",
   "metadata": {
    "hide_input": true,
    "scrolled": true
   },
   "outputs": [],
   "source": [
    "import pandas as pd\n",
    "import numpy as np\n",
    "import pyreadr as rr # package to use data form R format\n",
    "import math"
   ]
  },
  {
   "cell_type": "code",
   "execution_count": 19,
   "id": "7405b0bb",
   "metadata": {},
   "outputs": [],
   "source": [
    "#!pip install pyreadr==0.4.2"
   ]
  },
  {
   "cell_type": "code",
   "execution_count": 20,
   "id": "ac96f8de",
   "metadata": {
    "scrolled": true
   },
   "outputs": [
    {
     "data": {
      "text/html": [
       "<div>\n",
       "<style scoped>\n",
       "    .dataframe tbody tr th:only-of-type {\n",
       "        vertical-align: middle;\n",
       "    }\n",
       "\n",
       "    .dataframe tbody tr th {\n",
       "        vertical-align: top;\n",
       "    }\n",
       "\n",
       "    .dataframe thead th {\n",
       "        text-align: right;\n",
       "    }\n",
       "</style>\n",
       "<table border=\"1\" class=\"dataframe\">\n",
       "  <thead>\n",
       "    <tr style=\"text-align: right;\">\n",
       "      <th></th>\n",
       "      <th>rownames</th>\n",
       "      <th>wage</th>\n",
       "      <th>lwage</th>\n",
       "      <th>sex</th>\n",
       "      <th>shs</th>\n",
       "      <th>hsg</th>\n",
       "      <th>scl</th>\n",
       "      <th>clg</th>\n",
       "      <th>ad</th>\n",
       "      <th>mw</th>\n",
       "      <th>...</th>\n",
       "      <th>we</th>\n",
       "      <th>ne</th>\n",
       "      <th>exp1</th>\n",
       "      <th>exp2</th>\n",
       "      <th>exp3</th>\n",
       "      <th>exp4</th>\n",
       "      <th>occ</th>\n",
       "      <th>occ2</th>\n",
       "      <th>ind</th>\n",
       "      <th>ind2</th>\n",
       "    </tr>\n",
       "  </thead>\n",
       "  <tbody>\n",
       "    <tr>\n",
       "      <th>0</th>\n",
       "      <td>10</td>\n",
       "      <td>9.615385</td>\n",
       "      <td>2.263364</td>\n",
       "      <td>1.0</td>\n",
       "      <td>0.0</td>\n",
       "      <td>0.0</td>\n",
       "      <td>0.0</td>\n",
       "      <td>1.0</td>\n",
       "      <td>0.0</td>\n",
       "      <td>0.0</td>\n",
       "      <td>...</td>\n",
       "      <td>0.0</td>\n",
       "      <td>1.0</td>\n",
       "      <td>7.0</td>\n",
       "      <td>0.49</td>\n",
       "      <td>0.343</td>\n",
       "      <td>0.2401</td>\n",
       "      <td>3600.0</td>\n",
       "      <td>11</td>\n",
       "      <td>8370.0</td>\n",
       "      <td>18</td>\n",
       "    </tr>\n",
       "    <tr>\n",
       "      <th>1</th>\n",
       "      <td>12</td>\n",
       "      <td>48.076923</td>\n",
       "      <td>3.872802</td>\n",
       "      <td>0.0</td>\n",
       "      <td>0.0</td>\n",
       "      <td>0.0</td>\n",
       "      <td>0.0</td>\n",
       "      <td>1.0</td>\n",
       "      <td>0.0</td>\n",
       "      <td>0.0</td>\n",
       "      <td>...</td>\n",
       "      <td>0.0</td>\n",
       "      <td>1.0</td>\n",
       "      <td>31.0</td>\n",
       "      <td>9.61</td>\n",
       "      <td>29.791</td>\n",
       "      <td>92.3521</td>\n",
       "      <td>3050.0</td>\n",
       "      <td>10</td>\n",
       "      <td>5070.0</td>\n",
       "      <td>9</td>\n",
       "    </tr>\n",
       "    <tr>\n",
       "      <th>2</th>\n",
       "      <td>15</td>\n",
       "      <td>11.057692</td>\n",
       "      <td>2.403126</td>\n",
       "      <td>0.0</td>\n",
       "      <td>0.0</td>\n",
       "      <td>1.0</td>\n",
       "      <td>0.0</td>\n",
       "      <td>0.0</td>\n",
       "      <td>0.0</td>\n",
       "      <td>0.0</td>\n",
       "      <td>...</td>\n",
       "      <td>0.0</td>\n",
       "      <td>1.0</td>\n",
       "      <td>18.0</td>\n",
       "      <td>3.24</td>\n",
       "      <td>5.832</td>\n",
       "      <td>10.4976</td>\n",
       "      <td>6260.0</td>\n",
       "      <td>19</td>\n",
       "      <td>770.0</td>\n",
       "      <td>4</td>\n",
       "    </tr>\n",
       "    <tr>\n",
       "      <th>3</th>\n",
       "      <td>18</td>\n",
       "      <td>13.942308</td>\n",
       "      <td>2.634928</td>\n",
       "      <td>1.0</td>\n",
       "      <td>0.0</td>\n",
       "      <td>0.0</td>\n",
       "      <td>0.0</td>\n",
       "      <td>0.0</td>\n",
       "      <td>1.0</td>\n",
       "      <td>0.0</td>\n",
       "      <td>...</td>\n",
       "      <td>0.0</td>\n",
       "      <td>1.0</td>\n",
       "      <td>25.0</td>\n",
       "      <td>6.25</td>\n",
       "      <td>15.625</td>\n",
       "      <td>39.0625</td>\n",
       "      <td>420.0</td>\n",
       "      <td>1</td>\n",
       "      <td>6990.0</td>\n",
       "      <td>12</td>\n",
       "    </tr>\n",
       "    <tr>\n",
       "      <th>4</th>\n",
       "      <td>19</td>\n",
       "      <td>28.846154</td>\n",
       "      <td>3.361977</td>\n",
       "      <td>1.0</td>\n",
       "      <td>0.0</td>\n",
       "      <td>0.0</td>\n",
       "      <td>0.0</td>\n",
       "      <td>1.0</td>\n",
       "      <td>0.0</td>\n",
       "      <td>0.0</td>\n",
       "      <td>...</td>\n",
       "      <td>0.0</td>\n",
       "      <td>1.0</td>\n",
       "      <td>22.0</td>\n",
       "      <td>4.84</td>\n",
       "      <td>10.648</td>\n",
       "      <td>23.4256</td>\n",
       "      <td>2015.0</td>\n",
       "      <td>6</td>\n",
       "      <td>9470.0</td>\n",
       "      <td>22</td>\n",
       "    </tr>\n",
       "    <tr>\n",
       "      <th>...</th>\n",
       "      <td>...</td>\n",
       "      <td>...</td>\n",
       "      <td>...</td>\n",
       "      <td>...</td>\n",
       "      <td>...</td>\n",
       "      <td>...</td>\n",
       "      <td>...</td>\n",
       "      <td>...</td>\n",
       "      <td>...</td>\n",
       "      <td>...</td>\n",
       "      <td>...</td>\n",
       "      <td>...</td>\n",
       "      <td>...</td>\n",
       "      <td>...</td>\n",
       "      <td>...</td>\n",
       "      <td>...</td>\n",
       "      <td>...</td>\n",
       "      <td>...</td>\n",
       "      <td>...</td>\n",
       "      <td>...</td>\n",
       "      <td>...</td>\n",
       "    </tr>\n",
       "    <tr>\n",
       "      <th>5145</th>\n",
       "      <td>32620</td>\n",
       "      <td>14.769231</td>\n",
       "      <td>2.692546</td>\n",
       "      <td>0.0</td>\n",
       "      <td>0.0</td>\n",
       "      <td>0.0</td>\n",
       "      <td>0.0</td>\n",
       "      <td>1.0</td>\n",
       "      <td>0.0</td>\n",
       "      <td>0.0</td>\n",
       "      <td>...</td>\n",
       "      <td>1.0</td>\n",
       "      <td>0.0</td>\n",
       "      <td>9.0</td>\n",
       "      <td>0.81</td>\n",
       "      <td>0.729</td>\n",
       "      <td>0.6561</td>\n",
       "      <td>4700.0</td>\n",
       "      <td>16</td>\n",
       "      <td>4970.0</td>\n",
       "      <td>9</td>\n",
       "    </tr>\n",
       "    <tr>\n",
       "      <th>5146</th>\n",
       "      <td>32624</td>\n",
       "      <td>23.076923</td>\n",
       "      <td>3.138833</td>\n",
       "      <td>1.0</td>\n",
       "      <td>0.0</td>\n",
       "      <td>0.0</td>\n",
       "      <td>1.0</td>\n",
       "      <td>0.0</td>\n",
       "      <td>0.0</td>\n",
       "      <td>0.0</td>\n",
       "      <td>...</td>\n",
       "      <td>1.0</td>\n",
       "      <td>0.0</td>\n",
       "      <td>12.0</td>\n",
       "      <td>1.44</td>\n",
       "      <td>1.728</td>\n",
       "      <td>2.0736</td>\n",
       "      <td>4110.0</td>\n",
       "      <td>13</td>\n",
       "      <td>8680.0</td>\n",
       "      <td>20</td>\n",
       "    </tr>\n",
       "    <tr>\n",
       "      <th>5147</th>\n",
       "      <td>32626</td>\n",
       "      <td>38.461538</td>\n",
       "      <td>3.649659</td>\n",
       "      <td>0.0</td>\n",
       "      <td>0.0</td>\n",
       "      <td>0.0</td>\n",
       "      <td>0.0</td>\n",
       "      <td>0.0</td>\n",
       "      <td>1.0</td>\n",
       "      <td>0.0</td>\n",
       "      <td>...</td>\n",
       "      <td>1.0</td>\n",
       "      <td>0.0</td>\n",
       "      <td>11.0</td>\n",
       "      <td>1.21</td>\n",
       "      <td>1.331</td>\n",
       "      <td>1.4641</td>\n",
       "      <td>1550.0</td>\n",
       "      <td>4</td>\n",
       "      <td>3680.0</td>\n",
       "      <td>6</td>\n",
       "    </tr>\n",
       "    <tr>\n",
       "      <th>5148</th>\n",
       "      <td>32631</td>\n",
       "      <td>32.967033</td>\n",
       "      <td>3.495508</td>\n",
       "      <td>0.0</td>\n",
       "      <td>0.0</td>\n",
       "      <td>1.0</td>\n",
       "      <td>0.0</td>\n",
       "      <td>0.0</td>\n",
       "      <td>0.0</td>\n",
       "      <td>0.0</td>\n",
       "      <td>...</td>\n",
       "      <td>1.0</td>\n",
       "      <td>0.0</td>\n",
       "      <td>10.0</td>\n",
       "      <td>1.00</td>\n",
       "      <td>1.000</td>\n",
       "      <td>1.0000</td>\n",
       "      <td>2920.0</td>\n",
       "      <td>9</td>\n",
       "      <td>6570.0</td>\n",
       "      <td>11</td>\n",
       "    </tr>\n",
       "    <tr>\n",
       "      <th>5149</th>\n",
       "      <td>32643</td>\n",
       "      <td>17.307692</td>\n",
       "      <td>2.851151</td>\n",
       "      <td>0.0</td>\n",
       "      <td>0.0</td>\n",
       "      <td>0.0</td>\n",
       "      <td>0.0</td>\n",
       "      <td>0.0</td>\n",
       "      <td>1.0</td>\n",
       "      <td>0.0</td>\n",
       "      <td>...</td>\n",
       "      <td>1.0</td>\n",
       "      <td>0.0</td>\n",
       "      <td>14.0</td>\n",
       "      <td>1.96</td>\n",
       "      <td>2.744</td>\n",
       "      <td>3.8416</td>\n",
       "      <td>1610.0</td>\n",
       "      <td>5</td>\n",
       "      <td>7460.0</td>\n",
       "      <td>14</td>\n",
       "    </tr>\n",
       "  </tbody>\n",
       "</table>\n",
       "<p>5150 rows × 21 columns</p>\n",
       "</div>"
      ],
      "text/plain": [
       "      rownames       wage     lwage  sex  shs  hsg  scl  clg   ad   mw  ...  \\\n",
       "0           10   9.615385  2.263364  1.0  0.0  0.0  0.0  1.0  0.0  0.0  ...   \n",
       "1           12  48.076923  3.872802  0.0  0.0  0.0  0.0  1.0  0.0  0.0  ...   \n",
       "2           15  11.057692  2.403126  0.0  0.0  1.0  0.0  0.0  0.0  0.0  ...   \n",
       "3           18  13.942308  2.634928  1.0  0.0  0.0  0.0  0.0  1.0  0.0  ...   \n",
       "4           19  28.846154  3.361977  1.0  0.0  0.0  0.0  1.0  0.0  0.0  ...   \n",
       "...        ...        ...       ...  ...  ...  ...  ...  ...  ...  ...  ...   \n",
       "5145     32620  14.769231  2.692546  0.0  0.0  0.0  0.0  1.0  0.0  0.0  ...   \n",
       "5146     32624  23.076923  3.138833  1.0  0.0  0.0  1.0  0.0  0.0  0.0  ...   \n",
       "5147     32626  38.461538  3.649659  0.0  0.0  0.0  0.0  0.0  1.0  0.0  ...   \n",
       "5148     32631  32.967033  3.495508  0.0  0.0  1.0  0.0  0.0  0.0  0.0  ...   \n",
       "5149     32643  17.307692  2.851151  0.0  0.0  0.0  0.0  0.0  1.0  0.0  ...   \n",
       "\n",
       "       we   ne  exp1  exp2    exp3     exp4     occ occ2     ind ind2  \n",
       "0     0.0  1.0   7.0  0.49   0.343   0.2401  3600.0   11  8370.0   18  \n",
       "1     0.0  1.0  31.0  9.61  29.791  92.3521  3050.0   10  5070.0    9  \n",
       "2     0.0  1.0  18.0  3.24   5.832  10.4976  6260.0   19   770.0    4  \n",
       "3     0.0  1.0  25.0  6.25  15.625  39.0625   420.0    1  6990.0   12  \n",
       "4     0.0  1.0  22.0  4.84  10.648  23.4256  2015.0    6  9470.0   22  \n",
       "...   ...  ...   ...   ...     ...      ...     ...  ...     ...  ...  \n",
       "5145  1.0  0.0   9.0  0.81   0.729   0.6561  4700.0   16  4970.0    9  \n",
       "5146  1.0  0.0  12.0  1.44   1.728   2.0736  4110.0   13  8680.0   20  \n",
       "5147  1.0  0.0  11.0  1.21   1.331   1.4641  1550.0    4  3680.0    6  \n",
       "5148  1.0  0.0  10.0  1.00   1.000   1.0000  2920.0    9  6570.0   11  \n",
       "5149  1.0  0.0  14.0  1.96   2.744   3.8416  1610.0    5  7460.0   14  \n",
       "\n",
       "[5150 rows x 21 columns]"
      ]
     },
     "execution_count": 20,
     "metadata": {},
     "output_type": "execute_result"
    }
   ],
   "source": [
    "#rdata_read = pyreadr.read_r(\"../../data/wage2015_subsample_inference.Rdata\")\n",
    "\n",
    "data  = pd.read_csv(r'../../data/wage2015_subsample_inference.csv')\n",
    "\n",
    "# Extracting the data frame from rdata_read\n",
    "#data = rdata_read[ 'data' ]\n",
    "data['occ']=pd.Categorical(data.occ)\n",
    "data['occ2']=pd.Categorical(data.occ2)\n",
    "data['ind']=pd.Categorical(data.ind)\n",
    "data['ind2']=pd.Categorical(data.ind2)\n",
    "\n",
    "data"
   ]
  },
  {
   "cell_type": "code",
   "execution_count": 21,
   "id": "4f6df84a",
   "metadata": {
    "scrolled": true
   },
   "outputs": [
    {
     "data": {
      "text/plain": [
       "(5150, 21)"
      ]
     },
     "execution_count": 21,
     "metadata": {},
     "output_type": "execute_result"
    }
   ],
   "source": [
    "data.shape"
   ]
  },
  {
   "cell_type": "code",
   "execution_count": 22,
   "id": "f673c0b4",
   "metadata": {},
   "outputs": [
    {
     "name": "stdout",
     "output_type": "stream",
     "text": [
      "<class 'pandas.core.frame.DataFrame'>\n",
      "RangeIndex: 5150 entries, 0 to 5149\n",
      "Data columns (total 21 columns):\n",
      " #   Column    Non-Null Count  Dtype   \n",
      "---  ------    --------------  -----   \n",
      " 0   rownames  5150 non-null   int64   \n",
      " 1   wage      5150 non-null   float64 \n",
      " 2   lwage     5150 non-null   float64 \n",
      " 3   sex       5150 non-null   float64 \n",
      " 4   shs       5150 non-null   float64 \n",
      " 5   hsg       5150 non-null   float64 \n",
      " 6   scl       5150 non-null   float64 \n",
      " 7   clg       5150 non-null   float64 \n",
      " 8   ad        5150 non-null   float64 \n",
      " 9   mw        5150 non-null   float64 \n",
      " 10  so        5150 non-null   float64 \n",
      " 11  we        5150 non-null   float64 \n",
      " 12  ne        5150 non-null   float64 \n",
      " 13  exp1      5150 non-null   float64 \n",
      " 14  exp2      5150 non-null   float64 \n",
      " 15  exp3      5150 non-null   float64 \n",
      " 16  exp4      5150 non-null   float64 \n",
      " 17  occ       5150 non-null   category\n",
      " 18  occ2      5150 non-null   category\n",
      " 19  ind       5150 non-null   category\n",
      " 20  ind2      5150 non-null   category\n",
      "dtypes: category(4), float64(16), int64(1)\n",
      "memory usage: 736.5 KB\n"
     ]
    }
   ],
   "source": [
    "data.info()"
   ]
  },
  {
   "cell_type": "markdown",
   "id": "aad65b36",
   "metadata": {},
   "source": [
    "***Variable description***\n",
    "\n",
    "- occ : occupational classification\n",
    "- ind : industry classification\n",
    "- lwage : log hourly wage\n",
    "- sex : gender (1 female) (0 male)\n",
    "- shs : some high school\n",
    "- hsg : High school graduated\n",
    "- scl : Some College\n",
    "- clg: College Graduate\n",
    "- ad: Advanced Degree\n",
    "- ne: Northeast\n",
    "- mw: Midwest\n",
    "- so: South\n",
    "- we: West\n",
    "- exp1: experience"
   ]
  },
  {
   "cell_type": "markdown",
   "id": "135af855",
   "metadata": {},
   "source": [
    "In this case, we Focus on the subset of college-advanced-educated workers. he analysis should be analogous to what we’ve presented – explaining basic, control and partialling out model, generating point estimates and standard errors."
   ]
  },
  {
   "cell_type": "code",
   "execution_count": 23,
   "id": "f44722ae",
   "metadata": {},
   "outputs": [
    {
     "data": {
      "text/html": [
       "<div>\n",
       "<style scoped>\n",
       "    .dataframe tbody tr th:only-of-type {\n",
       "        vertical-align: middle;\n",
       "    }\n",
       "\n",
       "    .dataframe tbody tr th {\n",
       "        vertical-align: top;\n",
       "    }\n",
       "\n",
       "    .dataframe thead th {\n",
       "        text-align: right;\n",
       "    }\n",
       "</style>\n",
       "<table border=\"1\" class=\"dataframe\">\n",
       "  <thead>\n",
       "    <tr style=\"text-align: right;\">\n",
       "      <th></th>\n",
       "      <th>rownames</th>\n",
       "      <th>wage</th>\n",
       "      <th>lwage</th>\n",
       "      <th>sex</th>\n",
       "      <th>shs</th>\n",
       "      <th>hsg</th>\n",
       "      <th>scl</th>\n",
       "      <th>clg</th>\n",
       "      <th>ad</th>\n",
       "      <th>mw</th>\n",
       "      <th>...</th>\n",
       "      <th>we</th>\n",
       "      <th>ne</th>\n",
       "      <th>exp1</th>\n",
       "      <th>exp2</th>\n",
       "      <th>exp3</th>\n",
       "      <th>exp4</th>\n",
       "      <th>occ</th>\n",
       "      <th>occ2</th>\n",
       "      <th>ind</th>\n",
       "      <th>ind2</th>\n",
       "    </tr>\n",
       "  </thead>\n",
       "  <tbody>\n",
       "    <tr>\n",
       "      <th>0</th>\n",
       "      <td>10</td>\n",
       "      <td>9.615385</td>\n",
       "      <td>2.263364</td>\n",
       "      <td>1.0</td>\n",
       "      <td>0.0</td>\n",
       "      <td>0.0</td>\n",
       "      <td>0.0</td>\n",
       "      <td>1.0</td>\n",
       "      <td>0.0</td>\n",
       "      <td>0.0</td>\n",
       "      <td>...</td>\n",
       "      <td>0.0</td>\n",
       "      <td>1.0</td>\n",
       "      <td>7.0</td>\n",
       "      <td>0.49</td>\n",
       "      <td>0.343</td>\n",
       "      <td>0.2401</td>\n",
       "      <td>3600.0</td>\n",
       "      <td>11</td>\n",
       "      <td>8370.0</td>\n",
       "      <td>18</td>\n",
       "    </tr>\n",
       "    <tr>\n",
       "      <th>1</th>\n",
       "      <td>12</td>\n",
       "      <td>48.076923</td>\n",
       "      <td>3.872802</td>\n",
       "      <td>0.0</td>\n",
       "      <td>0.0</td>\n",
       "      <td>0.0</td>\n",
       "      <td>0.0</td>\n",
       "      <td>1.0</td>\n",
       "      <td>0.0</td>\n",
       "      <td>0.0</td>\n",
       "      <td>...</td>\n",
       "      <td>0.0</td>\n",
       "      <td>1.0</td>\n",
       "      <td>31.0</td>\n",
       "      <td>9.61</td>\n",
       "      <td>29.791</td>\n",
       "      <td>92.3521</td>\n",
       "      <td>3050.0</td>\n",
       "      <td>10</td>\n",
       "      <td>5070.0</td>\n",
       "      <td>9</td>\n",
       "    </tr>\n",
       "    <tr>\n",
       "      <th>3</th>\n",
       "      <td>18</td>\n",
       "      <td>13.942308</td>\n",
       "      <td>2.634928</td>\n",
       "      <td>1.0</td>\n",
       "      <td>0.0</td>\n",
       "      <td>0.0</td>\n",
       "      <td>0.0</td>\n",
       "      <td>0.0</td>\n",
       "      <td>1.0</td>\n",
       "      <td>0.0</td>\n",
       "      <td>...</td>\n",
       "      <td>0.0</td>\n",
       "      <td>1.0</td>\n",
       "      <td>25.0</td>\n",
       "      <td>6.25</td>\n",
       "      <td>15.625</td>\n",
       "      <td>39.0625</td>\n",
       "      <td>420.0</td>\n",
       "      <td>1</td>\n",
       "      <td>6990.0</td>\n",
       "      <td>12</td>\n",
       "    </tr>\n",
       "    <tr>\n",
       "      <th>4</th>\n",
       "      <td>19</td>\n",
       "      <td>28.846154</td>\n",
       "      <td>3.361977</td>\n",
       "      <td>1.0</td>\n",
       "      <td>0.0</td>\n",
       "      <td>0.0</td>\n",
       "      <td>0.0</td>\n",
       "      <td>1.0</td>\n",
       "      <td>0.0</td>\n",
       "      <td>0.0</td>\n",
       "      <td>...</td>\n",
       "      <td>0.0</td>\n",
       "      <td>1.0</td>\n",
       "      <td>22.0</td>\n",
       "      <td>4.84</td>\n",
       "      <td>10.648</td>\n",
       "      <td>23.4256</td>\n",
       "      <td>2015.0</td>\n",
       "      <td>6</td>\n",
       "      <td>9470.0</td>\n",
       "      <td>22</td>\n",
       "    </tr>\n",
       "    <tr>\n",
       "      <th>5</th>\n",
       "      <td>30</td>\n",
       "      <td>11.730769</td>\n",
       "      <td>2.462215</td>\n",
       "      <td>1.0</td>\n",
       "      <td>0.0</td>\n",
       "      <td>0.0</td>\n",
       "      <td>0.0</td>\n",
       "      <td>1.0</td>\n",
       "      <td>0.0</td>\n",
       "      <td>0.0</td>\n",
       "      <td>...</td>\n",
       "      <td>0.0</td>\n",
       "      <td>1.0</td>\n",
       "      <td>1.0</td>\n",
       "      <td>0.01</td>\n",
       "      <td>0.001</td>\n",
       "      <td>0.0001</td>\n",
       "      <td>1650.0</td>\n",
       "      <td>5</td>\n",
       "      <td>7460.0</td>\n",
       "      <td>14</td>\n",
       "    </tr>\n",
       "    <tr>\n",
       "      <th>...</th>\n",
       "      <td>...</td>\n",
       "      <td>...</td>\n",
       "      <td>...</td>\n",
       "      <td>...</td>\n",
       "      <td>...</td>\n",
       "      <td>...</td>\n",
       "      <td>...</td>\n",
       "      <td>...</td>\n",
       "      <td>...</td>\n",
       "      <td>...</td>\n",
       "      <td>...</td>\n",
       "      <td>...</td>\n",
       "      <td>...</td>\n",
       "      <td>...</td>\n",
       "      <td>...</td>\n",
       "      <td>...</td>\n",
       "      <td>...</td>\n",
       "      <td>...</td>\n",
       "      <td>...</td>\n",
       "      <td>...</td>\n",
       "      <td>...</td>\n",
       "    </tr>\n",
       "    <tr>\n",
       "      <th>5144</th>\n",
       "      <td>32619</td>\n",
       "      <td>13.846154</td>\n",
       "      <td>2.628007</td>\n",
       "      <td>0.0</td>\n",
       "      <td>0.0</td>\n",
       "      <td>0.0</td>\n",
       "      <td>0.0</td>\n",
       "      <td>1.0</td>\n",
       "      <td>0.0</td>\n",
       "      <td>0.0</td>\n",
       "      <td>...</td>\n",
       "      <td>1.0</td>\n",
       "      <td>0.0</td>\n",
       "      <td>10.0</td>\n",
       "      <td>1.00</td>\n",
       "      <td>1.000</td>\n",
       "      <td>1.0000</td>\n",
       "      <td>800.0</td>\n",
       "      <td>2</td>\n",
       "      <td>770.0</td>\n",
       "      <td>4</td>\n",
       "    </tr>\n",
       "    <tr>\n",
       "      <th>5145</th>\n",
       "      <td>32620</td>\n",
       "      <td>14.769231</td>\n",
       "      <td>2.692546</td>\n",
       "      <td>0.0</td>\n",
       "      <td>0.0</td>\n",
       "      <td>0.0</td>\n",
       "      <td>0.0</td>\n",
       "      <td>1.0</td>\n",
       "      <td>0.0</td>\n",
       "      <td>0.0</td>\n",
       "      <td>...</td>\n",
       "      <td>1.0</td>\n",
       "      <td>0.0</td>\n",
       "      <td>9.0</td>\n",
       "      <td>0.81</td>\n",
       "      <td>0.729</td>\n",
       "      <td>0.6561</td>\n",
       "      <td>4700.0</td>\n",
       "      <td>16</td>\n",
       "      <td>4970.0</td>\n",
       "      <td>9</td>\n",
       "    </tr>\n",
       "    <tr>\n",
       "      <th>5146</th>\n",
       "      <td>32624</td>\n",
       "      <td>23.076923</td>\n",
       "      <td>3.138833</td>\n",
       "      <td>1.0</td>\n",
       "      <td>0.0</td>\n",
       "      <td>0.0</td>\n",
       "      <td>1.0</td>\n",
       "      <td>0.0</td>\n",
       "      <td>0.0</td>\n",
       "      <td>0.0</td>\n",
       "      <td>...</td>\n",
       "      <td>1.0</td>\n",
       "      <td>0.0</td>\n",
       "      <td>12.0</td>\n",
       "      <td>1.44</td>\n",
       "      <td>1.728</td>\n",
       "      <td>2.0736</td>\n",
       "      <td>4110.0</td>\n",
       "      <td>13</td>\n",
       "      <td>8680.0</td>\n",
       "      <td>20</td>\n",
       "    </tr>\n",
       "    <tr>\n",
       "      <th>5147</th>\n",
       "      <td>32626</td>\n",
       "      <td>38.461538</td>\n",
       "      <td>3.649659</td>\n",
       "      <td>0.0</td>\n",
       "      <td>0.0</td>\n",
       "      <td>0.0</td>\n",
       "      <td>0.0</td>\n",
       "      <td>0.0</td>\n",
       "      <td>1.0</td>\n",
       "      <td>0.0</td>\n",
       "      <td>...</td>\n",
       "      <td>1.0</td>\n",
       "      <td>0.0</td>\n",
       "      <td>11.0</td>\n",
       "      <td>1.21</td>\n",
       "      <td>1.331</td>\n",
       "      <td>1.4641</td>\n",
       "      <td>1550.0</td>\n",
       "      <td>4</td>\n",
       "      <td>3680.0</td>\n",
       "      <td>6</td>\n",
       "    </tr>\n",
       "    <tr>\n",
       "      <th>5149</th>\n",
       "      <td>32643</td>\n",
       "      <td>17.307692</td>\n",
       "      <td>2.851151</td>\n",
       "      <td>0.0</td>\n",
       "      <td>0.0</td>\n",
       "      <td>0.0</td>\n",
       "      <td>0.0</td>\n",
       "      <td>0.0</td>\n",
       "      <td>1.0</td>\n",
       "      <td>0.0</td>\n",
       "      <td>...</td>\n",
       "      <td>1.0</td>\n",
       "      <td>0.0</td>\n",
       "      <td>14.0</td>\n",
       "      <td>1.96</td>\n",
       "      <td>2.744</td>\n",
       "      <td>3.8416</td>\n",
       "      <td>1610.0</td>\n",
       "      <td>5</td>\n",
       "      <td>7460.0</td>\n",
       "      <td>14</td>\n",
       "    </tr>\n",
       "  </tbody>\n",
       "</table>\n",
       "<p>3774 rows × 21 columns</p>\n",
       "</div>"
      ],
      "text/plain": [
       "      rownames       wage     lwage  sex  shs  hsg  scl  clg   ad   mw  ...  \\\n",
       "0           10   9.615385  2.263364  1.0  0.0  0.0  0.0  1.0  0.0  0.0  ...   \n",
       "1           12  48.076923  3.872802  0.0  0.0  0.0  0.0  1.0  0.0  0.0  ...   \n",
       "3           18  13.942308  2.634928  1.0  0.0  0.0  0.0  0.0  1.0  0.0  ...   \n",
       "4           19  28.846154  3.361977  1.0  0.0  0.0  0.0  1.0  0.0  0.0  ...   \n",
       "5           30  11.730769  2.462215  1.0  0.0  0.0  0.0  1.0  0.0  0.0  ...   \n",
       "...        ...        ...       ...  ...  ...  ...  ...  ...  ...  ...  ...   \n",
       "5144     32619  13.846154  2.628007  0.0  0.0  0.0  0.0  1.0  0.0  0.0  ...   \n",
       "5145     32620  14.769231  2.692546  0.0  0.0  0.0  0.0  1.0  0.0  0.0  ...   \n",
       "5146     32624  23.076923  3.138833  1.0  0.0  0.0  1.0  0.0  0.0  0.0  ...   \n",
       "5147     32626  38.461538  3.649659  0.0  0.0  0.0  0.0  0.0  1.0  0.0  ...   \n",
       "5149     32643  17.307692  2.851151  0.0  0.0  0.0  0.0  0.0  1.0  0.0  ...   \n",
       "\n",
       "       we   ne  exp1  exp2    exp3     exp4     occ occ2     ind ind2  \n",
       "0     0.0  1.0   7.0  0.49   0.343   0.2401  3600.0   11  8370.0   18  \n",
       "1     0.0  1.0  31.0  9.61  29.791  92.3521  3050.0   10  5070.0    9  \n",
       "3     0.0  1.0  25.0  6.25  15.625  39.0625   420.0    1  6990.0   12  \n",
       "4     0.0  1.0  22.0  4.84  10.648  23.4256  2015.0    6  9470.0   22  \n",
       "5     0.0  1.0   1.0  0.01   0.001   0.0001  1650.0    5  7460.0   14  \n",
       "...   ...  ...   ...   ...     ...      ...     ...  ...     ...  ...  \n",
       "5144  1.0  0.0  10.0  1.00   1.000   1.0000   800.0    2   770.0    4  \n",
       "5145  1.0  0.0   9.0  0.81   0.729   0.6561  4700.0   16  4970.0    9  \n",
       "5146  1.0  0.0  12.0  1.44   1.728   2.0736  4110.0   13  8680.0   20  \n",
       "5147  1.0  0.0  11.0  1.21   1.331   1.4641  1550.0    4  3680.0    6  \n",
       "5149  1.0  0.0  14.0  1.96   2.744   3.8416  1610.0    5  7460.0   14  \n",
       "\n",
       "[3774 rows x 21 columns]"
      ]
     },
     "execution_count": 23,
     "metadata": {},
     "output_type": "execute_result"
    }
   ],
   "source": [
    "data = data[(data.scl == 1) | (data.ad == 1) | (data.clg == 1)]\n",
    "data"
   ]
  },
  {
   "cell_type": "code",
   "execution_count": 24,
   "id": "a9e82254",
   "metadata": {},
   "outputs": [
    {
     "data": {
      "text/plain": [
       "(3774, 21)"
      ]
     },
     "execution_count": 24,
     "metadata": {},
     "output_type": "execute_result"
    }
   ],
   "source": [
    "data.shape"
   ]
  },
  {
   "cell_type": "markdown",
   "id": "a9f652de",
   "metadata": {
    "papermill": {
     "duration": 0.020145,
     "end_time": "2021-02-21T17:17:48.235598",
     "exception": false,
     "start_time": "2021-02-21T17:17:48.215453",
     "status": "completed"
    },
    "tags": []
   },
   "source": [
    "To start our (causal) analysis, we compare the sample means given gender:"
   ]
  },
  {
   "cell_type": "code",
   "execution_count": 25,
   "id": "63bfa857",
   "metadata": {
    "scrolled": true
   },
   "outputs": [
    {
     "data": {
      "text/html": [
       "<div>\n",
       "<style scoped>\n",
       "    .dataframe tbody tr th:only-of-type {\n",
       "        vertical-align: middle;\n",
       "    }\n",
       "\n",
       "    .dataframe tbody tr th {\n",
       "        vertical-align: top;\n",
       "    }\n",
       "\n",
       "    .dataframe thead th {\n",
       "        text-align: right;\n",
       "    }\n",
       "</style>\n",
       "<table border=\"1\" class=\"dataframe\">\n",
       "  <thead>\n",
       "    <tr style=\"text-align: right;\">\n",
       "      <th></th>\n",
       "      <th>All</th>\n",
       "      <th>Men</th>\n",
       "      <th>Women</th>\n",
       "    </tr>\n",
       "  </thead>\n",
       "  <tbody>\n",
       "    <tr>\n",
       "      <th>Log Wage</th>\n",
       "      <td>3.062748</td>\n",
       "      <td>3.099449</td>\n",
       "      <td>3.024417</td>\n",
       "    </tr>\n",
       "    <tr>\n",
       "      <th>Sex</th>\n",
       "      <td>0.489136</td>\n",
       "      <td>0.000000</td>\n",
       "      <td>1.000000</td>\n",
       "    </tr>\n",
       "    <tr>\n",
       "      <th>Some High School</th>\n",
       "      <td>0.000000</td>\n",
       "      <td>0.000000</td>\n",
       "      <td>0.000000</td>\n",
       "    </tr>\n",
       "    <tr>\n",
       "      <th>High School Graduate</th>\n",
       "      <td>0.000000</td>\n",
       "      <td>0.000000</td>\n",
       "      <td>0.000000</td>\n",
       "    </tr>\n",
       "    <tr>\n",
       "      <th>Some College</th>\n",
       "      <td>0.379438</td>\n",
       "      <td>0.405602</td>\n",
       "      <td>0.352113</td>\n",
       "    </tr>\n",
       "    <tr>\n",
       "      <th>Gollage Graduate</th>\n",
       "      <td>0.433492</td>\n",
       "      <td>0.436203</td>\n",
       "      <td>0.430661</td>\n",
       "    </tr>\n",
       "    <tr>\n",
       "      <th>Advanced Degree</th>\n",
       "      <td>0.187069</td>\n",
       "      <td>0.158195</td>\n",
       "      <td>0.217226</td>\n",
       "    </tr>\n",
       "    <tr>\n",
       "      <th>Northeast</th>\n",
       "      <td>0.229200</td>\n",
       "      <td>0.219917</td>\n",
       "      <td>0.238895</td>\n",
       "    </tr>\n",
       "    <tr>\n",
       "      <th>Midwest</th>\n",
       "      <td>0.249868</td>\n",
       "      <td>0.245851</td>\n",
       "      <td>0.254063</td>\n",
       "    </tr>\n",
       "    <tr>\n",
       "      <th>South</th>\n",
       "      <td>0.298357</td>\n",
       "      <td>0.303423</td>\n",
       "      <td>0.293066</td>\n",
       "    </tr>\n",
       "    <tr>\n",
       "      <th>West</th>\n",
       "      <td>0.222576</td>\n",
       "      <td>0.230809</td>\n",
       "      <td>0.213976</td>\n",
       "    </tr>\n",
       "    <tr>\n",
       "      <th>Experience</th>\n",
       "      <td>12.510201</td>\n",
       "      <td>12.202282</td>\n",
       "      <td>12.831798</td>\n",
       "    </tr>\n",
       "  </tbody>\n",
       "</table>\n",
       "</div>"
      ],
      "text/plain": [
       "                            All        Men      Women\n",
       "Log Wage               3.062748   3.099449   3.024417\n",
       "Sex                    0.489136   0.000000   1.000000\n",
       "Some High School       0.000000   0.000000   0.000000\n",
       "High School Graduate   0.000000   0.000000   0.000000\n",
       "Some College           0.379438   0.405602   0.352113\n",
       "Gollage Graduate       0.433492   0.436203   0.430661\n",
       "Advanced Degree        0.187069   0.158195   0.217226\n",
       "Northeast              0.229200   0.219917   0.238895\n",
       "Midwest                0.249868   0.245851   0.254063\n",
       "South                  0.298357   0.303423   0.293066\n",
       "West                   0.222576   0.230809   0.213976\n",
       "Experience            12.510201  12.202282  12.831798"
      ]
     },
     "execution_count": 25,
     "metadata": {},
     "output_type": "execute_result"
    }
   ],
   "source": [
    "Z = data[ [\"lwage\",\"sex\",\"shs\",\"hsg\",\"scl\",\"clg\",\"ad\",\"ne\",\"mw\",\"so\",\"we\",\"exp1\"] ]\n",
    "\n",
    "data_female = data[data[ 'sex' ] == 1 ]\n",
    "Z_female = data_female[ [\"lwage\",\"sex\",\"shs\",\"hsg\",\"scl\",\"clg\",\"ad\",\"ne\",\"mw\",\"so\",\"we\",\"exp1\"] ]\n",
    "\n",
    "data_male = data[ data[ 'sex' ] == 0 ]\n",
    "Z_male = data_male[ [ \"lwage\",\"sex\",\"shs\",\"hsg\",\"scl\",\"clg\",\"ad\",\"ne\",\"mw\",\"so\",\"we\",\"exp1\" ] ]\n",
    "\n",
    "\n",
    "table = np.zeros( (12, 3) )\n",
    "table[:, 0] = Z.mean().values\n",
    "table[:, 1] = Z_male.mean().values\n",
    "table[:, 2] = Z_female.mean().values\n",
    "table_pandas = pd.DataFrame( table, columns = [ 'All', 'Men', 'Women']) # from table to dataframe\n",
    "table_pandas.index = [\"Log Wage\",\"Sex\",\"Some High School\",\"High School Graduate\",\"Some College\",\"Gollage Graduate\",\"Advanced Degree\", \"Northeast\",\"Midwest\",\"South\",\"West\",\"Experience\"]\n",
    "table_html = table_pandas.to_html() # html format\n",
    "\n",
    "table_pandas"
   ]
  },
  {
   "cell_type": "code",
   "execution_count": 26,
   "id": "97c7dbe8",
   "metadata": {},
   "outputs": [
    {
     "name": "stdout",
     "output_type": "stream",
     "text": [
      "<table border=\"1\" class=\"dataframe\">\n",
      "  <thead>\n",
      "    <tr style=\"text-align: right;\">\n",
      "      <th></th>\n",
      "      <th>All</th>\n",
      "      <th>Men</th>\n",
      "      <th>Women</th>\n",
      "    </tr>\n",
      "  </thead>\n",
      "  <tbody>\n",
      "    <tr>\n",
      "      <th>Log Wage</th>\n",
      "      <td>3.062748</td>\n",
      "      <td>3.099449</td>\n",
      "      <td>3.024417</td>\n",
      "    </tr>\n",
      "    <tr>\n",
      "      <th>Sex</th>\n",
      "      <td>0.489136</td>\n",
      "      <td>0.000000</td>\n",
      "      <td>1.000000</td>\n",
      "    </tr>\n",
      "    <tr>\n",
      "      <th>Some High School</th>\n",
      "      <td>0.000000</td>\n",
      "      <td>0.000000</td>\n",
      "      <td>0.000000</td>\n",
      "    </tr>\n",
      "    <tr>\n",
      "      <th>High School Graduate</th>\n",
      "      <td>0.000000</td>\n",
      "      <td>0.000000</td>\n",
      "      <td>0.000000</td>\n",
      "    </tr>\n",
      "    <tr>\n",
      "      <th>Some College</th>\n",
      "      <td>0.379438</td>\n",
      "      <td>0.405602</td>\n",
      "      <td>0.352113</td>\n",
      "    </tr>\n",
      "    <tr>\n",
      "      <th>Gollage Graduate</th>\n",
      "      <td>0.433492</td>\n",
      "      <td>0.436203</td>\n",
      "      <td>0.430661</td>\n",
      "    </tr>\n",
      "    <tr>\n",
      "      <th>Advanced Degree</th>\n",
      "      <td>0.187069</td>\n",
      "      <td>0.158195</td>\n",
      "      <td>0.217226</td>\n",
      "    </tr>\n",
      "    <tr>\n",
      "      <th>Northeast</th>\n",
      "      <td>0.229200</td>\n",
      "      <td>0.219917</td>\n",
      "      <td>0.238895</td>\n",
      "    </tr>\n",
      "    <tr>\n",
      "      <th>Midwest</th>\n",
      "      <td>0.249868</td>\n",
      "      <td>0.245851</td>\n",
      "      <td>0.254063</td>\n",
      "    </tr>\n",
      "    <tr>\n",
      "      <th>South</th>\n",
      "      <td>0.298357</td>\n",
      "      <td>0.303423</td>\n",
      "      <td>0.293066</td>\n",
      "    </tr>\n",
      "    <tr>\n",
      "      <th>West</th>\n",
      "      <td>0.222576</td>\n",
      "      <td>0.230809</td>\n",
      "      <td>0.213976</td>\n",
      "    </tr>\n",
      "    <tr>\n",
      "      <th>Experience</th>\n",
      "      <td>12.510201</td>\n",
      "      <td>12.202282</td>\n",
      "      <td>12.831798</td>\n",
      "    </tr>\n",
      "  </tbody>\n",
      "</table>\n"
     ]
    }
   ],
   "source": [
    "print( table_html )"
   ]
  },
  {
   "cell_type": "markdown",
   "id": "870b70b3",
   "metadata": {
    "papermill": {
     "duration": 0.020634,
     "end_time": "2021-02-21T17:17:48.532828",
     "exception": false,
     "start_time": "2021-02-21T17:17:48.512194",
     "status": "completed"
    },
    "tags": []
   },
   "source": [
    "In particular, the table above shows that the difference in average logwage between men and women is equal to  0,075"
   ]
  },
  {
   "cell_type": "code",
   "execution_count": 27,
   "id": "0808bf26",
   "metadata": {
    "scrolled": true
   },
   "outputs": [
    {
     "data": {
      "text/plain": [
       "-0.07503200512595809"
      ]
     },
     "execution_count": 27,
     "metadata": {},
     "output_type": "execute_result"
    }
   ],
   "source": [
    "data_female['lwage'].mean()- data_male['lwage'].mean()"
   ]
  },
  {
   "cell_type": "markdown",
   "id": "32b7c945",
   "metadata": {
    "papermill": {
     "duration": 0.022161,
     "end_time": "2021-02-21T17:17:48.635417",
     "exception": false,
     "start_time": "2021-02-21T17:17:48.613256",
     "status": "completed"
    },
    "tags": []
   },
   "source": [
    "Thus, the unconditional gender wage gap is about 7.5% for the group of never married workers (women get paid less on average in our sample). We also observe that never married working women are relatively more educated than working men and have lower working experience."
   ]
  },
  {
   "cell_type": "code",
   "execution_count": 28,
   "id": "04f59847",
   "metadata": {},
   "outputs": [
    {
     "data": {
      "text/plain": [
       "(5150, 20)"
      ]
     },
     "execution_count": 28,
     "metadata": {},
     "output_type": "execute_result"
    }
   ],
   "source": [
    "rdata_read = rr.read_r(r\"../../data/wage2015_subsample_inference.Rdata\")\n",
    "\n",
    "\n",
    "# Extracting the data frame from rdata_read\n",
    "data = rdata_read[ 'data' ]\n",
    "\n",
    "\n",
    "data.shape"
   ]
  },
  {
   "cell_type": "markdown",
   "id": "051d9804",
   "metadata": {
    "papermill": {
     "duration": 0.02073,
     "end_time": "2021-02-21T17:17:48.677447",
     "exception": false,
     "start_time": "2021-02-21T17:17:48.656717",
     "status": "completed"
    },
    "tags": []
   },
   "source": [
    "This unconditional (predictive) effect of gender equals the coefficient $\\beta$ in the univariate ols regression of $Y$ on $D$:\n",
    "\n",
    "\\begin{align}\n",
    "\\log(Y) &=\\beta D + \\epsilon.\n",
    "\\end{align}"
   ]
  },
  {
   "cell_type": "markdown",
   "id": "50ecda80",
   "metadata": {
    "papermill": {
     "duration": 0.020929,
     "end_time": "2021-02-21T17:17:48.718630",
     "exception": false,
     "start_time": "2021-02-21T17:17:48.697701",
     "status": "completed"
    },
    "tags": []
   },
   "source": [
    "We verify this by running an ols regression in R."
   ]
  },
  {
   "cell_type": "code",
   "execution_count": 29,
   "id": "42f05970",
   "metadata": {},
   "outputs": [
    {
     "name": "stdout",
     "output_type": "stream",
     "text": [
      "Requirement already satisfied: statsmodels in c:\\users\\josue\\anaconda3\\lib\\site-packages (0.14.0)\n",
      "Requirement already satisfied: numpy>=1.18 in c:\\users\\josue\\anaconda3\\lib\\site-packages (from statsmodels) (1.26.4)\n",
      "Requirement already satisfied: scipy!=1.9.2,>=1.4 in c:\\users\\josue\\anaconda3\\lib\\site-packages (from statsmodels) (1.11.4)\n",
      "Requirement already satisfied: pandas>=1.0 in c:\\users\\josue\\anaconda3\\lib\\site-packages (from statsmodels) (2.1.4)\n",
      "Requirement already satisfied: patsy>=0.5.2 in c:\\users\\josue\\anaconda3\\lib\\site-packages (from statsmodels) (0.5.3)\n",
      "Requirement already satisfied: packaging>=21.3 in c:\\users\\josue\\anaconda3\\lib\\site-packages (from statsmodels) (23.1)\n",
      "Requirement already satisfied: python-dateutil>=2.8.2 in c:\\users\\josue\\anaconda3\\lib\\site-packages (from pandas>=1.0->statsmodels) (2.8.2)\n",
      "Requirement already satisfied: pytz>=2020.1 in c:\\users\\josue\\anaconda3\\lib\\site-packages (from pandas>=1.0->statsmodels) (2023.3.post1)\n",
      "Requirement already satisfied: tzdata>=2022.1 in c:\\users\\josue\\anaconda3\\lib\\site-packages (from pandas>=1.0->statsmodels) (2023.3)\n",
      "Requirement already satisfied: six in c:\\users\\josue\\anaconda3\\lib\\site-packages (from patsy>=0.5.2->statsmodels) (1.16.0)\n",
      "Note: you may need to restart the kernel to use updated packages.\n"
     ]
    }
   ],
   "source": [
    "pip install statsmodels"
   ]
  },
  {
   "cell_type": "code",
   "execution_count": 30,
   "id": "9d94a1e5",
   "metadata": {
    "hide_input": true
   },
   "outputs": [],
   "source": [
    "import statsmodels.api as sm\n",
    "import statsmodels.formula.api as smf"
   ]
  },
  {
   "cell_type": "code",
   "execution_count": 31,
   "id": "c1828275",
   "metadata": {
    "scrolled": true
   },
   "outputs": [
    {
     "name": "stdout",
     "output_type": "stream",
     "text": [
      "The estimated gender coefficient is -0.038344733674414475 and the corresponding standard error is 0.01598782551943061\n",
      "The estimated gender coefficient is -0.038344733674414475 and the corresponding robust standard error is 0.015901935079095878 \n",
      "\n"
     ]
    },
    {
     "data": {
      "text/html": [
       "<div>\n",
       "<style scoped>\n",
       "    .dataframe tbody tr th:only-of-type {\n",
       "        vertical-align: middle;\n",
       "    }\n",
       "\n",
       "    .dataframe tbody tr th {\n",
       "        vertical-align: top;\n",
       "    }\n",
       "\n",
       "    .dataframe thead th {\n",
       "        text-align: right;\n",
       "    }\n",
       "</style>\n",
       "<table border=\"1\" class=\"dataframe\">\n",
       "  <thead>\n",
       "    <tr style=\"text-align: right;\">\n",
       "      <th></th>\n",
       "      <th>0</th>\n",
       "      <th>1</th>\n",
       "    </tr>\n",
       "  </thead>\n",
       "  <tbody>\n",
       "    <tr>\n",
       "      <th>sex</th>\n",
       "      <td>-0.069688</td>\n",
       "      <td>-0.007002</td>\n",
       "    </tr>\n",
       "  </tbody>\n",
       "</table>\n",
       "</div>"
      ],
      "text/plain": [
       "            0         1\n",
       "sex -0.069688 -0.007002"
      ]
     },
     "execution_count": 31,
     "metadata": {},
     "output_type": "execute_result"
    }
   ],
   "source": [
    "nocontrol_model = smf.ols( formula = 'lwage ~ sex', data = data )\n",
    "nocontrol_est = nocontrol_model.fit().summary2().tables[1]['Coef.']['sex']\n",
    "nocontrol_est\n",
    "nocontrol_se2 = nocontrol_model.fit().summary2().tables[1]['Std.Err.']['sex']\n",
    "\n",
    "\n",
    "# robust standar erros\n",
    "HCV_coefs = nocontrol_model.fit().cov_HC0\n",
    "nocontrol_se = np.power( HCV_coefs.diagonal() , 0.5)[1]\n",
    "nocontrol_se\n",
    "\n",
    "# print unconditional effect of gender and the corresponding standard error\n",
    "\n",
    "print( f'The estimated gender coefficient is {nocontrol_est} and the corresponding standard error is {nocontrol_se2}' )\n",
    "print( f'The estimated gender coefficient is {nocontrol_est} and the corresponding robust standard error is {nocontrol_se}','\\n' )\n",
    "\n",
    "\n",
    "# confidence interval\n",
    "nocontrol_model.fit().conf_int( alpha=0.05 ).loc[['sex']]\n"
   ]
  },
  {
   "cell_type": "markdown",
   "id": "2080d8e8",
   "metadata": {
    "papermill": {
     "duration": 0.02196,
     "end_time": "2021-02-21T17:17:48.991015",
     "exception": false,
     "start_time": "2021-02-21T17:17:48.969055",
     "status": "completed"
    },
    "tags": []
   },
   "source": [
    "Note that the standard error is computed with the *R* package *sandwich* to be robust to heteroskedasticity. \n"
   ]
  },
  {
   "cell_type": "markdown",
   "id": "3e9839a3",
   "metadata": {
    "papermill": {
     "duration": 0.021605,
     "end_time": "2021-02-21T17:17:49.034485",
     "exception": false,
     "start_time": "2021-02-21T17:17:49.012880",
     "status": "completed"
    },
    "tags": []
   },
   "source": [
    "Next, we run an ols regression of $Y$ on $(D,W)$ to control for the effect of covariates summarized in $W$:\n",
    "\n",
    "\\begin{align}\n",
    "\\log(Y) &=\\beta_1 D  + \\beta_2' W + \\epsilon.\n",
    "\\end{align}\n",
    "\n",
    "Here, we are considering the flexible model from the previous lab. Hence, $W$ controls for experience, education, region, and occupation and industry indicators plus transformations and two-way interactions."
   ]
  },
  {
   "cell_type": "markdown",
   "id": "d891c5e1",
   "metadata": {
    "papermill": {
     "duration": 0.021109,
     "end_time": "2021-02-21T17:17:49.076809",
     "exception": false,
     "start_time": "2021-02-21T17:17:49.055700",
     "status": "completed"
    },
    "tags": []
   },
   "source": [
    "Let us run the ols regression with controls."
   ]
  },
  {
   "cell_type": "markdown",
   "id": "f6a90cf0",
   "metadata": {},
   "source": [
    "## Ols regression with controls"
   ]
  },
  {
   "cell_type": "code",
   "execution_count": 32,
   "id": "c840bc6c",
   "metadata": {},
   "outputs": [
    {
     "name": "stdout",
     "output_type": "stream",
     "text": [
      "               Coef.  Std.Err.          t         P>|t|    [0.025    0.975]\n",
      "Intercept   3.279677  0.284196  11.540202  2.037819e-30  2.722526  3.836828\n",
      "occ2[T.10]  0.020954  0.156498   0.133896  8.934903e-01 -0.285852  0.327761\n",
      "occ2[T.11] -0.642418  0.309090  -2.078417  3.772286e-02 -1.248372 -0.036463\n",
      "occ2[T.12] -0.067477  0.252049  -0.267716  7.889294e-01 -0.561605  0.426651\n",
      "occ2[T.13] -0.232978  0.231538  -1.006220  3.143593e-01 -0.686896  0.220940\n",
      "...              ...       ...        ...           ...       ...       ...\n",
      "exp4:scl    0.021076  0.024529   0.859230  3.902557e-01 -0.027012  0.069164\n",
      "exp4:clg    0.007869  0.022753   0.345868  7.294565e-01 -0.036736  0.052475\n",
      "exp4:mw     0.006244  0.015870   0.393446  6.940073e-01 -0.024868  0.037356\n",
      "exp4:so     0.000314  0.013628   0.023075  9.815913e-01 -0.026402  0.027031\n",
      "exp4:we     0.001768  0.015960   0.110804  9.117763e-01 -0.029521  0.033058\n",
      "\n",
      "[246 rows x 6 columns]\n",
      "Coefficient for OLS with controls -0.06955320329683837 and the corresponding robust standard error is 0.015000474421753432\n"
     ]
    },
    {
     "data": {
      "text/html": [
       "<div>\n",
       "<style scoped>\n",
       "    .dataframe tbody tr th:only-of-type {\n",
       "        vertical-align: middle;\n",
       "    }\n",
       "\n",
       "    .dataframe tbody tr th {\n",
       "        vertical-align: top;\n",
       "    }\n",
       "\n",
       "    .dataframe thead th {\n",
       "        text-align: right;\n",
       "    }\n",
       "</style>\n",
       "<table border=\"1\" class=\"dataframe\">\n",
       "  <thead>\n",
       "    <tr style=\"text-align: right;\">\n",
       "      <th></th>\n",
       "      <th>0</th>\n",
       "      <th>1</th>\n",
       "    </tr>\n",
       "  </thead>\n",
       "  <tbody>\n",
       "    <tr>\n",
       "      <th>sex</th>\n",
       "      <td>-0.099387</td>\n",
       "      <td>-0.039719</td>\n",
       "    </tr>\n",
       "  </tbody>\n",
       "</table>\n",
       "</div>"
      ],
      "text/plain": [
       "            0         1\n",
       "sex -0.099387 -0.039719"
      ]
     },
     "execution_count": 32,
     "metadata": {},
     "output_type": "execute_result"
    }
   ],
   "source": [
    "flex = 'lwage ~ sex + (exp1+exp2+exp3+exp4)*(shs+hsg+scl+clg+occ2+ind2+mw+so+we)'\n",
    "\n",
    "# The smf api replicates R script when it transform data\n",
    "control_model = smf.ols( formula = flex, data = data )\n",
    "control_est = control_model.fit().summary2().tables[1]['Coef.']['sex']\n",
    "\n",
    "print(control_model.fit().summary2().tables[1])\n",
    "\n",
    "HCV_coefs = control_model.fit().cov_HC0\n",
    "control_se = np.power( HCV_coefs.diagonal() , 0.5)[42]  # error standard for sex's coefficients \n",
    "\n",
    "control_se\n",
    "\n",
    "print( f\"Coefficient for OLS with controls {control_est} and the corresponding robust standard error is {control_se}\" )\n",
    "\n",
    "# confidence interval\n",
    "control_model.fit().conf_int( alpha=0.05 ).loc[['sex']]\n"
   ]
  },
  {
   "cell_type": "code",
   "execution_count": 33,
   "id": "d1611bab",
   "metadata": {
    "scrolled": true
   },
   "outputs": [
    {
     "data": {
      "text/plain": [
       "<statsmodels.regression.linear_model.OLS at 0x1e6554b8490>"
      ]
     },
     "execution_count": 33,
     "metadata": {},
     "output_type": "execute_result"
    }
   ],
   "source": [
    "control_model "
   ]
  },
  {
   "cell_type": "markdown",
   "id": "dffdb6b7",
   "metadata": {
    "papermill": {
     "duration": 0.040523,
     "end_time": "2021-02-21T17:17:49.873210",
     "exception": false,
     "start_time": "2021-02-21T17:17:49.832687",
     "status": "completed"
    },
    "tags": []
   },
   "source": [
    "The estimated regression coefficient  𝛽1≈−0.0676 measures how our linear prediction of wage changes if we set the gender variable  𝐷 from 0 to 1, holding the controls  𝑊 fixed. We can call this the predictive effect (PE), as it measures the impact of a variable on the prediction we make. Overall, we see that the unconditional wage gap of size  8 % for women decreases to about  7\n",
    " % after controlling for worker characteristics.\n"
   ]
  },
  {
   "cell_type": "markdown",
   "id": "5881563e",
   "metadata": {
    "papermill": {
     "duration": 0.023222,
     "end_time": "2021-02-21T17:17:49.931749",
     "exception": false,
     "start_time": "2021-02-21T17:17:49.908527",
     "status": "completed"
    },
    "tags": []
   },
   "source": [
    "Next, we are using the Frisch-Waugh-Lovell theorem from the lecture partialling-out the linear effect of the controls via ols."
   ]
  },
  {
   "cell_type": "markdown",
   "id": "6e9ed949",
   "metadata": {},
   "source": [
    "## Partialling-Out using ols"
   ]
  },
  {
   "cell_type": "code",
   "execution_count": 34,
   "id": "5691be6d",
   "metadata": {},
   "outputs": [
    {
     "name": "stdout",
     "output_type": "stream",
     "text": [
      "Coefficient for D via partialling-out -0.06955320329684601 and the corresponding robust standard error is 0.01500047442175337\n"
     ]
    },
    {
     "data": {
      "text/html": [
       "<div>\n",
       "<style scoped>\n",
       "    .dataframe tbody tr th:only-of-type {\n",
       "        vertical-align: middle;\n",
       "    }\n",
       "\n",
       "    .dataframe tbody tr th {\n",
       "        vertical-align: top;\n",
       "    }\n",
       "\n",
       "    .dataframe thead th {\n",
       "        text-align: right;\n",
       "    }\n",
       "</style>\n",
       "<table border=\"1\" class=\"dataframe\">\n",
       "  <thead>\n",
       "    <tr style=\"text-align: right;\">\n",
       "      <th></th>\n",
       "      <th>0</th>\n",
       "      <th>1</th>\n",
       "    </tr>\n",
       "  </thead>\n",
       "  <tbody>\n",
       "    <tr>\n",
       "      <th>t_D</th>\n",
       "      <td>-0.098671</td>\n",
       "      <td>-0.040435</td>\n",
       "    </tr>\n",
       "  </tbody>\n",
       "</table>\n",
       "</div>"
      ],
      "text/plain": [
       "            0         1\n",
       "t_D -0.098671 -0.040435"
      ]
     },
     "execution_count": 34,
     "metadata": {},
     "output_type": "execute_result"
    }
   ],
   "source": [
    "# models\n",
    "# model for Y\n",
    "flex_y = 'lwage ~  (exp1+exp2+exp3+exp4)*(shs+hsg+scl+clg+occ2+ind2+mw+so+we)'\n",
    "# model for D\n",
    "flex_d = 'sex ~ (exp1+exp2+exp3+exp4)*(shs+hsg+scl+clg+occ2+ind2+mw+so+we)' \n",
    "\n",
    "# partialling-out the linear effect of W from Y\n",
    "t_Y = smf.ols( formula = flex_y , data = data ).fit().resid\n",
    "\n",
    "# partialling-out the linear effect of W from D\n",
    "t_D = smf.ols( formula = flex_d , data = data ).fit().resid\n",
    "\n",
    "\n",
    "data_res = pd.DataFrame( np.vstack(( t_Y.values , t_D.values )).T , columns = [ 't_Y', 't_D' ] )\n",
    "\n",
    "\n",
    "# regression of Y on D after partialling-out the effect of W\n",
    "partial_fit =  smf.ols( formula = 't_Y ~ t_D' , data = data_res ).fit()\n",
    "partial_est = partial_fit.summary2().tables[1]['Coef.']['t_D']\n",
    "\n",
    "\n",
    "# standard error\n",
    "HCV_coefs = partial_fit.cov_HC0\n",
    "partial_se = np.power( HCV_coefs.diagonal() , 0.5)[1]\n",
    "\n",
    "print( f\"Coefficient for D via partialling-out {partial_est} and the corresponding robust standard error is {partial_se}\" )\n",
    "\n",
    "# confidence interval\n",
    "partial_fit.conf_int( alpha=0.05 ).loc[['t_D']]\n"
   ]
  },
  {
   "cell_type": "code",
   "execution_count": 35,
   "id": "f1296ac7",
   "metadata": {},
   "outputs": [
    {
     "data": {
      "text/html": [
       "<div>\n",
       "<style scoped>\n",
       "    .dataframe tbody tr th:only-of-type {\n",
       "        vertical-align: middle;\n",
       "    }\n",
       "\n",
       "    .dataframe tbody tr th {\n",
       "        vertical-align: top;\n",
       "    }\n",
       "\n",
       "    .dataframe thead th {\n",
       "        text-align: right;\n",
       "    }\n",
       "</style>\n",
       "<table border=\"1\" class=\"dataframe\">\n",
       "  <thead>\n",
       "    <tr style=\"text-align: right;\">\n",
       "      <th></th>\n",
       "      <th>t_Y</th>\n",
       "      <th>t_D</th>\n",
       "    </tr>\n",
       "  </thead>\n",
       "  <tbody>\n",
       "    <tr>\n",
       "      <th>0</th>\n",
       "      <td>-0.567731</td>\n",
       "      <td>0.105742</td>\n",
       "    </tr>\n",
       "    <tr>\n",
       "      <th>1</th>\n",
       "      <td>0.404602</td>\n",
       "      <td>-0.569249</td>\n",
       "    </tr>\n",
       "    <tr>\n",
       "      <th>2</th>\n",
       "      <td>-0.481643</td>\n",
       "      <td>-0.045516</td>\n",
       "    </tr>\n",
       "    <tr>\n",
       "      <th>3</th>\n",
       "      <td>-1.074180</td>\n",
       "      <td>0.400720</td>\n",
       "    </tr>\n",
       "    <tr>\n",
       "      <th>4</th>\n",
       "      <td>0.097208</td>\n",
       "      <td>0.312384</td>\n",
       "    </tr>\n",
       "    <tr>\n",
       "      <th>...</th>\n",
       "      <td>...</td>\n",
       "      <td>...</td>\n",
       "    </tr>\n",
       "    <tr>\n",
       "      <th>5145</th>\n",
       "      <td>-0.262079</td>\n",
       "      <td>-0.409648</td>\n",
       "    </tr>\n",
       "    <tr>\n",
       "      <th>5146</th>\n",
       "      <td>0.582018</td>\n",
       "      <td>0.547954</td>\n",
       "    </tr>\n",
       "    <tr>\n",
       "      <th>5147</th>\n",
       "      <td>-0.001855</td>\n",
       "      <td>0.035117</td>\n",
       "    </tr>\n",
       "    <tr>\n",
       "      <th>5148</th>\n",
       "      <td>0.387129</td>\n",
       "      <td>-0.309997</td>\n",
       "    </tr>\n",
       "    <tr>\n",
       "      <th>5149</th>\n",
       "      <td>-0.772313</td>\n",
       "      <td>-0.471559</td>\n",
       "    </tr>\n",
       "  </tbody>\n",
       "</table>\n",
       "<p>5150 rows × 2 columns</p>\n",
       "</div>"
      ],
      "text/plain": [
       "           t_Y       t_D\n",
       "0    -0.567731  0.105742\n",
       "1     0.404602 -0.569249\n",
       "2    -0.481643 -0.045516\n",
       "3    -1.074180  0.400720\n",
       "4     0.097208  0.312384\n",
       "...        ...       ...\n",
       "5145 -0.262079 -0.409648\n",
       "5146  0.582018  0.547954\n",
       "5147 -0.001855  0.035117\n",
       "5148  0.387129 -0.309997\n",
       "5149 -0.772313 -0.471559\n",
       "\n",
       "[5150 rows x 2 columns]"
      ]
     },
     "execution_count": 35,
     "metadata": {},
     "output_type": "execute_result"
    }
   ],
   "source": [
    "#np.vstack(( t_Y.values , t_D.values )).T\n",
    "\n",
    "data_res = pd.DataFrame( np.vstack(( t_Y.values , t_D.values )).T , columns = [ 't_Y', 't_D' ] )\n",
    "data_res"
   ]
  },
  {
   "cell_type": "markdown",
   "id": "2bce3c43",
   "metadata": {
    "papermill": {
     "duration": 0.023907,
     "end_time": "2021-02-21T17:17:50.458203",
     "exception": false,
     "start_time": "2021-02-21T17:17:50.434296",
     "status": "completed"
    },
    "tags": []
   },
   "source": [
    "Again, the estimated coefficient measures the linear predictive effect (PE) of $D$ on $Y$ after taking out the linear effect of $W$ on both of these variables. This coefficient equals the estimated coefficient from the ols regression with controls."
   ]
  },
  {
   "cell_type": "markdown",
   "id": "b868fcc5",
   "metadata": {
    "papermill": {
     "duration": 0.024507,
     "end_time": "2021-02-21T17:17:50.507023",
     "exception": false,
     "start_time": "2021-02-21T17:17:50.482516",
     "status": "completed"
    },
    "tags": []
   },
   "source": [
    "We know that the partialling-out approach works well when the dimension of $W$ is low\n",
    "in relation to the sample size $n$. When the dimension of $W$ is relatively high, we need to use variable selection\n",
    "or penalization for regularization purposes. \n"
   ]
  },
  {
   "cell_type": "markdown",
   "id": "6bd04e37",
   "metadata": {},
   "source": [
    "Use appropiate plots (i.e hist, barplots, scatter plots , pie plots, etc) to describe main varaibles (wage, log-wage, sex, some college, college graduate, avdanced degree, Experience)"
   ]
  },
  {
   "cell_type": "code",
   "execution_count": 36,
   "id": "c8a92c6f",
   "metadata": {},
   "outputs": [],
   "source": [
    "import numpy as np\n",
    "import pandas as pd\n",
    "from pandas import Series, DataFrame\n",
    "import matplotlib.pyplot as plt\n",
    "import seaborn as sns\n",
    "import datetime as dt"
   ]
  },
  {
   "cell_type": "code",
   "execution_count": 37,
   "id": "0effeead",
   "metadata": {},
   "outputs": [
    {
     "data": {
      "text/plain": [
       "Text(0, 0.5, 'Logaritmo del salario por hora')"
      ]
     },
     "execution_count": 37,
     "metadata": {},
     "output_type": "execute_result"
    },
    {
     "data": {
      "image/png": "[encoded data removed]",
      "text/plain": [
       "<Figure size 1000x600 with 1 Axes>"
      ]
     },
     "metadata": {},
     "output_type": "display_data"
    }
   ],
   "source": [
    "fig, ax = plt.subplots(figsize=(10,6))\n",
    "\n",
    "box = sns.boxplot(x=\"sex\", y=\"lwage\", data=data ,palette='pastel')\n",
    "plt.xlabel('Sexo')\n",
    "plt.ylabel('Logaritmo del salario por hora')\n",
    "\n",
    "# The real wage quartiles are increasing with the educational level.\n",
    "# Lower salary dispersion for the postgraduate level. pastel"
   ]
  },
  {
   "cell_type": "markdown",
   "id": "b88ddb89",
   "metadata": {},
   "source": [
    "El promedio del logaritmo del salario es mayor para los hombres que para las mujeres"
   ]
  },
  {
   "cell_type": "code",
   "execution_count": 38,
   "id": "b81d1392",
   "metadata": {},
   "outputs": [
    {
     "data": {
      "image/png": "[encoded data removed]",
      "text/plain": [
       "<Figure size 800x600 with 1 Axes>"
      ]
     },
     "metadata": {},
     "output_type": "display_data"
    }
   ],
   "source": [
    "data['wage'].plot(kind = 'hist', bins = 50, figsize = (8,6))\n",
    "plt.title('Salario por hora')\n",
    "\n",
    "txt=\"Elaboración propia\"  \n",
    "plt.figtext(0.5, 0.01, txt, wrap=True, horizontalalignment='center', fontsize=12)\n",
    "plt.xlim(0, 150)\n",
    "plt.show()"
   ]
  },
  {
   "cell_type": "markdown",
   "id": "2bd5371b",
   "metadata": {},
   "source": [
    "El salario por hora mas frecuente es el de 20 y hay una distribucion con cola a la izquierda. El salario mas alto es el de 130."
   ]
  },
  {
   "cell_type": "markdown",
   "id": "be3ce1e4",
   "metadata": {},
   "source": [
    "Para las mujeres, "
   ]
  },
  {
   "cell_type": "code",
   "execution_count": 39,
   "id": "3580dce1",
   "metadata": {},
   "outputs": [
    {
     "data": {
      "text/plain": [
       "<Axes: xlabel='exp1', ylabel='lwage'>"
      ]
     },
     "execution_count": 39,
     "metadata": {},
     "output_type": "execute_result"
    },
    {
     "data": {
      "image/png": "[encoded data removed]",
      "text/plain": [
       "<Figure size 640x480 with 1 Axes>"
      ]
     },
     "metadata": {},
     "output_type": "display_data"
    }
   ],
   "source": [
    "sns.regplot(data=data, x=\"exp1\", y=\"lwage\", x_bins=np.arange(0, 40, 5), order=1)"
   ]
  },
  {
   "cell_type": "code",
   "execution_count": 40,
   "id": "c22780e9",
   "metadata": {
    "scrolled": true
   },
   "outputs": [],
   "source": [
    "#A mas anos de experiencia, las personas consiguen un mayor salario."
   ]
  },
  {
   "cell_type": "code",
   "execution_count": null,
   "id": "69b9f64c",
   "metadata": {
    "scrolled": true
   },
   "outputs": [],
   "source": [
    "sns.set_style(\"white\")\n",
    "gridobj = sns.lmplot(x=\"exp1\", y=\"lwage\", \n",
    "                     data=data, \n",
    "                     height=7, \n",
    "                     robust=True, \n",
    "                     palette='Set1', \n",
    "                     col=\"sex\",\n",
    "                     scatter_kws=dict(s=60, linewidths=0.7, edgecolors='black'))\n",
    "\n",
    "gridobj.set(xlim=(0, 80), ylim=(0, 10))\n",
    "plt.show()"
   ]
  },
  {
   "cell_type": "markdown",
   "id": "22b28e5d",
   "metadata": {},
   "source": [
    "A simple vista, se ve que la experiencia impacta positivamente en el salario. Pero, en las mujeres ese efecto es menor que en los hombres debido a las brechas de genero persistentes en el mercado laboral."
   ]
  },
  {
   "cell_type": "markdown",
   "id": "8ee29fa1",
   "metadata": {},
   "source": [
    "Plot the confidence Interval of sex's coefficient for a different models (basic, control, and partially out). All three coefficients must be in one figure. Explain what you find."
   ]
  },
  {
   "cell_type": "code",
   "execution_count": null,
   "id": "e5c9ce22",
   "metadata": {},
   "outputs": [],
   "source": [
    "coef_df = pd.DataFrame({\n",
    "    'coef': [nocontrol_est, control_est, partial_est],\n",
    "    'err': [nocontrol_se2, control_se, partial_se],\n",
    "    'varname': ['No control', 'Con controles', 'Parcialmente fuera']\n",
    "})\n",
    "\n",
    "# Reorganizar las columnas\n",
    "coef_df = coef_df[['coef', 'err', 'varname']]\n",
    "\n",
    "# Mostrar el dataframe\n",
    "print(coef_df)\n",
    "\n",
    "fig, ax = plt.subplots(figsize=(8, 3))\n",
    "coef_df.plot(x='varname', y='coef', kind='bar', \n",
    "             ax=ax, color='none', \n",
    "             yerr='err', legend=False)\n",
    "ax.set_ylabel('')\n",
    "ax.set_xlabel('')\n",
    "ax.scatter(x=pd.np.arange(coef_df.shape[0]), \n",
    "           marker='s', s=120, \n",
    "           y=coef_df['coef'], color='black')\n",
    "ax.axhline(y=0, linestyle='--', color='black', linewidth=4)\n",
    "ax.xaxis.set_ticks_position('none')\n",
    "_ = ax.set_xticklabels(['No control', 'Con controles', 'Parcialmente fuera'], \n",
    "                       rotation=0, fontsize=16)\n"
   ]
  },
  {
   "cell_type": "markdown",
   "id": "2ec33db4",
   "metadata": {},
   "source": [
    "Los coeficientes son mayores para los modelos de Con controles y parcialmente fuera, cuando se restringe la muestra para las personas con educacion avanzada. Asimismo, el error se minimiza cuandos ewe usan los dos ultimos mnodelos, por lo que el intervalo de confianza es menor."
   ]
  },
  {
   "cell_type": "markdown",
   "id": "db29b141",
   "metadata": {},
   "source": [
    "You will also include a replication of the next figure for both groups, female and male.You will have only two plotted lines (Actual/Predicted(fitted)) for these College-educated workers. You have to create two separate figures, one for female and one for male. Could you explain the different patterns that you find?"
   ]
  },
  {
   "cell_type": "code",
   "execution_count": null,
   "id": "4830714c",
   "metadata": {},
   "outputs": [],
   "source": [
    "# In[ ]:\n",
    "\n",
    "\n",
    "\n",
    "\n",
    "\n",
    "# Los patrones que se encuentran son que los salarios son mayores para las personas que asisten a la universidad que de los que asisten solo a la secundaria. Luego, la relacion de los anos de experiencia en el salario solo es positiva, tanto para universidad y secundaria, hasta antes de que se llegue a los 35 anos de experiencia.\n",
    "\n",
    "\n",
    "data_hsg = data[data['hsg'] == 1]\n",
    "data_clg = data[data['clg'] == 1]\n",
    "data_scl = data[data['scl'] == 1]\n",
    "\n",
    "data_clgm = data_clg[data_clg['sex'] == 0]  # Hombres\n",
    "data_clgf = data_clg[data_clg['sex'] == 1]  # Mujeres\n",
    "\n",
    "\n",
    "\n",
    "import pandas as pd\n",
    "\n",
    "# Tabla_hsg\n",
    "Tabla_hsg = data_hsg.groupby('exp2').agg(Promlwageo=('lwage', 'mean')).reset_index()\n",
    "\n",
    "nivel_hsg = sorted(data_hsg['exp2'].unique())\n",
    "\n",
    "Promedio = []\n",
    "for nivel in nivel_hsg:\n",
    "    Promedio.append(data_hsg[data_hsg['exp2'] <= nivel]['lwage'].mean())\n",
    "\n",
    "Tabla_hsg['PromMov'] = Promedio\n",
    "print(Tabla_hsg.head())\n",
    "\n",
    "# Tabla_clg\n",
    "Tabla_clg = data_clg.groupby('exp2').agg(Promlwageo=('lwage', 'mean')).reset_index()\n",
    "\n",
    "Tabla_clgm = data_clg.groupby('exp2').agg(Promlwageo=('lwage', 'mean')).reset_index()\n",
    "Tabla_clgf = data_clg.groupby('exp2').agg(Promlwageo=('lwage', 'mean')).reset_index()\n",
    "\n",
    "nivel_clg = sorted(data_clg['exp2'].unique())\n",
    "nivel_clgm = sorted(data_clgm['exp2'].unique())\n",
    "nivel_clgf = sorted(data_clgf['exp2'].unique())\n",
    "\n",
    "Promedio = []\n",
    "for nivel in nivel_clg:\n",
    "    Promedio.append(data_clg[data_clg['exp2'] <= nivel]['lwage'].mean())\n",
    "\n",
    "Tabla_clg['PromMov'] = Promedio\n",
    "Tabla_clgm['PromMov'] = Promedio\n",
    "Tabla_clgf['PromMov'] = Promedio\n",
    "print(Tabla_clg.head())\n",
    "\n",
    "import statsmodels.api as sm\n",
    "import pandas as pd\n",
    "\n",
    "# Definir la fórmula del modelo\n",
    "formula = 'lwage ~ sex + (exp1+exp2+exp3+exp4)*(shs+hsg+scl+clg+occ2+ind2+mw+so+we)'\n",
    "\n",
    "# Ajustar el modelo\n",
    "control_fit1 = sm.formula.ols(formula, data=data).fit()\n",
    "\n",
    "# Hacer predicciones\n",
    "predict = control_fit1.predict(data)\n",
    "\n",
    "# Añadir las predicciones al DataFrame original\n",
    "data['Predict'] = predict\n",
    "\n",
    "# Filtrar datos para scl y clg\n",
    "data_sclP = data[data['scl'] == 1]\n",
    "data_clgP = data[data['clg'] == 1]\n",
    "data_hsgP = data[data['hsg'] == 1]\n",
    "\n",
    "data_clgPm = data_clgP[data_clgP['sex'] == 0]  # Hombres\n",
    "data_clgPf = data_clgP[data_clgP['sex'] == 1]  # Mujeres\n",
    "\n",
    "import pandas as pd\n",
    "###########################################################\n",
    "# Using \"sclP\"\n",
    "Tabla_hsgP = data_hsgP.groupby('exp2')['Predict'].mean().reset_index()\n",
    "\n",
    "nivel_hsgP = sorted(data_hsgP['exp2'].unique())\n",
    "\n",
    "Promedio = []\n",
    "for nivel in nivel_hsgP:\n",
    "    Promedio.append(data_hsgP[data_hsgP['exp2'] <= nivel]['Predict'].mean())\n",
    "\n",
    "Tabla_hsgP['PromMovP'] = Promedio\n",
    "print(Tabla_hsgP.head())\n",
    "\n",
    "# Repeat for \"clgP\"\n",
    "Tabla_clgP = data_clgP.groupby('exp2')['Predict'].mean().reset_index()\n",
    "Tabla_clgPf = data_clgPf.groupby('exp2')['Predict'].mean().reset_index()\n",
    "Tabla_clgPm = data_clgPm.groupby('exp2')['Predict'].mean().reset_index()\n",
    "\n",
    "nivel_clgP = sorted(data_clgP['exp2'].unique())\n",
    "\n",
    "Promedio = []\n",
    "for nivel in nivel_clgP:\n",
    "    Promedio.append(data_clgP[data_clgP['exp2'] <= nivel]['Predict'].mean())\n",
    "\n",
    "Tabla_clgP['PromMov'] = Promedio\n",
    "Tabla_clgPf['PromMov'] = Promedio\n",
    "\n",
    "Promediof = Promedio[:-1]\n",
    "Tabla_clgPm['PromMov'] = Promediof\n",
    "print(Tabla_clgP.head())\n",
    "\n",
    "import matplotlib.pyplot as plt\n",
    "\n",
    "# Datos\n",
    "x = Tabla_clg['exp2']\n",
    "x_3 = Tabla_clgPm['exp2']\n",
    "y = Tabla_clg['PromMov']\n",
    "y_3 = Tabla_clgPm['PromMov']\n",
    "\n",
    "# Crear el gráfico\n",
    "plt.plot(x, y, color='navy', linestyle='-', label=\"Actual CLG\")\n",
    "\n",
    "plt.plot(x_3, y_3, color='darkred', linestyle='--')\n",
    "\n",
    "# Ajustes del gráfico\n",
    "plt.ylim(3, 3.2)\n",
    "plt.xlim(0, 15)\n",
    "plt.xlabel(\"Years of Potential Experience\")\n",
    "plt.ylabel(\"Log Wage (or Wage Gap)\")\n",
    "plt.title(\"Figure 10: Comparison between actual and fitted for CLG and HSG Male\")\n",
    "plt.grid(linestyle='--', color='gray')\n",
    "\n",
    "# Marcas de los ejes\n",
    "plt.xticks(range(0, 16, 5))\n",
    "\n",
    "# Leyenda\n",
    "plt.legend(loc=\"upper right\", fontsize=8)\n",
    "\n",
    "# Mostrar el gráfico\n",
    "plt.show()\n",
    "\n",
    "# Datos\n",
    "x = Tabla_clg['exp2']\n",
    "x_3 = Tabla_clgPf['exp2']\n",
    "y = Tabla_clg['PromMov']\n",
    "y_3 = Tabla_clgPf['PromMov']\n",
    "\n",
    "# Crear el gráfico\n",
    "plt.plot(x, y, color='navy', linestyle='-', label=\"Actual CLG\")\n",
    "\n",
    "plt.plot(x_3, y_3, color='darkred', linestyle='--')\n",
    "\n",
    "# Ajustes del gráfico\n",
    "plt.ylim(3, 3.2)\n",
    "plt.xlim(0, 15)\n",
    "plt.xlabel(\"Years of Potential Experience\")\n",
    "plt.ylabel(\"Log Wage (or Wage Gap)\")\n",
    "plt.title(\"Figure 10: Comparison between actual and fitted for CLG and HSG Female\")\n",
    "plt.grid(linestyle='--', color='gray')\n",
    "\n",
    "# Marcas de los ejes\n",
    "plt.xticks(range(0, 16, 5))\n",
    "\n",
    "# Leyenda\n",
    "plt.legend(loc=\"upper right\", fontsize=8)\n",
    "\n",
    "# Mostrar el gráfico\n",
    "plt.show()"
   ]
  },
  {
   "cell_type": "markdown",
   "id": "8298fb90",
   "metadata": {},
   "source": [
    "Los patrones que se encuentran son que los salarios son mayores para las personas que asisten a la universidad que de los que asisten solo a la secundaria. Luego, la relacion de los anos de experiencia en el salario solo es positiva, tanto para universidad y secundaria, hasta antes de que se llegue a los 35 anos de experiencia. Luego, si diferenciamos entre sexo la diferencia es muy pequeña."
   ]
  },
  {
   "cell_type": "markdown",
   "id": "8c03b4e7",
   "metadata": {
    "vscode": {
     "languageId": "r"
    }
   },
   "source": [
    "### Now, we will construct a prediction rule for (log) hourly wage **Y**, which depends linearly on job-relevant characteristics **X**:\r\n",
    "\r\n",
    "$$\r\n",
    "Y = \\beta'X + \\epsilon\r\n",
    "$$\r\n",
    "\r\n",
    "Our goals are:\r\n",
    "\r\n",
    "- Predict wages using various characteristics of workers.\r\n",
    "- Assess the predictive performance of a given model using the (adjusted) sample MSE, the (adjusted) sample $R^2$ and the out-of-sample MSE and $R^2$.\r\n",
    "\r\n",
    "Toward answering the latter, we measure the prediction quality of the two models via data splitting:\r\n",
    "\r\n",
    "1. Randomly split the data into one training sample and one testing sample. Here we just use a simple method (stratified splitting is a more sophisticated version of splitting that we might consider).\r\n",
    "2. Use the training sample to estimate the parameters of the Basic Model and the Flexible Model.\r\n",
    "\r\n",
    "Before using the testing sample, we evaluate in-sample fit.\r\n"
   ]
  },
  {
   "cell_type": "code",
   "execution_count": null,
   "id": "11c21d2f",
   "metadata": {},
   "outputs": [],
   "source": []
  },
  {
   "cell_type": "code",
   "execution_count": null,
   "id": "292211d8",
   "metadata": {},
   "outputs": [],
   "source": [
    "import pandas as pd\n",
    "import numpy as np\n",
    "from sklearn.linear_model import LassoCV, LinearRegression\n",
    "from sklearn.metrics import mean_squared_error\n",
    "from sklearn import linear_model\n",
    "import matplotlib.pyplot as plt\n",
    "import seaborn as sns\n",
    "import statsmodels.api as sm\n",
    "import statsmodels.formula.api as smf\n",
    "import random\n",
    "import math\n",
    "\n",
    "# Load the data\n",
    "data = pd.read_csv(\"../../data/wage2015_subsample_inference.csv\")\n",
    "n = len(data)\n",
    "# Define alpha values for Lasso\n",
    "alphas = np.linspace(0.1, 0.5, 5)\n",
    "print(alphas)\n",
    "data.info()"
   ]
  },
  {
   "cell_type": "code",
   "execution_count": null,
   "id": "07b3078f",
   "metadata": {},
   "outputs": [],
   "source": [
    "# Split data into training and test sets\n",
    "np.random.seed(1)\n",
    "random = np.random.randint(0,n, size=math.floor(n))\n",
    "data[\"random\"] = random\n",
    "train = data[ : math.floor(n*4/5)]    # training sample\n",
    "test =  data[ math.floor(n*4/5) : ]   # testing sample\n",
    "print(train.shape)\n",
    "print(test.shape)\n"
   ]
  },
  {
   "cell_type": "code",
   "execution_count": null,
   "id": "d3cd1625",
   "metadata": {},
   "outputs": [],
   "source": [
    "# Basic model using OLS\n",
    "formula_basic = 'lwage ~ sex + exp1 + shs + hsg+ scl + clg + mw + so + we + occ2+ ind2'\n",
    "model_basic = smf.ols(formula_basic, data=train).fit()\n",
    "print(\"Number of regressors in the basic model:\", len(model_basic.params))\n",
    "print(model_basic.summary())"
   ]
  },
  {
   "cell_type": "code",
   "execution_count": null,
   "id": "80017805",
   "metadata": {},
   "outputs": [],
   "source": [
    "# Flexible model using OLS\n",
    "formula_flex = 'lwage ~ sex + shs+hsg+scl+clg+occ2+ind2+mw+so+we + (exp1+exp2+exp3+exp4)*(shs+hsg+scl+clg+occ2+ind2+mw+so+we)'\n",
    "model_flex = smf.ols(formula_flex, data=train).fit()\n",
    "print(\"Number of regressors in the flexible model:\", len(model_flex.params))"
   ]
  },
  {
   "cell_type": "code",
   "execution_count": null,
   "id": "db63f5c0",
   "metadata": {},
   "outputs": [],
   "source": [
    "# Flexible model using Lasso, in-sample fit\n",
    "y_train = train['lwage']\n",
    "X_train = pd.get_dummies(train, drop_first=True)\n",
    "lasso_cv = LassoCV(alphas=alphas, cv=5).fit(X_train, y_train)"
   ]
  },
  {
   "cell_type": "code",
   "execution_count": null,
   "id": "789b4323",
   "metadata": {},
   "outputs": [],
   "source": [
    "# Results storage\n",
    "results = pd.DataFrame({\n",
    "    'alpha': lasso_cv.alphas_,\n",
    "    'mse': np.mean(lasso_cv.mse_path_, axis=1),\n",
    "    'lambda_min': lasso_cv.alpha_,\n",
    "    'nzero': np.sum(lasso_cv.coef_ != 0)\n",
    "})"
   ]
  },
  {
   "cell_type": "code",
   "execution_count": null,
   "id": "022aadb1",
   "metadata": {},
   "outputs": [],
   "source": [
    "# Display results\n",
    "results_sorted = results.sort_values(by='mse')\n",
    "print(results_sorted)"
   ]
  },
  {
   "cell_type": "code",
   "execution_count": null,
   "id": "5a230c82",
   "metadata": {},
   "outputs": [],
   "source": [
    "# Saving optimal alpha\n",
    "alpha_opt=  results_sorted.iloc[0]['alpha']\n",
    "alpha_opt"
   ]
  },
  {
   "cell_type": "code",
   "execution_count": null,
   "id": "6bbb4118",
   "metadata": {},
   "outputs": [],
   "source": [
    "# Plotting the results\n",
    "sns.lineplot(data=results_sorted, x='alpha', y='mse')\n",
    "plt.title('Cross-validated MSE for each Alpha')\n",
    "plt.show()"
   ]
  },
  {
   "cell_type": "markdown",
   "id": "4d06f73a",
   "metadata": {},
   "source": [
    "### Data Splitting: Out-of-sample performance\n",
    "\n",
    "Now that we have seen in-sample fit, we evaluate our models on the out-of-sample performance:\n",
    "\n",
    "1. Use the testing sample for evaluation. Predict the **wage** of every observation in the testing sample based on the estimated parameters in the training sample.\n",
    "2. Calculate the Mean Squared Prediction Error (**MSE<sub>test</sub>**) based on the testing sample for both prediction models.\n",
    "\n"
   ]
  },
  {
   "cell_type": "code",
   "execution_count": null,
   "id": "3a86d4e0",
   "metadata": {},
   "outputs": [],
   "source": [
    "# Out-of-sample performance\n",
    "# calculating the out-of-sample MSE\n",
    "test = sm.add_constant(test)   #add constant \n",
    "\n",
    "lwage_pred =  model_basic.predict(test) # predict out of sample\n",
    "#print(lwage_pred)"
   ]
  },
  {
   "cell_type": "code",
   "execution_count": null,
   "id": "354115cc",
   "metadata": {},
   "outputs": [],
   "source": [
    "MSE_test1 = np.sum((lwage_test-lwage_pred)**2)/len(lwage_test)\n",
    "R2_test1  = 1 - MSE_test1/np.var(lwage_test)\n",
    "\n",
    "print(\"Test MSE for the basic model: \", MSE_test1, \" \")\n",
    "print(\"Test R2 for the basic model: \", R2_test1)"
   ]
  },
  {
   "cell_type": "code",
   "execution_count": null,
   "id": "29de571f",
   "metadata": {},
   "outputs": [],
   "source": [
    "# Flexible model\n",
    "# estimating the parameters in the training sample\n",
    "flex_results = smf.ols(formula_flex  , data=train).fit()\n",
    "\n",
    "# calculating the out-of-sample MSE\n",
    "lwage_flex_pred =  flex_results.predict(test) # predict out of sample\n",
    "lwage_test = test[\"lwage\"].values\n",
    "\n",
    "MSE_test2 = np.sum((lwage_test-lwage_flex_pred)**2)/len(lwage_test)\n",
    "R2_test2  = 1 - MSE_test2/np.var(lwage_test)\n",
    "\n",
    "print(\"Test MSE for the flexible model: \", MSE_test2, \" \")\n",
    "print(\"Test R2 for the flexible model: \", R2_test2)"
   ]
  },
  {
   "cell_type": "code",
   "execution_count": null,
   "id": "fff5da40",
   "metadata": {},
   "outputs": [],
   "source": [
    "# flexible model using lasso\n",
    "# get exogenous variables from training data used in flex model\n",
    "flex_results_0 = smf.ols(formula_flex , data=train)\n",
    "X_train = flex_results_0.exog\n",
    "print(X_train.shape)\n",
    "\n",
    "# Get endogenous variable \n",
    "lwage_train = train[\"lwage\"]\n",
    "print(lwage_train.shape)\n"
   ]
  },
  {
   "cell_type": "code",
   "execution_count": null,
   "id": "b2e07b31",
   "metadata": {},
   "outputs": [],
   "source": [
    "# Flexible model using Lasso\n",
    "# get exogenous variables from testing data used in flex model\n",
    "flex_results_1 = smf.ols(formula_flex , data=test)\n",
    "X_test = flex_results_1.exog\n",
    "print(X_test.shape)\n",
    "\n",
    "# Get endogenous variable \n",
    "lwage_test = test[\"lwage\"]\n",
    "print(lwage_test.shape)"
   ]
  },
  {
   "cell_type": "code",
   "execution_count": null,
   "id": "c9492bbe",
   "metadata": {},
   "outputs": [],
   "source": [
    "# calculating the out-of-sample MSE\n",
    "reg = linear_model.Lasso(alpha=alpha_opt)\n",
    "lwage_lasso_fitted = reg.fit(X_train, lwage_train).predict( X_test )\n",
    "\n",
    "MSE_lasso = np.sum((lwage_test-lwage_lasso_fitted)**2)/len(lwage_test)\n",
    "R2_lasso  = 1 - MSE_lasso/np.var(lwage_test)\n",
    "\n",
    "print(\"Test MSE for the flexible model: \", MSE_lasso, \" \")\n",
    "print(\"Test R2 for the flexible model: \", R2_lasso)"
   ]
  },
  {
   "cell_type": "code",
   "execution_count": null,
   "id": "c062da7b",
   "metadata": {
    "scrolled": true
   },
   "outputs": [],
   "source": [
    "# Print MSE and R^2\n",
    "\n",
    "table2 = np.zeros((3, 2))\n",
    "table2[0,0] = MSE_test1\n",
    "table2[1,0] = MSE_test2\n",
    "table2[2,0] = MSE_lasso\n",
    "table2[0,1] = R2_test1\n",
    "table2[1,1] = R2_test2\n",
    "table2[2,1] = R2_lasso\n",
    "\n",
    "table2 = pd.DataFrame(table2, columns = [\"$MSE_{test}$\", \"$R^2_{test}$\"], \\\n",
    "                      index = [\"basic reg\",\"flexible reg\",\"lasso regression\"])\n",
    "table2"
   ]
  },
  {
   "cell_type": "markdown",
   "id": "d87d2dbc",
   "metadata": {},
   "source": [
    "# **1.Frisch-Waugh-Lovell (FWL) Theorem Proof**\n",
    "\n",
    "Given a linear regression model, we aim to demonstrate the FWL theorem using the following elements:\n",
    "\n",
    "- **$y$**: dependent variable vector ($n \\times 1$)\n",
    "- **$D$**: matrix of independent variables of interest ($n \\times k_1$)\n",
    "- **$\\beta_1$**: coefficient vector for $D$ ($k_1 \\times 1$)\n",
    "- **$W$**: matrix of control variables ($n \\times k_2$)\n",
    "- **$\\beta_2$**: coefficient vector for $W$ ($k_2 \\times 1$)\n",
    "- **$u$**: error term vector ($n \\times 1$)\n",
    "\n",
    "The model is represented as:\n",
    "\n",
    "$$ y = D\\beta_1 + W\\beta_2 + u$$\n",
    "\n",
    "---\n",
    "\n",
    "## **Objective**\n",
    "\n",
    "To prove that $\\Psi = \\beta_1$ can be accurately estimated through the regression $e_y = e_D \\Psi + \\varepsilon$, employing the FWL theorem.\n",
    "\n",
    "---\n",
    "\n",
    "## **Proof**\n",
    "\n",
    "### **Step 1: Control for Variables in $W$**\n",
    "\n",
    "First, we calculate the residuals after controlling for $W$:\n",
    "\n",
    "- **Regress $D$ on $W$:** Aim to determine the component of $D$ that is orthogonal to $W$. This is achieved by calculating the residuals $e_D$, using the projection matrix:\n",
    "  \n",
    "  $$M_W = I - W(W'W)^{-1}W'$$\n",
    "  \n",
    "  Thus, the residuals for $D$ are:\n",
    "  \n",
    "  $$e_D = M_W D$$ \n",
    "\n",
    "- **Regress $y$ on $W$:** Similarly, find the component of $y$ not explained by $W$:\n",
    "  \n",
    "  $$e_y = M_W y$$\n",
    "\n",
    "### **Step 2: Estimate $\\Psi$**\n",
    "\n",
    "With the residuals obtained, we proceed to estimate $\\Psi$:\n",
    "\n",
    "- **Regress $e_y$ on $e_D$ by OLS:** \n",
    "\n",
    "  $$ e_y = e_D \\Psi + z $$\n",
    "  \n",
    "  Solving for $\\Psi$, we get:\n",
    "  \n",
    "  $$ \\hat{\\Psi} = (e_D'e_D)^{-1}e_D'e_y $$\n",
    "  \n",
    "  Substituting the expressions for residuals into $\\hat{\\Psi}$ yields:\n",
    "  \n",
    "  $$ \\hat{\\Psi} = (D'M_W'M_W'D)^{-1}D'M_W'M_Wy $$\n",
    "  \n",
    "  Which simplifies to:\n",
    "  \n",
    "  $$ \\hat{\\Psi} = (D'M_WD)^{-1}D'M_Wy $$\n",
    "\n",
    "And this proof that $\\Psi = \\beta_1$.\n",
    "\n",
    "\n",
    "\n",
    "\n",
    "\n",
    "\n",
    "\n",
    "# **2.Conditional Expectation Function Minimizes Expected Squared Error Proof**\n",
    "\n",
    "## **Problem Statement**\n",
    "\n",
    "Given a random variable $Y$ and a conditioning variable $X$, we consider a relationship of the form:\n",
    "$$ Y = m(X) + \\epsilon $$\n",
    "where:\n",
    "- $m(X) = E[Y | X]$ is the Conditional Expectation Function (CEF) of $Y$ given $X$.\n",
    "- $\\epsilon$ is the error term, representing the deviation of $Y$ from its conditional mean.\n",
    "\n",
    "## **Objective**\n",
    "\n",
    "Our goal is to prove that the function that minimizes the expected squared error:\n",
    "$$ m(X) = \\text{arg}\\min_{g(X)} E[(Y - g(X))^2] $$\n",
    "\n",
    "is indeed:\n",
    "$$ E[(Y - g(X))^2] = E[\\epsilon^2] $$\n",
    "\n",
    "## **Proof**\n",
    "\n",
    "### **Step 1: Expanding the Expected Squared Error**\n",
    "\n",
    "We start by expanding the expected squared difference as follows:\n",
    "$$ E[(Y - g(X))^2] = E[(Y - E[Y|X] + E[Y|X] - g(X))^2] $$\n",
    "\n",
    "By applying the expansion for the square of a sum $(a + b)^2 = a^2 + b^2 + 2ab$, where $a = Y - E[Y|X]$ and $b = E[Y|X] - g(X)$, we obtain:\n",
    "$$ E[(Y - g(X))^2] = E[(Y - E[Y|X])^2] + E[(E[Y|X] - g(X))^2] + 2E[(Y - E[Y|X])(E[Y|X] - g(X))] $$\n",
    "\n",
    "### **Step 2: Simplifying Using the Law of Iterated Expectations**\n",
    "\n",
    "Applying the Law of Iterated Expectations to the mixed term:\n",
    "$$ 2E[(Y - E[Y|X])(E[Y|X] - g(X))] = 0 $$\n",
    "\n",
    "This follows because the expectation of $Y - E[Y|X]$ is zero by definition of the error term $\\epsilon$ (i.e., $Y - E[Y|X] = \\epsilon$ and $E[\\epsilon] = 0$), and thus the cross-term disappears.\n",
    "\n",
    "### **Step 3: Final Reduction**\n",
    "\n",
    "After removing the cross-term, we are left with:\n",
    "$$ E[(Y - g(X))^2] = E[(Y - E[Y|X])^2] + E[(E[Y|X] - g(X))^2] $$\n",
    "\n",
    "Since the second term $E[(E[Y|X] - g(X))^2]$ is always non-negative, it follows that:\n",
    "$$ E[(Y - g(X))^2] \\geq E[(Y - E[Y|X])^2] $$\n",
    "\n",
    "### **Conclusion**\n",
    "\n",
    "The expected squared error is minimized when $g(X) = E[Y|X]$, demonstrating that the Conditional Expectation Function (CEF) $m(X)$ minimizes the expected squared error:\n",
    "$$ m(X) = \\text{arg}\\min_{g(X)} E[(Y - g(X))^2] $$\n",
    "This conclusively proves that the CEF is the function that minimizes the expected squared error between the predicted values and the actual values of $Y$.\n"
   ]
  },
  {
   "cell_type": "code",
   "execution_count": null,
   "id": "86bbd695",
   "metadata": {},
   "outputs": [],
   "source": []
  }
 ],
 "metadata": {
  "kernelspec": {
   "display_name": "Python 3 (ipykernel)",
   "language": "python",
   "name": "python3"
  },
  "language_info": {
   "codemirror_mode": {
    "name": "ipython",
    "version": 3
   },
   "file_extension": ".py",
   "mimetype": "text/x-python",
   "name": "python",
   "nbconvert_exporter": "python",
   "pygments_lexer": "ipython3",
   "version": "3.11.7"
  }
 },
 "nbformat": 4,
 "nbformat_minor": 5
}
